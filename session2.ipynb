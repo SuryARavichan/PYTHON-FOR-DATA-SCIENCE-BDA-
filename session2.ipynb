{
  "nbformat": 4,
  "nbformat_minor": 0,
  "metadata": {
    "colab": {
      "provenance": [],
      "collapsed_sections": [],
      "authorship_tag": "ABX9TyNidPK/22nJcA0beXeTZsU6",
      "include_colab_link": true
    },
    "kernelspec": {
      "name": "python3",
      "display_name": "Python 3"
    },
    "language_info": {
      "name": "python"
    },
    "gpuClass": "standard"
  },
  "cells": [
    {
      "cell_type": "markdown",
      "metadata": {
        "id": "view-in-github",
        "colab_type": "text"
      },
      "source": [
        "<a href=\"https://colab.research.google.com/github/SuryARavichan/PYTHON-FOR-DATA-SCIENCE-BDA-/blob/main/session2.ipynb\" target=\"_parent\"><img src=\"https://colab.research.google.com/assets/colab-badge.svg\" alt=\"Open In Colab\"/></a>"
      ]
    },
    {
      "cell_type": "code",
      "execution_count": null,
      "metadata": {
        "id": "Ak7YWGrJETn3"
      },
      "outputs": [],
      "source": [
        "import numpy as np\n",
        "import pandas as pd\n",
        "import matplotlib.pyplot as plot"
      ]
    },
    {
      "cell_type": "code",
      "source": [
        "nest=[1,2,3,[4,5,['target','nimbus']]]"
      ],
      "metadata": {
        "id": "UqkkNhKeedEE"
      },
      "execution_count": null,
      "outputs": []
    },
    {
      "cell_type": "code",
      "source": [
        "nest"
      ],
      "metadata": {
        "colab": {
          "base_uri": "https://localhost:8080/"
        },
        "id": "_FqnLCagenmM",
        "outputId": "96f28f4e-6a1b-410a-d80f-7f95e02479ac"
      },
      "execution_count": null,
      "outputs": [
        {
          "output_type": "execute_result",
          "data": {
            "text/plain": [
              "[1, 2, 3, [4, 5, ['target', 'nimbus']]]"
            ]
          },
          "metadata": {},
          "execution_count": 14
        }
      ]
    },
    {
      "cell_type": "code",
      "source": [
        "nest[3]"
      ],
      "metadata": {
        "colab": {
          "base_uri": "https://localhost:8080/"
        },
        "id": "KuidT3Ooe0S1",
        "outputId": "935e89ca-6eca-4d77-b4e9-cb3469420d8f"
      },
      "execution_count": null,
      "outputs": [
        {
          "output_type": "execute_result",
          "data": {
            "text/plain": [
              "[4, 5, ['target', 'nimbus']]"
            ]
          },
          "metadata": {},
          "execution_count": 15
        }
      ]
    },
    {
      "cell_type": "code",
      "source": [
        "nest[0]"
      ],
      "metadata": {
        "colab": {
          "base_uri": "https://localhost:8080/"
        },
        "id": "0Gn9sZ-dfUkB",
        "outputId": "f6b87bd4-b4db-4fa3-fcec-1afb5f78e543"
      },
      "execution_count": null,
      "outputs": [
        {
          "output_type": "execute_result",
          "data": {
            "text/plain": [
              "1"
            ]
          },
          "metadata": {},
          "execution_count": 16
        }
      ]
    },
    {
      "cell_type": "code",
      "source": [
        "nest[1]"
      ],
      "metadata": {
        "colab": {
          "base_uri": "https://localhost:8080/"
        },
        "id": "XN2x06YPfenR",
        "outputId": "c425847e-6019-4e9a-f799-a2a57f517751"
      },
      "execution_count": null,
      "outputs": [
        {
          "output_type": "execute_result",
          "data": {
            "text/plain": [
              "2"
            ]
          },
          "metadata": {},
          "execution_count": 17
        }
      ]
    },
    {
      "cell_type": "code",
      "source": [
        "nest[2]"
      ],
      "metadata": {
        "colab": {
          "base_uri": "https://localhost:8080/"
        },
        "id": "-GXS7IA7fiAl",
        "outputId": "2802fb0e-5585-4323-8b50-32ec599c1ba3"
      },
      "execution_count": null,
      "outputs": [
        {
          "output_type": "execute_result",
          "data": {
            "text/plain": [
              "3"
            ]
          },
          "metadata": {},
          "execution_count": 18
        }
      ]
    },
    {
      "cell_type": "code",
      "source": [
        "nest[3][2][1]"
      ],
      "metadata": {
        "colab": {
          "base_uri": "https://localhost:8080/",
          "height": 35
        },
        "id": "KXJ4itM5fjd_",
        "outputId": "b6c2a296-dd8b-414d-e51e-eba49b52a26f"
      },
      "execution_count": null,
      "outputs": [
        {
          "output_type": "execute_result",
          "data": {
            "text/plain": [
              "'nimbus'"
            ],
            "application/vnd.google.colaboratory.intrinsic+json": {
              "type": "string"
            }
          },
          "metadata": {},
          "execution_count": 20
        }
      ]
    },
    {
      "cell_type": "code",
      "source": [
        "nest[3][1] = nest[3][1]+90"
      ],
      "metadata": {
        "id": "7bEZp8ZYfs9Q"
      },
      "execution_count": null,
      "outputs": []
    },
    {
      "cell_type": "code",
      "source": [
        "nest"
      ],
      "metadata": {
        "colab": {
          "base_uri": "https://localhost:8080/"
        },
        "id": "NfOSlgf5g7kN",
        "outputId": "034d6a96-600d-4bb3-883e-1ff3a956c888"
      },
      "execution_count": null,
      "outputs": [
        {
          "output_type": "execute_result",
          "data": {
            "text/plain": [
              "[1, 2, 3, [4, 190, ['target', 'nimbus']]]"
            ]
          },
          "metadata": {},
          "execution_count": 31
        }
      ]
    },
    {
      "cell_type": "code",
      "source": [
        "p=[8,-3,4,6,7,-9,1]\n",
        "for val in p:\n",
        "  print(val+100)\n",
        "  print('done')"
      ],
      "metadata": {
        "colab": {
          "base_uri": "https://localhost:8080/"
        },
        "id": "yFDC-ql5hE4G",
        "outputId": "9aa5e077-790e-46bc-e252-437883d2ce11"
      },
      "execution_count": null,
      "outputs": [
        {
          "output_type": "stream",
          "name": "stdout",
          "text": [
            "108\n",
            "done\n",
            "97\n",
            "done\n",
            "104\n",
            "done\n",
            "106\n",
            "done\n",
            "107\n",
            "done\n",
            "91\n",
            "done\n",
            "101\n",
            "done\n"
          ]
        }
      ]
    },
    {
      "cell_type": "code",
      "source": [
        "p=[8,-3,4,6,7,-9,1]\n",
        "for val in p:\n",
        "  print(val+100)\n",
        "print('done')"
      ],
      "metadata": {
        "colab": {
          "base_uri": "https://localhost:8080/"
        },
        "id": "3stOGczhh4SS",
        "outputId": "a23a0471-83e8-4278-afba-1f95819920a0"
      },
      "execution_count": null,
      "outputs": [
        {
          "output_type": "stream",
          "name": "stdout",
          "text": [
            "108\n",
            "97\n",
            "104\n",
            "106\n",
            "107\n",
            "91\n",
            "101\n",
            "done\n"
          ]
        }
      ]
    },
    {
      "cell_type": "code",
      "source": [
        "result=[]\n",
        "p=[8,-3,4,6,7,-9,1]\n",
        "for val in p:\n",
        "  result.append(val+100)\n",
        "print('done')\n",
        "print(result)"
      ],
      "metadata": {
        "colab": {
          "base_uri": "https://localhost:8080/"
        },
        "id": "bNDmOmWUixdG",
        "outputId": "afe3f8c4-4e4d-4fee-877f-855bee94bdb9"
      },
      "execution_count": null,
      "outputs": [
        {
          "output_type": "stream",
          "name": "stdout",
          "text": [
            "done\n",
            "[108, 97, 104, 106, 107, 91, 101]\n"
          ]
        }
      ]
    },
    {
      "cell_type": "code",
      "source": [
        "result"
      ],
      "metadata": {
        "colab": {
          "base_uri": "https://localhost:8080/"
        },
        "id": "MUzbV4kWjWyJ",
        "outputId": "b09f82ee-71a5-4f06-dc01-72f523f805b8"
      },
      "execution_count": null,
      "outputs": [
        {
          "output_type": "execute_result",
          "data": {
            "text/plain": [
              "[108, 97, 104, 106, 107, 91, 101]"
            ]
          },
          "metadata": {},
          "execution_count": 35
        }
      ]
    },
    {
      "cell_type": "code",
      "source": [
        "np.mean(result)\n",
        "        "
      ],
      "metadata": {
        "colab": {
          "base_uri": "https://localhost:8080/"
        },
        "id": "3gk4cWTNjZTK",
        "outputId": "1bafc467-8694-46d2-9a5c-e7b0fb009eab"
      },
      "execution_count": null,
      "outputs": [
        {
          "output_type": "execute_result",
          "data": {
            "text/plain": [
              "102.0"
            ]
          },
          "metadata": {},
          "execution_count": 37
        }
      ]
    },
    {
      "cell_type": "code",
      "source": [
        "res_pos=[]\n",
        "for val in p:\n",
        "  if val>0:\n",
        "    res_pos.append(val+100)\n",
        "print(res_pos)"
      ],
      "metadata": {
        "colab": {
          "base_uri": "https://localhost:8080/"
        },
        "id": "YHPplmirjc5-",
        "outputId": "cf42e57a-cc96-41a0-e8c4-7b8cd58c4eb9"
      },
      "execution_count": null,
      "outputs": [
        {
          "output_type": "stream",
          "name": "stdout",
          "text": [
            "[108, 104, 106, 107, 101]\n"
          ]
        }
      ]
    },
    {
      "cell_type": "code",
      "source": [
        "res_pos=[]\n",
        "res_neg=[]\n",
        "for val in p:\n",
        "  if val>0:\n",
        "    res_pos.append(val+100)\n",
        "  else:\n",
        "    res_neg.append(val+100)\n",
        "print(res_pos)\n",
        "print(res_neg)"
      ],
      "metadata": {
        "colab": {
          "base_uri": "https://localhost:8080/"
        },
        "id": "pCBc2ub2j_qO",
        "outputId": "d0916c9d-10ed-4787-b9dd-e215a381056f"
      },
      "execution_count": null,
      "outputs": [
        {
          "output_type": "stream",
          "name": "stdout",
          "text": [
            "[108, 104, 106, 107, 101]\n",
            "[97, 91]\n"
          ]
        }
      ]
    },
    {
      "cell_type": "code",
      "source": [
        "names=['surya','natali','vijay','kohli']\n",
        "for i in names:\n",
        "  print(i)\n",
        "  print('done')\n",
        "print('all done')"
      ],
      "metadata": {
        "colab": {
          "base_uri": "https://localhost:8080/"
        },
        "id": "aGOoAgeXlUkf",
        "outputId": "01017af9-caff-4bb1-9751-dcc87d89ba86"
      },
      "execution_count": null,
      "outputs": [
        {
          "output_type": "stream",
          "name": "stdout",
          "text": [
            "surya\n",
            "done\n",
            "natali\n",
            "done\n",
            "vijay\n",
            "done\n",
            "kohli\n",
            "done\n",
            "all done\n"
          ]
        }
      ]
    },
    {
      "cell_type": "code",
      "source": [
        "names=['surya','natali','vijay','kohli']\n",
        "for i in names:\n",
        "  print(i)\n",
        "print('done')\n",
        "print('all done')"
      ],
      "metadata": {
        "colab": {
          "base_uri": "https://localhost:8080/"
        },
        "id": "FCqBp9QOlve9",
        "outputId": "043e71aa-e591-4d37-b9c2-a7b1d05b4801"
      },
      "execution_count": null,
      "outputs": [
        {
          "output_type": "stream",
          "name": "stdout",
          "text": [
            "surya\n",
            "natali\n",
            "vijay\n",
            "kohli\n",
            "done\n",
            "all done\n"
          ]
        }
      ]
    },
    {
      "cell_type": "code",
      "source": [
        "np.arange(7)"
      ],
      "metadata": {
        "colab": {
          "base_uri": "https://localhost:8080/"
        },
        "id": "eGp_T_Fwn8Rt",
        "outputId": "0551ee4b-f09f-4194-d814-45807bdd5ef1"
      },
      "execution_count": null,
      "outputs": [
        {
          "output_type": "execute_result",
          "data": {
            "text/plain": [
              "array([0, 1, 2, 3, 4, 5, 6])"
            ]
          },
          "metadata": {},
          "execution_count": 51
        }
      ]
    },
    {
      "cell_type": "code",
      "source": [
        "idx=[0,1,2,3,4,5,6]"
      ],
      "metadata": {
        "id": "tWDoUL4On-9h"
      },
      "execution_count": null,
      "outputs": []
    },
    {
      "cell_type": "markdown",
      "source": [
        "**mapping by index\n",
        "**"
      ],
      "metadata": {
        "id": "vwlGFMoGpfSA"
      }
    },
    {
      "cell_type": "code",
      "source": [
        "p=[8,-3,4,6,7,-9,1]\n",
        "for idx in np.arange(len(p)):\n",
        "  if p[idx]>0:\n",
        "    p[idx] = p[idx]+100\n",
        "  else:\n",
        "    p[idx] = 0\n",
        "print(p)\n"
      ],
      "metadata": {
        "colab": {
          "base_uri": "https://localhost:8080/"
        },
        "id": "gRWyYh4-oN4g",
        "outputId": "a0c12172-f8b5-4eda-9fdf-3936253906f4"
      },
      "execution_count": null,
      "outputs": [
        {
          "output_type": "stream",
          "name": "stdout",
          "text": [
            "[108, 0, 104, 106, 107, 0, 101]\n"
          ]
        }
      ]
    },
    {
      "cell_type": "code",
      "source": [
        "p"
      ],
      "metadata": {
        "colab": {
          "base_uri": "https://localhost:8080/"
        },
        "id": "yuSjoaRNokcN",
        "outputId": "56d39b62-0f65-4c50-ed2d-bbce4ac82a9a"
      },
      "execution_count": null,
      "outputs": [
        {
          "output_type": "execute_result",
          "data": {
            "text/plain": [
              "[108, 0, 104, 106, 107, 0, 101]"
            ]
          },
          "metadata": {},
          "execution_count": 61
        }
      ]
    },
    {
      "cell_type": "code",
      "source": [
        "p=[8,-3,4,6,7,-9,1]\n",
        "q=[3,4,8,-2,5,8,1]"
      ],
      "metadata": {
        "id": "0448xIefp6r8"
      },
      "execution_count": null,
      "outputs": []
    },
    {
      "cell_type": "code",
      "source": [
        "len(p),len(q)"
      ],
      "metadata": {
        "colab": {
          "base_uri": "https://localhost:8080/"
        },
        "id": "Z3KQmoMxqADG",
        "outputId": "86ac58e6-863c-4e07-df1e-87eae0246117"
      },
      "execution_count": null,
      "outputs": [
        {
          "output_type": "execute_result",
          "data": {
            "text/plain": [
              "(7, 7)"
            ]
          },
          "metadata": {},
          "execution_count": 66
        }
      ]
    },
    {
      "cell_type": "code",
      "source": [
        "p=[8,-3,4,6,7,-9,1]\n",
        "q=[3,4,8,-2,5,8,1]\n",
        "res=[]\n",
        "for i in np.arange(len(p)):\n",
        "  if (p[i]>0) and (q[i]>0):\n",
        "    res.append(p[i]+q[i])\n",
        "  else:\n",
        "    res.append(0)\n",
        "print(res)\n",
        "\n",
        "\n"
      ],
      "metadata": {
        "colab": {
          "base_uri": "https://localhost:8080/"
        },
        "id": "vFQxMb2BqPXq",
        "outputId": "b332fc4b-38ba-488a-878e-49d5bc70b603"
      },
      "execution_count": null,
      "outputs": [
        {
          "output_type": "stream",
          "name": "stdout",
          "text": [
            "[11, 0, 12, 0, 12, 0, 2]\n"
          ]
        }
      ]
    },
    {
      "cell_type": "code",
      "source": [
        "d = {'price':(22.6,40,100,58),'Item':['soap','Milk','Coffee','paste']}"
      ],
      "metadata": {
        "id": "4ni-JKFErD_4"
      },
      "execution_count": null,
      "outputs": []
    },
    {
      "cell_type": "code",
      "source": [
        "d"
      ],
      "metadata": {
        "colab": {
          "base_uri": "https://localhost:8080/"
        },
        "id": "kxahSRMlud1i",
        "outputId": "2c2f1771-a501-4ad1-cef8-65e759610c93"
      },
      "execution_count": null,
      "outputs": [
        {
          "output_type": "execute_result",
          "data": {
            "text/plain": [
              "{'price': [22.6, 40, 100, 58], 'Item': ['soap', 'Milk', 'Coffee', 'paste']}"
            ]
          },
          "metadata": {},
          "execution_count": 75
        }
      ]
    },
    {
      "cell_type": "code",
      "source": [
        "d.keys()"
      ],
      "metadata": {
        "colab": {
          "base_uri": "https://localhost:8080/"
        },
        "id": "kSPmEOa1ueGE",
        "outputId": "6470c4c4-3db9-42f8-91dc-c0bea5df8bd2"
      },
      "execution_count": null,
      "outputs": [
        {
          "output_type": "execute_result",
          "data": {
            "text/plain": [
              "dict_keys(['price', 'Item'])"
            ]
          },
          "metadata": {},
          "execution_count": 76
        }
      ]
    },
    {
      "cell_type": "code",
      "source": [
        "d.values()"
      ],
      "metadata": {
        "colab": {
          "base_uri": "https://localhost:8080/"
        },
        "id": "j4fxSgURuhDx",
        "outputId": "2f219732-0657-4e4b-f620-947ded16a6f5"
      },
      "execution_count": null,
      "outputs": [
        {
          "output_type": "execute_result",
          "data": {
            "text/plain": [
              "dict_values([[22.6, 40, 100, 58], ['soap', 'Milk', 'Coffee', 'paste']])"
            ]
          },
          "metadata": {},
          "execution_count": 77
        }
      ]
    },
    {
      "cell_type": "code",
      "source": [
        "d.items()"
      ],
      "metadata": {
        "colab": {
          "base_uri": "https://localhost:8080/"
        },
        "id": "raVTY8b8uitX",
        "outputId": "05fcbf08-7bc5-4dc8-e028-08ce0defdfcc"
      },
      "execution_count": null,
      "outputs": [
        {
          "output_type": "execute_result",
          "data": {
            "text/plain": [
              "dict_items([('price', [22.6, 40, 100, 58]), ('Item', ['soap', 'Milk', 'Coffee', 'paste'])])"
            ]
          },
          "metadata": {},
          "execution_count": 78
        }
      ]
    },
    {
      "cell_type": "code",
      "source": [
        "d['price']"
      ],
      "metadata": {
        "colab": {
          "base_uri": "https://localhost:8080/"
        },
        "id": "YT7O3q5Zulgb",
        "outputId": "62e9cc39-17fa-45a6-92d7-25ba2eea7b52"
      },
      "execution_count": null,
      "outputs": [
        {
          "output_type": "execute_result",
          "data": {
            "text/plain": [
              "[22.6, 40, 100, 58]"
            ]
          },
          "metadata": {},
          "execution_count": 79
        }
      ]
    },
    {
      "cell_type": "code",
      "source": [
        "np.sum(d['price']),np.mean(d['price']),np.std(d['price'])"
      ],
      "metadata": {
        "colab": {
          "base_uri": "https://localhost:8080/"
        },
        "id": "Xtm3Prtgu72I",
        "outputId": "db4aefa4-ef5f-47d0-eabb-da0632d32794"
      },
      "execution_count": null,
      "outputs": [
        {
          "output_type": "execute_result",
          "data": {
            "text/plain": [
              "(220.6, 55.15, 28.7605198144957)"
            ]
          },
          "metadata": {},
          "execution_count": 83
        }
      ]
    },
    {
      "cell_type": "code",
      "source": [
        "np.sum(d['price'][:2])"
      ],
      "metadata": {
        "colab": {
          "base_uri": "https://localhost:8080/"
        },
        "id": "CEAOk5PjvAsz",
        "outputId": "1d975975-8920-4a81-d686-d5f643591b49"
      },
      "execution_count": null,
      "outputs": [
        {
          "output_type": "execute_result",
          "data": {
            "text/plain": [
              "62.6"
            ]
          },
          "metadata": {},
          "execution_count": 87
        }
      ]
    },
    {
      "cell_type": "code",
      "source": [
        "d.pop"
      ],
      "metadata": {
        "colab": {
          "base_uri": "https://localhost:8080/"
        },
        "id": "l-9qlkU0xrm8",
        "outputId": "fcccf1b7-9272-4b59-bec7-483036a269eb"
      },
      "execution_count": null,
      "outputs": [
        {
          "output_type": "execute_result",
          "data": {
            "text/plain": [
              "<function dict.pop>"
            ]
          },
          "metadata": {},
          "execution_count": 89
        }
      ]
    },
    {
      "cell_type": "code",
      "source": [
        "d"
      ],
      "metadata": {
        "colab": {
          "base_uri": "https://localhost:8080/"
        },
        "id": "YO7HPUDxyRAV",
        "outputId": "e003e4be-65d9-40fb-f64b-f82fc9011bfc"
      },
      "execution_count": null,
      "outputs": [
        {
          "output_type": "execute_result",
          "data": {
            "text/plain": [
              "{'price': [22.6, 40, 100, 58], 'Item': ['soap', 'Milk', 'Coffee', 'paste']}"
            ]
          },
          "metadata": {},
          "execution_count": 90
        }
      ]
    },
    {
      "cell_type": "code",
      "source": [
        "d.items()"
      ],
      "metadata": {
        "colab": {
          "base_uri": "https://localhost:8080/"
        },
        "id": "SkZ_FhV8yS1E",
        "outputId": "1fe2936d-fe2e-411a-f5dd-14402be3e8f7"
      },
      "execution_count": null,
      "outputs": [
        {
          "output_type": "execute_result",
          "data": {
            "text/plain": [
              "dict_items([('price', [22.6, 40, 100, 58]), ('Item', ['soap', 'Milk', 'Coffee', 'paste'])])"
            ]
          },
          "metadata": {},
          "execution_count": 91
        }
      ]
    },
    {
      "cell_type": "code",
      "source": [
        "d['Item'].pop()"
      ],
      "metadata": {
        "colab": {
          "base_uri": "https://localhost:8080/",
          "height": 35
        },
        "id": "_aCHDKp9yX_2",
        "outputId": "8c02588c-45e4-45ae-d808-634fc84a9a2c"
      },
      "execution_count": null,
      "outputs": [
        {
          "output_type": "execute_result",
          "data": {
            "text/plain": [
              "'paste'"
            ],
            "application/vnd.google.colaboratory.intrinsic+json": {
              "type": "string"
            }
          },
          "metadata": {},
          "execution_count": 97
        }
      ]
    },
    {
      "cell_type": "code",
      "source": [
        "d['Item'].append('kurkure')"
      ],
      "metadata": {
        "id": "8T1-sC0Pybhy"
      },
      "execution_count": null,
      "outputs": []
    },
    {
      "cell_type": "code",
      "source": [
        "d"
      ],
      "metadata": {
        "colab": {
          "base_uri": "https://localhost:8080/"
        },
        "id": "-NdckWH9yuW2",
        "outputId": "d6e7098f-fbf8-4066-db40-b71c45a64ca5"
      },
      "execution_count": null,
      "outputs": [
        {
          "output_type": "execute_result",
          "data": {
            "text/plain": [
              "{'price': [22.6, 40, 100, 58], 'Item': ['soap', 'Milk', 'Coffee', 'kurkure']}"
            ]
          },
          "metadata": {},
          "execution_count": 99
        }
      ]
    },
    {
      "cell_type": "code",
      "source": [
        "x=int(input('enter a number: '))\n",
        "print(x)\n",
        "print('done')\n"
      ],
      "metadata": {
        "colab": {
          "base_uri": "https://localhost:8080/"
        },
        "id": "bya_jlIdyvIT",
        "outputId": "40e2452a-b323-42a3-993f-715fc8111c12"
      },
      "execution_count": null,
      "outputs": [
        {
          "output_type": "stream",
          "name": "stdout",
          "text": [
            "enter a number: 66\n",
            "66\n",
            "done\n"
          ]
        }
      ]
    },
    {
      "cell_type": "code",
      "source": [
        "p={1,2,3,1,2,1,2,3,3,3,3,2,2,2,1,1,2}\n",
        "print(p)\n",
        "type(p)"
      ],
      "metadata": {
        "colab": {
          "base_uri": "https://localhost:8080/"
        },
        "id": "n22F3cY0z5ct",
        "outputId": "1e68131a-a3a4-4976-ab49-5ae02ffa68fb"
      },
      "execution_count": null,
      "outputs": [
        {
          "output_type": "stream",
          "name": "stdout",
          "text": [
            "{1, 2, 3}\n"
          ]
        },
        {
          "output_type": "execute_result",
          "data": {
            "text/plain": [
              "set"
            ]
          },
          "metadata": {},
          "execution_count": 108
        }
      ]
    },
    {
      "cell_type": "code",
      "source": [
        "country={'India',50,'germany',100,'Italy',100,'India',10,'China','Italy'}"
      ],
      "metadata": {
        "id": "HGH86cBZ1HE_"
      },
      "execution_count": null,
      "outputs": []
    },
    {
      "cell_type": "code",
      "source": [
        "print(country)\n",
        "type(country)"
      ],
      "metadata": {
        "colab": {
          "base_uri": "https://localhost:8080/"
        },
        "id": "FQ9NXj0-1rpA",
        "outputId": "f5f8102e-cdd5-4d31-dea0-d20d47772a20"
      },
      "execution_count": null,
      "outputs": [
        {
          "output_type": "stream",
          "name": "stdout",
          "text": [
            "{100, 10, 'India', 'China', 50, 'Italy', 'germany'}\n"
          ]
        },
        {
          "output_type": "execute_result",
          "data": {
            "text/plain": [
              "set"
            ]
          },
          "metadata": {},
          "execution_count": 110
        }
      ]
    },
    {
      "cell_type": "code",
      "source": [
        "set(p)"
      ],
      "metadata": {
        "colab": {
          "base_uri": "https://localhost:8080/"
        },
        "id": "Y6WmMksk1vc9",
        "outputId": "ae3d8595-341e-4db1-fff4-3a6ef826963a"
      },
      "execution_count": null,
      "outputs": [
        {
          "output_type": "execute_result",
          "data": {
            "text/plain": [
              "{1, 2, 3}"
            ]
          },
          "metadata": {},
          "execution_count": 111
        }
      ]
    },
    {
      "cell_type": "code",
      "source": [],
      "metadata": {
        "id": "UJT84h_d19IZ"
      },
      "execution_count": null,
      "outputs": []
    }
  ]
}