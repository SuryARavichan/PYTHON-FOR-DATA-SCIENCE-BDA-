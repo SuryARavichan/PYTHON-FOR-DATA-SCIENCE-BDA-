{
  "nbformat": 4,
  "nbformat_minor": 0,
  "metadata": {
    "kernelspec": {
      "display_name": "Python 3",
      "language": "python",
      "name": "python3"
    },
    "language_info": {
      "codemirror_mode": {
        "name": "ipython",
        "version": 3
      },
      "file_extension": ".py",
      "mimetype": "text/x-python",
      "name": "python",
      "nbconvert_exporter": "python",
      "pygments_lexer": "ipython3",
      "version": "3.6.3"
    },
    "colab": {
      "provenance": [],
      "collapsed_sections": [],
      "include_colab_link": true
    }
  },
  "cells": [
    {
      "cell_type": "markdown",
      "metadata": {
        "id": "view-in-github",
        "colab_type": "text"
      },
      "source": [
        "<a href=\"https://colab.research.google.com/github/SuryARavichan/PYTHON-FOR-DATA-SCIENCE-BDA-/blob/main/car_price_prediction_LR_complete_code.ipynb\" target=\"_parent\"><img src=\"https://colab.research.google.com/assets/colab-badge.svg\" alt=\"Open In Colab\"/></a>"
      ]
    },
    {
      "cell_type": "code",
      "metadata": {
        "id": "LZbqKzJACHLK"
      },
      "source": [
        "import numpy as np\n",
        "import pandas as pd\n",
        "import matplotlib.pyplot as plt\n",
        "%matplotlib inline\n",
        "import seaborn as sns\n",
        "from sklearn.linear_model import LinearRegression\n",
        "from sklearn.preprocessing import StandardScaler\n",
        "from sklearn import model_selection\n",
        "import statsmodels.api as sm"
      ],
      "execution_count": null,
      "outputs": []
    },
    {
      "cell_type": "code",
      "metadata": {
        "id": "8y8V4GbSjhEi",
        "colab": {
          "base_uri": "https://localhost:8080/"
        },
        "outputId": "14786d1f-f0c0-4756-ac51-69b6bdf2030a"
      },
      "source": [
        "from google.colab import drive\n",
        "drive.mount('/content/drive')"
      ],
      "execution_count": null,
      "outputs": [
        {
          "output_type": "stream",
          "name": "stdout",
          "text": [
            "Mounted at /content/drive\n"
          ]
        }
      ]
    },
    {
      "cell_type": "code",
      "metadata": {
        "id": "hoXMFxqzCHLU",
        "colab": {
          "base_uri": "https://localhost:8080/",
          "height": 386
        },
        "outputId": "738bea44-60a8-41e9-f53a-58b6e1a50720"
      },
      "source": [
        "A=pd.read_csv('/content/drive/My Drive/Python for ML-Mahesh Anand/car_sales.csv',index_col=0)\n",
        "A.head()"
      ],
      "execution_count": null,
      "outputs": [
        {
          "output_type": "execute_result",
          "data": {
            "text/plain": [
              "  Manufacturer    Model     Type  Min.Price  Price  Max.Price  MPG.city  \\\n",
              "1        Acura  Integra    Small       12.9   15.9       18.8        25   \n",
              "2        Acura   Legend  Midsize       29.2   33.9       38.7        18   \n",
              "3         Audi       90  Compact       25.9   29.1       32.3        20   \n",
              "4         Audi      100  Midsize       30.8   37.7       44.6        19   \n",
              "5          BMW     535i  Midsize       23.7   30.0       36.2        22   \n",
              "\n",
              "   MPG.highway             AirBags DriveTrain  ... Passengers  Length  \\\n",
              "1           31                None      Front  ...          5     177   \n",
              "2           25  Driver & Passenger      Front  ...          5     195   \n",
              "3           26         Driver only      Front  ...          5     180   \n",
              "4           26  Driver & Passenger      Front  ...          6     193   \n",
              "5           30         Driver only       Rear  ...          4     186   \n",
              "\n",
              "   Wheelbase  Width  Turn.circle Rear.seat.room  Luggage.room  Weight  \\\n",
              "1        102     68           37           26.5          11.0    2705   \n",
              "2        115     71           38           30.0          15.0    3560   \n",
              "3        102     67           37           28.0          14.0    3375   \n",
              "4        106     70           37           31.0          17.0    3405   \n",
              "5        109     69           39           27.0          13.0    3640   \n",
              "\n",
              "    Origin           Make  \n",
              "1  non-USA  Acura Integra  \n",
              "2  non-USA   Acura Legend  \n",
              "3  non-USA        Audi 90  \n",
              "4  non-USA       Audi 100  \n",
              "5  non-USA       BMW 535i  \n",
              "\n",
              "[5 rows x 27 columns]"
            ],
            "text/html": [
              "\n",
              "  <div id=\"df-0681f543-03f5-4a45-a843-b67ac05c6223\">\n",
              "    <div class=\"colab-df-container\">\n",
              "      <div>\n",
              "<style scoped>\n",
              "    .dataframe tbody tr th:only-of-type {\n",
              "        vertical-align: middle;\n",
              "    }\n",
              "\n",
              "    .dataframe tbody tr th {\n",
              "        vertical-align: top;\n",
              "    }\n",
              "\n",
              "    .dataframe thead th {\n",
              "        text-align: right;\n",
              "    }\n",
              "</style>\n",
              "<table border=\"1\" class=\"dataframe\">\n",
              "  <thead>\n",
              "    <tr style=\"text-align: right;\">\n",
              "      <th></th>\n",
              "      <th>Manufacturer</th>\n",
              "      <th>Model</th>\n",
              "      <th>Type</th>\n",
              "      <th>Min.Price</th>\n",
              "      <th>Price</th>\n",
              "      <th>Max.Price</th>\n",
              "      <th>MPG.city</th>\n",
              "      <th>MPG.highway</th>\n",
              "      <th>AirBags</th>\n",
              "      <th>DriveTrain</th>\n",
              "      <th>...</th>\n",
              "      <th>Passengers</th>\n",
              "      <th>Length</th>\n",
              "      <th>Wheelbase</th>\n",
              "      <th>Width</th>\n",
              "      <th>Turn.circle</th>\n",
              "      <th>Rear.seat.room</th>\n",
              "      <th>Luggage.room</th>\n",
              "      <th>Weight</th>\n",
              "      <th>Origin</th>\n",
              "      <th>Make</th>\n",
              "    </tr>\n",
              "  </thead>\n",
              "  <tbody>\n",
              "    <tr>\n",
              "      <th>1</th>\n",
              "      <td>Acura</td>\n",
              "      <td>Integra</td>\n",
              "      <td>Small</td>\n",
              "      <td>12.9</td>\n",
              "      <td>15.9</td>\n",
              "      <td>18.8</td>\n",
              "      <td>25</td>\n",
              "      <td>31</td>\n",
              "      <td>None</td>\n",
              "      <td>Front</td>\n",
              "      <td>...</td>\n",
              "      <td>5</td>\n",
              "      <td>177</td>\n",
              "      <td>102</td>\n",
              "      <td>68</td>\n",
              "      <td>37</td>\n",
              "      <td>26.5</td>\n",
              "      <td>11.0</td>\n",
              "      <td>2705</td>\n",
              "      <td>non-USA</td>\n",
              "      <td>Acura Integra</td>\n",
              "    </tr>\n",
              "    <tr>\n",
              "      <th>2</th>\n",
              "      <td>Acura</td>\n",
              "      <td>Legend</td>\n",
              "      <td>Midsize</td>\n",
              "      <td>29.2</td>\n",
              "      <td>33.9</td>\n",
              "      <td>38.7</td>\n",
              "      <td>18</td>\n",
              "      <td>25</td>\n",
              "      <td>Driver &amp; Passenger</td>\n",
              "      <td>Front</td>\n",
              "      <td>...</td>\n",
              "      <td>5</td>\n",
              "      <td>195</td>\n",
              "      <td>115</td>\n",
              "      <td>71</td>\n",
              "      <td>38</td>\n",
              "      <td>30.0</td>\n",
              "      <td>15.0</td>\n",
              "      <td>3560</td>\n",
              "      <td>non-USA</td>\n",
              "      <td>Acura Legend</td>\n",
              "    </tr>\n",
              "    <tr>\n",
              "      <th>3</th>\n",
              "      <td>Audi</td>\n",
              "      <td>90</td>\n",
              "      <td>Compact</td>\n",
              "      <td>25.9</td>\n",
              "      <td>29.1</td>\n",
              "      <td>32.3</td>\n",
              "      <td>20</td>\n",
              "      <td>26</td>\n",
              "      <td>Driver only</td>\n",
              "      <td>Front</td>\n",
              "      <td>...</td>\n",
              "      <td>5</td>\n",
              "      <td>180</td>\n",
              "      <td>102</td>\n",
              "      <td>67</td>\n",
              "      <td>37</td>\n",
              "      <td>28.0</td>\n",
              "      <td>14.0</td>\n",
              "      <td>3375</td>\n",
              "      <td>non-USA</td>\n",
              "      <td>Audi 90</td>\n",
              "    </tr>\n",
              "    <tr>\n",
              "      <th>4</th>\n",
              "      <td>Audi</td>\n",
              "      <td>100</td>\n",
              "      <td>Midsize</td>\n",
              "      <td>30.8</td>\n",
              "      <td>37.7</td>\n",
              "      <td>44.6</td>\n",
              "      <td>19</td>\n",
              "      <td>26</td>\n",
              "      <td>Driver &amp; Passenger</td>\n",
              "      <td>Front</td>\n",
              "      <td>...</td>\n",
              "      <td>6</td>\n",
              "      <td>193</td>\n",
              "      <td>106</td>\n",
              "      <td>70</td>\n",
              "      <td>37</td>\n",
              "      <td>31.0</td>\n",
              "      <td>17.0</td>\n",
              "      <td>3405</td>\n",
              "      <td>non-USA</td>\n",
              "      <td>Audi 100</td>\n",
              "    </tr>\n",
              "    <tr>\n",
              "      <th>5</th>\n",
              "      <td>BMW</td>\n",
              "      <td>535i</td>\n",
              "      <td>Midsize</td>\n",
              "      <td>23.7</td>\n",
              "      <td>30.0</td>\n",
              "      <td>36.2</td>\n",
              "      <td>22</td>\n",
              "      <td>30</td>\n",
              "      <td>Driver only</td>\n",
              "      <td>Rear</td>\n",
              "      <td>...</td>\n",
              "      <td>4</td>\n",
              "      <td>186</td>\n",
              "      <td>109</td>\n",
              "      <td>69</td>\n",
              "      <td>39</td>\n",
              "      <td>27.0</td>\n",
              "      <td>13.0</td>\n",
              "      <td>3640</td>\n",
              "      <td>non-USA</td>\n",
              "      <td>BMW 535i</td>\n",
              "    </tr>\n",
              "  </tbody>\n",
              "</table>\n",
              "<p>5 rows × 27 columns</p>\n",
              "</div>\n",
              "      <button class=\"colab-df-convert\" onclick=\"convertToInteractive('df-0681f543-03f5-4a45-a843-b67ac05c6223')\"\n",
              "              title=\"Convert this dataframe to an interactive table.\"\n",
              "              style=\"display:none;\">\n",
              "        \n",
              "  <svg xmlns=\"http://www.w3.org/2000/svg\" height=\"24px\"viewBox=\"0 0 24 24\"\n",
              "       width=\"24px\">\n",
              "    <path d=\"M0 0h24v24H0V0z\" fill=\"none\"/>\n",
              "    <path d=\"M18.56 5.44l.94 2.06.94-2.06 2.06-.94-2.06-.94-.94-2.06-.94 2.06-2.06.94zm-11 1L8.5 8.5l.94-2.06 2.06-.94-2.06-.94L8.5 2.5l-.94 2.06-2.06.94zm10 10l.94 2.06.94-2.06 2.06-.94-2.06-.94-.94-2.06-.94 2.06-2.06.94z\"/><path d=\"M17.41 7.96l-1.37-1.37c-.4-.4-.92-.59-1.43-.59-.52 0-1.04.2-1.43.59L10.3 9.45l-7.72 7.72c-.78.78-.78 2.05 0 2.83L4 21.41c.39.39.9.59 1.41.59.51 0 1.02-.2 1.41-.59l7.78-7.78 2.81-2.81c.8-.78.8-2.07 0-2.86zM5.41 20L4 18.59l7.72-7.72 1.47 1.35L5.41 20z\"/>\n",
              "  </svg>\n",
              "      </button>\n",
              "      \n",
              "  <style>\n",
              "    .colab-df-container {\n",
              "      display:flex;\n",
              "      flex-wrap:wrap;\n",
              "      gap: 12px;\n",
              "    }\n",
              "\n",
              "    .colab-df-convert {\n",
              "      background-color: #E8F0FE;\n",
              "      border: none;\n",
              "      border-radius: 50%;\n",
              "      cursor: pointer;\n",
              "      display: none;\n",
              "      fill: #1967D2;\n",
              "      height: 32px;\n",
              "      padding: 0 0 0 0;\n",
              "      width: 32px;\n",
              "    }\n",
              "\n",
              "    .colab-df-convert:hover {\n",
              "      background-color: #E2EBFA;\n",
              "      box-shadow: 0px 1px 2px rgba(60, 64, 67, 0.3), 0px 1px 3px 1px rgba(60, 64, 67, 0.15);\n",
              "      fill: #174EA6;\n",
              "    }\n",
              "\n",
              "    [theme=dark] .colab-df-convert {\n",
              "      background-color: #3B4455;\n",
              "      fill: #D2E3FC;\n",
              "    }\n",
              "\n",
              "    [theme=dark] .colab-df-convert:hover {\n",
              "      background-color: #434B5C;\n",
              "      box-shadow: 0px 1px 3px 1px rgba(0, 0, 0, 0.15);\n",
              "      filter: drop-shadow(0px 1px 2px rgba(0, 0, 0, 0.3));\n",
              "      fill: #FFFFFF;\n",
              "    }\n",
              "  </style>\n",
              "\n",
              "      <script>\n",
              "        const buttonEl =\n",
              "          document.querySelector('#df-0681f543-03f5-4a45-a843-b67ac05c6223 button.colab-df-convert');\n",
              "        buttonEl.style.display =\n",
              "          google.colab.kernel.accessAllowed ? 'block' : 'none';\n",
              "\n",
              "        async function convertToInteractive(key) {\n",
              "          const element = document.querySelector('#df-0681f543-03f5-4a45-a843-b67ac05c6223');\n",
              "          const dataTable =\n",
              "            await google.colab.kernel.invokeFunction('convertToInteractive',\n",
              "                                                     [key], {});\n",
              "          if (!dataTable) return;\n",
              "\n",
              "          const docLinkHtml = 'Like what you see? Visit the ' +\n",
              "            '<a target=\"_blank\" href=https://colab.research.google.com/notebooks/data_table.ipynb>data table notebook</a>'\n",
              "            + ' to learn more about interactive tables.';\n",
              "          element.innerHTML = '';\n",
              "          dataTable['output_type'] = 'display_data';\n",
              "          await google.colab.output.renderOutput(dataTable, element);\n",
              "          const docLink = document.createElement('div');\n",
              "          docLink.innerHTML = docLinkHtml;\n",
              "          element.appendChild(docLink);\n",
              "        }\n",
              "      </script>\n",
              "    </div>\n",
              "  </div>\n",
              "  "
            ]
          },
          "metadata": {},
          "execution_count": 4
        }
      ]
    },
    {
      "cell_type": "code",
      "source": [
        "A.shape"
      ],
      "metadata": {
        "colab": {
          "base_uri": "https://localhost:8080/"
        },
        "id": "ypMxa15Ufp5r",
        "outputId": "d8bf67f6-9b3c-48b1-a503-a3a604e04759"
      },
      "execution_count": null,
      "outputs": [
        {
          "output_type": "execute_result",
          "data": {
            "text/plain": [
              "(93, 27)"
            ]
          },
          "metadata": {},
          "execution_count": 4
        }
      ]
    },
    {
      "cell_type": "code",
      "source": [
        "A.info()"
      ],
      "metadata": {
        "colab": {
          "base_uri": "https://localhost:8080/"
        },
        "id": "otyYP3JIwuqH",
        "outputId": "23ac0fe9-c1b7-4afd-8487-3203f3f71070"
      },
      "execution_count": null,
      "outputs": [
        {
          "output_type": "stream",
          "name": "stdout",
          "text": [
            "<class 'pandas.core.frame.DataFrame'>\n",
            "Int64Index: 93 entries, 1 to 93\n",
            "Data columns (total 27 columns):\n",
            " #   Column              Non-Null Count  Dtype  \n",
            "---  ------              --------------  -----  \n",
            " 0   Manufacturer        93 non-null     object \n",
            " 1   Model               93 non-null     object \n",
            " 2   Type                93 non-null     object \n",
            " 3   Min.Price           93 non-null     float64\n",
            " 4   Price               93 non-null     float64\n",
            " 5   Max.Price           93 non-null     float64\n",
            " 6   MPG.city            93 non-null     int64  \n",
            " 7   MPG.highway         93 non-null     int64  \n",
            " 8   AirBags             93 non-null     object \n",
            " 9   DriveTrain          93 non-null     object \n",
            " 10  Cylinders           93 non-null     object \n",
            " 11  EngineSize          93 non-null     float64\n",
            " 12  Horsepower          93 non-null     int64  \n",
            " 13  RPM                 93 non-null     int64  \n",
            " 14  Rev.per.mile        93 non-null     int64  \n",
            " 15  Man.trans.avail     93 non-null     object \n",
            " 16  Fuel.tank.capacity  93 non-null     float64\n",
            " 17  Passengers          93 non-null     int64  \n",
            " 18  Length              93 non-null     int64  \n",
            " 19  Wheelbase           93 non-null     int64  \n",
            " 20  Width               93 non-null     int64  \n",
            " 21  Turn.circle         93 non-null     int64  \n",
            " 22  Rear.seat.room      91 non-null     float64\n",
            " 23  Luggage.room        82 non-null     float64\n",
            " 24  Weight              93 non-null     int64  \n",
            " 25  Origin              93 non-null     object \n",
            " 26  Make                93 non-null     object \n",
            "dtypes: float64(7), int64(11), object(9)\n",
            "memory usage: 20.3+ KB\n"
          ]
        }
      ]
    },
    {
      "cell_type": "code",
      "metadata": {
        "id": "iTkxi0kRER_g"
      },
      "source": [
        "#A=A.drop('unnamed 0',axis=1)"
      ],
      "execution_count": null,
      "outputs": []
    },
    {
      "cell_type": "code",
      "metadata": {
        "id": "_sHcZL7BIbMG",
        "colab": {
          "base_uri": "https://localhost:8080/"
        },
        "outputId": "03109dfa-75cf-4840-bd42-c8f43da6bf5c"
      },
      "source": [
        "A.shape"
      ],
      "execution_count": null,
      "outputs": [
        {
          "output_type": "execute_result",
          "data": {
            "text/plain": [
              "(93, 27)"
            ]
          },
          "metadata": {},
          "execution_count": 5
        }
      ]
    },
    {
      "cell_type": "code",
      "metadata": {
        "colab": {
          "base_uri": "https://localhost:8080/",
          "height": 678
        },
        "id": "C6--lc0ykdp-",
        "outputId": "77ea29c3-0cbc-4e5c-d9be-b911004e40c5"
      },
      "source": [
        "A.corr()"
      ],
      "execution_count": null,
      "outputs": [
        {
          "output_type": "execute_result",
          "data": {
            "text/plain": [
              "                    Min.Price     Price  Max.Price  MPG.city  MPG.highway  \\\n",
              "Min.Price            1.000000  0.970601   0.906756 -0.622875    -0.579966   \n",
              "Price                0.970601  1.000000   0.981580 -0.594562    -0.560680   \n",
              "Max.Price            0.906756  0.981580   1.000000 -0.547811    -0.522561   \n",
              "MPG.city            -0.622875 -0.594562  -0.547811  1.000000     0.943936   \n",
              "MPG.highway         -0.579966 -0.560680  -0.522561  0.943936     1.000000   \n",
              "EngineSize           0.645488  0.597425   0.535012 -0.710003    -0.626795   \n",
              "Horsepower           0.802444  0.788218   0.744445 -0.672636    -0.619044   \n",
              "RPM                 -0.042598 -0.004955   0.025015  0.363045     0.313469   \n",
              "Rev.per.mile        -0.470395 -0.426395  -0.374024  0.695857     0.587497   \n",
              "Fuel.tank.capacity   0.635369  0.619480   0.581294 -0.813144    -0.786039   \n",
              "Passengers           0.061236  0.057860   0.053216 -0.416856    -0.466386   \n",
              "Length               0.553859  0.503628   0.442933 -0.666239    -0.542897   \n",
              "Wheelbase            0.516758  0.500864   0.467501 -0.667108    -0.615384   \n",
              "Width                0.492878  0.456028   0.408414 -0.720534    -0.640359   \n",
              "Turn.circle          0.428603  0.392590   0.347785 -0.666389    -0.593683   \n",
              "Rear.seat.room       0.376642  0.311499   0.247260 -0.384347    -0.366684   \n",
              "Luggage.room         0.413485  0.366569   0.315315 -0.494894    -0.371629   \n",
              "Weight               0.666554  0.647179   0.605142 -0.843139    -0.810658   \n",
              "\n",
              "                    EngineSize  Horsepower       RPM  Rev.per.mile  \\\n",
              "Min.Price             0.645488    0.802444 -0.042598     -0.470395   \n",
              "Price                 0.597425    0.788218 -0.004955     -0.426395   \n",
              "Max.Price             0.535012    0.744445  0.025015     -0.374024   \n",
              "MPG.city             -0.710003   -0.672636  0.363045      0.695857   \n",
              "MPG.highway          -0.626795   -0.619044  0.313469      0.587497   \n",
              "EngineSize            1.000000    0.732120 -0.547898     -0.824009   \n",
              "Horsepower            0.732120    1.000000  0.036688     -0.600314   \n",
              "RPM                  -0.547898    0.036688  1.000000      0.494764   \n",
              "Rev.per.mile         -0.824009   -0.600314  0.494764      1.000000   \n",
              "Fuel.tank.capacity    0.759306    0.711790 -0.333345     -0.609710   \n",
              "Passengers            0.372721    0.009264 -0.467138     -0.334976   \n",
              "Length                0.780283    0.550865 -0.441249     -0.690233   \n",
              "Wheelbase             0.732484    0.486854 -0.467812     -0.636824   \n",
              "Width                 0.867110    0.644413 -0.539721     -0.780460   \n",
              "Turn.circle           0.778464    0.561216 -0.505651     -0.733160   \n",
              "Rear.seat.room        0.502750    0.256732 -0.342175     -0.377010   \n",
              "Luggage.room          0.680827    0.359217 -0.524845     -0.592792   \n",
              "Weight                0.845075    0.738798 -0.427931     -0.735264   \n",
              "\n",
              "                    Fuel.tank.capacity  Passengers    Length  Wheelbase  \\\n",
              "Min.Price                     0.635369    0.061236  0.553859   0.516758   \n",
              "Price                         0.619480    0.057860  0.503628   0.500864   \n",
              "Max.Price                     0.581294    0.053216  0.442933   0.467501   \n",
              "MPG.city                     -0.813144   -0.416856 -0.666239  -0.667108   \n",
              "MPG.highway                  -0.786039   -0.466386 -0.542897  -0.615384   \n",
              "EngineSize                    0.759306    0.372721  0.780283   0.732484   \n",
              "Horsepower                    0.711790    0.009264  0.550865   0.486854   \n",
              "RPM                          -0.333345   -0.467138 -0.441249  -0.467812   \n",
              "Rev.per.mile                 -0.609710   -0.334976 -0.690233  -0.636824   \n",
              "Fuel.tank.capacity            1.000000    0.472095  0.690461   0.757674   \n",
              "Passengers                    0.472095    1.000000  0.485294   0.694054   \n",
              "Length                        0.690461    0.485294  1.000000   0.823650   \n",
              "Wheelbase                     0.757674    0.694054  0.823650   1.000000   \n",
              "Width                         0.798719    0.489979  0.822148   0.807213   \n",
              "Turn.circle                   0.671343    0.449025  0.738955   0.723324   \n",
              "Rear.seat.room                0.509689    0.694134  0.549958   0.667259   \n",
              "Luggage.room                  0.613437    0.653317  0.712962   0.734127   \n",
              "Weight                        0.894018    0.553273  0.806274   0.871895   \n",
              "\n",
              "                       Width  Turn.circle  Rear.seat.room  Luggage.room  \\\n",
              "Min.Price           0.492878     0.428603        0.376642      0.413485   \n",
              "Price               0.456028     0.392590        0.311499      0.366569   \n",
              "Max.Price           0.408414     0.347785        0.247260      0.315315   \n",
              "MPG.city           -0.720534    -0.666389       -0.384347     -0.494894   \n",
              "MPG.highway        -0.640359    -0.593683       -0.366684     -0.371629   \n",
              "EngineSize          0.867110     0.778464        0.502750      0.680827   \n",
              "Horsepower          0.644413     0.561216        0.256732      0.359217   \n",
              "RPM                -0.539721    -0.505651       -0.342175     -0.524845   \n",
              "Rev.per.mile       -0.780460    -0.733160       -0.377010     -0.592792   \n",
              "Fuel.tank.capacity  0.798719     0.671343        0.509689      0.613437   \n",
              "Passengers          0.489979     0.449025        0.694134      0.653317   \n",
              "Length              0.822148     0.738955        0.549958      0.712962   \n",
              "Wheelbase           0.807213     0.723324        0.667259      0.734127   \n",
              "Width               1.000000     0.817854        0.465618      0.673490   \n",
              "Turn.circle         0.817854     1.000000        0.466328      0.585018   \n",
              "Rear.seat.room      0.465618     0.466328        1.000000      0.651968   \n",
              "Luggage.room        0.673490     0.585018        0.651968      1.000000   \n",
              "Weight              0.874961     0.778043        0.526250      0.637226   \n",
              "\n",
              "                      Weight  \n",
              "Min.Price           0.666554  \n",
              "Price               0.647179  \n",
              "Max.Price           0.605142  \n",
              "MPG.city           -0.843139  \n",
              "MPG.highway        -0.810658  \n",
              "EngineSize          0.845075  \n",
              "Horsepower          0.738798  \n",
              "RPM                -0.427931  \n",
              "Rev.per.mile       -0.735264  \n",
              "Fuel.tank.capacity  0.894018  \n",
              "Passengers          0.553273  \n",
              "Length              0.806274  \n",
              "Wheelbase           0.871895  \n",
              "Width               0.874961  \n",
              "Turn.circle         0.778043  \n",
              "Rear.seat.room      0.526250  \n",
              "Luggage.room        0.637226  \n",
              "Weight              1.000000  "
            ],
            "text/html": [
              "\n",
              "  <div id=\"df-79e82606-38cd-47ed-af28-613903f30571\">\n",
              "    <div class=\"colab-df-container\">\n",
              "      <div>\n",
              "<style scoped>\n",
              "    .dataframe tbody tr th:only-of-type {\n",
              "        vertical-align: middle;\n",
              "    }\n",
              "\n",
              "    .dataframe tbody tr th {\n",
              "        vertical-align: top;\n",
              "    }\n",
              "\n",
              "    .dataframe thead th {\n",
              "        text-align: right;\n",
              "    }\n",
              "</style>\n",
              "<table border=\"1\" class=\"dataframe\">\n",
              "  <thead>\n",
              "    <tr style=\"text-align: right;\">\n",
              "      <th></th>\n",
              "      <th>Min.Price</th>\n",
              "      <th>Price</th>\n",
              "      <th>Max.Price</th>\n",
              "      <th>MPG.city</th>\n",
              "      <th>MPG.highway</th>\n",
              "      <th>EngineSize</th>\n",
              "      <th>Horsepower</th>\n",
              "      <th>RPM</th>\n",
              "      <th>Rev.per.mile</th>\n",
              "      <th>Fuel.tank.capacity</th>\n",
              "      <th>Passengers</th>\n",
              "      <th>Length</th>\n",
              "      <th>Wheelbase</th>\n",
              "      <th>Width</th>\n",
              "      <th>Turn.circle</th>\n",
              "      <th>Rear.seat.room</th>\n",
              "      <th>Luggage.room</th>\n",
              "      <th>Weight</th>\n",
              "    </tr>\n",
              "  </thead>\n",
              "  <tbody>\n",
              "    <tr>\n",
              "      <th>Min.Price</th>\n",
              "      <td>1.000000</td>\n",
              "      <td>0.970601</td>\n",
              "      <td>0.906756</td>\n",
              "      <td>-0.622875</td>\n",
              "      <td>-0.579966</td>\n",
              "      <td>0.645488</td>\n",
              "      <td>0.802444</td>\n",
              "      <td>-0.042598</td>\n",
              "      <td>-0.470395</td>\n",
              "      <td>0.635369</td>\n",
              "      <td>0.061236</td>\n",
              "      <td>0.553859</td>\n",
              "      <td>0.516758</td>\n",
              "      <td>0.492878</td>\n",
              "      <td>0.428603</td>\n",
              "      <td>0.376642</td>\n",
              "      <td>0.413485</td>\n",
              "      <td>0.666554</td>\n",
              "    </tr>\n",
              "    <tr>\n",
              "      <th>Price</th>\n",
              "      <td>0.970601</td>\n",
              "      <td>1.000000</td>\n",
              "      <td>0.981580</td>\n",
              "      <td>-0.594562</td>\n",
              "      <td>-0.560680</td>\n",
              "      <td>0.597425</td>\n",
              "      <td>0.788218</td>\n",
              "      <td>-0.004955</td>\n",
              "      <td>-0.426395</td>\n",
              "      <td>0.619480</td>\n",
              "      <td>0.057860</td>\n",
              "      <td>0.503628</td>\n",
              "      <td>0.500864</td>\n",
              "      <td>0.456028</td>\n",
              "      <td>0.392590</td>\n",
              "      <td>0.311499</td>\n",
              "      <td>0.366569</td>\n",
              "      <td>0.647179</td>\n",
              "    </tr>\n",
              "    <tr>\n",
              "      <th>Max.Price</th>\n",
              "      <td>0.906756</td>\n",
              "      <td>0.981580</td>\n",
              "      <td>1.000000</td>\n",
              "      <td>-0.547811</td>\n",
              "      <td>-0.522561</td>\n",
              "      <td>0.535012</td>\n",
              "      <td>0.744445</td>\n",
              "      <td>0.025015</td>\n",
              "      <td>-0.374024</td>\n",
              "      <td>0.581294</td>\n",
              "      <td>0.053216</td>\n",
              "      <td>0.442933</td>\n",
              "      <td>0.467501</td>\n",
              "      <td>0.408414</td>\n",
              "      <td>0.347785</td>\n",
              "      <td>0.247260</td>\n",
              "      <td>0.315315</td>\n",
              "      <td>0.605142</td>\n",
              "    </tr>\n",
              "    <tr>\n",
              "      <th>MPG.city</th>\n",
              "      <td>-0.622875</td>\n",
              "      <td>-0.594562</td>\n",
              "      <td>-0.547811</td>\n",
              "      <td>1.000000</td>\n",
              "      <td>0.943936</td>\n",
              "      <td>-0.710003</td>\n",
              "      <td>-0.672636</td>\n",
              "      <td>0.363045</td>\n",
              "      <td>0.695857</td>\n",
              "      <td>-0.813144</td>\n",
              "      <td>-0.416856</td>\n",
              "      <td>-0.666239</td>\n",
              "      <td>-0.667108</td>\n",
              "      <td>-0.720534</td>\n",
              "      <td>-0.666389</td>\n",
              "      <td>-0.384347</td>\n",
              "      <td>-0.494894</td>\n",
              "      <td>-0.843139</td>\n",
              "    </tr>\n",
              "    <tr>\n",
              "      <th>MPG.highway</th>\n",
              "      <td>-0.579966</td>\n",
              "      <td>-0.560680</td>\n",
              "      <td>-0.522561</td>\n",
              "      <td>0.943936</td>\n",
              "      <td>1.000000</td>\n",
              "      <td>-0.626795</td>\n",
              "      <td>-0.619044</td>\n",
              "      <td>0.313469</td>\n",
              "      <td>0.587497</td>\n",
              "      <td>-0.786039</td>\n",
              "      <td>-0.466386</td>\n",
              "      <td>-0.542897</td>\n",
              "      <td>-0.615384</td>\n",
              "      <td>-0.640359</td>\n",
              "      <td>-0.593683</td>\n",
              "      <td>-0.366684</td>\n",
              "      <td>-0.371629</td>\n",
              "      <td>-0.810658</td>\n",
              "    </tr>\n",
              "    <tr>\n",
              "      <th>EngineSize</th>\n",
              "      <td>0.645488</td>\n",
              "      <td>0.597425</td>\n",
              "      <td>0.535012</td>\n",
              "      <td>-0.710003</td>\n",
              "      <td>-0.626795</td>\n",
              "      <td>1.000000</td>\n",
              "      <td>0.732120</td>\n",
              "      <td>-0.547898</td>\n",
              "      <td>-0.824009</td>\n",
              "      <td>0.759306</td>\n",
              "      <td>0.372721</td>\n",
              "      <td>0.780283</td>\n",
              "      <td>0.732484</td>\n",
              "      <td>0.867110</td>\n",
              "      <td>0.778464</td>\n",
              "      <td>0.502750</td>\n",
              "      <td>0.680827</td>\n",
              "      <td>0.845075</td>\n",
              "    </tr>\n",
              "    <tr>\n",
              "      <th>Horsepower</th>\n",
              "      <td>0.802444</td>\n",
              "      <td>0.788218</td>\n",
              "      <td>0.744445</td>\n",
              "      <td>-0.672636</td>\n",
              "      <td>-0.619044</td>\n",
              "      <td>0.732120</td>\n",
              "      <td>1.000000</td>\n",
              "      <td>0.036688</td>\n",
              "      <td>-0.600314</td>\n",
              "      <td>0.711790</td>\n",
              "      <td>0.009264</td>\n",
              "      <td>0.550865</td>\n",
              "      <td>0.486854</td>\n",
              "      <td>0.644413</td>\n",
              "      <td>0.561216</td>\n",
              "      <td>0.256732</td>\n",
              "      <td>0.359217</td>\n",
              "      <td>0.738798</td>\n",
              "    </tr>\n",
              "    <tr>\n",
              "      <th>RPM</th>\n",
              "      <td>-0.042598</td>\n",
              "      <td>-0.004955</td>\n",
              "      <td>0.025015</td>\n",
              "      <td>0.363045</td>\n",
              "      <td>0.313469</td>\n",
              "      <td>-0.547898</td>\n",
              "      <td>0.036688</td>\n",
              "      <td>1.000000</td>\n",
              "      <td>0.494764</td>\n",
              "      <td>-0.333345</td>\n",
              "      <td>-0.467138</td>\n",
              "      <td>-0.441249</td>\n",
              "      <td>-0.467812</td>\n",
              "      <td>-0.539721</td>\n",
              "      <td>-0.505651</td>\n",
              "      <td>-0.342175</td>\n",
              "      <td>-0.524845</td>\n",
              "      <td>-0.427931</td>\n",
              "    </tr>\n",
              "    <tr>\n",
              "      <th>Rev.per.mile</th>\n",
              "      <td>-0.470395</td>\n",
              "      <td>-0.426395</td>\n",
              "      <td>-0.374024</td>\n",
              "      <td>0.695857</td>\n",
              "      <td>0.587497</td>\n",
              "      <td>-0.824009</td>\n",
              "      <td>-0.600314</td>\n",
              "      <td>0.494764</td>\n",
              "      <td>1.000000</td>\n",
              "      <td>-0.609710</td>\n",
              "      <td>-0.334976</td>\n",
              "      <td>-0.690233</td>\n",
              "      <td>-0.636824</td>\n",
              "      <td>-0.780460</td>\n",
              "      <td>-0.733160</td>\n",
              "      <td>-0.377010</td>\n",
              "      <td>-0.592792</td>\n",
              "      <td>-0.735264</td>\n",
              "    </tr>\n",
              "    <tr>\n",
              "      <th>Fuel.tank.capacity</th>\n",
              "      <td>0.635369</td>\n",
              "      <td>0.619480</td>\n",
              "      <td>0.581294</td>\n",
              "      <td>-0.813144</td>\n",
              "      <td>-0.786039</td>\n",
              "      <td>0.759306</td>\n",
              "      <td>0.711790</td>\n",
              "      <td>-0.333345</td>\n",
              "      <td>-0.609710</td>\n",
              "      <td>1.000000</td>\n",
              "      <td>0.472095</td>\n",
              "      <td>0.690461</td>\n",
              "      <td>0.757674</td>\n",
              "      <td>0.798719</td>\n",
              "      <td>0.671343</td>\n",
              "      <td>0.509689</td>\n",
              "      <td>0.613437</td>\n",
              "      <td>0.894018</td>\n",
              "    </tr>\n",
              "    <tr>\n",
              "      <th>Passengers</th>\n",
              "      <td>0.061236</td>\n",
              "      <td>0.057860</td>\n",
              "      <td>0.053216</td>\n",
              "      <td>-0.416856</td>\n",
              "      <td>-0.466386</td>\n",
              "      <td>0.372721</td>\n",
              "      <td>0.009264</td>\n",
              "      <td>-0.467138</td>\n",
              "      <td>-0.334976</td>\n",
              "      <td>0.472095</td>\n",
              "      <td>1.000000</td>\n",
              "      <td>0.485294</td>\n",
              "      <td>0.694054</td>\n",
              "      <td>0.489979</td>\n",
              "      <td>0.449025</td>\n",
              "      <td>0.694134</td>\n",
              "      <td>0.653317</td>\n",
              "      <td>0.553273</td>\n",
              "    </tr>\n",
              "    <tr>\n",
              "      <th>Length</th>\n",
              "      <td>0.553859</td>\n",
              "      <td>0.503628</td>\n",
              "      <td>0.442933</td>\n",
              "      <td>-0.666239</td>\n",
              "      <td>-0.542897</td>\n",
              "      <td>0.780283</td>\n",
              "      <td>0.550865</td>\n",
              "      <td>-0.441249</td>\n",
              "      <td>-0.690233</td>\n",
              "      <td>0.690461</td>\n",
              "      <td>0.485294</td>\n",
              "      <td>1.000000</td>\n",
              "      <td>0.823650</td>\n",
              "      <td>0.822148</td>\n",
              "      <td>0.738955</td>\n",
              "      <td>0.549958</td>\n",
              "      <td>0.712962</td>\n",
              "      <td>0.806274</td>\n",
              "    </tr>\n",
              "    <tr>\n",
              "      <th>Wheelbase</th>\n",
              "      <td>0.516758</td>\n",
              "      <td>0.500864</td>\n",
              "      <td>0.467501</td>\n",
              "      <td>-0.667108</td>\n",
              "      <td>-0.615384</td>\n",
              "      <td>0.732484</td>\n",
              "      <td>0.486854</td>\n",
              "      <td>-0.467812</td>\n",
              "      <td>-0.636824</td>\n",
              "      <td>0.757674</td>\n",
              "      <td>0.694054</td>\n",
              "      <td>0.823650</td>\n",
              "      <td>1.000000</td>\n",
              "      <td>0.807213</td>\n",
              "      <td>0.723324</td>\n",
              "      <td>0.667259</td>\n",
              "      <td>0.734127</td>\n",
              "      <td>0.871895</td>\n",
              "    </tr>\n",
              "    <tr>\n",
              "      <th>Width</th>\n",
              "      <td>0.492878</td>\n",
              "      <td>0.456028</td>\n",
              "      <td>0.408414</td>\n",
              "      <td>-0.720534</td>\n",
              "      <td>-0.640359</td>\n",
              "      <td>0.867110</td>\n",
              "      <td>0.644413</td>\n",
              "      <td>-0.539721</td>\n",
              "      <td>-0.780460</td>\n",
              "      <td>0.798719</td>\n",
              "      <td>0.489979</td>\n",
              "      <td>0.822148</td>\n",
              "      <td>0.807213</td>\n",
              "      <td>1.000000</td>\n",
              "      <td>0.817854</td>\n",
              "      <td>0.465618</td>\n",
              "      <td>0.673490</td>\n",
              "      <td>0.874961</td>\n",
              "    </tr>\n",
              "    <tr>\n",
              "      <th>Turn.circle</th>\n",
              "      <td>0.428603</td>\n",
              "      <td>0.392590</td>\n",
              "      <td>0.347785</td>\n",
              "      <td>-0.666389</td>\n",
              "      <td>-0.593683</td>\n",
              "      <td>0.778464</td>\n",
              "      <td>0.561216</td>\n",
              "      <td>-0.505651</td>\n",
              "      <td>-0.733160</td>\n",
              "      <td>0.671343</td>\n",
              "      <td>0.449025</td>\n",
              "      <td>0.738955</td>\n",
              "      <td>0.723324</td>\n",
              "      <td>0.817854</td>\n",
              "      <td>1.000000</td>\n",
              "      <td>0.466328</td>\n",
              "      <td>0.585018</td>\n",
              "      <td>0.778043</td>\n",
              "    </tr>\n",
              "    <tr>\n",
              "      <th>Rear.seat.room</th>\n",
              "      <td>0.376642</td>\n",
              "      <td>0.311499</td>\n",
              "      <td>0.247260</td>\n",
              "      <td>-0.384347</td>\n",
              "      <td>-0.366684</td>\n",
              "      <td>0.502750</td>\n",
              "      <td>0.256732</td>\n",
              "      <td>-0.342175</td>\n",
              "      <td>-0.377010</td>\n",
              "      <td>0.509689</td>\n",
              "      <td>0.694134</td>\n",
              "      <td>0.549958</td>\n",
              "      <td>0.667259</td>\n",
              "      <td>0.465618</td>\n",
              "      <td>0.466328</td>\n",
              "      <td>1.000000</td>\n",
              "      <td>0.651968</td>\n",
              "      <td>0.526250</td>\n",
              "    </tr>\n",
              "    <tr>\n",
              "      <th>Luggage.room</th>\n",
              "      <td>0.413485</td>\n",
              "      <td>0.366569</td>\n",
              "      <td>0.315315</td>\n",
              "      <td>-0.494894</td>\n",
              "      <td>-0.371629</td>\n",
              "      <td>0.680827</td>\n",
              "      <td>0.359217</td>\n",
              "      <td>-0.524845</td>\n",
              "      <td>-0.592792</td>\n",
              "      <td>0.613437</td>\n",
              "      <td>0.653317</td>\n",
              "      <td>0.712962</td>\n",
              "      <td>0.734127</td>\n",
              "      <td>0.673490</td>\n",
              "      <td>0.585018</td>\n",
              "      <td>0.651968</td>\n",
              "      <td>1.000000</td>\n",
              "      <td>0.637226</td>\n",
              "    </tr>\n",
              "    <tr>\n",
              "      <th>Weight</th>\n",
              "      <td>0.666554</td>\n",
              "      <td>0.647179</td>\n",
              "      <td>0.605142</td>\n",
              "      <td>-0.843139</td>\n",
              "      <td>-0.810658</td>\n",
              "      <td>0.845075</td>\n",
              "      <td>0.738798</td>\n",
              "      <td>-0.427931</td>\n",
              "      <td>-0.735264</td>\n",
              "      <td>0.894018</td>\n",
              "      <td>0.553273</td>\n",
              "      <td>0.806274</td>\n",
              "      <td>0.871895</td>\n",
              "      <td>0.874961</td>\n",
              "      <td>0.778043</td>\n",
              "      <td>0.526250</td>\n",
              "      <td>0.637226</td>\n",
              "      <td>1.000000</td>\n",
              "    </tr>\n",
              "  </tbody>\n",
              "</table>\n",
              "</div>\n",
              "      <button class=\"colab-df-convert\" onclick=\"convertToInteractive('df-79e82606-38cd-47ed-af28-613903f30571')\"\n",
              "              title=\"Convert this dataframe to an interactive table.\"\n",
              "              style=\"display:none;\">\n",
              "        \n",
              "  <svg xmlns=\"http://www.w3.org/2000/svg\" height=\"24px\"viewBox=\"0 0 24 24\"\n",
              "       width=\"24px\">\n",
              "    <path d=\"M0 0h24v24H0V0z\" fill=\"none\"/>\n",
              "    <path d=\"M18.56 5.44l.94 2.06.94-2.06 2.06-.94-2.06-.94-.94-2.06-.94 2.06-2.06.94zm-11 1L8.5 8.5l.94-2.06 2.06-.94-2.06-.94L8.5 2.5l-.94 2.06-2.06.94zm10 10l.94 2.06.94-2.06 2.06-.94-2.06-.94-.94-2.06-.94 2.06-2.06.94z\"/><path d=\"M17.41 7.96l-1.37-1.37c-.4-.4-.92-.59-1.43-.59-.52 0-1.04.2-1.43.59L10.3 9.45l-7.72 7.72c-.78.78-.78 2.05 0 2.83L4 21.41c.39.39.9.59 1.41.59.51 0 1.02-.2 1.41-.59l7.78-7.78 2.81-2.81c.8-.78.8-2.07 0-2.86zM5.41 20L4 18.59l7.72-7.72 1.47 1.35L5.41 20z\"/>\n",
              "  </svg>\n",
              "      </button>\n",
              "      \n",
              "  <style>\n",
              "    .colab-df-container {\n",
              "      display:flex;\n",
              "      flex-wrap:wrap;\n",
              "      gap: 12px;\n",
              "    }\n",
              "\n",
              "    .colab-df-convert {\n",
              "      background-color: #E8F0FE;\n",
              "      border: none;\n",
              "      border-radius: 50%;\n",
              "      cursor: pointer;\n",
              "      display: none;\n",
              "      fill: #1967D2;\n",
              "      height: 32px;\n",
              "      padding: 0 0 0 0;\n",
              "      width: 32px;\n",
              "    }\n",
              "\n",
              "    .colab-df-convert:hover {\n",
              "      background-color: #E2EBFA;\n",
              "      box-shadow: 0px 1px 2px rgba(60, 64, 67, 0.3), 0px 1px 3px 1px rgba(60, 64, 67, 0.15);\n",
              "      fill: #174EA6;\n",
              "    }\n",
              "\n",
              "    [theme=dark] .colab-df-convert {\n",
              "      background-color: #3B4455;\n",
              "      fill: #D2E3FC;\n",
              "    }\n",
              "\n",
              "    [theme=dark] .colab-df-convert:hover {\n",
              "      background-color: #434B5C;\n",
              "      box-shadow: 0px 1px 3px 1px rgba(0, 0, 0, 0.15);\n",
              "      filter: drop-shadow(0px 1px 2px rgba(0, 0, 0, 0.3));\n",
              "      fill: #FFFFFF;\n",
              "    }\n",
              "  </style>\n",
              "\n",
              "      <script>\n",
              "        const buttonEl =\n",
              "          document.querySelector('#df-79e82606-38cd-47ed-af28-613903f30571 button.colab-df-convert');\n",
              "        buttonEl.style.display =\n",
              "          google.colab.kernel.accessAllowed ? 'block' : 'none';\n",
              "\n",
              "        async function convertToInteractive(key) {\n",
              "          const element = document.querySelector('#df-79e82606-38cd-47ed-af28-613903f30571');\n",
              "          const dataTable =\n",
              "            await google.colab.kernel.invokeFunction('convertToInteractive',\n",
              "                                                     [key], {});\n",
              "          if (!dataTable) return;\n",
              "\n",
              "          const docLinkHtml = 'Like what you see? Visit the ' +\n",
              "            '<a target=\"_blank\" href=https://colab.research.google.com/notebooks/data_table.ipynb>data table notebook</a>'\n",
              "            + ' to learn more about interactive tables.';\n",
              "          element.innerHTML = '';\n",
              "          dataTable['output_type'] = 'display_data';\n",
              "          await google.colab.output.renderOutput(dataTable, element);\n",
              "          const docLink = document.createElement('div');\n",
              "          docLink.innerHTML = docLinkHtml;\n",
              "          element.appendChild(docLink);\n",
              "        }\n",
              "      </script>\n",
              "    </div>\n",
              "  </div>\n",
              "  "
            ]
          },
          "metadata": {},
          "execution_count": 7
        }
      ]
    },
    {
      "cell_type": "code",
      "metadata": {
        "id": "OWO1Qv7uVOhF",
        "colab": {
          "base_uri": "https://localhost:8080/"
        },
        "outputId": "efaf272f-4b05-4957-84a0-bf458973a59a"
      },
      "source": [
        "A['AirBags'].value_counts()"
      ],
      "execution_count": null,
      "outputs": [
        {
          "output_type": "execute_result",
          "data": {
            "text/plain": [
              "Driver only           43\n",
              "None                  34\n",
              "Driver & Passenger    16\n",
              "Name: AirBags, dtype: int64"
            ]
          },
          "metadata": {},
          "execution_count": 9
        }
      ]
    },
    {
      "cell_type": "code",
      "metadata": {
        "id": "1WnevQuPx6ae",
        "colab": {
          "base_uri": "https://localhost:8080/"
        },
        "outputId": "d2e5c0fd-a9e1-47c1-ba25-89d8f1af92d2"
      },
      "source": [
        "A.info()"
      ],
      "execution_count": null,
      "outputs": [
        {
          "output_type": "stream",
          "name": "stdout",
          "text": [
            "<class 'pandas.core.frame.DataFrame'>\n",
            "Int64Index: 93 entries, 1 to 93\n",
            "Data columns (total 27 columns):\n",
            " #   Column              Non-Null Count  Dtype  \n",
            "---  ------              --------------  -----  \n",
            " 0   Manufacturer        93 non-null     object \n",
            " 1   Model               93 non-null     object \n",
            " 2   Type                93 non-null     object \n",
            " 3   Min.Price           93 non-null     float64\n",
            " 4   Price               93 non-null     float64\n",
            " 5   Max.Price           93 non-null     float64\n",
            " 6   MPG.city            93 non-null     int64  \n",
            " 7   MPG.highway         93 non-null     int64  \n",
            " 8   AirBags             93 non-null     object \n",
            " 9   DriveTrain          93 non-null     object \n",
            " 10  Cylinders           93 non-null     object \n",
            " 11  EngineSize          93 non-null     float64\n",
            " 12  Horsepower          93 non-null     int64  \n",
            " 13  RPM                 93 non-null     int64  \n",
            " 14  Rev.per.mile        93 non-null     int64  \n",
            " 15  Man.trans.avail     93 non-null     object \n",
            " 16  Fuel.tank.capacity  93 non-null     float64\n",
            " 17  Passengers          93 non-null     int64  \n",
            " 18  Length              93 non-null     int64  \n",
            " 19  Wheelbase           93 non-null     int64  \n",
            " 20  Width               93 non-null     int64  \n",
            " 21  Turn.circle         93 non-null     int64  \n",
            " 22  Rear.seat.room      91 non-null     float64\n",
            " 23  Luggage.room        82 non-null     float64\n",
            " 24  Weight              93 non-null     int64  \n",
            " 25  Origin              93 non-null     object \n",
            " 26  Make                93 non-null     object \n",
            "dtypes: float64(7), int64(11), object(9)\n",
            "memory usage: 20.3+ KB\n"
          ]
        }
      ]
    },
    {
      "cell_type": "code",
      "source": [
        "A['Passengers']=A['Passengers'].astype('object')"
      ],
      "metadata": {
        "id": "hWm33J-k16xl"
      },
      "execution_count": null,
      "outputs": []
    },
    {
      "cell_type": "code",
      "source": [
        "A.info()"
      ],
      "metadata": {
        "colab": {
          "base_uri": "https://localhost:8080/"
        },
        "id": "TWHDNKBd2DKL",
        "outputId": "6a2c1fac-90d5-474b-ce39-9f2f58880edd"
      },
      "execution_count": null,
      "outputs": [
        {
          "output_type": "stream",
          "name": "stdout",
          "text": [
            "<class 'pandas.core.frame.DataFrame'>\n",
            "Int64Index: 93 entries, 1 to 93\n",
            "Data columns (total 27 columns):\n",
            " #   Column              Non-Null Count  Dtype  \n",
            "---  ------              --------------  -----  \n",
            " 0   Manufacturer        93 non-null     object \n",
            " 1   Model               93 non-null     object \n",
            " 2   Type                93 non-null     object \n",
            " 3   Min.Price           93 non-null     float64\n",
            " 4   Price               93 non-null     float64\n",
            " 5   Max.Price           93 non-null     float64\n",
            " 6   MPG.city            93 non-null     int64  \n",
            " 7   MPG.highway         93 non-null     int64  \n",
            " 8   AirBags             93 non-null     object \n",
            " 9   DriveTrain          93 non-null     object \n",
            " 10  Cylinders           93 non-null     object \n",
            " 11  EngineSize          93 non-null     float64\n",
            " 12  Horsepower          93 non-null     int64  \n",
            " 13  RPM                 93 non-null     int64  \n",
            " 14  Rev.per.mile        93 non-null     int64  \n",
            " 15  Man.trans.avail     93 non-null     object \n",
            " 16  Fuel.tank.capacity  93 non-null     float64\n",
            " 17  Passengers          93 non-null     object \n",
            " 18  Length              93 non-null     int64  \n",
            " 19  Wheelbase           93 non-null     int64  \n",
            " 20  Width               93 non-null     int64  \n",
            " 21  Turn.circle         93 non-null     int64  \n",
            " 22  Rear.seat.room      91 non-null     float64\n",
            " 23  Luggage.room        82 non-null     float64\n",
            " 24  Weight              93 non-null     int64  \n",
            " 25  Origin              93 non-null     object \n",
            " 26  Make                93 non-null     object \n",
            "dtypes: float64(7), int64(10), object(10)\n",
            "memory usage: 20.3+ KB\n"
          ]
        }
      ]
    },
    {
      "cell_type": "code",
      "metadata": {
        "id": "5DOPwzCxCHLf",
        "colab": {
          "base_uri": "https://localhost:8080/",
          "height": 627
        },
        "outputId": "de8b8cc3-9fab-40f1-b690-205eb617dc6c"
      },
      "source": [
        "A.corr()"
      ],
      "execution_count": null,
      "outputs": [
        {
          "output_type": "execute_result",
          "data": {
            "text/html": [
              "<div>\n",
              "<style scoped>\n",
              "    .dataframe tbody tr th:only-of-type {\n",
              "        vertical-align: middle;\n",
              "    }\n",
              "\n",
              "    .dataframe tbody tr th {\n",
              "        vertical-align: top;\n",
              "    }\n",
              "\n",
              "    .dataframe thead th {\n",
              "        text-align: right;\n",
              "    }\n",
              "</style>\n",
              "<table border=\"1\" class=\"dataframe\">\n",
              "  <thead>\n",
              "    <tr style=\"text-align: right;\">\n",
              "      <th></th>\n",
              "      <th>Min.Price</th>\n",
              "      <th>Price</th>\n",
              "      <th>Max.Price</th>\n",
              "      <th>MPG.city</th>\n",
              "      <th>MPG.highway</th>\n",
              "      <th>EngineSize</th>\n",
              "      <th>Horsepower</th>\n",
              "      <th>RPM</th>\n",
              "      <th>Rev.per.mile</th>\n",
              "      <th>Fuel.tank.capacity</th>\n",
              "      <th>Passengers</th>\n",
              "      <th>Length</th>\n",
              "      <th>Wheelbase</th>\n",
              "      <th>Width</th>\n",
              "      <th>Turn.circle</th>\n",
              "      <th>Rear.seat.room</th>\n",
              "      <th>Luggage.room</th>\n",
              "      <th>Weight</th>\n",
              "    </tr>\n",
              "  </thead>\n",
              "  <tbody>\n",
              "    <tr>\n",
              "      <th>Min.Price</th>\n",
              "      <td>1.000000</td>\n",
              "      <td>0.970601</td>\n",
              "      <td>0.906756</td>\n",
              "      <td>-0.622875</td>\n",
              "      <td>-0.579966</td>\n",
              "      <td>0.645488</td>\n",
              "      <td>0.802444</td>\n",
              "      <td>-0.042598</td>\n",
              "      <td>-0.470395</td>\n",
              "      <td>0.635369</td>\n",
              "      <td>0.061236</td>\n",
              "      <td>0.553859</td>\n",
              "      <td>0.516758</td>\n",
              "      <td>0.492878</td>\n",
              "      <td>0.428603</td>\n",
              "      <td>0.376642</td>\n",
              "      <td>0.413485</td>\n",
              "      <td>0.666554</td>\n",
              "    </tr>\n",
              "    <tr>\n",
              "      <th>Price</th>\n",
              "      <td>0.970601</td>\n",
              "      <td>1.000000</td>\n",
              "      <td>0.981580</td>\n",
              "      <td>-0.594562</td>\n",
              "      <td>-0.560680</td>\n",
              "      <td>0.597425</td>\n",
              "      <td>0.788218</td>\n",
              "      <td>-0.004955</td>\n",
              "      <td>-0.426395</td>\n",
              "      <td>0.619480</td>\n",
              "      <td>0.057860</td>\n",
              "      <td>0.503628</td>\n",
              "      <td>0.500864</td>\n",
              "      <td>0.456028</td>\n",
              "      <td>0.392590</td>\n",
              "      <td>0.311499</td>\n",
              "      <td>0.366569</td>\n",
              "      <td>0.647179</td>\n",
              "    </tr>\n",
              "    <tr>\n",
              "      <th>Max.Price</th>\n",
              "      <td>0.906756</td>\n",
              "      <td>0.981580</td>\n",
              "      <td>1.000000</td>\n",
              "      <td>-0.547811</td>\n",
              "      <td>-0.522561</td>\n",
              "      <td>0.535012</td>\n",
              "      <td>0.744445</td>\n",
              "      <td>0.025015</td>\n",
              "      <td>-0.374024</td>\n",
              "      <td>0.581294</td>\n",
              "      <td>0.053216</td>\n",
              "      <td>0.442933</td>\n",
              "      <td>0.467501</td>\n",
              "      <td>0.408414</td>\n",
              "      <td>0.347785</td>\n",
              "      <td>0.247260</td>\n",
              "      <td>0.315315</td>\n",
              "      <td>0.605142</td>\n",
              "    </tr>\n",
              "    <tr>\n",
              "      <th>MPG.city</th>\n",
              "      <td>-0.622875</td>\n",
              "      <td>-0.594562</td>\n",
              "      <td>-0.547811</td>\n",
              "      <td>1.000000</td>\n",
              "      <td>0.943936</td>\n",
              "      <td>-0.710003</td>\n",
              "      <td>-0.672636</td>\n",
              "      <td>0.363045</td>\n",
              "      <td>0.695857</td>\n",
              "      <td>-0.813144</td>\n",
              "      <td>-0.416856</td>\n",
              "      <td>-0.666239</td>\n",
              "      <td>-0.667108</td>\n",
              "      <td>-0.720534</td>\n",
              "      <td>-0.666389</td>\n",
              "      <td>-0.384347</td>\n",
              "      <td>-0.494894</td>\n",
              "      <td>-0.843139</td>\n",
              "    </tr>\n",
              "    <tr>\n",
              "      <th>MPG.highway</th>\n",
              "      <td>-0.579966</td>\n",
              "      <td>-0.560680</td>\n",
              "      <td>-0.522561</td>\n",
              "      <td>0.943936</td>\n",
              "      <td>1.000000</td>\n",
              "      <td>-0.626795</td>\n",
              "      <td>-0.619044</td>\n",
              "      <td>0.313469</td>\n",
              "      <td>0.587497</td>\n",
              "      <td>-0.786039</td>\n",
              "      <td>-0.466386</td>\n",
              "      <td>-0.542897</td>\n",
              "      <td>-0.615384</td>\n",
              "      <td>-0.640359</td>\n",
              "      <td>-0.593683</td>\n",
              "      <td>-0.366684</td>\n",
              "      <td>-0.371629</td>\n",
              "      <td>-0.810658</td>\n",
              "    </tr>\n",
              "    <tr>\n",
              "      <th>EngineSize</th>\n",
              "      <td>0.645488</td>\n",
              "      <td>0.597425</td>\n",
              "      <td>0.535012</td>\n",
              "      <td>-0.710003</td>\n",
              "      <td>-0.626795</td>\n",
              "      <td>1.000000</td>\n",
              "      <td>0.732120</td>\n",
              "      <td>-0.547898</td>\n",
              "      <td>-0.824009</td>\n",
              "      <td>0.759306</td>\n",
              "      <td>0.372721</td>\n",
              "      <td>0.780283</td>\n",
              "      <td>0.732484</td>\n",
              "      <td>0.867110</td>\n",
              "      <td>0.778464</td>\n",
              "      <td>0.502750</td>\n",
              "      <td>0.680827</td>\n",
              "      <td>0.845075</td>\n",
              "    </tr>\n",
              "    <tr>\n",
              "      <th>Horsepower</th>\n",
              "      <td>0.802444</td>\n",
              "      <td>0.788218</td>\n",
              "      <td>0.744445</td>\n",
              "      <td>-0.672636</td>\n",
              "      <td>-0.619044</td>\n",
              "      <td>0.732120</td>\n",
              "      <td>1.000000</td>\n",
              "      <td>0.036688</td>\n",
              "      <td>-0.600314</td>\n",
              "      <td>0.711790</td>\n",
              "      <td>0.009264</td>\n",
              "      <td>0.550865</td>\n",
              "      <td>0.486854</td>\n",
              "      <td>0.644413</td>\n",
              "      <td>0.561216</td>\n",
              "      <td>0.256732</td>\n",
              "      <td>0.359217</td>\n",
              "      <td>0.738798</td>\n",
              "    </tr>\n",
              "    <tr>\n",
              "      <th>RPM</th>\n",
              "      <td>-0.042598</td>\n",
              "      <td>-0.004955</td>\n",
              "      <td>0.025015</td>\n",
              "      <td>0.363045</td>\n",
              "      <td>0.313469</td>\n",
              "      <td>-0.547898</td>\n",
              "      <td>0.036688</td>\n",
              "      <td>1.000000</td>\n",
              "      <td>0.494764</td>\n",
              "      <td>-0.333345</td>\n",
              "      <td>-0.467138</td>\n",
              "      <td>-0.441249</td>\n",
              "      <td>-0.467812</td>\n",
              "      <td>-0.539721</td>\n",
              "      <td>-0.505651</td>\n",
              "      <td>-0.342175</td>\n",
              "      <td>-0.524845</td>\n",
              "      <td>-0.427931</td>\n",
              "    </tr>\n",
              "    <tr>\n",
              "      <th>Rev.per.mile</th>\n",
              "      <td>-0.470395</td>\n",
              "      <td>-0.426395</td>\n",
              "      <td>-0.374024</td>\n",
              "      <td>0.695857</td>\n",
              "      <td>0.587497</td>\n",
              "      <td>-0.824009</td>\n",
              "      <td>-0.600314</td>\n",
              "      <td>0.494764</td>\n",
              "      <td>1.000000</td>\n",
              "      <td>-0.609710</td>\n",
              "      <td>-0.334976</td>\n",
              "      <td>-0.690233</td>\n",
              "      <td>-0.636824</td>\n",
              "      <td>-0.780460</td>\n",
              "      <td>-0.733160</td>\n",
              "      <td>-0.377010</td>\n",
              "      <td>-0.592792</td>\n",
              "      <td>-0.735264</td>\n",
              "    </tr>\n",
              "    <tr>\n",
              "      <th>Fuel.tank.capacity</th>\n",
              "      <td>0.635369</td>\n",
              "      <td>0.619480</td>\n",
              "      <td>0.581294</td>\n",
              "      <td>-0.813144</td>\n",
              "      <td>-0.786039</td>\n",
              "      <td>0.759306</td>\n",
              "      <td>0.711790</td>\n",
              "      <td>-0.333345</td>\n",
              "      <td>-0.609710</td>\n",
              "      <td>1.000000</td>\n",
              "      <td>0.472095</td>\n",
              "      <td>0.690461</td>\n",
              "      <td>0.757674</td>\n",
              "      <td>0.798719</td>\n",
              "      <td>0.671343</td>\n",
              "      <td>0.509689</td>\n",
              "      <td>0.613437</td>\n",
              "      <td>0.894018</td>\n",
              "    </tr>\n",
              "    <tr>\n",
              "      <th>Passengers</th>\n",
              "      <td>0.061236</td>\n",
              "      <td>0.057860</td>\n",
              "      <td>0.053216</td>\n",
              "      <td>-0.416856</td>\n",
              "      <td>-0.466386</td>\n",
              "      <td>0.372721</td>\n",
              "      <td>0.009264</td>\n",
              "      <td>-0.467138</td>\n",
              "      <td>-0.334976</td>\n",
              "      <td>0.472095</td>\n",
              "      <td>1.000000</td>\n",
              "      <td>0.485294</td>\n",
              "      <td>0.694054</td>\n",
              "      <td>0.489979</td>\n",
              "      <td>0.449025</td>\n",
              "      <td>0.694134</td>\n",
              "      <td>0.653317</td>\n",
              "      <td>0.553273</td>\n",
              "    </tr>\n",
              "    <tr>\n",
              "      <th>Length</th>\n",
              "      <td>0.553859</td>\n",
              "      <td>0.503628</td>\n",
              "      <td>0.442933</td>\n",
              "      <td>-0.666239</td>\n",
              "      <td>-0.542897</td>\n",
              "      <td>0.780283</td>\n",
              "      <td>0.550865</td>\n",
              "      <td>-0.441249</td>\n",
              "      <td>-0.690233</td>\n",
              "      <td>0.690461</td>\n",
              "      <td>0.485294</td>\n",
              "      <td>1.000000</td>\n",
              "      <td>0.823650</td>\n",
              "      <td>0.822148</td>\n",
              "      <td>0.738955</td>\n",
              "      <td>0.549958</td>\n",
              "      <td>0.712962</td>\n",
              "      <td>0.806274</td>\n",
              "    </tr>\n",
              "    <tr>\n",
              "      <th>Wheelbase</th>\n",
              "      <td>0.516758</td>\n",
              "      <td>0.500864</td>\n",
              "      <td>0.467501</td>\n",
              "      <td>-0.667108</td>\n",
              "      <td>-0.615384</td>\n",
              "      <td>0.732484</td>\n",
              "      <td>0.486854</td>\n",
              "      <td>-0.467812</td>\n",
              "      <td>-0.636824</td>\n",
              "      <td>0.757674</td>\n",
              "      <td>0.694054</td>\n",
              "      <td>0.823650</td>\n",
              "      <td>1.000000</td>\n",
              "      <td>0.807213</td>\n",
              "      <td>0.723324</td>\n",
              "      <td>0.667259</td>\n",
              "      <td>0.734127</td>\n",
              "      <td>0.871895</td>\n",
              "    </tr>\n",
              "    <tr>\n",
              "      <th>Width</th>\n",
              "      <td>0.492878</td>\n",
              "      <td>0.456028</td>\n",
              "      <td>0.408414</td>\n",
              "      <td>-0.720534</td>\n",
              "      <td>-0.640359</td>\n",
              "      <td>0.867110</td>\n",
              "      <td>0.644413</td>\n",
              "      <td>-0.539721</td>\n",
              "      <td>-0.780460</td>\n",
              "      <td>0.798719</td>\n",
              "      <td>0.489979</td>\n",
              "      <td>0.822148</td>\n",
              "      <td>0.807213</td>\n",
              "      <td>1.000000</td>\n",
              "      <td>0.817854</td>\n",
              "      <td>0.465618</td>\n",
              "      <td>0.673490</td>\n",
              "      <td>0.874961</td>\n",
              "    </tr>\n",
              "    <tr>\n",
              "      <th>Turn.circle</th>\n",
              "      <td>0.428603</td>\n",
              "      <td>0.392590</td>\n",
              "      <td>0.347785</td>\n",
              "      <td>-0.666389</td>\n",
              "      <td>-0.593683</td>\n",
              "      <td>0.778464</td>\n",
              "      <td>0.561216</td>\n",
              "      <td>-0.505651</td>\n",
              "      <td>-0.733160</td>\n",
              "      <td>0.671343</td>\n",
              "      <td>0.449025</td>\n",
              "      <td>0.738955</td>\n",
              "      <td>0.723324</td>\n",
              "      <td>0.817854</td>\n",
              "      <td>1.000000</td>\n",
              "      <td>0.466328</td>\n",
              "      <td>0.585018</td>\n",
              "      <td>0.778043</td>\n",
              "    </tr>\n",
              "    <tr>\n",
              "      <th>Rear.seat.room</th>\n",
              "      <td>0.376642</td>\n",
              "      <td>0.311499</td>\n",
              "      <td>0.247260</td>\n",
              "      <td>-0.384347</td>\n",
              "      <td>-0.366684</td>\n",
              "      <td>0.502750</td>\n",
              "      <td>0.256732</td>\n",
              "      <td>-0.342175</td>\n",
              "      <td>-0.377010</td>\n",
              "      <td>0.509689</td>\n",
              "      <td>0.694134</td>\n",
              "      <td>0.549958</td>\n",
              "      <td>0.667259</td>\n",
              "      <td>0.465618</td>\n",
              "      <td>0.466328</td>\n",
              "      <td>1.000000</td>\n",
              "      <td>0.651968</td>\n",
              "      <td>0.526250</td>\n",
              "    </tr>\n",
              "    <tr>\n",
              "      <th>Luggage.room</th>\n",
              "      <td>0.413485</td>\n",
              "      <td>0.366569</td>\n",
              "      <td>0.315315</td>\n",
              "      <td>-0.494894</td>\n",
              "      <td>-0.371629</td>\n",
              "      <td>0.680827</td>\n",
              "      <td>0.359217</td>\n",
              "      <td>-0.524845</td>\n",
              "      <td>-0.592792</td>\n",
              "      <td>0.613437</td>\n",
              "      <td>0.653317</td>\n",
              "      <td>0.712962</td>\n",
              "      <td>0.734127</td>\n",
              "      <td>0.673490</td>\n",
              "      <td>0.585018</td>\n",
              "      <td>0.651968</td>\n",
              "      <td>1.000000</td>\n",
              "      <td>0.637226</td>\n",
              "    </tr>\n",
              "    <tr>\n",
              "      <th>Weight</th>\n",
              "      <td>0.666554</td>\n",
              "      <td>0.647179</td>\n",
              "      <td>0.605142</td>\n",
              "      <td>-0.843139</td>\n",
              "      <td>-0.810658</td>\n",
              "      <td>0.845075</td>\n",
              "      <td>0.738798</td>\n",
              "      <td>-0.427931</td>\n",
              "      <td>-0.735264</td>\n",
              "      <td>0.894018</td>\n",
              "      <td>0.553273</td>\n",
              "      <td>0.806274</td>\n",
              "      <td>0.871895</td>\n",
              "      <td>0.874961</td>\n",
              "      <td>0.778043</td>\n",
              "      <td>0.526250</td>\n",
              "      <td>0.637226</td>\n",
              "      <td>1.000000</td>\n",
              "    </tr>\n",
              "  </tbody>\n",
              "</table>\n",
              "</div>"
            ],
            "text/plain": [
              "                    Min.Price     Price  ...  Luggage.room    Weight\n",
              "Min.Price            1.000000  0.970601  ...      0.413485  0.666554\n",
              "Price                0.970601  1.000000  ...      0.366569  0.647179\n",
              "Max.Price            0.906756  0.981580  ...      0.315315  0.605142\n",
              "MPG.city            -0.622875 -0.594562  ...     -0.494894 -0.843139\n",
              "MPG.highway         -0.579966 -0.560680  ...     -0.371629 -0.810658\n",
              "EngineSize           0.645488  0.597425  ...      0.680827  0.845075\n",
              "Horsepower           0.802444  0.788218  ...      0.359217  0.738798\n",
              "RPM                 -0.042598 -0.004955  ...     -0.524845 -0.427931\n",
              "Rev.per.mile        -0.470395 -0.426395  ...     -0.592792 -0.735264\n",
              "Fuel.tank.capacity   0.635369  0.619480  ...      0.613437  0.894018\n",
              "Passengers           0.061236  0.057860  ...      0.653317  0.553273\n",
              "Length               0.553859  0.503628  ...      0.712962  0.806274\n",
              "Wheelbase            0.516758  0.500864  ...      0.734127  0.871895\n",
              "Width                0.492878  0.456028  ...      0.673490  0.874961\n",
              "Turn.circle          0.428603  0.392590  ...      0.585018  0.778043\n",
              "Rear.seat.room       0.376642  0.311499  ...      0.651968  0.526250\n",
              "Luggage.room         0.413485  0.366569  ...      1.000000  0.637226\n",
              "Weight               0.666554  0.647179  ...      0.637226  1.000000\n",
              "\n",
              "[18 rows x 18 columns]"
            ]
          },
          "metadata": {
            "tags": []
          },
          "execution_count": 7
        }
      ]
    },
    {
      "cell_type": "code",
      "metadata": {
        "id": "PrYqtLLc1-Wz",
        "colab": {
          "base_uri": "https://localhost:8080/"
        },
        "outputId": "65976f31-4494-4a5a-f10c-4a5aba77605c"
      },
      "source": [
        "A['Make'].value_counts()"
      ],
      "execution_count": null,
      "outputs": [
        {
          "output_type": "execute_result",
          "data": {
            "text/plain": [
              "Hyundai Sonata         1\n",
              "Nissan Sentra          1\n",
              "Mitsubishi Mirage      1\n",
              "Mitsubishi Diamante    1\n",
              "Ford Mustang           1\n",
              "                      ..\n",
              "Chevrolet Astro        1\n",
              "BMW 535i               1\n",
              "Chevrolet Camaro       1\n",
              "Volkswagen Corrado     1\n",
              "Lexus SC300            1\n",
              "Name: Make, Length: 93, dtype: int64"
            ]
          },
          "metadata": {},
          "execution_count": 5
        }
      ]
    },
    {
      "cell_type": "code",
      "metadata": {
        "id": "CEG1IVai0Etc",
        "colab": {
          "base_uri": "https://localhost:8080/",
          "height": 373
        },
        "outputId": "ffd10a51-cee7-482b-fd43-690d97a77f33"
      },
      "source": [
        "A.boxplot(column='Price',by='Passengers')"
      ],
      "execution_count": null,
      "outputs": [
        {
          "output_type": "stream",
          "name": "stderr",
          "text": [
            "/usr/local/lib/python3.7/dist-packages/matplotlib/cbook/__init__.py:1376: VisibleDeprecationWarning: Creating an ndarray from ragged nested sequences (which is a list-or-tuple of lists-or-tuples-or ndarrays with different lengths or shapes) is deprecated. If you meant to do this, you must specify 'dtype=object' when creating the ndarray.\n",
            "  X = np.atleast_1d(X.T if isinstance(X, np.ndarray) else np.asarray(X))\n"
          ]
        },
        {
          "output_type": "execute_result",
          "data": {
            "text/plain": [
              "<matplotlib.axes._subplots.AxesSubplot at 0x7efc2fb91ed0>"
            ]
          },
          "metadata": {},
          "execution_count": 10
        },
        {
          "output_type": "display_data",
          "data": {
            "image/png": "[encoded data removed]",
            "text/plain": [
              "<Figure size 432x288 with 1 Axes>"
            ]
          },
          "metadata": {
            "needs_background": "light"
          }
        }
      ]
    },
    {
      "cell_type": "code",
      "metadata": {
        "id": "RBdBc4Vt4oyB",
        "colab": {
          "base_uri": "https://localhost:8080/",
          "height": 373
        },
        "outputId": "f0f93f56-fa81-4ad7-e134-ccc88b68f777"
      },
      "source": [
        "A.boxplot(column='Price',by='Cylinders')"
      ],
      "execution_count": null,
      "outputs": [
        {
          "output_type": "stream",
          "name": "stderr",
          "text": [
            "/usr/local/lib/python3.7/dist-packages/matplotlib/cbook/__init__.py:1376: VisibleDeprecationWarning: Creating an ndarray from ragged nested sequences (which is a list-or-tuple of lists-or-tuples-or ndarrays with different lengths or shapes) is deprecated. If you meant to do this, you must specify 'dtype=object' when creating the ndarray.\n",
            "  X = np.atleast_1d(X.T if isinstance(X, np.ndarray) else np.asarray(X))\n"
          ]
        },
        {
          "output_type": "execute_result",
          "data": {
            "text/plain": [
              "<matplotlib.axes._subplots.AxesSubplot at 0x7efc2fb974d0>"
            ]
          },
          "metadata": {},
          "execution_count": 11
        },
        {
          "output_type": "display_data",
          "data": {
            "image/png": "[encoded data removed]",
            "text/plain": [
              "<Figure size 432x288 with 1 Axes>"
            ]
          },
          "metadata": {
            "needs_background": "light"
          }
        }
      ]
    },
    {
      "cell_type": "code",
      "metadata": {
        "id": "t8vHmV_kQgoy",
        "colab": {
          "base_uri": "https://localhost:8080/",
          "height": 318
        },
        "outputId": "a99acfd2-34c9-4f1e-e30e-16e4c5fc9d9a"
      },
      "source": [
        "A.boxplot(column='Price',by='Origin')"
      ],
      "execution_count": null,
      "outputs": [
        {
          "output_type": "execute_result",
          "data": {
            "text/plain": [
              "<matplotlib.axes._subplots.AxesSubplot at 0x7f1b2318fbe0>"
            ]
          },
          "metadata": {
            "tags": []
          },
          "execution_count": 23
        },
        {
          "output_type": "display_data",
          "data": {
            "image/png": "[encoded data removed]",
            "text/plain": [
              "<Figure size 432x288 with 1 Axes>"
            ]
          },
          "metadata": {
            "tags": []
          }
        }
      ]
    },
    {
      "cell_type": "code",
      "metadata": {
        "id": "FN1eujBU6qFJ",
        "colab": {
          "base_uri": "https://localhost:8080/",
          "height": 318
        },
        "outputId": "a466bccb-f560-467e-9ea2-70e827170155"
      },
      "source": [
        "A.boxplot(column='Price',by='AirBags')"
      ],
      "execution_count": null,
      "outputs": [
        {
          "output_type": "execute_result",
          "data": {
            "text/plain": [
              "<matplotlib.axes._subplots.AxesSubplot at 0x7fc88b0f46a0>"
            ]
          },
          "metadata": {
            "tags": []
          },
          "execution_count": 6
        },
        {
          "output_type": "display_data",
          "data": {
            "image/png": "[encoded data removed]",
            "text/plain": [
              "<Figure size 432x288 with 1 Axes>"
            ]
          },
          "metadata": {
            "tags": [],
            "needs_background": "light"
          }
        }
      ]
    },
    {
      "cell_type": "code",
      "metadata": {
        "id": "Faw_1PCJUD9h",
        "colab": {
          "base_uri": "https://localhost:8080/",
          "height": 72
        },
        "outputId": "a8f42d22-da33-4c7e-955b-83b1ea36a7a5"
      },
      "source": [
        "A['Man.trans.avail'].value_counts()"
      ],
      "execution_count": null,
      "outputs": [
        {
          "output_type": "execute_result",
          "data": {
            "text/plain": [
              "Yes    61\n",
              "No     32\n",
              "Name: Man.trans.avail, dtype: int64"
            ]
          },
          "metadata": {
            "tags": []
          },
          "execution_count": 18
        }
      ]
    },
    {
      "cell_type": "code",
      "metadata": {
        "id": "hlwNQ0EKuYda",
        "colab": {
          "base_uri": "https://localhost:8080/",
          "height": 318
        },
        "outputId": "a3d25ed1-cb23-4243-bbef-29b176f2c2b0"
      },
      "source": [
        "A.boxplot(column='Price',by='Man.trans.avail')"
      ],
      "execution_count": null,
      "outputs": [
        {
          "output_type": "execute_result",
          "data": {
            "text/plain": [
              "<matplotlib.axes._subplots.AxesSubplot at 0x7f8f18288080>"
            ]
          },
          "metadata": {
            "tags": []
          },
          "execution_count": 160
        },
        {
          "output_type": "display_data",
          "data": {
            "image/png": "[encoded data removed]",
            "text/plain": [
              "<Figure size 432x288 with 1 Axes>"
            ]
          },
          "metadata": {
            "tags": [],
            "needs_background": "light"
          }
        }
      ]
    },
    {
      "cell_type": "code",
      "metadata": {
        "id": "ym3Hn2M4BVk-",
        "colab": {
          "base_uri": "https://localhost:8080/",
          "height": 318
        },
        "outputId": "94571220-f498-4f46-c06f-813790134a37"
      },
      "source": [
        "A.boxplot(column='Price',by='DriveTrain')"
      ],
      "execution_count": null,
      "outputs": [
        {
          "output_type": "execute_result",
          "data": {
            "text/plain": [
              "<matplotlib.axes._subplots.AxesSubplot at 0x7f915ecda400>"
            ]
          },
          "metadata": {
            "tags": []
          },
          "execution_count": 32
        },
        {
          "output_type": "display_data",
          "data": {
            "image/png": "[encoded data removed]",
            "text/plain": [
              "<Figure size 432x288 with 1 Axes>"
            ]
          },
          "metadata": {
            "tags": []
          }
        }
      ]
    },
    {
      "cell_type": "code",
      "metadata": {
        "id": "jzj3gDTu5Q7H"
      },
      "source": [
        "A.boxplot(column='Price',by='Man.trans.avail')"
      ],
      "execution_count": null,
      "outputs": []
    },
    {
      "cell_type": "code",
      "metadata": {
        "id": "3QUWyzrHRXrH",
        "colab": {
          "base_uri": "https://localhost:8080/",
          "height": 319
        },
        "outputId": "0b6c7219-90c7-445d-fd7c-746608d2eb05"
      },
      "source": [
        "A.boxplot(column='Price',by='AirBags')"
      ],
      "execution_count": null,
      "outputs": [
        {
          "output_type": "execute_result",
          "data": {
            "text/plain": [
              "<matplotlib.axes._subplots.AxesSubplot at 0x7f4d7bd50c50>"
            ]
          },
          "metadata": {
            "tags": []
          },
          "execution_count": 12
        },
        {
          "output_type": "display_data",
          "data": {
            "image/png": "[encoded data removed]",
            "text/plain": [
              "<Figure size 432x288 with 1 Axes>"
            ]
          },
          "metadata": {
            "tags": []
          }
        }
      ]
    },
    {
      "cell_type": "code",
      "metadata": {
        "id": "cNWdkesO4d1m",
        "colab": {
          "base_uri": "https://localhost:8080/"
        },
        "outputId": "f15d1a25-9a49-46c4-f75b-0dd223f26290"
      },
      "source": [
        "A.info()"
      ],
      "execution_count": null,
      "outputs": [
        {
          "output_type": "stream",
          "name": "stdout",
          "text": [
            "<class 'pandas.core.frame.DataFrame'>\n",
            "Int64Index: 93 entries, 1 to 93\n",
            "Data columns (total 27 columns):\n",
            " #   Column              Non-Null Count  Dtype  \n",
            "---  ------              --------------  -----  \n",
            " 0   Manufacturer        93 non-null     object \n",
            " 1   Model               93 non-null     object \n",
            " 2   Type                93 non-null     object \n",
            " 3   Min.Price           93 non-null     float64\n",
            " 4   Price               93 non-null     float64\n",
            " 5   Max.Price           93 non-null     float64\n",
            " 6   MPG.city            93 non-null     int64  \n",
            " 7   MPG.highway         93 non-null     int64  \n",
            " 8   AirBags             93 non-null     object \n",
            " 9   DriveTrain          93 non-null     object \n",
            " 10  Cylinders           93 non-null     object \n",
            " 11  EngineSize          93 non-null     float64\n",
            " 12  Horsepower          93 non-null     int64  \n",
            " 13  RPM                 93 non-null     int64  \n",
            " 14  Rev.per.mile        93 non-null     int64  \n",
            " 15  Man.trans.avail     93 non-null     object \n",
            " 16  Fuel.tank.capacity  93 non-null     float64\n",
            " 17  Passengers          93 non-null     int64  \n",
            " 18  Length              93 non-null     int64  \n",
            " 19  Wheelbase           93 non-null     int64  \n",
            " 20  Width               93 non-null     int64  \n",
            " 21  Turn.circle         93 non-null     int64  \n",
            " 22  Rear.seat.room      93 non-null     float64\n",
            " 23  Luggage.room        93 non-null     float64\n",
            " 24  Weight              93 non-null     int64  \n",
            " 25  Origin              93 non-null     object \n",
            " 26  Make                93 non-null     object \n",
            "dtypes: float64(7), int64(11), object(9)\n",
            "memory usage: 20.3+ KB\n"
          ]
        }
      ]
    },
    {
      "cell_type": "code",
      "metadata": {
        "id": "zy-kgFs_bPyL"
      },
      "source": [
        "#Bigdata (10K to 100K) = dropna\n",
        "#Dataset size (500-2000)upto 5-10% of size of n = Median Imputation or random sampling\n",
        "#Dataset around 1000, 10-20% of record is missing = KNN Imputer (preserve your distribution)"
      ],
      "execution_count": null,
      "outputs": []
    },
    {
      "cell_type": "code",
      "metadata": {
        "id": "_ydpIPZhalLO"
      },
      "source": [
        "A['Rear.seat.room'].fillna(A['Rear.seat.room'].median(),inplace=True)\n",
        "A['Luggage.room'].fillna(A['Luggage.room'].median(),inplace=True)"
      ],
      "execution_count": null,
      "outputs": []
    },
    {
      "cell_type": "code",
      "metadata": {
        "id": "eJ6aZhc0dlDS",
        "colab": {
          "base_uri": "https://localhost:8080/",
          "height": 206
        },
        "outputId": "80daeee6-454c-43fe-c40a-ad93d9cf7ba2"
      },
      "source": [
        "test=pd.DataFrame({'x1':[3,8,np.nan,5,10],'x2':[5,2,7,8,9],'x3':[np.nan,9,8,2,5]})\n",
        "test"
      ],
      "execution_count": null,
      "outputs": [
        {
          "output_type": "execute_result",
          "data": {
            "text/html": [
              "<div>\n",
              "<style scoped>\n",
              "    .dataframe tbody tr th:only-of-type {\n",
              "        vertical-align: middle;\n",
              "    }\n",
              "\n",
              "    .dataframe tbody tr th {\n",
              "        vertical-align: top;\n",
              "    }\n",
              "\n",
              "    .dataframe thead th {\n",
              "        text-align: right;\n",
              "    }\n",
              "</style>\n",
              "<table border=\"1\" class=\"dataframe\">\n",
              "  <thead>\n",
              "    <tr style=\"text-align: right;\">\n",
              "      <th></th>\n",
              "      <th>x1</th>\n",
              "      <th>x2</th>\n",
              "      <th>x3</th>\n",
              "    </tr>\n",
              "  </thead>\n",
              "  <tbody>\n",
              "    <tr>\n",
              "      <th>0</th>\n",
              "      <td>3.0</td>\n",
              "      <td>5</td>\n",
              "      <td>NaN</td>\n",
              "    </tr>\n",
              "    <tr>\n",
              "      <th>1</th>\n",
              "      <td>8.0</td>\n",
              "      <td>2</td>\n",
              "      <td>9.0</td>\n",
              "    </tr>\n",
              "    <tr>\n",
              "      <th>2</th>\n",
              "      <td>NaN</td>\n",
              "      <td>7</td>\n",
              "      <td>8.0</td>\n",
              "    </tr>\n",
              "    <tr>\n",
              "      <th>3</th>\n",
              "      <td>5.0</td>\n",
              "      <td>8</td>\n",
              "      <td>2.0</td>\n",
              "    </tr>\n",
              "    <tr>\n",
              "      <th>4</th>\n",
              "      <td>10.0</td>\n",
              "      <td>9</td>\n",
              "      <td>5.0</td>\n",
              "    </tr>\n",
              "  </tbody>\n",
              "</table>\n",
              "</div>"
            ],
            "text/plain": [
              "     x1  x2   x3\n",
              "0   3.0   5  NaN\n",
              "1   8.0   2  9.0\n",
              "2   NaN   7  8.0\n",
              "3   5.0   8  2.0\n",
              "4  10.0   9  5.0"
            ]
          },
          "metadata": {},
          "execution_count": 10
        }
      ]
    },
    {
      "cell_type": "code",
      "metadata": {
        "id": "6WD3s_xkgWua"
      },
      "source": [
        "from sklearn.impute import KNNImputer\n",
        "#by default it is recursive"
      ],
      "execution_count": null,
      "outputs": []
    },
    {
      "cell_type": "code",
      "metadata": {
        "id": "LBF1P524gdXZ",
        "colab": {
          "base_uri": "https://localhost:8080/",
          "height": 105
        },
        "outputId": "67b2a8a9-9f43-43a6-d8d9-8f910a36de4d"
      },
      "source": [
        "Imp=KNNImputer(n_neighbors=2)\n",
        "Imp.fit_transform(test)"
      ],
      "execution_count": null,
      "outputs": [
        {
          "output_type": "execute_result",
          "data": {
            "text/plain": [
              "array([[ 3. ,  5. ,  5. ],\n",
              "       [ 8. ,  2. ,  9. ],\n",
              "       [ 6.5,  7. ,  8. ],\n",
              "       [ 5. ,  8. ,  2. ],\n",
              "       [10. ,  9. ,  5. ]])"
            ]
          },
          "metadata": {
            "tags": []
          },
          "execution_count": 11
        }
      ]
    },
    {
      "cell_type": "code",
      "metadata": {
        "id": "rwXgwp9veHX4"
      },
      "source": [
        "#using KNN imputer (n_neigh=2)\n",
        "#test-1=8\n",
        "#test-3=5\n",
        "#test-4=11"
      ],
      "execution_count": null,
      "outputs": []
    },
    {
      "cell_type": "code",
      "metadata": {
        "colab": {
          "base_uri": "https://localhost:8080/"
        },
        "id": "zEeX0bsHJ1lH",
        "outputId": "59d1809a-717e-4f90-cbf6-1a6bb3c352ba"
      },
      "source": [
        "B.shape"
      ],
      "execution_count": null,
      "outputs": [
        {
          "output_type": "execute_result",
          "data": {
            "text/plain": [
              "(93, 22)"
            ]
          },
          "metadata": {
            "tags": []
          },
          "execution_count": 12
        }
      ]
    },
    {
      "cell_type": "code",
      "metadata": {
        "id": "FmYz1upQX4kK",
        "colab": {
          "base_uri": "https://localhost:8080/",
          "height": 386
        },
        "outputId": "625738dd-2aeb-46fa-fd69-4347c7e17901"
      },
      "source": [
        "#Create a B data frame by dropping unwanted columns based on business context\n",
        "B=A.drop(['Manufacturer','Model','Min.Price','Max.Price','Make'],axis=1)\n",
        "B.head()"
      ],
      "execution_count": null,
      "outputs": [
        {
          "output_type": "execute_result",
          "data": {
            "text/plain": [
              "      Type  Price  MPG.city  MPG.highway             AirBags DriveTrain  \\\n",
              "1    Small   15.9        25           31                None      Front   \n",
              "2  Midsize   33.9        18           25  Driver & Passenger      Front   \n",
              "3  Compact   29.1        20           26         Driver only      Front   \n",
              "4  Midsize   37.7        19           26  Driver & Passenger      Front   \n",
              "5  Midsize   30.0        22           30         Driver only       Rear   \n",
              "\n",
              "  Cylinders  EngineSize  Horsepower   RPM  ...  Fuel.tank.capacity Passengers  \\\n",
              "1         4         1.8         140  6300  ...                13.2          5   \n",
              "2         6         3.2         200  5500  ...                18.0          5   \n",
              "3         6         2.8         172  5500  ...                16.9          5   \n",
              "4         6         2.8         172  5500  ...                21.1          6   \n",
              "5         4         3.5         208  5700  ...                21.1          4   \n",
              "\n",
              "   Length Wheelbase  Width  Turn.circle  Rear.seat.room  Luggage.room  Weight  \\\n",
              "1     177       102     68           37            26.5          11.0    2705   \n",
              "2     195       115     71           38            30.0          15.0    3560   \n",
              "3     180       102     67           37            28.0          14.0    3375   \n",
              "4     193       106     70           37            31.0          17.0    3405   \n",
              "5     186       109     69           39            27.0          13.0    3640   \n",
              "\n",
              "    Origin  \n",
              "1  non-USA  \n",
              "2  non-USA  \n",
              "3  non-USA  \n",
              "4  non-USA  \n",
              "5  non-USA  \n",
              "\n",
              "[5 rows x 22 columns]"
            ],
            "text/html": [
              "\n",
              "  <div id=\"df-59982c42-9e6e-4ad9-bb0e-09782d8a9b31\">\n",
              "    <div class=\"colab-df-container\">\n",
              "      <div>\n",
              "<style scoped>\n",
              "    .dataframe tbody tr th:only-of-type {\n",
              "        vertical-align: middle;\n",
              "    }\n",
              "\n",
              "    .dataframe tbody tr th {\n",
              "        vertical-align: top;\n",
              "    }\n",
              "\n",
              "    .dataframe thead th {\n",
              "        text-align: right;\n",
              "    }\n",
              "</style>\n",
              "<table border=\"1\" class=\"dataframe\">\n",
              "  <thead>\n",
              "    <tr style=\"text-align: right;\">\n",
              "      <th></th>\n",
              "      <th>Type</th>\n",
              "      <th>Price</th>\n",
              "      <th>MPG.city</th>\n",
              "      <th>MPG.highway</th>\n",
              "      <th>AirBags</th>\n",
              "      <th>DriveTrain</th>\n",
              "      <th>Cylinders</th>\n",
              "      <th>EngineSize</th>\n",
              "      <th>Horsepower</th>\n",
              "      <th>RPM</th>\n",
              "      <th>...</th>\n",
              "      <th>Fuel.tank.capacity</th>\n",
              "      <th>Passengers</th>\n",
              "      <th>Length</th>\n",
              "      <th>Wheelbase</th>\n",
              "      <th>Width</th>\n",
              "      <th>Turn.circle</th>\n",
              "      <th>Rear.seat.room</th>\n",
              "      <th>Luggage.room</th>\n",
              "      <th>Weight</th>\n",
              "      <th>Origin</th>\n",
              "    </tr>\n",
              "  </thead>\n",
              "  <tbody>\n",
              "    <tr>\n",
              "      <th>1</th>\n",
              "      <td>Small</td>\n",
              "      <td>15.9</td>\n",
              "      <td>25</td>\n",
              "      <td>31</td>\n",
              "      <td>None</td>\n",
              "      <td>Front</td>\n",
              "      <td>4</td>\n",
              "      <td>1.8</td>\n",
              "      <td>140</td>\n",
              "      <td>6300</td>\n",
              "      <td>...</td>\n",
              "      <td>13.2</td>\n",
              "      <td>5</td>\n",
              "      <td>177</td>\n",
              "      <td>102</td>\n",
              "      <td>68</td>\n",
              "      <td>37</td>\n",
              "      <td>26.5</td>\n",
              "      <td>11.0</td>\n",
              "      <td>2705</td>\n",
              "      <td>non-USA</td>\n",
              "    </tr>\n",
              "    <tr>\n",
              "      <th>2</th>\n",
              "      <td>Midsize</td>\n",
              "      <td>33.9</td>\n",
              "      <td>18</td>\n",
              "      <td>25</td>\n",
              "      <td>Driver &amp; Passenger</td>\n",
              "      <td>Front</td>\n",
              "      <td>6</td>\n",
              "      <td>3.2</td>\n",
              "      <td>200</td>\n",
              "      <td>5500</td>\n",
              "      <td>...</td>\n",
              "      <td>18.0</td>\n",
              "      <td>5</td>\n",
              "      <td>195</td>\n",
              "      <td>115</td>\n",
              "      <td>71</td>\n",
              "      <td>38</td>\n",
              "      <td>30.0</td>\n",
              "      <td>15.0</td>\n",
              "      <td>3560</td>\n",
              "      <td>non-USA</td>\n",
              "    </tr>\n",
              "    <tr>\n",
              "      <th>3</th>\n",
              "      <td>Compact</td>\n",
              "      <td>29.1</td>\n",
              "      <td>20</td>\n",
              "      <td>26</td>\n",
              "      <td>Driver only</td>\n",
              "      <td>Front</td>\n",
              "      <td>6</td>\n",
              "      <td>2.8</td>\n",
              "      <td>172</td>\n",
              "      <td>5500</td>\n",
              "      <td>...</td>\n",
              "      <td>16.9</td>\n",
              "      <td>5</td>\n",
              "      <td>180</td>\n",
              "      <td>102</td>\n",
              "      <td>67</td>\n",
              "      <td>37</td>\n",
              "      <td>28.0</td>\n",
              "      <td>14.0</td>\n",
              "      <td>3375</td>\n",
              "      <td>non-USA</td>\n",
              "    </tr>\n",
              "    <tr>\n",
              "      <th>4</th>\n",
              "      <td>Midsize</td>\n",
              "      <td>37.7</td>\n",
              "      <td>19</td>\n",
              "      <td>26</td>\n",
              "      <td>Driver &amp; Passenger</td>\n",
              "      <td>Front</td>\n",
              "      <td>6</td>\n",
              "      <td>2.8</td>\n",
              "      <td>172</td>\n",
              "      <td>5500</td>\n",
              "      <td>...</td>\n",
              "      <td>21.1</td>\n",
              "      <td>6</td>\n",
              "      <td>193</td>\n",
              "      <td>106</td>\n",
              "      <td>70</td>\n",
              "      <td>37</td>\n",
              "      <td>31.0</td>\n",
              "      <td>17.0</td>\n",
              "      <td>3405</td>\n",
              "      <td>non-USA</td>\n",
              "    </tr>\n",
              "    <tr>\n",
              "      <th>5</th>\n",
              "      <td>Midsize</td>\n",
              "      <td>30.0</td>\n",
              "      <td>22</td>\n",
              "      <td>30</td>\n",
              "      <td>Driver only</td>\n",
              "      <td>Rear</td>\n",
              "      <td>4</td>\n",
              "      <td>3.5</td>\n",
              "      <td>208</td>\n",
              "      <td>5700</td>\n",
              "      <td>...</td>\n",
              "      <td>21.1</td>\n",
              "      <td>4</td>\n",
              "      <td>186</td>\n",
              "      <td>109</td>\n",
              "      <td>69</td>\n",
              "      <td>39</td>\n",
              "      <td>27.0</td>\n",
              "      <td>13.0</td>\n",
              "      <td>3640</td>\n",
              "      <td>non-USA</td>\n",
              "    </tr>\n",
              "  </tbody>\n",
              "</table>\n",
              "<p>5 rows × 22 columns</p>\n",
              "</div>\n",
              "      <button class=\"colab-df-convert\" onclick=\"convertToInteractive('df-59982c42-9e6e-4ad9-bb0e-09782d8a9b31')\"\n",
              "              title=\"Convert this dataframe to an interactive table.\"\n",
              "              style=\"display:none;\">\n",
              "        \n",
              "  <svg xmlns=\"http://www.w3.org/2000/svg\" height=\"24px\"viewBox=\"0 0 24 24\"\n",
              "       width=\"24px\">\n",
              "    <path d=\"M0 0h24v24H0V0z\" fill=\"none\"/>\n",
              "    <path d=\"M18.56 5.44l.94 2.06.94-2.06 2.06-.94-2.06-.94-.94-2.06-.94 2.06-2.06.94zm-11 1L8.5 8.5l.94-2.06 2.06-.94-2.06-.94L8.5 2.5l-.94 2.06-2.06.94zm10 10l.94 2.06.94-2.06 2.06-.94-2.06-.94-.94-2.06-.94 2.06-2.06.94z\"/><path d=\"M17.41 7.96l-1.37-1.37c-.4-.4-.92-.59-1.43-.59-.52 0-1.04.2-1.43.59L10.3 9.45l-7.72 7.72c-.78.78-.78 2.05 0 2.83L4 21.41c.39.39.9.59 1.41.59.51 0 1.02-.2 1.41-.59l7.78-7.78 2.81-2.81c.8-.78.8-2.07 0-2.86zM5.41 20L4 18.59l7.72-7.72 1.47 1.35L5.41 20z\"/>\n",
              "  </svg>\n",
              "      </button>\n",
              "      \n",
              "  <style>\n",
              "    .colab-df-container {\n",
              "      display:flex;\n",
              "      flex-wrap:wrap;\n",
              "      gap: 12px;\n",
              "    }\n",
              "\n",
              "    .colab-df-convert {\n",
              "      background-color: #E8F0FE;\n",
              "      border: none;\n",
              "      border-radius: 50%;\n",
              "      cursor: pointer;\n",
              "      display: none;\n",
              "      fill: #1967D2;\n",
              "      height: 32px;\n",
              "      padding: 0 0 0 0;\n",
              "      width: 32px;\n",
              "    }\n",
              "\n",
              "    .colab-df-convert:hover {\n",
              "      background-color: #E2EBFA;\n",
              "      box-shadow: 0px 1px 2px rgba(60, 64, 67, 0.3), 0px 1px 3px 1px rgba(60, 64, 67, 0.15);\n",
              "      fill: #174EA6;\n",
              "    }\n",
              "\n",
              "    [theme=dark] .colab-df-convert {\n",
              "      background-color: #3B4455;\n",
              "      fill: #D2E3FC;\n",
              "    }\n",
              "\n",
              "    [theme=dark] .colab-df-convert:hover {\n",
              "      background-color: #434B5C;\n",
              "      box-shadow: 0px 1px 3px 1px rgba(0, 0, 0, 0.15);\n",
              "      filter: drop-shadow(0px 1px 2px rgba(0, 0, 0, 0.3));\n",
              "      fill: #FFFFFF;\n",
              "    }\n",
              "  </style>\n",
              "\n",
              "      <script>\n",
              "        const buttonEl =\n",
              "          document.querySelector('#df-59982c42-9e6e-4ad9-bb0e-09782d8a9b31 button.colab-df-convert');\n",
              "        buttonEl.style.display =\n",
              "          google.colab.kernel.accessAllowed ? 'block' : 'none';\n",
              "\n",
              "        async function convertToInteractive(key) {\n",
              "          const element = document.querySelector('#df-59982c42-9e6e-4ad9-bb0e-09782d8a9b31');\n",
              "          const dataTable =\n",
              "            await google.colab.kernel.invokeFunction('convertToInteractive',\n",
              "                                                     [key], {});\n",
              "          if (!dataTable) return;\n",
              "\n",
              "          const docLinkHtml = 'Like what you see? Visit the ' +\n",
              "            '<a target=\"_blank\" href=https://colab.research.google.com/notebooks/data_table.ipynb>data table notebook</a>'\n",
              "            + ' to learn more about interactive tables.';\n",
              "          element.innerHTML = '';\n",
              "          dataTable['output_type'] = 'display_data';\n",
              "          await google.colab.output.renderOutput(dataTable, element);\n",
              "          const docLink = document.createElement('div');\n",
              "          docLink.innerHTML = docLinkHtml;\n",
              "          element.appendChild(docLink);\n",
              "        }\n",
              "      </script>\n",
              "    </div>\n",
              "  </div>\n",
              "  "
            ]
          },
          "metadata": {},
          "execution_count": 10
        }
      ]
    },
    {
      "cell_type": "code",
      "source": [
        "B.shape"
      ],
      "metadata": {
        "colab": {
          "base_uri": "https://localhost:8080/"
        },
        "id": "Hdxx7jqah-hk",
        "outputId": "ee29ca64-6e31-44ab-df36-09400eb6c345"
      },
      "execution_count": null,
      "outputs": [
        {
          "output_type": "execute_result",
          "data": {
            "text/plain": [
              "(93, 22)"
            ]
          },
          "metadata": {},
          "execution_count": 15
        }
      ]
    },
    {
      "cell_type": "code",
      "source": [
        "B.info()"
      ],
      "metadata": {
        "colab": {
          "base_uri": "https://localhost:8080/"
        },
        "id": "e5ncppKAiI99",
        "outputId": "39558cc8-0e1a-40df-86c7-2c54e3c6f797"
      },
      "execution_count": null,
      "outputs": [
        {
          "output_type": "stream",
          "name": "stdout",
          "text": [
            "<class 'pandas.core.frame.DataFrame'>\n",
            "Int64Index: 93 entries, 1 to 93\n",
            "Data columns (total 22 columns):\n",
            " #   Column              Non-Null Count  Dtype  \n",
            "---  ------              --------------  -----  \n",
            " 0   Type                93 non-null     object \n",
            " 1   Price               93 non-null     float64\n",
            " 2   MPG.city            93 non-null     int64  \n",
            " 3   MPG.highway         93 non-null     int64  \n",
            " 4   AirBags             93 non-null     object \n",
            " 5   DriveTrain          93 non-null     object \n",
            " 6   Cylinders           93 non-null     object \n",
            " 7   EngineSize          93 non-null     float64\n",
            " 8   Horsepower          93 non-null     int64  \n",
            " 9   RPM                 93 non-null     int64  \n",
            " 10  Rev.per.mile        93 non-null     int64  \n",
            " 11  Man.trans.avail     93 non-null     object \n",
            " 12  Fuel.tank.capacity  93 non-null     float64\n",
            " 13  Passengers          93 non-null     int64  \n",
            " 14  Length              93 non-null     int64  \n",
            " 15  Wheelbase           93 non-null     int64  \n",
            " 16  Width               93 non-null     int64  \n",
            " 17  Turn.circle         93 non-null     int64  \n",
            " 18  Rear.seat.room      93 non-null     float64\n",
            " 19  Luggage.room        93 non-null     float64\n",
            " 20  Weight              93 non-null     int64  \n",
            " 21  Origin              93 non-null     object \n",
            "dtypes: float64(5), int64(11), object(6)\n",
            "memory usage: 16.7+ KB\n"
          ]
        }
      ]
    },
    {
      "cell_type": "code",
      "source": [
        "df_cat = B.select_dtypes(include=[object])\n",
        "\n",
        "# display categorical features\n",
        "df_cat.columns"
      ],
      "metadata": {
        "colab": {
          "base_uri": "https://localhost:8080/"
        },
        "id": "Fkp5ce-tiQSk",
        "outputId": "bbed40b2-ca59-4400-b83d-4a1d7588a131"
      },
      "execution_count": null,
      "outputs": [
        {
          "output_type": "execute_result",
          "data": {
            "text/plain": [
              "Index(['Type', 'AirBags', 'DriveTrain', 'Cylinders', 'Man.trans.avail',\n",
              "       'Passengers', 'Origin'],\n",
              "      dtype='object')"
            ]
          },
          "metadata": {},
          "execution_count": 11
        }
      ]
    },
    {
      "cell_type": "code",
      "source": [
        "df_cat.head()"
      ],
      "metadata": {
        "colab": {
          "base_uri": "https://localhost:8080/",
          "height": 337
        },
        "id": "rseapU_I70b_",
        "outputId": "697a26a9-708d-4ea4-818b-a8bdb6a63a23"
      },
      "execution_count": null,
      "outputs": [
        {
          "output_type": "execute_result",
          "data": {
            "text/plain": [
              "      Type             AirBags DriveTrain Cylinders Man.trans.avail  \\\n",
              "1    Small                None      Front         4             Yes   \n",
              "2  Midsize  Driver & Passenger      Front         6             Yes   \n",
              "3  Compact         Driver only      Front         6             Yes   \n",
              "4  Midsize  Driver & Passenger      Front         6             Yes   \n",
              "5  Midsize         Driver only       Rear         4             Yes   \n",
              "\n",
              "  Passengers   Origin  \n",
              "1          5  non-USA  \n",
              "2          5  non-USA  \n",
              "3          5  non-USA  \n",
              "4          6  non-USA  \n",
              "5          4  non-USA  "
            ],
            "text/html": [
              "\n",
              "  <div id=\"df-27927c0d-b142-4a75-a5c1-72040198ee86\">\n",
              "    <div class=\"colab-df-container\">\n",
              "      <div>\n",
              "<style scoped>\n",
              "    .dataframe tbody tr th:only-of-type {\n",
              "        vertical-align: middle;\n",
              "    }\n",
              "\n",
              "    .dataframe tbody tr th {\n",
              "        vertical-align: top;\n",
              "    }\n",
              "\n",
              "    .dataframe thead th {\n",
              "        text-align: right;\n",
              "    }\n",
              "</style>\n",
              "<table border=\"1\" class=\"dataframe\">\n",
              "  <thead>\n",
              "    <tr style=\"text-align: right;\">\n",
              "      <th></th>\n",
              "      <th>Type</th>\n",
              "      <th>AirBags</th>\n",
              "      <th>DriveTrain</th>\n",
              "      <th>Cylinders</th>\n",
              "      <th>Man.trans.avail</th>\n",
              "      <th>Passengers</th>\n",
              "      <th>Origin</th>\n",
              "    </tr>\n",
              "  </thead>\n",
              "  <tbody>\n",
              "    <tr>\n",
              "      <th>1</th>\n",
              "      <td>Small</td>\n",
              "      <td>None</td>\n",
              "      <td>Front</td>\n",
              "      <td>4</td>\n",
              "      <td>Yes</td>\n",
              "      <td>5</td>\n",
              "      <td>non-USA</td>\n",
              "    </tr>\n",
              "    <tr>\n",
              "      <th>2</th>\n",
              "      <td>Midsize</td>\n",
              "      <td>Driver &amp; Passenger</td>\n",
              "      <td>Front</td>\n",
              "      <td>6</td>\n",
              "      <td>Yes</td>\n",
              "      <td>5</td>\n",
              "      <td>non-USA</td>\n",
              "    </tr>\n",
              "    <tr>\n",
              "      <th>3</th>\n",
              "      <td>Compact</td>\n",
              "      <td>Driver only</td>\n",
              "      <td>Front</td>\n",
              "      <td>6</td>\n",
              "      <td>Yes</td>\n",
              "      <td>5</td>\n",
              "      <td>non-USA</td>\n",
              "    </tr>\n",
              "    <tr>\n",
              "      <th>4</th>\n",
              "      <td>Midsize</td>\n",
              "      <td>Driver &amp; Passenger</td>\n",
              "      <td>Front</td>\n",
              "      <td>6</td>\n",
              "      <td>Yes</td>\n",
              "      <td>6</td>\n",
              "      <td>non-USA</td>\n",
              "    </tr>\n",
              "    <tr>\n",
              "      <th>5</th>\n",
              "      <td>Midsize</td>\n",
              "      <td>Driver only</td>\n",
              "      <td>Rear</td>\n",
              "      <td>4</td>\n",
              "      <td>Yes</td>\n",
              "      <td>4</td>\n",
              "      <td>non-USA</td>\n",
              "    </tr>\n",
              "  </tbody>\n",
              "</table>\n",
              "</div>\n",
              "      <button class=\"colab-df-convert\" onclick=\"convertToInteractive('df-27927c0d-b142-4a75-a5c1-72040198ee86')\"\n",
              "              title=\"Convert this dataframe to an interactive table.\"\n",
              "              style=\"display:none;\">\n",
              "        \n",
              "  <svg xmlns=\"http://www.w3.org/2000/svg\" height=\"24px\"viewBox=\"0 0 24 24\"\n",
              "       width=\"24px\">\n",
              "    <path d=\"M0 0h24v24H0V0z\" fill=\"none\"/>\n",
              "    <path d=\"M18.56 5.44l.94 2.06.94-2.06 2.06-.94-2.06-.94-.94-2.06-.94 2.06-2.06.94zm-11 1L8.5 8.5l.94-2.06 2.06-.94-2.06-.94L8.5 2.5l-.94 2.06-2.06.94zm10 10l.94 2.06.94-2.06 2.06-.94-2.06-.94-.94-2.06-.94 2.06-2.06.94z\"/><path d=\"M17.41 7.96l-1.37-1.37c-.4-.4-.92-.59-1.43-.59-.52 0-1.04.2-1.43.59L10.3 9.45l-7.72 7.72c-.78.78-.78 2.05 0 2.83L4 21.41c.39.39.9.59 1.41.59.51 0 1.02-.2 1.41-.59l7.78-7.78 2.81-2.81c.8-.78.8-2.07 0-2.86zM5.41 20L4 18.59l7.72-7.72 1.47 1.35L5.41 20z\"/>\n",
              "  </svg>\n",
              "      </button>\n",
              "      \n",
              "  <style>\n",
              "    .colab-df-container {\n",
              "      display:flex;\n",
              "      flex-wrap:wrap;\n",
              "      gap: 12px;\n",
              "    }\n",
              "\n",
              "    .colab-df-convert {\n",
              "      background-color: #E8F0FE;\n",
              "      border: none;\n",
              "      border-radius: 50%;\n",
              "      cursor: pointer;\n",
              "      display: none;\n",
              "      fill: #1967D2;\n",
              "      height: 32px;\n",
              "      padding: 0 0 0 0;\n",
              "      width: 32px;\n",
              "    }\n",
              "\n",
              "    .colab-df-convert:hover {\n",
              "      background-color: #E2EBFA;\n",
              "      box-shadow: 0px 1px 2px rgba(60, 64, 67, 0.3), 0px 1px 3px 1px rgba(60, 64, 67, 0.15);\n",
              "      fill: #174EA6;\n",
              "    }\n",
              "\n",
              "    [theme=dark] .colab-df-convert {\n",
              "      background-color: #3B4455;\n",
              "      fill: #D2E3FC;\n",
              "    }\n",
              "\n",
              "    [theme=dark] .colab-df-convert:hover {\n",
              "      background-color: #434B5C;\n",
              "      box-shadow: 0px 1px 3px 1px rgba(0, 0, 0, 0.15);\n",
              "      filter: drop-shadow(0px 1px 2px rgba(0, 0, 0, 0.3));\n",
              "      fill: #FFFFFF;\n",
              "    }\n",
              "  </style>\n",
              "\n",
              "      <script>\n",
              "        const buttonEl =\n",
              "          document.querySelector('#df-27927c0d-b142-4a75-a5c1-72040198ee86 button.colab-df-convert');\n",
              "        buttonEl.style.display =\n",
              "          google.colab.kernel.accessAllowed ? 'block' : 'none';\n",
              "\n",
              "        async function convertToInteractive(key) {\n",
              "          const element = document.querySelector('#df-27927c0d-b142-4a75-a5c1-72040198ee86');\n",
              "          const dataTable =\n",
              "            await google.colab.kernel.invokeFunction('convertToInteractive',\n",
              "                                                     [key], {});\n",
              "          if (!dataTable) return;\n",
              "\n",
              "          const docLinkHtml = 'Like what you see? Visit the ' +\n",
              "            '<a target=\"_blank\" href=https://colab.research.google.com/notebooks/data_table.ipynb>data table notebook</a>'\n",
              "            + ' to learn more about interactive tables.';\n",
              "          element.innerHTML = '';\n",
              "          dataTable['output_type'] = 'display_data';\n",
              "          await google.colab.output.renderOutput(dataTable, element);\n",
              "          const docLink = document.createElement('div');\n",
              "          docLink.innerHTML = docLinkHtml;\n",
              "          element.appendChild(docLink);\n",
              "        }\n",
              "      </script>\n",
              "    </div>\n",
              "  </div>\n",
              "  "
            ]
          },
          "metadata": {},
          "execution_count": 12
        }
      ]
    },
    {
      "cell_type": "code",
      "source": [
        "dummy_var = pd.get_dummies(data = df_cat, drop_first=True)\n",
        "dummy_var.shape"
      ],
      "metadata": {
        "colab": {
          "base_uri": "https://localhost:8080/"
        },
        "id": "aWja3oy7igEK",
        "outputId": "edb6c988-425e-4e66-e83f-a6a71ed58981"
      },
      "execution_count": null,
      "outputs": [
        {
          "output_type": "execute_result",
          "data": {
            "text/plain": [
              "(93, 21)"
            ]
          },
          "metadata": {},
          "execution_count": 13
        }
      ]
    },
    {
      "cell_type": "code",
      "source": [
        "dummy_var.head()"
      ],
      "metadata": {
        "colab": {
          "base_uri": "https://localhost:8080/",
          "height": 287
        },
        "id": "z7dGAjYb7geb",
        "outputId": "601e98b0-4a5a-4816-9459-9f27c1eb8fce"
      },
      "execution_count": null,
      "outputs": [
        {
          "output_type": "execute_result",
          "data": {
            "text/plain": [
              "   Type_Large  Type_Midsize  Type_Small  Type_Sporty  Type_Van  \\\n",
              "1           0             0           1            0         0   \n",
              "2           0             1           0            0         0   \n",
              "3           0             0           0            0         0   \n",
              "4           0             1           0            0         0   \n",
              "5           0             1           0            0         0   \n",
              "\n",
              "   AirBags_Driver only  AirBags_None  DriveTrain_Front  DriveTrain_Rear  \\\n",
              "1                    0             1                 1                0   \n",
              "2                    0             0                 1                0   \n",
              "3                    1             0                 1                0   \n",
              "4                    0             0                 1                0   \n",
              "5                    1             0                 0                1   \n",
              "\n",
              "   Cylinders_4  Cylinders_5  Cylinders_6  Cylinders_8  Cylinders_rotary  \\\n",
              "1            1            0            0            0                 0   \n",
              "2            0            0            1            0                 0   \n",
              "3            0            0            1            0                 0   \n",
              "4            0            0            1            0                 0   \n",
              "5            1            0            0            0                 0   \n",
              "\n",
              "   Man.trans.avail_Yes  Origin_non-USA  \n",
              "1                    1               1  \n",
              "2                    1               1  \n",
              "3                    1               1  \n",
              "4                    1               1  \n",
              "5                    1               1  "
            ],
            "text/html": [
              "\n",
              "  <div id=\"df-b21bcb97-eaca-42e4-b692-f1aaddae1395\">\n",
              "    <div class=\"colab-df-container\">\n",
              "      <div>\n",
              "<style scoped>\n",
              "    .dataframe tbody tr th:only-of-type {\n",
              "        vertical-align: middle;\n",
              "    }\n",
              "\n",
              "    .dataframe tbody tr th {\n",
              "        vertical-align: top;\n",
              "    }\n",
              "\n",
              "    .dataframe thead th {\n",
              "        text-align: right;\n",
              "    }\n",
              "</style>\n",
              "<table border=\"1\" class=\"dataframe\">\n",
              "  <thead>\n",
              "    <tr style=\"text-align: right;\">\n",
              "      <th></th>\n",
              "      <th>Type_Large</th>\n",
              "      <th>Type_Midsize</th>\n",
              "      <th>Type_Small</th>\n",
              "      <th>Type_Sporty</th>\n",
              "      <th>Type_Van</th>\n",
              "      <th>AirBags_Driver only</th>\n",
              "      <th>AirBags_None</th>\n",
              "      <th>DriveTrain_Front</th>\n",
              "      <th>DriveTrain_Rear</th>\n",
              "      <th>Cylinders_4</th>\n",
              "      <th>Cylinders_5</th>\n",
              "      <th>Cylinders_6</th>\n",
              "      <th>Cylinders_8</th>\n",
              "      <th>Cylinders_rotary</th>\n",
              "      <th>Man.trans.avail_Yes</th>\n",
              "      <th>Origin_non-USA</th>\n",
              "    </tr>\n",
              "  </thead>\n",
              "  <tbody>\n",
              "    <tr>\n",
              "      <th>1</th>\n",
              "      <td>0</td>\n",
              "      <td>0</td>\n",
              "      <td>1</td>\n",
              "      <td>0</td>\n",
              "      <td>0</td>\n",
              "      <td>0</td>\n",
              "      <td>1</td>\n",
              "      <td>1</td>\n",
              "      <td>0</td>\n",
              "      <td>1</td>\n",
              "      <td>0</td>\n",
              "      <td>0</td>\n",
              "      <td>0</td>\n",
              "      <td>0</td>\n",
              "      <td>1</td>\n",
              "      <td>1</td>\n",
              "    </tr>\n",
              "    <tr>\n",
              "      <th>2</th>\n",
              "      <td>0</td>\n",
              "      <td>1</td>\n",
              "      <td>0</td>\n",
              "      <td>0</td>\n",
              "      <td>0</td>\n",
              "      <td>0</td>\n",
              "      <td>0</td>\n",
              "      <td>1</td>\n",
              "      <td>0</td>\n",
              "      <td>0</td>\n",
              "      <td>0</td>\n",
              "      <td>1</td>\n",
              "      <td>0</td>\n",
              "      <td>0</td>\n",
              "      <td>1</td>\n",
              "      <td>1</td>\n",
              "    </tr>\n",
              "    <tr>\n",
              "      <th>3</th>\n",
              "      <td>0</td>\n",
              "      <td>0</td>\n",
              "      <td>0</td>\n",
              "      <td>0</td>\n",
              "      <td>0</td>\n",
              "      <td>1</td>\n",
              "      <td>0</td>\n",
              "      <td>1</td>\n",
              "      <td>0</td>\n",
              "      <td>0</td>\n",
              "      <td>0</td>\n",
              "      <td>1</td>\n",
              "      <td>0</td>\n",
              "      <td>0</td>\n",
              "      <td>1</td>\n",
              "      <td>1</td>\n",
              "    </tr>\n",
              "    <tr>\n",
              "      <th>4</th>\n",
              "      <td>0</td>\n",
              "      <td>1</td>\n",
              "      <td>0</td>\n",
              "      <td>0</td>\n",
              "      <td>0</td>\n",
              "      <td>0</td>\n",
              "      <td>0</td>\n",
              "      <td>1</td>\n",
              "      <td>0</td>\n",
              "      <td>0</td>\n",
              "      <td>0</td>\n",
              "      <td>1</td>\n",
              "      <td>0</td>\n",
              "      <td>0</td>\n",
              "      <td>1</td>\n",
              "      <td>1</td>\n",
              "    </tr>\n",
              "    <tr>\n",
              "      <th>5</th>\n",
              "      <td>0</td>\n",
              "      <td>1</td>\n",
              "      <td>0</td>\n",
              "      <td>0</td>\n",
              "      <td>0</td>\n",
              "      <td>1</td>\n",
              "      <td>0</td>\n",
              "      <td>0</td>\n",
              "      <td>1</td>\n",
              "      <td>1</td>\n",
              "      <td>0</td>\n",
              "      <td>0</td>\n",
              "      <td>0</td>\n",
              "      <td>0</td>\n",
              "      <td>1</td>\n",
              "      <td>1</td>\n",
              "    </tr>\n",
              "  </tbody>\n",
              "</table>\n",
              "</div>\n",
              "      <button class=\"colab-df-convert\" onclick=\"convertToInteractive('df-b21bcb97-eaca-42e4-b692-f1aaddae1395')\"\n",
              "              title=\"Convert this dataframe to an interactive table.\"\n",
              "              style=\"display:none;\">\n",
              "        \n",
              "  <svg xmlns=\"http://www.w3.org/2000/svg\" height=\"24px\"viewBox=\"0 0 24 24\"\n",
              "       width=\"24px\">\n",
              "    <path d=\"M0 0h24v24H0V0z\" fill=\"none\"/>\n",
              "    <path d=\"M18.56 5.44l.94 2.06.94-2.06 2.06-.94-2.06-.94-.94-2.06-.94 2.06-2.06.94zm-11 1L8.5 8.5l.94-2.06 2.06-.94-2.06-.94L8.5 2.5l-.94 2.06-2.06.94zm10 10l.94 2.06.94-2.06 2.06-.94-2.06-.94-.94-2.06-.94 2.06-2.06.94z\"/><path d=\"M17.41 7.96l-1.37-1.37c-.4-.4-.92-.59-1.43-.59-.52 0-1.04.2-1.43.59L10.3 9.45l-7.72 7.72c-.78.78-.78 2.05 0 2.83L4 21.41c.39.39.9.59 1.41.59.51 0 1.02-.2 1.41-.59l7.78-7.78 2.81-2.81c.8-.78.8-2.07 0-2.86zM5.41 20L4 18.59l7.72-7.72 1.47 1.35L5.41 20z\"/>\n",
              "  </svg>\n",
              "      </button>\n",
              "      \n",
              "  <style>\n",
              "    .colab-df-container {\n",
              "      display:flex;\n",
              "      flex-wrap:wrap;\n",
              "      gap: 12px;\n",
              "    }\n",
              "\n",
              "    .colab-df-convert {\n",
              "      background-color: #E8F0FE;\n",
              "      border: none;\n",
              "      border-radius: 50%;\n",
              "      cursor: pointer;\n",
              "      display: none;\n",
              "      fill: #1967D2;\n",
              "      height: 32px;\n",
              "      padding: 0 0 0 0;\n",
              "      width: 32px;\n",
              "    }\n",
              "\n",
              "    .colab-df-convert:hover {\n",
              "      background-color: #E2EBFA;\n",
              "      box-shadow: 0px 1px 2px rgba(60, 64, 67, 0.3), 0px 1px 3px 1px rgba(60, 64, 67, 0.15);\n",
              "      fill: #174EA6;\n",
              "    }\n",
              "\n",
              "    [theme=dark] .colab-df-convert {\n",
              "      background-color: #3B4455;\n",
              "      fill: #D2E3FC;\n",
              "    }\n",
              "\n",
              "    [theme=dark] .colab-df-convert:hover {\n",
              "      background-color: #434B5C;\n",
              "      box-shadow: 0px 1px 3px 1px rgba(0, 0, 0, 0.15);\n",
              "      filter: drop-shadow(0px 1px 2px rgba(0, 0, 0, 0.3));\n",
              "      fill: #FFFFFF;\n",
              "    }\n",
              "  </style>\n",
              "\n",
              "      <script>\n",
              "        const buttonEl =\n",
              "          document.querySelector('#df-b21bcb97-eaca-42e4-b692-f1aaddae1395 button.colab-df-convert');\n",
              "        buttonEl.style.display =\n",
              "          google.colab.kernel.accessAllowed ? 'block' : 'none';\n",
              "\n",
              "        async function convertToInteractive(key) {\n",
              "          const element = document.querySelector('#df-b21bcb97-eaca-42e4-b692-f1aaddae1395');\n",
              "          const dataTable =\n",
              "            await google.colab.kernel.invokeFunction('convertToInteractive',\n",
              "                                                     [key], {});\n",
              "          if (!dataTable) return;\n",
              "\n",
              "          const docLinkHtml = 'Like what you see? Visit the ' +\n",
              "            '<a target=\"_blank\" href=https://colab.research.google.com/notebooks/data_table.ipynb>data table notebook</a>'\n",
              "            + ' to learn more about interactive tables.';\n",
              "          element.innerHTML = '';\n",
              "          dataTable['output_type'] = 'display_data';\n",
              "          await google.colab.output.renderOutput(dataTable, element);\n",
              "          const docLink = document.createElement('div');\n",
              "          docLink.innerHTML = docLinkHtml;\n",
              "          element.appendChild(docLink);\n",
              "        }\n",
              "      </script>\n",
              "    </div>\n",
              "  </div>\n",
              "  "
            ]
          },
          "metadata": {},
          "execution_count": 14
        }
      ]
    },
    {
      "cell_type": "code",
      "source": [
        "B['Type'].value_counts()"
      ],
      "metadata": {
        "colab": {
          "base_uri": "https://localhost:8080/"
        },
        "id": "YtGCheGr7nmP",
        "outputId": "8f1d60f0-f5b5-44d5-80bd-2b5e5ebe7844"
      },
      "execution_count": null,
      "outputs": [
        {
          "output_type": "execute_result",
          "data": {
            "text/plain": [
              "Midsize    22\n",
              "Small      21\n",
              "Compact    16\n",
              "Sporty     14\n",
              "Large      11\n",
              "Van         9\n",
              "Name: Type, dtype: int64"
            ]
          },
          "metadata": {},
          "execution_count": 15
        }
      ]
    },
    {
      "cell_type": "code",
      "source": [
        "X=B.drop('Price',axis=1)\n",
        "X.shape"
      ],
      "metadata": {
        "colab": {
          "base_uri": "https://localhost:8080/"
        },
        "id": "Ua_97wjhlEs9",
        "outputId": "2d2d258f-6e2e-4593-9284-6a67b00a6b8f"
      },
      "execution_count": null,
      "outputs": [
        {
          "output_type": "execute_result",
          "data": {
            "text/plain": [
              "(93, 21)"
            ]
          },
          "metadata": {},
          "execution_count": 12
        }
      ]
    },
    {
      "cell_type": "code",
      "metadata": {
        "colab": {
          "base_uri": "https://localhost:8080/"
        },
        "id": "GGF1NAcGKink",
        "outputId": "f20230e7-5ddf-4453-f625-c054c153000e"
      },
      "source": [
        "df_num = B.select_dtypes(include=[np.number])\n",
        "df_num.shape"
      ],
      "execution_count": null,
      "outputs": [
        {
          "output_type": "execute_result",
          "data": {
            "text/plain": [
              "(93, 15)"
            ]
          },
          "metadata": {},
          "execution_count": 14
        }
      ]
    },
    {
      "cell_type": "code",
      "source": [
        "df_num.corr()"
      ],
      "metadata": {
        "colab": {
          "base_uri": "https://localhost:8080/",
          "height": 615
        },
        "id": "-TlfYFaD-6Ny",
        "outputId": "165fb059-d11c-476b-c36d-52da751c7209"
      },
      "execution_count": null,
      "outputs": [
        {
          "output_type": "execute_result",
          "data": {
            "text/plain": [
              "                       Price  MPG.city  MPG.highway  EngineSize  Horsepower  \\\n",
              "Price               1.000000 -0.594562    -0.560680    0.597425    0.788218   \n",
              "MPG.city           -0.594562  1.000000     0.943936   -0.710003   -0.672636   \n",
              "MPG.highway        -0.560680  0.943936     1.000000   -0.626795   -0.619044   \n",
              "EngineSize          0.597425 -0.710003    -0.626795    1.000000    0.732120   \n",
              "Horsepower          0.788218 -0.672636    -0.619044    0.732120    1.000000   \n",
              "RPM                -0.004955  0.363045     0.313469   -0.547898    0.036688   \n",
              "Rev.per.mile       -0.426395  0.695857     0.587497   -0.824009   -0.600314   \n",
              "Fuel.tank.capacity  0.619480 -0.813144    -0.786039    0.759306    0.711790   \n",
              "Passengers          0.057860 -0.416856    -0.466386    0.372721    0.009264   \n",
              "Length              0.503628 -0.666239    -0.542897    0.780283    0.550865   \n",
              "Wheelbase           0.500864 -0.667108    -0.615384    0.732484    0.486854   \n",
              "Width               0.456028 -0.720534    -0.640359    0.867110    0.644413   \n",
              "Turn.circle         0.392590 -0.666389    -0.593683    0.778464    0.561216   \n",
              "Rear.seat.room      0.297898 -0.378071    -0.362379    0.471733    0.230654   \n",
              "Luggage.room        0.355827 -0.466621    -0.333507    0.620915    0.331115   \n",
              "Weight              0.647179 -0.843139    -0.810658    0.845075    0.738798   \n",
              "\n",
              "                         RPM  Rev.per.mile  Fuel.tank.capacity  Passengers  \\\n",
              "Price              -0.004955     -0.426395            0.619480    0.057860   \n",
              "MPG.city            0.363045      0.695857           -0.813144   -0.416856   \n",
              "MPG.highway         0.313469      0.587497           -0.786039   -0.466386   \n",
              "EngineSize         -0.547898     -0.824009            0.759306    0.372721   \n",
              "Horsepower          0.036688     -0.600314            0.711790    0.009264   \n",
              "RPM                 1.000000      0.494764           -0.333345   -0.467138   \n",
              "Rev.per.mile        0.494764      1.000000           -0.609710   -0.334976   \n",
              "Fuel.tank.capacity -0.333345     -0.609710            1.000000    0.472095   \n",
              "Passengers         -0.467138     -0.334976            0.472095    1.000000   \n",
              "Length             -0.441249     -0.690233            0.690461    0.485294   \n",
              "Wheelbase          -0.467812     -0.636824            0.757674    0.694054   \n",
              "Width              -0.539721     -0.780460            0.798719    0.489979   \n",
              "Turn.circle        -0.505651     -0.733160            0.671343    0.449025   \n",
              "Rear.seat.room     -0.335709     -0.368190            0.501265    0.629517   \n",
              "Luggage.room       -0.484468     -0.559548            0.534164    0.423096   \n",
              "Weight             -0.427931     -0.735264            0.894018    0.553273   \n",
              "\n",
              "                      Length  Wheelbase     Width  Turn.circle  \\\n",
              "Price               0.503628   0.500864  0.456028     0.392590   \n",
              "MPG.city           -0.666239  -0.667108 -0.720534    -0.666389   \n",
              "MPG.highway        -0.542897  -0.615384 -0.640359    -0.593683   \n",
              "EngineSize          0.780283   0.732484  0.867110     0.778464   \n",
              "Horsepower          0.550865   0.486854  0.644413     0.561216   \n",
              "RPM                -0.441249  -0.467812 -0.539721    -0.505651   \n",
              "Rev.per.mile       -0.690233  -0.636824 -0.780460    -0.733160   \n",
              "Fuel.tank.capacity  0.690461   0.757674  0.798719     0.671343   \n",
              "Passengers          0.485294   0.694054  0.489979     0.449025   \n",
              "Length              1.000000   0.823650  0.822148     0.738955   \n",
              "Wheelbase           0.823650   1.000000  0.807213     0.723324   \n",
              "Width               0.822148   0.807213  1.000000     0.817854   \n",
              "Turn.circle         0.738955   0.723324  0.817854     1.000000   \n",
              "Rear.seat.room      0.548276   0.659856  0.460330     0.460523   \n",
              "Luggage.room        0.699806   0.656924  0.622023     0.542541   \n",
              "Weight              0.806274   0.871895  0.874961     0.778043   \n",
              "\n",
              "                    Rear.seat.room  Luggage.room    Weight  \n",
              "Price                     0.297898      0.355827  0.647179  \n",
              "MPG.city                 -0.378071     -0.466621 -0.843139  \n",
              "MPG.highway              -0.362379     -0.333507 -0.810658  \n",
              "EngineSize                0.471733      0.620915  0.845075  \n",
              "Horsepower                0.230654      0.331115  0.738798  \n",
              "RPM                      -0.335709     -0.484468 -0.427931  \n",
              "Rev.per.mile             -0.368190     -0.559548 -0.735264  \n",
              "Fuel.tank.capacity        0.501265      0.534164  0.894018  \n",
              "Passengers                0.629517      0.423096  0.553273  \n",
              "Length                    0.548276      0.699806  0.806274  \n",
              "Wheelbase                 0.659856      0.656924  0.871895  \n",
              "Width                     0.460330      0.622023  0.874961  \n",
              "Turn.circle               0.460523      0.542541  0.778043  \n",
              "Rear.seat.room            1.000000      0.591162  0.524878  \n",
              "Luggage.room              0.591162      1.000000  0.578581  \n",
              "Weight                    0.524878      0.578581  1.000000  "
            ],
            "text/html": [
              "\n",
              "  <div id=\"df-d9fcab6f-4ae7-4a1f-a7c6-5ccefe0909a3\">\n",
              "    <div class=\"colab-df-container\">\n",
              "      <div>\n",
              "<style scoped>\n",
              "    .dataframe tbody tr th:only-of-type {\n",
              "        vertical-align: middle;\n",
              "    }\n",
              "\n",
              "    .dataframe tbody tr th {\n",
              "        vertical-align: top;\n",
              "    }\n",
              "\n",
              "    .dataframe thead th {\n",
              "        text-align: right;\n",
              "    }\n",
              "</style>\n",
              "<table border=\"1\" class=\"dataframe\">\n",
              "  <thead>\n",
              "    <tr style=\"text-align: right;\">\n",
              "      <th></th>\n",
              "      <th>Price</th>\n",
              "      <th>MPG.city</th>\n",
              "      <th>MPG.highway</th>\n",
              "      <th>EngineSize</th>\n",
              "      <th>Horsepower</th>\n",
              "      <th>RPM</th>\n",
              "      <th>Rev.per.mile</th>\n",
              "      <th>Fuel.tank.capacity</th>\n",
              "      <th>Passengers</th>\n",
              "      <th>Length</th>\n",
              "      <th>Wheelbase</th>\n",
              "      <th>Width</th>\n",
              "      <th>Turn.circle</th>\n",
              "      <th>Rear.seat.room</th>\n",
              "      <th>Luggage.room</th>\n",
              "      <th>Weight</th>\n",
              "    </tr>\n",
              "  </thead>\n",
              "  <tbody>\n",
              "    <tr>\n",
              "      <th>Price</th>\n",
              "      <td>1.000000</td>\n",
              "      <td>-0.594562</td>\n",
              "      <td>-0.560680</td>\n",
              "      <td>0.597425</td>\n",
              "      <td>0.788218</td>\n",
              "      <td>-0.004955</td>\n",
              "      <td>-0.426395</td>\n",
              "      <td>0.619480</td>\n",
              "      <td>0.057860</td>\n",
              "      <td>0.503628</td>\n",
              "      <td>0.500864</td>\n",
              "      <td>0.456028</td>\n",
              "      <td>0.392590</td>\n",
              "      <td>0.297898</td>\n",
              "      <td>0.355827</td>\n",
              "      <td>0.647179</td>\n",
              "    </tr>\n",
              "    <tr>\n",
              "      <th>MPG.city</th>\n",
              "      <td>-0.594562</td>\n",
              "      <td>1.000000</td>\n",
              "      <td>0.943936</td>\n",
              "      <td>-0.710003</td>\n",
              "      <td>-0.672636</td>\n",
              "      <td>0.363045</td>\n",
              "      <td>0.695857</td>\n",
              "      <td>-0.813144</td>\n",
              "      <td>-0.416856</td>\n",
              "      <td>-0.666239</td>\n",
              "      <td>-0.667108</td>\n",
              "      <td>-0.720534</td>\n",
              "      <td>-0.666389</td>\n",
              "      <td>-0.378071</td>\n",
              "      <td>-0.466621</td>\n",
              "      <td>-0.843139</td>\n",
              "    </tr>\n",
              "    <tr>\n",
              "      <th>MPG.highway</th>\n",
              "      <td>-0.560680</td>\n",
              "      <td>0.943936</td>\n",
              "      <td>1.000000</td>\n",
              "      <td>-0.626795</td>\n",
              "      <td>-0.619044</td>\n",
              "      <td>0.313469</td>\n",
              "      <td>0.587497</td>\n",
              "      <td>-0.786039</td>\n",
              "      <td>-0.466386</td>\n",
              "      <td>-0.542897</td>\n",
              "      <td>-0.615384</td>\n",
              "      <td>-0.640359</td>\n",
              "      <td>-0.593683</td>\n",
              "      <td>-0.362379</td>\n",
              "      <td>-0.333507</td>\n",
              "      <td>-0.810658</td>\n",
              "    </tr>\n",
              "    <tr>\n",
              "      <th>EngineSize</th>\n",
              "      <td>0.597425</td>\n",
              "      <td>-0.710003</td>\n",
              "      <td>-0.626795</td>\n",
              "      <td>1.000000</td>\n",
              "      <td>0.732120</td>\n",
              "      <td>-0.547898</td>\n",
              "      <td>-0.824009</td>\n",
              "      <td>0.759306</td>\n",
              "      <td>0.372721</td>\n",
              "      <td>0.780283</td>\n",
              "      <td>0.732484</td>\n",
              "      <td>0.867110</td>\n",
              "      <td>0.778464</td>\n",
              "      <td>0.471733</td>\n",
              "      <td>0.620915</td>\n",
              "      <td>0.845075</td>\n",
              "    </tr>\n",
              "    <tr>\n",
              "      <th>Horsepower</th>\n",
              "      <td>0.788218</td>\n",
              "      <td>-0.672636</td>\n",
              "      <td>-0.619044</td>\n",
              "      <td>0.732120</td>\n",
              "      <td>1.000000</td>\n",
              "      <td>0.036688</td>\n",
              "      <td>-0.600314</td>\n",
              "      <td>0.711790</td>\n",
              "      <td>0.009264</td>\n",
              "      <td>0.550865</td>\n",
              "      <td>0.486854</td>\n",
              "      <td>0.644413</td>\n",
              "      <td>0.561216</td>\n",
              "      <td>0.230654</td>\n",
              "      <td>0.331115</td>\n",
              "      <td>0.738798</td>\n",
              "    </tr>\n",
              "    <tr>\n",
              "      <th>RPM</th>\n",
              "      <td>-0.004955</td>\n",
              "      <td>0.363045</td>\n",
              "      <td>0.313469</td>\n",
              "      <td>-0.547898</td>\n",
              "      <td>0.036688</td>\n",
              "      <td>1.000000</td>\n",
              "      <td>0.494764</td>\n",
              "      <td>-0.333345</td>\n",
              "      <td>-0.467138</td>\n",
              "      <td>-0.441249</td>\n",
              "      <td>-0.467812</td>\n",
              "      <td>-0.539721</td>\n",
              "      <td>-0.505651</td>\n",
              "      <td>-0.335709</td>\n",
              "      <td>-0.484468</td>\n",
              "      <td>-0.427931</td>\n",
              "    </tr>\n",
              "    <tr>\n",
              "      <th>Rev.per.mile</th>\n",
              "      <td>-0.426395</td>\n",
              "      <td>0.695857</td>\n",
              "      <td>0.587497</td>\n",
              "      <td>-0.824009</td>\n",
              "      <td>-0.600314</td>\n",
              "      <td>0.494764</td>\n",
              "      <td>1.000000</td>\n",
              "      <td>-0.609710</td>\n",
              "      <td>-0.334976</td>\n",
              "      <td>-0.690233</td>\n",
              "      <td>-0.636824</td>\n",
              "      <td>-0.780460</td>\n",
              "      <td>-0.733160</td>\n",
              "      <td>-0.368190</td>\n",
              "      <td>-0.559548</td>\n",
              "      <td>-0.735264</td>\n",
              "    </tr>\n",
              "    <tr>\n",
              "      <th>Fuel.tank.capacity</th>\n",
              "      <td>0.619480</td>\n",
              "      <td>-0.813144</td>\n",
              "      <td>-0.786039</td>\n",
              "      <td>0.759306</td>\n",
              "      <td>0.711790</td>\n",
              "      <td>-0.333345</td>\n",
              "      <td>-0.609710</td>\n",
              "      <td>1.000000</td>\n",
              "      <td>0.472095</td>\n",
              "      <td>0.690461</td>\n",
              "      <td>0.757674</td>\n",
              "      <td>0.798719</td>\n",
              "      <td>0.671343</td>\n",
              "      <td>0.501265</td>\n",
              "      <td>0.534164</td>\n",
              "      <td>0.894018</td>\n",
              "    </tr>\n",
              "    <tr>\n",
              "      <th>Passengers</th>\n",
              "      <td>0.057860</td>\n",
              "      <td>-0.416856</td>\n",
              "      <td>-0.466386</td>\n",
              "      <td>0.372721</td>\n",
              "      <td>0.009264</td>\n",
              "      <td>-0.467138</td>\n",
              "      <td>-0.334976</td>\n",
              "      <td>0.472095</td>\n",
              "      <td>1.000000</td>\n",
              "      <td>0.485294</td>\n",
              "      <td>0.694054</td>\n",
              "      <td>0.489979</td>\n",
              "      <td>0.449025</td>\n",
              "      <td>0.629517</td>\n",
              "      <td>0.423096</td>\n",
              "      <td>0.553273</td>\n",
              "    </tr>\n",
              "    <tr>\n",
              "      <th>Length</th>\n",
              "      <td>0.503628</td>\n",
              "      <td>-0.666239</td>\n",
              "      <td>-0.542897</td>\n",
              "      <td>0.780283</td>\n",
              "      <td>0.550865</td>\n",
              "      <td>-0.441249</td>\n",
              "      <td>-0.690233</td>\n",
              "      <td>0.690461</td>\n",
              "      <td>0.485294</td>\n",
              "      <td>1.000000</td>\n",
              "      <td>0.823650</td>\n",
              "      <td>0.822148</td>\n",
              "      <td>0.738955</td>\n",
              "      <td>0.548276</td>\n",
              "      <td>0.699806</td>\n",
              "      <td>0.806274</td>\n",
              "    </tr>\n",
              "    <tr>\n",
              "      <th>Wheelbase</th>\n",
              "      <td>0.500864</td>\n",
              "      <td>-0.667108</td>\n",
              "      <td>-0.615384</td>\n",
              "      <td>0.732484</td>\n",
              "      <td>0.486854</td>\n",
              "      <td>-0.467812</td>\n",
              "      <td>-0.636824</td>\n",
              "      <td>0.757674</td>\n",
              "      <td>0.694054</td>\n",
              "      <td>0.823650</td>\n",
              "      <td>1.000000</td>\n",
              "      <td>0.807213</td>\n",
              "      <td>0.723324</td>\n",
              "      <td>0.659856</td>\n",
              "      <td>0.656924</td>\n",
              "      <td>0.871895</td>\n",
              "    </tr>\n",
              "    <tr>\n",
              "      <th>Width</th>\n",
              "      <td>0.456028</td>\n",
              "      <td>-0.720534</td>\n",
              "      <td>-0.640359</td>\n",
              "      <td>0.867110</td>\n",
              "      <td>0.644413</td>\n",
              "      <td>-0.539721</td>\n",
              "      <td>-0.780460</td>\n",
              "      <td>0.798719</td>\n",
              "      <td>0.489979</td>\n",
              "      <td>0.822148</td>\n",
              "      <td>0.807213</td>\n",
              "      <td>1.000000</td>\n",
              "      <td>0.817854</td>\n",
              "      <td>0.460330</td>\n",
              "      <td>0.622023</td>\n",
              "      <td>0.874961</td>\n",
              "    </tr>\n",
              "    <tr>\n",
              "      <th>Turn.circle</th>\n",
              "      <td>0.392590</td>\n",
              "      <td>-0.666389</td>\n",
              "      <td>-0.593683</td>\n",
              "      <td>0.778464</td>\n",
              "      <td>0.561216</td>\n",
              "      <td>-0.505651</td>\n",
              "      <td>-0.733160</td>\n",
              "      <td>0.671343</td>\n",
              "      <td>0.449025</td>\n",
              "      <td>0.738955</td>\n",
              "      <td>0.723324</td>\n",
              "      <td>0.817854</td>\n",
              "      <td>1.000000</td>\n",
              "      <td>0.460523</td>\n",
              "      <td>0.542541</td>\n",
              "      <td>0.778043</td>\n",
              "    </tr>\n",
              "    <tr>\n",
              "      <th>Rear.seat.room</th>\n",
              "      <td>0.297898</td>\n",
              "      <td>-0.378071</td>\n",
              "      <td>-0.362379</td>\n",
              "      <td>0.471733</td>\n",
              "      <td>0.230654</td>\n",
              "      <td>-0.335709</td>\n",
              "      <td>-0.368190</td>\n",
              "      <td>0.501265</td>\n",
              "      <td>0.629517</td>\n",
              "      <td>0.548276</td>\n",
              "      <td>0.659856</td>\n",
              "      <td>0.460330</td>\n",
              "      <td>0.460523</td>\n",
              "      <td>1.000000</td>\n",
              "      <td>0.591162</td>\n",
              "      <td>0.524878</td>\n",
              "    </tr>\n",
              "    <tr>\n",
              "      <th>Luggage.room</th>\n",
              "      <td>0.355827</td>\n",
              "      <td>-0.466621</td>\n",
              "      <td>-0.333507</td>\n",
              "      <td>0.620915</td>\n",
              "      <td>0.331115</td>\n",
              "      <td>-0.484468</td>\n",
              "      <td>-0.559548</td>\n",
              "      <td>0.534164</td>\n",
              "      <td>0.423096</td>\n",
              "      <td>0.699806</td>\n",
              "      <td>0.656924</td>\n",
              "      <td>0.622023</td>\n",
              "      <td>0.542541</td>\n",
              "      <td>0.591162</td>\n",
              "      <td>1.000000</td>\n",
              "      <td>0.578581</td>\n",
              "    </tr>\n",
              "    <tr>\n",
              "      <th>Weight</th>\n",
              "      <td>0.647179</td>\n",
              "      <td>-0.843139</td>\n",
              "      <td>-0.810658</td>\n",
              "      <td>0.845075</td>\n",
              "      <td>0.738798</td>\n",
              "      <td>-0.427931</td>\n",
              "      <td>-0.735264</td>\n",
              "      <td>0.894018</td>\n",
              "      <td>0.553273</td>\n",
              "      <td>0.806274</td>\n",
              "      <td>0.871895</td>\n",
              "      <td>0.874961</td>\n",
              "      <td>0.778043</td>\n",
              "      <td>0.524878</td>\n",
              "      <td>0.578581</td>\n",
              "      <td>1.000000</td>\n",
              "    </tr>\n",
              "  </tbody>\n",
              "</table>\n",
              "</div>\n",
              "      <button class=\"colab-df-convert\" onclick=\"convertToInteractive('df-d9fcab6f-4ae7-4a1f-a7c6-5ccefe0909a3')\"\n",
              "              title=\"Convert this dataframe to an interactive table.\"\n",
              "              style=\"display:none;\">\n",
              "        \n",
              "  <svg xmlns=\"http://www.w3.org/2000/svg\" height=\"24px\"viewBox=\"0 0 24 24\"\n",
              "       width=\"24px\">\n",
              "    <path d=\"M0 0h24v24H0V0z\" fill=\"none\"/>\n",
              "    <path d=\"M18.56 5.44l.94 2.06.94-2.06 2.06-.94-2.06-.94-.94-2.06-.94 2.06-2.06.94zm-11 1L8.5 8.5l.94-2.06 2.06-.94-2.06-.94L8.5 2.5l-.94 2.06-2.06.94zm10 10l.94 2.06.94-2.06 2.06-.94-2.06-.94-.94-2.06-.94 2.06-2.06.94z\"/><path d=\"M17.41 7.96l-1.37-1.37c-.4-.4-.92-.59-1.43-.59-.52 0-1.04.2-1.43.59L10.3 9.45l-7.72 7.72c-.78.78-.78 2.05 0 2.83L4 21.41c.39.39.9.59 1.41.59.51 0 1.02-.2 1.41-.59l7.78-7.78 2.81-2.81c.8-.78.8-2.07 0-2.86zM5.41 20L4 18.59l7.72-7.72 1.47 1.35L5.41 20z\"/>\n",
              "  </svg>\n",
              "      </button>\n",
              "      \n",
              "  <style>\n",
              "    .colab-df-container {\n",
              "      display:flex;\n",
              "      flex-wrap:wrap;\n",
              "      gap: 12px;\n",
              "    }\n",
              "\n",
              "    .colab-df-convert {\n",
              "      background-color: #E8F0FE;\n",
              "      border: none;\n",
              "      border-radius: 50%;\n",
              "      cursor: pointer;\n",
              "      display: none;\n",
              "      fill: #1967D2;\n",
              "      height: 32px;\n",
              "      padding: 0 0 0 0;\n",
              "      width: 32px;\n",
              "    }\n",
              "\n",
              "    .colab-df-convert:hover {\n",
              "      background-color: #E2EBFA;\n",
              "      box-shadow: 0px 1px 2px rgba(60, 64, 67, 0.3), 0px 1px 3px 1px rgba(60, 64, 67, 0.15);\n",
              "      fill: #174EA6;\n",
              "    }\n",
              "\n",
              "    [theme=dark] .colab-df-convert {\n",
              "      background-color: #3B4455;\n",
              "      fill: #D2E3FC;\n",
              "    }\n",
              "\n",
              "    [theme=dark] .colab-df-convert:hover {\n",
              "      background-color: #434B5C;\n",
              "      box-shadow: 0px 1px 3px 1px rgba(0, 0, 0, 0.15);\n",
              "      filter: drop-shadow(0px 1px 2px rgba(0, 0, 0, 0.3));\n",
              "      fill: #FFFFFF;\n",
              "    }\n",
              "  </style>\n",
              "\n",
              "      <script>\n",
              "        const buttonEl =\n",
              "          document.querySelector('#df-d9fcab6f-4ae7-4a1f-a7c6-5ccefe0909a3 button.colab-df-convert');\n",
              "        buttonEl.style.display =\n",
              "          google.colab.kernel.accessAllowed ? 'block' : 'none';\n",
              "\n",
              "        async function convertToInteractive(key) {\n",
              "          const element = document.querySelector('#df-d9fcab6f-4ae7-4a1f-a7c6-5ccefe0909a3');\n",
              "          const dataTable =\n",
              "            await google.colab.kernel.invokeFunction('convertToInteractive',\n",
              "                                                     [key], {});\n",
              "          if (!dataTable) return;\n",
              "\n",
              "          const docLinkHtml = 'Like what you see? Visit the ' +\n",
              "            '<a target=\"_blank\" href=https://colab.research.google.com/notebooks/data_table.ipynb>data table notebook</a>'\n",
              "            + ' to learn more about interactive tables.';\n",
              "          element.innerHTML = '';\n",
              "          dataTable['output_type'] = 'display_data';\n",
              "          await google.colab.output.renderOutput(dataTable, element);\n",
              "          const docLink = document.createElement('div');\n",
              "          docLink.innerHTML = docLinkHtml;\n",
              "          element.appendChild(docLink);\n",
              "        }\n",
              "      </script>\n",
              "    </div>\n",
              "  </div>\n",
              "  "
            ]
          },
          "metadata": {},
          "execution_count": 23
        }
      ]
    },
    {
      "cell_type": "code",
      "source": [
        "X_final = pd.concat([df_num, dummy_var], axis=1)\n",
        "\n",
        "# display first five observations\n",
        "X_final.shape"
      ],
      "metadata": {
        "colab": {
          "base_uri": "https://localhost:8080/"
        },
        "id": "eUQKYER0jGzA",
        "outputId": "fab6b3e5-b120-42d1-84bf-24e552680c00"
      },
      "execution_count": null,
      "outputs": [
        {
          "output_type": "execute_result",
          "data": {
            "text/plain": [
              "(93, 36)"
            ]
          },
          "metadata": {},
          "execution_count": 15
        }
      ]
    },
    {
      "cell_type": "code",
      "source": [
        "X_final.head()"
      ],
      "metadata": {
        "colab": {
          "base_uri": "https://localhost:8080/",
          "height": 317
        },
        "id": "gbNKx15c52NR",
        "outputId": "9829ce17-43f7-4f92-e8b3-d1f8d8bb9f33"
      },
      "execution_count": null,
      "outputs": [
        {
          "output_type": "execute_result",
          "data": {
            "text/plain": [
              "   Price  MPG.city  MPG.highway  EngineSize  Horsepower   RPM  Rev.per.mile  \\\n",
              "1   15.9        25           31         1.8         140  6300          2890   \n",
              "2   33.9        18           25         3.2         200  5500          2335   \n",
              "3   29.1        20           26         2.8         172  5500          2280   \n",
              "4   37.7        19           26         2.8         172  5500          2535   \n",
              "5   30.0        22           30         3.5         208  5700          2545   \n",
              "\n",
              "   Fuel.tank.capacity  Length  Wheelbase  ...  Cylinders_6  Cylinders_8  \\\n",
              "1                13.2     177        102  ...            0            0   \n",
              "2                18.0     195        115  ...            1            0   \n",
              "3                16.9     180        102  ...            1            0   \n",
              "4                21.1     193        106  ...            1            0   \n",
              "5                21.1     186        109  ...            0            0   \n",
              "\n",
              "   Cylinders_rotary  Man.trans.avail_Yes  Passengers_4  Passengers_5  \\\n",
              "1                 0                    1             0             1   \n",
              "2                 0                    1             0             1   \n",
              "3                 0                    1             0             1   \n",
              "4                 0                    1             0             0   \n",
              "5                 0                    1             1             0   \n",
              "\n",
              "   Passengers_6  Passengers_7  Passengers_8  Origin_non-USA  \n",
              "1             0             0             0               1  \n",
              "2             0             0             0               1  \n",
              "3             0             0             0               1  \n",
              "4             1             0             0               1  \n",
              "5             0             0             0               1  \n",
              "\n",
              "[5 rows x 36 columns]"
            ],
            "text/html": [
              "\n",
              "  <div id=\"df-e0dbe16c-e9f8-43ea-966c-f8bc657635a7\">\n",
              "    <div class=\"colab-df-container\">\n",
              "      <div>\n",
              "<style scoped>\n",
              "    .dataframe tbody tr th:only-of-type {\n",
              "        vertical-align: middle;\n",
              "    }\n",
              "\n",
              "    .dataframe tbody tr th {\n",
              "        vertical-align: top;\n",
              "    }\n",
              "\n",
              "    .dataframe thead th {\n",
              "        text-align: right;\n",
              "    }\n",
              "</style>\n",
              "<table border=\"1\" class=\"dataframe\">\n",
              "  <thead>\n",
              "    <tr style=\"text-align: right;\">\n",
              "      <th></th>\n",
              "      <th>Price</th>\n",
              "      <th>MPG.city</th>\n",
              "      <th>MPG.highway</th>\n",
              "      <th>EngineSize</th>\n",
              "      <th>Horsepower</th>\n",
              "      <th>RPM</th>\n",
              "      <th>Rev.per.mile</th>\n",
              "      <th>Fuel.tank.capacity</th>\n",
              "      <th>Length</th>\n",
              "      <th>Wheelbase</th>\n",
              "      <th>...</th>\n",
              "      <th>Cylinders_6</th>\n",
              "      <th>Cylinders_8</th>\n",
              "      <th>Cylinders_rotary</th>\n",
              "      <th>Man.trans.avail_Yes</th>\n",
              "      <th>Passengers_4</th>\n",
              "      <th>Passengers_5</th>\n",
              "      <th>Passengers_6</th>\n",
              "      <th>Passengers_7</th>\n",
              "      <th>Passengers_8</th>\n",
              "      <th>Origin_non-USA</th>\n",
              "    </tr>\n",
              "  </thead>\n",
              "  <tbody>\n",
              "    <tr>\n",
              "      <th>1</th>\n",
              "      <td>15.9</td>\n",
              "      <td>25</td>\n",
              "      <td>31</td>\n",
              "      <td>1.8</td>\n",
              "      <td>140</td>\n",
              "      <td>6300</td>\n",
              "      <td>2890</td>\n",
              "      <td>13.2</td>\n",
              "      <td>177</td>\n",
              "      <td>102</td>\n",
              "      <td>...</td>\n",
              "      <td>0</td>\n",
              "      <td>0</td>\n",
              "      <td>0</td>\n",
              "      <td>1</td>\n",
              "      <td>0</td>\n",
              "      <td>1</td>\n",
              "      <td>0</td>\n",
              "      <td>0</td>\n",
              "      <td>0</td>\n",
              "      <td>1</td>\n",
              "    </tr>\n",
              "    <tr>\n",
              "      <th>2</th>\n",
              "      <td>33.9</td>\n",
              "      <td>18</td>\n",
              "      <td>25</td>\n",
              "      <td>3.2</td>\n",
              "      <td>200</td>\n",
              "      <td>5500</td>\n",
              "      <td>2335</td>\n",
              "      <td>18.0</td>\n",
              "      <td>195</td>\n",
              "      <td>115</td>\n",
              "      <td>...</td>\n",
              "      <td>1</td>\n",
              "      <td>0</td>\n",
              "      <td>0</td>\n",
              "      <td>1</td>\n",
              "      <td>0</td>\n",
              "      <td>1</td>\n",
              "      <td>0</td>\n",
              "      <td>0</td>\n",
              "      <td>0</td>\n",
              "      <td>1</td>\n",
              "    </tr>\n",
              "    <tr>\n",
              "      <th>3</th>\n",
              "      <td>29.1</td>\n",
              "      <td>20</td>\n",
              "      <td>26</td>\n",
              "      <td>2.8</td>\n",
              "      <td>172</td>\n",
              "      <td>5500</td>\n",
              "      <td>2280</td>\n",
              "      <td>16.9</td>\n",
              "      <td>180</td>\n",
              "      <td>102</td>\n",
              "      <td>...</td>\n",
              "      <td>1</td>\n",
              "      <td>0</td>\n",
              "      <td>0</td>\n",
              "      <td>1</td>\n",
              "      <td>0</td>\n",
              "      <td>1</td>\n",
              "      <td>0</td>\n",
              "      <td>0</td>\n",
              "      <td>0</td>\n",
              "      <td>1</td>\n",
              "    </tr>\n",
              "    <tr>\n",
              "      <th>4</th>\n",
              "      <td>37.7</td>\n",
              "      <td>19</td>\n",
              "      <td>26</td>\n",
              "      <td>2.8</td>\n",
              "      <td>172</td>\n",
              "      <td>5500</td>\n",
              "      <td>2535</td>\n",
              "      <td>21.1</td>\n",
              "      <td>193</td>\n",
              "      <td>106</td>\n",
              "      <td>...</td>\n",
              "      <td>1</td>\n",
              "      <td>0</td>\n",
              "      <td>0</td>\n",
              "      <td>1</td>\n",
              "      <td>0</td>\n",
              "      <td>0</td>\n",
              "      <td>1</td>\n",
              "      <td>0</td>\n",
              "      <td>0</td>\n",
              "      <td>1</td>\n",
              "    </tr>\n",
              "    <tr>\n",
              "      <th>5</th>\n",
              "      <td>30.0</td>\n",
              "      <td>22</td>\n",
              "      <td>30</td>\n",
              "      <td>3.5</td>\n",
              "      <td>208</td>\n",
              "      <td>5700</td>\n",
              "      <td>2545</td>\n",
              "      <td>21.1</td>\n",
              "      <td>186</td>\n",
              "      <td>109</td>\n",
              "      <td>...</td>\n",
              "      <td>0</td>\n",
              "      <td>0</td>\n",
              "      <td>0</td>\n",
              "      <td>1</td>\n",
              "      <td>1</td>\n",
              "      <td>0</td>\n",
              "      <td>0</td>\n",
              "      <td>0</td>\n",
              "      <td>0</td>\n",
              "      <td>1</td>\n",
              "    </tr>\n",
              "  </tbody>\n",
              "</table>\n",
              "<p>5 rows × 36 columns</p>\n",
              "</div>\n",
              "      <button class=\"colab-df-convert\" onclick=\"convertToInteractive('df-e0dbe16c-e9f8-43ea-966c-f8bc657635a7')\"\n",
              "              title=\"Convert this dataframe to an interactive table.\"\n",
              "              style=\"display:none;\">\n",
              "        \n",
              "  <svg xmlns=\"http://www.w3.org/2000/svg\" height=\"24px\"viewBox=\"0 0 24 24\"\n",
              "       width=\"24px\">\n",
              "    <path d=\"M0 0h24v24H0V0z\" fill=\"none\"/>\n",
              "    <path d=\"M18.56 5.44l.94 2.06.94-2.06 2.06-.94-2.06-.94-.94-2.06-.94 2.06-2.06.94zm-11 1L8.5 8.5l.94-2.06 2.06-.94-2.06-.94L8.5 2.5l-.94 2.06-2.06.94zm10 10l.94 2.06.94-2.06 2.06-.94-2.06-.94-.94-2.06-.94 2.06-2.06.94z\"/><path d=\"M17.41 7.96l-1.37-1.37c-.4-.4-.92-.59-1.43-.59-.52 0-1.04.2-1.43.59L10.3 9.45l-7.72 7.72c-.78.78-.78 2.05 0 2.83L4 21.41c.39.39.9.59 1.41.59.51 0 1.02-.2 1.41-.59l7.78-7.78 2.81-2.81c.8-.78.8-2.07 0-2.86zM5.41 20L4 18.59l7.72-7.72 1.47 1.35L5.41 20z\"/>\n",
              "  </svg>\n",
              "      </button>\n",
              "      \n",
              "  <style>\n",
              "    .colab-df-container {\n",
              "      display:flex;\n",
              "      flex-wrap:wrap;\n",
              "      gap: 12px;\n",
              "    }\n",
              "\n",
              "    .colab-df-convert {\n",
              "      background-color: #E8F0FE;\n",
              "      border: none;\n",
              "      border-radius: 50%;\n",
              "      cursor: pointer;\n",
              "      display: none;\n",
              "      fill: #1967D2;\n",
              "      height: 32px;\n",
              "      padding: 0 0 0 0;\n",
              "      width: 32px;\n",
              "    }\n",
              "\n",
              "    .colab-df-convert:hover {\n",
              "      background-color: #E2EBFA;\n",
              "      box-shadow: 0px 1px 2px rgba(60, 64, 67, 0.3), 0px 1px 3px 1px rgba(60, 64, 67, 0.15);\n",
              "      fill: #174EA6;\n",
              "    }\n",
              "\n",
              "    [theme=dark] .colab-df-convert {\n",
              "      background-color: #3B4455;\n",
              "      fill: #D2E3FC;\n",
              "    }\n",
              "\n",
              "    [theme=dark] .colab-df-convert:hover {\n",
              "      background-color: #434B5C;\n",
              "      box-shadow: 0px 1px 3px 1px rgba(0, 0, 0, 0.15);\n",
              "      filter: drop-shadow(0px 1px 2px rgba(0, 0, 0, 0.3));\n",
              "      fill: #FFFFFF;\n",
              "    }\n",
              "  </style>\n",
              "\n",
              "      <script>\n",
              "        const buttonEl =\n",
              "          document.querySelector('#df-e0dbe16c-e9f8-43ea-966c-f8bc657635a7 button.colab-df-convert');\n",
              "        buttonEl.style.display =\n",
              "          google.colab.kernel.accessAllowed ? 'block' : 'none';\n",
              "\n",
              "        async function convertToInteractive(key) {\n",
              "          const element = document.querySelector('#df-e0dbe16c-e9f8-43ea-966c-f8bc657635a7');\n",
              "          const dataTable =\n",
              "            await google.colab.kernel.invokeFunction('convertToInteractive',\n",
              "                                                     [key], {});\n",
              "          if (!dataTable) return;\n",
              "\n",
              "          const docLinkHtml = 'Like what you see? Visit the ' +\n",
              "            '<a target=\"_blank\" href=https://colab.research.google.com/notebooks/data_table.ipynb>data table notebook</a>'\n",
              "            + ' to learn more about interactive tables.';\n",
              "          element.innerHTML = '';\n",
              "          dataTable['output_type'] = 'display_data';\n",
              "          await google.colab.output.renderOutput(dataTable, element);\n",
              "          const docLink = document.createElement('div');\n",
              "          docLink.innerHTML = docLinkHtml;\n",
              "          element.appendChild(docLink);\n",
              "        }\n",
              "      </script>\n",
              "    </div>\n",
              "  </div>\n",
              "  "
            ]
          },
          "metadata": {},
          "execution_count": 17
        }
      ]
    },
    {
      "cell_type": "code",
      "source": [
        "Y=B['Price']\n",
        "Y.shape"
      ],
      "metadata": {
        "colab": {
          "base_uri": "https://localhost:8080/"
        },
        "id": "r31NtbEvjjbX",
        "outputId": "15ab87a9-a2fe-4561-b690-0bbf7fd88aec"
      },
      "execution_count": null,
      "outputs": [
        {
          "output_type": "execute_result",
          "data": {
            "text/plain": [
              "(93,)"
            ]
          },
          "metadata": {},
          "execution_count": 18
        }
      ]
    },
    {
      "cell_type": "code",
      "source": [
        "X_final=X_final.drop('Price',axis=1)"
      ],
      "metadata": {
        "id": "afTpEWgrkCxc"
      },
      "execution_count": null,
      "outputs": []
    },
    {
      "cell_type": "code",
      "source": [
        "X_final.head()"
      ],
      "metadata": {
        "colab": {
          "base_uri": "https://localhost:8080/",
          "height": 317
        },
        "id": "wFl29mlzBNCE",
        "outputId": "0bab5bc7-3a81-4e62-ef4b-fbfcc72d9a1d"
      },
      "execution_count": null,
      "outputs": [
        {
          "output_type": "execute_result",
          "data": {
            "text/plain": [
              "   MPG.city  MPG.highway  EngineSize  Horsepower   RPM  Rev.per.mile  \\\n",
              "1        25           31         1.8         140  6300          2890   \n",
              "2        18           25         3.2         200  5500          2335   \n",
              "3        20           26         2.8         172  5500          2280   \n",
              "4        19           26         2.8         172  5500          2535   \n",
              "5        22           30         3.5         208  5700          2545   \n",
              "\n",
              "   Fuel.tank.capacity  Length  Wheelbase  Width  ...  Cylinders_6  \\\n",
              "1                13.2     177        102     68  ...            0   \n",
              "2                18.0     195        115     71  ...            1   \n",
              "3                16.9     180        102     67  ...            1   \n",
              "4                21.1     193        106     70  ...            1   \n",
              "5                21.1     186        109     69  ...            0   \n",
              "\n",
              "   Cylinders_8  Cylinders_rotary  Man.trans.avail_Yes  Passengers_4  \\\n",
              "1            0                 0                    1             0   \n",
              "2            0                 0                    1             0   \n",
              "3            0                 0                    1             0   \n",
              "4            0                 0                    1             0   \n",
              "5            0                 0                    1             1   \n",
              "\n",
              "   Passengers_5  Passengers_6  Passengers_7  Passengers_8  Origin_non-USA  \n",
              "1             1             0             0             0               1  \n",
              "2             1             0             0             0               1  \n",
              "3             1             0             0             0               1  \n",
              "4             0             1             0             0               1  \n",
              "5             0             0             0             0               1  \n",
              "\n",
              "[5 rows x 35 columns]"
            ],
            "text/html": [
              "\n",
              "  <div id=\"df-474e42d3-1f83-459e-8002-2ea46adc7f51\">\n",
              "    <div class=\"colab-df-container\">\n",
              "      <div>\n",
              "<style scoped>\n",
              "    .dataframe tbody tr th:only-of-type {\n",
              "        vertical-align: middle;\n",
              "    }\n",
              "\n",
              "    .dataframe tbody tr th {\n",
              "        vertical-align: top;\n",
              "    }\n",
              "\n",
              "    .dataframe thead th {\n",
              "        text-align: right;\n",
              "    }\n",
              "</style>\n",
              "<table border=\"1\" class=\"dataframe\">\n",
              "  <thead>\n",
              "    <tr style=\"text-align: right;\">\n",
              "      <th></th>\n",
              "      <th>MPG.city</th>\n",
              "      <th>MPG.highway</th>\n",
              "      <th>EngineSize</th>\n",
              "      <th>Horsepower</th>\n",
              "      <th>RPM</th>\n",
              "      <th>Rev.per.mile</th>\n",
              "      <th>Fuel.tank.capacity</th>\n",
              "      <th>Length</th>\n",
              "      <th>Wheelbase</th>\n",
              "      <th>Width</th>\n",
              "      <th>...</th>\n",
              "      <th>Cylinders_6</th>\n",
              "      <th>Cylinders_8</th>\n",
              "      <th>Cylinders_rotary</th>\n",
              "      <th>Man.trans.avail_Yes</th>\n",
              "      <th>Passengers_4</th>\n",
              "      <th>Passengers_5</th>\n",
              "      <th>Passengers_6</th>\n",
              "      <th>Passengers_7</th>\n",
              "      <th>Passengers_8</th>\n",
              "      <th>Origin_non-USA</th>\n",
              "    </tr>\n",
              "  </thead>\n",
              "  <tbody>\n",
              "    <tr>\n",
              "      <th>1</th>\n",
              "      <td>25</td>\n",
              "      <td>31</td>\n",
              "      <td>1.8</td>\n",
              "      <td>140</td>\n",
              "      <td>6300</td>\n",
              "      <td>2890</td>\n",
              "      <td>13.2</td>\n",
              "      <td>177</td>\n",
              "      <td>102</td>\n",
              "      <td>68</td>\n",
              "      <td>...</td>\n",
              "      <td>0</td>\n",
              "      <td>0</td>\n",
              "      <td>0</td>\n",
              "      <td>1</td>\n",
              "      <td>0</td>\n",
              "      <td>1</td>\n",
              "      <td>0</td>\n",
              "      <td>0</td>\n",
              "      <td>0</td>\n",
              "      <td>1</td>\n",
              "    </tr>\n",
              "    <tr>\n",
              "      <th>2</th>\n",
              "      <td>18</td>\n",
              "      <td>25</td>\n",
              "      <td>3.2</td>\n",
              "      <td>200</td>\n",
              "      <td>5500</td>\n",
              "      <td>2335</td>\n",
              "      <td>18.0</td>\n",
              "      <td>195</td>\n",
              "      <td>115</td>\n",
              "      <td>71</td>\n",
              "      <td>...</td>\n",
              "      <td>1</td>\n",
              "      <td>0</td>\n",
              "      <td>0</td>\n",
              "      <td>1</td>\n",
              "      <td>0</td>\n",
              "      <td>1</td>\n",
              "      <td>0</td>\n",
              "      <td>0</td>\n",
              "      <td>0</td>\n",
              "      <td>1</td>\n",
              "    </tr>\n",
              "    <tr>\n",
              "      <th>3</th>\n",
              "      <td>20</td>\n",
              "      <td>26</td>\n",
              "      <td>2.8</td>\n",
              "      <td>172</td>\n",
              "      <td>5500</td>\n",
              "      <td>2280</td>\n",
              "      <td>16.9</td>\n",
              "      <td>180</td>\n",
              "      <td>102</td>\n",
              "      <td>67</td>\n",
              "      <td>...</td>\n",
              "      <td>1</td>\n",
              "      <td>0</td>\n",
              "      <td>0</td>\n",
              "      <td>1</td>\n",
              "      <td>0</td>\n",
              "      <td>1</td>\n",
              "      <td>0</td>\n",
              "      <td>0</td>\n",
              "      <td>0</td>\n",
              "      <td>1</td>\n",
              "    </tr>\n",
              "    <tr>\n",
              "      <th>4</th>\n",
              "      <td>19</td>\n",
              "      <td>26</td>\n",
              "      <td>2.8</td>\n",
              "      <td>172</td>\n",
              "      <td>5500</td>\n",
              "      <td>2535</td>\n",
              "      <td>21.1</td>\n",
              "      <td>193</td>\n",
              "      <td>106</td>\n",
              "      <td>70</td>\n",
              "      <td>...</td>\n",
              "      <td>1</td>\n",
              "      <td>0</td>\n",
              "      <td>0</td>\n",
              "      <td>1</td>\n",
              "      <td>0</td>\n",
              "      <td>0</td>\n",
              "      <td>1</td>\n",
              "      <td>0</td>\n",
              "      <td>0</td>\n",
              "      <td>1</td>\n",
              "    </tr>\n",
              "    <tr>\n",
              "      <th>5</th>\n",
              "      <td>22</td>\n",
              "      <td>30</td>\n",
              "      <td>3.5</td>\n",
              "      <td>208</td>\n",
              "      <td>5700</td>\n",
              "      <td>2545</td>\n",
              "      <td>21.1</td>\n",
              "      <td>186</td>\n",
              "      <td>109</td>\n",
              "      <td>69</td>\n",
              "      <td>...</td>\n",
              "      <td>0</td>\n",
              "      <td>0</td>\n",
              "      <td>0</td>\n",
              "      <td>1</td>\n",
              "      <td>1</td>\n",
              "      <td>0</td>\n",
              "      <td>0</td>\n",
              "      <td>0</td>\n",
              "      <td>0</td>\n",
              "      <td>1</td>\n",
              "    </tr>\n",
              "  </tbody>\n",
              "</table>\n",
              "<p>5 rows × 35 columns</p>\n",
              "</div>\n",
              "      <button class=\"colab-df-convert\" onclick=\"convertToInteractive('df-474e42d3-1f83-459e-8002-2ea46adc7f51')\"\n",
              "              title=\"Convert this dataframe to an interactive table.\"\n",
              "              style=\"display:none;\">\n",
              "        \n",
              "  <svg xmlns=\"http://www.w3.org/2000/svg\" height=\"24px\"viewBox=\"0 0 24 24\"\n",
              "       width=\"24px\">\n",
              "    <path d=\"M0 0h24v24H0V0z\" fill=\"none\"/>\n",
              "    <path d=\"M18.56 5.44l.94 2.06.94-2.06 2.06-.94-2.06-.94-.94-2.06-.94 2.06-2.06.94zm-11 1L8.5 8.5l.94-2.06 2.06-.94-2.06-.94L8.5 2.5l-.94 2.06-2.06.94zm10 10l.94 2.06.94-2.06 2.06-.94-2.06-.94-.94-2.06-.94 2.06-2.06.94z\"/><path d=\"M17.41 7.96l-1.37-1.37c-.4-.4-.92-.59-1.43-.59-.52 0-1.04.2-1.43.59L10.3 9.45l-7.72 7.72c-.78.78-.78 2.05 0 2.83L4 21.41c.39.39.9.59 1.41.59.51 0 1.02-.2 1.41-.59l7.78-7.78 2.81-2.81c.8-.78.8-2.07 0-2.86zM5.41 20L4 18.59l7.72-7.72 1.47 1.35L5.41 20z\"/>\n",
              "  </svg>\n",
              "      </button>\n",
              "      \n",
              "  <style>\n",
              "    .colab-df-container {\n",
              "      display:flex;\n",
              "      flex-wrap:wrap;\n",
              "      gap: 12px;\n",
              "    }\n",
              "\n",
              "    .colab-df-convert {\n",
              "      background-color: #E8F0FE;\n",
              "      border: none;\n",
              "      border-radius: 50%;\n",
              "      cursor: pointer;\n",
              "      display: none;\n",
              "      fill: #1967D2;\n",
              "      height: 32px;\n",
              "      padding: 0 0 0 0;\n",
              "      width: 32px;\n",
              "    }\n",
              "\n",
              "    .colab-df-convert:hover {\n",
              "      background-color: #E2EBFA;\n",
              "      box-shadow: 0px 1px 2px rgba(60, 64, 67, 0.3), 0px 1px 3px 1px rgba(60, 64, 67, 0.15);\n",
              "      fill: #174EA6;\n",
              "    }\n",
              "\n",
              "    [theme=dark] .colab-df-convert {\n",
              "      background-color: #3B4455;\n",
              "      fill: #D2E3FC;\n",
              "    }\n",
              "\n",
              "    [theme=dark] .colab-df-convert:hover {\n",
              "      background-color: #434B5C;\n",
              "      box-shadow: 0px 1px 3px 1px rgba(0, 0, 0, 0.15);\n",
              "      filter: drop-shadow(0px 1px 2px rgba(0, 0, 0, 0.3));\n",
              "      fill: #FFFFFF;\n",
              "    }\n",
              "  </style>\n",
              "\n",
              "      <script>\n",
              "        const buttonEl =\n",
              "          document.querySelector('#df-474e42d3-1f83-459e-8002-2ea46adc7f51 button.colab-df-convert');\n",
              "        buttonEl.style.display =\n",
              "          google.colab.kernel.accessAllowed ? 'block' : 'none';\n",
              "\n",
              "        async function convertToInteractive(key) {\n",
              "          const element = document.querySelector('#df-474e42d3-1f83-459e-8002-2ea46adc7f51');\n",
              "          const dataTable =\n",
              "            await google.colab.kernel.invokeFunction('convertToInteractive',\n",
              "                                                     [key], {});\n",
              "          if (!dataTable) return;\n",
              "\n",
              "          const docLinkHtml = 'Like what you see? Visit the ' +\n",
              "            '<a target=\"_blank\" href=https://colab.research.google.com/notebooks/data_table.ipynb>data table notebook</a>'\n",
              "            + ' to learn more about interactive tables.';\n",
              "          element.innerHTML = '';\n",
              "          dataTable['output_type'] = 'display_data';\n",
              "          await google.colab.output.renderOutput(dataTable, element);\n",
              "          const docLink = document.createElement('div');\n",
              "          docLink.innerHTML = docLinkHtml;\n",
              "          element.appendChild(docLink);\n",
              "        }\n",
              "      </script>\n",
              "    </div>\n",
              "  </div>\n",
              "  "
            ]
          },
          "metadata": {},
          "execution_count": 20
        }
      ]
    },
    {
      "cell_type": "code",
      "source": [
        "Xc = sm.add_constant(X_final)\n",
        "model = sm.OLS(Y,Xc).fit()\n",
        "model.summary()    "
      ],
      "metadata": {
        "colab": {
          "base_uri": "https://localhost:8080/",
          "height": 1000
        },
        "id": "a_f95_2Y9vuz",
        "outputId": "55ddb482-0859-4ad7-c761-2b75ef21aba9"
      },
      "execution_count": null,
      "outputs": [
        {
          "output_type": "stream",
          "name": "stderr",
          "text": [
            "/usr/local/lib/python3.7/dist-packages/statsmodels/tsa/tsatools.py:142: FutureWarning: In a future version of pandas all arguments of concat except for the argument 'objs' will be keyword-only\n",
            "  x = pd.concat(x[::order], 1)\n"
          ]
        },
        {
          "output_type": "execute_result",
          "data": {
            "text/plain": [
              "<class 'statsmodels.iolib.summary.Summary'>\n",
              "\"\"\"\n",
              "                            OLS Regression Results                            \n",
              "==============================================================================\n",
              "Dep. Variable:                  Price   R-squared:                       0.855\n",
              "Model:                            OLS   Adj. R-squared:                  0.770\n",
              "Method:                 Least Squares   F-statistic:                     10.06\n",
              "Date:                Sat, 29 Oct 2022   Prob (F-statistic):           2.77e-14\n",
              "Time:                        10:15:44   Log-Likelihood:                -252.59\n",
              "No. Observations:                  93   AIC:                             575.2\n",
              "Df Residuals:                      58   BIC:                             663.8\n",
              "Df Model:                          34                                         \n",
              "Covariance Type:            nonrobust                                         \n",
              "=======================================================================================\n",
              "                          coef    std err          t      P>|t|      [0.025      0.975]\n",
              "---------------------------------------------------------------------------------------\n",
              "const                 110.8270     35.770      3.098      0.003      39.226     182.428\n",
              "MPG.city               -0.3244      0.432     -0.750      0.456      -1.190       0.541\n",
              "MPG.highway             0.1691      0.398      0.425      0.672      -0.627       0.965\n",
              "EngineSize             -1.6774      2.828     -0.593      0.555      -7.337       3.983\n",
              "Horsepower              0.1388      0.045      3.088      0.003       0.049       0.229\n",
              "RPM                    -0.0026      0.002     -1.169      0.247      -0.007       0.002\n",
              "Rev.per.mile            0.0017      0.002      0.771      0.444      -0.003       0.006\n",
              "Fuel.tank.capacity      0.4672      0.540      0.865      0.391      -0.614       1.549\n",
              "Length                  0.0485      0.110      0.443      0.660      -0.171       0.268\n",
              "Wheelbase               0.3850      0.274      1.407      0.165      -0.163       0.933\n",
              "Width                  -1.9087      0.544     -3.511      0.001      -2.997      -0.820\n",
              "Turn.circle            -0.6224      0.365     -1.703      0.094      -1.354       0.109\n",
              "Rear.seat.room          0.3343      0.359      0.932      0.355      -0.384       1.053\n",
              "Luggage.room            0.2737      0.339      0.808      0.423      -0.405       0.952\n",
              "Weight                 -0.0013      0.006     -0.237      0.813      -0.013       0.010\n",
              "Type_Large              1.5368      4.227      0.364      0.718      -6.925       9.999\n",
              "Type_Midsize            3.9322      2.457      1.601      0.115      -0.986       8.850\n",
              "Type_Small              1.1903      2.657      0.448      0.656      -4.129       6.509\n",
              "Type_Sporty             6.5059      3.371      1.930      0.059      -0.242      13.254\n",
              "Type_Van                3.6835      7.196      0.512      0.611     -10.722      18.089\n",
              "AirBags_Driver only    -3.7364      1.897     -1.970      0.054      -7.533       0.060\n",
              "AirBags_None           -8.3008      2.181     -3.806      0.000     -12.666      -3.936\n",
              "DriveTrain_Front        2.2805      2.297      0.993      0.325      -2.318       6.879\n",
              "DriveTrain_Rear         7.2573      2.915      2.490      0.016       1.423      13.092\n",
              "Cylinders_4            -2.1621      4.446     -0.486      0.629     -11.061       6.737\n",
              "Cylinders_5            -3.5966      6.722     -0.535      0.595     -17.052       9.859\n",
              "Cylinders_6             0.8184      5.614      0.146      0.885     -10.419      12.056\n",
              "Cylinders_8             3.4500      6.832      0.505      0.616     -10.226      17.126\n",
              "Cylinders_rotary      -15.0831     12.735     -1.184      0.241     -40.576      10.410\n",
              "Man.trans.avail_Yes    -1.9656      2.167     -0.907      0.368      -6.303       2.372\n",
              "Passengers_4           -5.4956      7.065     -0.778      0.440     -19.638       8.646\n",
              "Passengers_5           -2.3710      7.490     -0.317      0.753     -17.363      12.621\n",
              "Passengers_6           -2.3840      8.221     -0.290      0.773     -18.840      14.072\n",
              "Passengers_7            0.3024      4.116      0.073      0.942      -7.936       8.541\n",
              "Passengers_8            3.3811      5.639      0.600      0.551      -7.907      14.670\n",
              "Origin_non-USA          0.8789      1.641      0.536      0.594      -2.406       4.164\n",
              "==============================================================================\n",
              "Omnibus:                       13.833   Durbin-Watson:                   1.771\n",
              "Prob(Omnibus):                  0.001   Jarque-Bera (JB):               21.576\n",
              "Skew:                           0.628   Prob(JB):                     2.06e-05\n",
              "Kurtosis:                       4.997   Cond. No.                     1.00e+16\n",
              "==============================================================================\n",
              "\n",
              "Notes:\n",
              "[1] Standard Errors assume that the covariance matrix of the errors is correctly specified.\n",
              "[2] The smallest eigenvalue is 3.98e-23. This might indicate that there are\n",
              "strong multicollinearity problems or that the design matrix is singular.\n",
              "\"\"\""
            ],
            "text/html": [
              "<table class=\"simpletable\">\n",
              "<caption>OLS Regression Results</caption>\n",
              "<tr>\n",
              "  <th>Dep. Variable:</th>          <td>Price</td>      <th>  R-squared:         </th> <td>   0.855</td>\n",
              "</tr>\n",
              "<tr>\n",
              "  <th>Model:</th>                   <td>OLS</td>       <th>  Adj. R-squared:    </th> <td>   0.770</td>\n",
              "</tr>\n",
              "<tr>\n",
              "  <th>Method:</th>             <td>Least Squares</td>  <th>  F-statistic:       </th> <td>   10.06</td>\n",
              "</tr>\n",
              "<tr>\n",
              "  <th>Date:</th>             <td>Sat, 29 Oct 2022</td> <th>  Prob (F-statistic):</th> <td>2.77e-14</td>\n",
              "</tr>\n",
              "<tr>\n",
              "  <th>Time:</th>                 <td>10:15:44</td>     <th>  Log-Likelihood:    </th> <td> -252.59</td>\n",
              "</tr>\n",
              "<tr>\n",
              "  <th>No. Observations:</th>      <td>    93</td>      <th>  AIC:               </th> <td>   575.2</td>\n",
              "</tr>\n",
              "<tr>\n",
              "  <th>Df Residuals:</th>          <td>    58</td>      <th>  BIC:               </th> <td>   663.8</td>\n",
              "</tr>\n",
              "<tr>\n",
              "  <th>Df Model:</th>              <td>    34</td>      <th>                     </th>     <td> </td>   \n",
              "</tr>\n",
              "<tr>\n",
              "  <th>Covariance Type:</th>      <td>nonrobust</td>    <th>                     </th>     <td> </td>   \n",
              "</tr>\n",
              "</table>\n",
              "<table class=\"simpletable\">\n",
              "<tr>\n",
              "           <td></td>              <th>coef</th>     <th>std err</th>      <th>t</th>      <th>P>|t|</th>  <th>[0.025</th>    <th>0.975]</th>  \n",
              "</tr>\n",
              "<tr>\n",
              "  <th>const</th>               <td>  110.8270</td> <td>   35.770</td> <td>    3.098</td> <td> 0.003</td> <td>   39.226</td> <td>  182.428</td>\n",
              "</tr>\n",
              "<tr>\n",
              "  <th>MPG.city</th>            <td>   -0.3244</td> <td>    0.432</td> <td>   -0.750</td> <td> 0.456</td> <td>   -1.190</td> <td>    0.541</td>\n",
              "</tr>\n",
              "<tr>\n",
              "  <th>MPG.highway</th>         <td>    0.1691</td> <td>    0.398</td> <td>    0.425</td> <td> 0.672</td> <td>   -0.627</td> <td>    0.965</td>\n",
              "</tr>\n",
              "<tr>\n",
              "  <th>EngineSize</th>          <td>   -1.6774</td> <td>    2.828</td> <td>   -0.593</td> <td> 0.555</td> <td>   -7.337</td> <td>    3.983</td>\n",
              "</tr>\n",
              "<tr>\n",
              "  <th>Horsepower</th>          <td>    0.1388</td> <td>    0.045</td> <td>    3.088</td> <td> 0.003</td> <td>    0.049</td> <td>    0.229</td>\n",
              "</tr>\n",
              "<tr>\n",
              "  <th>RPM</th>                 <td>   -0.0026</td> <td>    0.002</td> <td>   -1.169</td> <td> 0.247</td> <td>   -0.007</td> <td>    0.002</td>\n",
              "</tr>\n",
              "<tr>\n",
              "  <th>Rev.per.mile</th>        <td>    0.0017</td> <td>    0.002</td> <td>    0.771</td> <td> 0.444</td> <td>   -0.003</td> <td>    0.006</td>\n",
              "</tr>\n",
              "<tr>\n",
              "  <th>Fuel.tank.capacity</th>  <td>    0.4672</td> <td>    0.540</td> <td>    0.865</td> <td> 0.391</td> <td>   -0.614</td> <td>    1.549</td>\n",
              "</tr>\n",
              "<tr>\n",
              "  <th>Length</th>              <td>    0.0485</td> <td>    0.110</td> <td>    0.443</td> <td> 0.660</td> <td>   -0.171</td> <td>    0.268</td>\n",
              "</tr>\n",
              "<tr>\n",
              "  <th>Wheelbase</th>           <td>    0.3850</td> <td>    0.274</td> <td>    1.407</td> <td> 0.165</td> <td>   -0.163</td> <td>    0.933</td>\n",
              "</tr>\n",
              "<tr>\n",
              "  <th>Width</th>               <td>   -1.9087</td> <td>    0.544</td> <td>   -3.511</td> <td> 0.001</td> <td>   -2.997</td> <td>   -0.820</td>\n",
              "</tr>\n",
              "<tr>\n",
              "  <th>Turn.circle</th>         <td>   -0.6224</td> <td>    0.365</td> <td>   -1.703</td> <td> 0.094</td> <td>   -1.354</td> <td>    0.109</td>\n",
              "</tr>\n",
              "<tr>\n",
              "  <th>Rear.seat.room</th>      <td>    0.3343</td> <td>    0.359</td> <td>    0.932</td> <td> 0.355</td> <td>   -0.384</td> <td>    1.053</td>\n",
              "</tr>\n",
              "<tr>\n",
              "  <th>Luggage.room</th>        <td>    0.2737</td> <td>    0.339</td> <td>    0.808</td> <td> 0.423</td> <td>   -0.405</td> <td>    0.952</td>\n",
              "</tr>\n",
              "<tr>\n",
              "  <th>Weight</th>              <td>   -0.0013</td> <td>    0.006</td> <td>   -0.237</td> <td> 0.813</td> <td>   -0.013</td> <td>    0.010</td>\n",
              "</tr>\n",
              "<tr>\n",
              "  <th>Type_Large</th>          <td>    1.5368</td> <td>    4.227</td> <td>    0.364</td> <td> 0.718</td> <td>   -6.925</td> <td>    9.999</td>\n",
              "</tr>\n",
              "<tr>\n",
              "  <th>Type_Midsize</th>        <td>    3.9322</td> <td>    2.457</td> <td>    1.601</td> <td> 0.115</td> <td>   -0.986</td> <td>    8.850</td>\n",
              "</tr>\n",
              "<tr>\n",
              "  <th>Type_Small</th>          <td>    1.1903</td> <td>    2.657</td> <td>    0.448</td> <td> 0.656</td> <td>   -4.129</td> <td>    6.509</td>\n",
              "</tr>\n",
              "<tr>\n",
              "  <th>Type_Sporty</th>         <td>    6.5059</td> <td>    3.371</td> <td>    1.930</td> <td> 0.059</td> <td>   -0.242</td> <td>   13.254</td>\n",
              "</tr>\n",
              "<tr>\n",
              "  <th>Type_Van</th>            <td>    3.6835</td> <td>    7.196</td> <td>    0.512</td> <td> 0.611</td> <td>  -10.722</td> <td>   18.089</td>\n",
              "</tr>\n",
              "<tr>\n",
              "  <th>AirBags_Driver only</th> <td>   -3.7364</td> <td>    1.897</td> <td>   -1.970</td> <td> 0.054</td> <td>   -7.533</td> <td>    0.060</td>\n",
              "</tr>\n",
              "<tr>\n",
              "  <th>AirBags_None</th>        <td>   -8.3008</td> <td>    2.181</td> <td>   -3.806</td> <td> 0.000</td> <td>  -12.666</td> <td>   -3.936</td>\n",
              "</tr>\n",
              "<tr>\n",
              "  <th>DriveTrain_Front</th>    <td>    2.2805</td> <td>    2.297</td> <td>    0.993</td> <td> 0.325</td> <td>   -2.318</td> <td>    6.879</td>\n",
              "</tr>\n",
              "<tr>\n",
              "  <th>DriveTrain_Rear</th>     <td>    7.2573</td> <td>    2.915</td> <td>    2.490</td> <td> 0.016</td> <td>    1.423</td> <td>   13.092</td>\n",
              "</tr>\n",
              "<tr>\n",
              "  <th>Cylinders_4</th>         <td>   -2.1621</td> <td>    4.446</td> <td>   -0.486</td> <td> 0.629</td> <td>  -11.061</td> <td>    6.737</td>\n",
              "</tr>\n",
              "<tr>\n",
              "  <th>Cylinders_5</th>         <td>   -3.5966</td> <td>    6.722</td> <td>   -0.535</td> <td> 0.595</td> <td>  -17.052</td> <td>    9.859</td>\n",
              "</tr>\n",
              "<tr>\n",
              "  <th>Cylinders_6</th>         <td>    0.8184</td> <td>    5.614</td> <td>    0.146</td> <td> 0.885</td> <td>  -10.419</td> <td>   12.056</td>\n",
              "</tr>\n",
              "<tr>\n",
              "  <th>Cylinders_8</th>         <td>    3.4500</td> <td>    6.832</td> <td>    0.505</td> <td> 0.616</td> <td>  -10.226</td> <td>   17.126</td>\n",
              "</tr>\n",
              "<tr>\n",
              "  <th>Cylinders_rotary</th>    <td>  -15.0831</td> <td>   12.735</td> <td>   -1.184</td> <td> 0.241</td> <td>  -40.576</td> <td>   10.410</td>\n",
              "</tr>\n",
              "<tr>\n",
              "  <th>Man.trans.avail_Yes</th> <td>   -1.9656</td> <td>    2.167</td> <td>   -0.907</td> <td> 0.368</td> <td>   -6.303</td> <td>    2.372</td>\n",
              "</tr>\n",
              "<tr>\n",
              "  <th>Passengers_4</th>        <td>   -5.4956</td> <td>    7.065</td> <td>   -0.778</td> <td> 0.440</td> <td>  -19.638</td> <td>    8.646</td>\n",
              "</tr>\n",
              "<tr>\n",
              "  <th>Passengers_5</th>        <td>   -2.3710</td> <td>    7.490</td> <td>   -0.317</td> <td> 0.753</td> <td>  -17.363</td> <td>   12.621</td>\n",
              "</tr>\n",
              "<tr>\n",
              "  <th>Passengers_6</th>        <td>   -2.3840</td> <td>    8.221</td> <td>   -0.290</td> <td> 0.773</td> <td>  -18.840</td> <td>   14.072</td>\n",
              "</tr>\n",
              "<tr>\n",
              "  <th>Passengers_7</th>        <td>    0.3024</td> <td>    4.116</td> <td>    0.073</td> <td> 0.942</td> <td>   -7.936</td> <td>    8.541</td>\n",
              "</tr>\n",
              "<tr>\n",
              "  <th>Passengers_8</th>        <td>    3.3811</td> <td>    5.639</td> <td>    0.600</td> <td> 0.551</td> <td>   -7.907</td> <td>   14.670</td>\n",
              "</tr>\n",
              "<tr>\n",
              "  <th>Origin_non-USA</th>      <td>    0.8789</td> <td>    1.641</td> <td>    0.536</td> <td> 0.594</td> <td>   -2.406</td> <td>    4.164</td>\n",
              "</tr>\n",
              "</table>\n",
              "<table class=\"simpletable\">\n",
              "<tr>\n",
              "  <th>Omnibus:</th>       <td>13.833</td> <th>  Durbin-Watson:     </th> <td>   1.771</td>\n",
              "</tr>\n",
              "<tr>\n",
              "  <th>Prob(Omnibus):</th> <td> 0.001</td> <th>  Jarque-Bera (JB):  </th> <td>  21.576</td>\n",
              "</tr>\n",
              "<tr>\n",
              "  <th>Skew:</th>          <td> 0.628</td> <th>  Prob(JB):          </th> <td>2.06e-05</td>\n",
              "</tr>\n",
              "<tr>\n",
              "  <th>Kurtosis:</th>      <td> 4.997</td> <th>  Cond. No.          </th> <td>1.00e+16</td>\n",
              "</tr>\n",
              "</table><br/><br/>Notes:<br/>[1] Standard Errors assume that the covariance matrix of the errors is correctly specified.<br/>[2] The smallest eigenvalue is 3.98e-23. This might indicate that there are<br/>strong multicollinearity problems or that the design matrix is singular."
            ]
          },
          "metadata": {},
          "execution_count": 21
        }
      ]
    },
    {
      "cell_type": "code",
      "source": [
        "p = pd.Series(model.pvalues.values[1:],index = X_final.columns)      \n",
        "pmax = max(p)\n",
        "feature_with_p_max = p.idxmax()\n",
        "print(pmax)\n",
        "print(feature_with_p_max)"
      ],
      "metadata": {
        "colab": {
          "base_uri": "https://localhost:8080/"
        },
        "id": "zs9cLmUGIwSI",
        "outputId": "2f508afa-9aab-446d-a904-6ec3e4680b6e"
      },
      "execution_count": null,
      "outputs": [
        {
          "output_type": "stream",
          "name": "stdout",
          "text": [
            "0.8664931528048668\n",
            "Type_Large\n"
          ]
        }
      ]
    },
    {
      "cell_type": "code",
      "source": [
        "from sklearn.feature_selection import SequentialFeatureSelector as sfs\n",
        "from sklearn.feature_selection import RFE"
      ],
      "metadata": {
        "id": "UbIYWzHB-dnI"
      },
      "execution_count": null,
      "outputs": []
    },
    {
      "cell_type": "code",
      "source": [
        "# functions for forward selection (standalone machine can use mlxtend)\n",
        "#from mlxtend.feature_selection import SequentialFeatureSelector as sfs"
      ],
      "metadata": {
        "id": "-JCLZYhA-eV_"
      },
      "execution_count": null,
      "outputs": []
    },
    {
      "cell_type": "code",
      "source": [
        "linreg = LinearRegression()"
      ],
      "metadata": {
        "id": "tBx2DFxW-iKj"
      },
      "execution_count": null,
      "outputs": []
    },
    {
      "cell_type": "code",
      "source": [
        "linreg_forward = sfs(estimator = linreg, n_features_to_select= 12,direction='forward')\n",
        "#k_features in mlxtend, forward=True, sfs_forward.k_feature_names\n",
        "sfs_forward = linreg_forward.fit(X_final, Y)"
      ],
      "metadata": {
        "id": "aryp5OVa_-9w"
      },
      "execution_count": null,
      "outputs": []
    },
    {
      "cell_type": "code",
      "source": [
        "sfs_forward.get_support()"
      ],
      "metadata": {
        "colab": {
          "base_uri": "https://localhost:8080/"
        },
        "id": "1tPd-XWqDpng",
        "outputId": "e9872035-7df2-461c-ed42-cabca16ce9f5"
      },
      "execution_count": null,
      "outputs": [
        {
          "output_type": "execute_result",
          "data": {
            "text/plain": [
              "array([False,  True, False,  True, False, False, False, False, False,\n",
              "        True, False,  True, False, False, False,  True,  True, False,\n",
              "       False, False,  True, False,  True, False, False, False,  True,\n",
              "       False, False,  True, False, False, False,  True,  True])"
            ]
          },
          "metadata": {},
          "execution_count": 25
        }
      ]
    },
    {
      "cell_type": "code",
      "source": [
        "sfs_fwd_X=X_final[X_final.columns[sfs_forward.get_support()]]"
      ],
      "metadata": {
        "id": "aX8YYxXqAp2J"
      },
      "execution_count": null,
      "outputs": []
    },
    {
      "cell_type": "code",
      "source": [
        "sfs_fwd_xc=sm.add_constant(sfs_fwd_X)"
      ],
      "metadata": {
        "colab": {
          "base_uri": "https://localhost:8080/"
        },
        "id": "-9jyr0IFEDtr",
        "outputId": "ffdc4b1b-f3b4-44a3-ce9c-04146358daa2"
      },
      "execution_count": null,
      "outputs": [
        {
          "output_type": "stream",
          "name": "stderr",
          "text": [
            "/usr/local/lib/python3.7/dist-packages/statsmodels/tsa/tsatools.py:142: FutureWarning: In a future version of pandas all arguments of concat except for the argument 'objs' will be keyword-only\n",
            "  x = pd.concat(x[::order], 1)\n"
          ]
        }
      ]
    },
    {
      "cell_type": "code",
      "source": [
        "model1=sm.OLS(Y,sfs_fwd_xc).fit()\n",
        "model1.summary()"
      ],
      "metadata": {
        "colab": {
          "base_uri": "https://localhost:8080/",
          "height": 709
        },
        "id": "pTN2ryD-EK_l",
        "outputId": "e328f161-f7b1-4830-bd97-0414bc5c5267"
      },
      "execution_count": null,
      "outputs": [
        {
          "output_type": "execute_result",
          "data": {
            "text/plain": [
              "<class 'statsmodels.iolib.summary.Summary'>\n",
              "\"\"\"\n",
              "                            OLS Regression Results                            \n",
              "==============================================================================\n",
              "Dep. Variable:                  Price   R-squared:                       0.782\n",
              "Model:                            OLS   Adj. R-squared:                  0.749\n",
              "Method:                 Least Squares   F-statistic:                     23.88\n",
              "Date:                Sat, 29 Oct 2022   Prob (F-statistic):           1.33e-21\n",
              "Time:                        10:55:24   Log-Likelihood:                -271.59\n",
              "No. Observations:                  93   AIC:                             569.2\n",
              "Df Residuals:                      80   BIC:                             602.1\n",
              "Df Model:                          12                                         \n",
              "Covariance Type:            nonrobust                                         \n",
              "===================================================================================\n",
              "                      coef    std err          t      P>|t|      [0.025      0.975]\n",
              "-----------------------------------------------------------------------------------\n",
              "const              43.6429     18.143      2.405      0.018       7.537      79.749\n",
              "MPG.highway        -0.2706      0.157     -1.725      0.088      -0.583       0.042\n",
              "Horsepower          0.1029      0.016      6.250      0.000       0.070       0.136\n",
              "Width              -0.6975      0.255     -2.730      0.008      -1.206      -0.189\n",
              "Rear.seat.room      0.5791      0.237      2.441      0.017       0.107       1.051\n",
              "Type_Midsize        3.9929      1.303      3.064      0.003       1.400       6.586\n",
              "Type_Small         -1.5737      1.840     -0.855      0.395      -5.235       2.087\n",
              "AirBags_None       -3.6092      1.253     -2.881      0.005      -6.102      -1.116\n",
              "DriveTrain_Rear     4.6511      1.617      2.876      0.005       1.432       7.870\n",
              "Cylinders_8         2.6626      2.503      1.064      0.291      -2.318       7.643\n",
              "Passengers_4       -0.1131      1.553     -0.073      0.942      -3.203       2.977\n",
              "Passengers_8        0.0098      5.329      0.002      0.999     -10.596      10.616\n",
              "Origin_non-USA      2.0201      1.222      1.653      0.102      -0.413       4.453\n",
              "==============================================================================\n",
              "Omnibus:                       55.636   Durbin-Watson:                   1.708\n",
              "Prob(Omnibus):                  0.000   Jarque-Bera (JB):              295.250\n",
              "Skew:                           1.821   Prob(JB):                     7.71e-65\n",
              "Kurtosis:                      10.933   Cond. No.                     6.21e+03\n",
              "==============================================================================\n",
              "\n",
              "Notes:\n",
              "[1] Standard Errors assume that the covariance matrix of the errors is correctly specified.\n",
              "[2] The condition number is large, 6.21e+03. This might indicate that there are\n",
              "strong multicollinearity or other numerical problems.\n",
              "\"\"\""
            ],
            "text/html": [
              "<table class=\"simpletable\">\n",
              "<caption>OLS Regression Results</caption>\n",
              "<tr>\n",
              "  <th>Dep. Variable:</th>          <td>Price</td>      <th>  R-squared:         </th> <td>   0.782</td>\n",
              "</tr>\n",
              "<tr>\n",
              "  <th>Model:</th>                   <td>OLS</td>       <th>  Adj. R-squared:    </th> <td>   0.749</td>\n",
              "</tr>\n",
              "<tr>\n",
              "  <th>Method:</th>             <td>Least Squares</td>  <th>  F-statistic:       </th> <td>   23.88</td>\n",
              "</tr>\n",
              "<tr>\n",
              "  <th>Date:</th>             <td>Sat, 29 Oct 2022</td> <th>  Prob (F-statistic):</th> <td>1.33e-21</td>\n",
              "</tr>\n",
              "<tr>\n",
              "  <th>Time:</th>                 <td>10:55:24</td>     <th>  Log-Likelihood:    </th> <td> -271.59</td>\n",
              "</tr>\n",
              "<tr>\n",
              "  <th>No. Observations:</th>      <td>    93</td>      <th>  AIC:               </th> <td>   569.2</td>\n",
              "</tr>\n",
              "<tr>\n",
              "  <th>Df Residuals:</th>          <td>    80</td>      <th>  BIC:               </th> <td>   602.1</td>\n",
              "</tr>\n",
              "<tr>\n",
              "  <th>Df Model:</th>              <td>    12</td>      <th>                     </th>     <td> </td>   \n",
              "</tr>\n",
              "<tr>\n",
              "  <th>Covariance Type:</th>      <td>nonrobust</td>    <th>                     </th>     <td> </td>   \n",
              "</tr>\n",
              "</table>\n",
              "<table class=\"simpletable\">\n",
              "<tr>\n",
              "         <td></td>            <th>coef</th>     <th>std err</th>      <th>t</th>      <th>P>|t|</th>  <th>[0.025</th>    <th>0.975]</th>  \n",
              "</tr>\n",
              "<tr>\n",
              "  <th>const</th>           <td>   43.6429</td> <td>   18.143</td> <td>    2.405</td> <td> 0.018</td> <td>    7.537</td> <td>   79.749</td>\n",
              "</tr>\n",
              "<tr>\n",
              "  <th>MPG.highway</th>     <td>   -0.2706</td> <td>    0.157</td> <td>   -1.725</td> <td> 0.088</td> <td>   -0.583</td> <td>    0.042</td>\n",
              "</tr>\n",
              "<tr>\n",
              "  <th>Horsepower</th>      <td>    0.1029</td> <td>    0.016</td> <td>    6.250</td> <td> 0.000</td> <td>    0.070</td> <td>    0.136</td>\n",
              "</tr>\n",
              "<tr>\n",
              "  <th>Width</th>           <td>   -0.6975</td> <td>    0.255</td> <td>   -2.730</td> <td> 0.008</td> <td>   -1.206</td> <td>   -0.189</td>\n",
              "</tr>\n",
              "<tr>\n",
              "  <th>Rear.seat.room</th>  <td>    0.5791</td> <td>    0.237</td> <td>    2.441</td> <td> 0.017</td> <td>    0.107</td> <td>    1.051</td>\n",
              "</tr>\n",
              "<tr>\n",
              "  <th>Type_Midsize</th>    <td>    3.9929</td> <td>    1.303</td> <td>    3.064</td> <td> 0.003</td> <td>    1.400</td> <td>    6.586</td>\n",
              "</tr>\n",
              "<tr>\n",
              "  <th>Type_Small</th>      <td>   -1.5737</td> <td>    1.840</td> <td>   -0.855</td> <td> 0.395</td> <td>   -5.235</td> <td>    2.087</td>\n",
              "</tr>\n",
              "<tr>\n",
              "  <th>AirBags_None</th>    <td>   -3.6092</td> <td>    1.253</td> <td>   -2.881</td> <td> 0.005</td> <td>   -6.102</td> <td>   -1.116</td>\n",
              "</tr>\n",
              "<tr>\n",
              "  <th>DriveTrain_Rear</th> <td>    4.6511</td> <td>    1.617</td> <td>    2.876</td> <td> 0.005</td> <td>    1.432</td> <td>    7.870</td>\n",
              "</tr>\n",
              "<tr>\n",
              "  <th>Cylinders_8</th>     <td>    2.6626</td> <td>    2.503</td> <td>    1.064</td> <td> 0.291</td> <td>   -2.318</td> <td>    7.643</td>\n",
              "</tr>\n",
              "<tr>\n",
              "  <th>Passengers_4</th>    <td>   -0.1131</td> <td>    1.553</td> <td>   -0.073</td> <td> 0.942</td> <td>   -3.203</td> <td>    2.977</td>\n",
              "</tr>\n",
              "<tr>\n",
              "  <th>Passengers_8</th>    <td>    0.0098</td> <td>    5.329</td> <td>    0.002</td> <td> 0.999</td> <td>  -10.596</td> <td>   10.616</td>\n",
              "</tr>\n",
              "<tr>\n",
              "  <th>Origin_non-USA</th>  <td>    2.0201</td> <td>    1.222</td> <td>    1.653</td> <td> 0.102</td> <td>   -0.413</td> <td>    4.453</td>\n",
              "</tr>\n",
              "</table>\n",
              "<table class=\"simpletable\">\n",
              "<tr>\n",
              "  <th>Omnibus:</th>       <td>55.636</td> <th>  Durbin-Watson:     </th> <td>   1.708</td>\n",
              "</tr>\n",
              "<tr>\n",
              "  <th>Prob(Omnibus):</th> <td> 0.000</td> <th>  Jarque-Bera (JB):  </th> <td> 295.250</td>\n",
              "</tr>\n",
              "<tr>\n",
              "  <th>Skew:</th>          <td> 1.821</td> <th>  Prob(JB):          </th> <td>7.71e-65</td>\n",
              "</tr>\n",
              "<tr>\n",
              "  <th>Kurtosis:</th>      <td>10.933</td> <th>  Cond. No.          </th> <td>6.21e+03</td>\n",
              "</tr>\n",
              "</table><br/><br/>Notes:<br/>[1] Standard Errors assume that the covariance matrix of the errors is correctly specified.<br/>[2] The condition number is large, 6.21e+03. This might indicate that there are<br/>strong multicollinearity or other numerical problems."
            ]
          },
          "metadata": {},
          "execution_count": 30
        }
      ]
    },
    {
      "cell_type": "code",
      "source": [
        "linreg_backward = sfs(estimator = linreg, n_features_to_select= 12,direction='backward')\n",
        "#k_features in mlxtend, forward=True, sfs_forward.k_feature_names\n",
        "sfs_backward = linreg_backward.fit(X_final, Y)"
      ],
      "metadata": {
        "id": "zRVEqJqRDyz8"
      },
      "execution_count": null,
      "outputs": []
    },
    {
      "cell_type": "code",
      "source": [
        "X_final.columns[sfs_backward.get_support()]"
      ],
      "metadata": {
        "colab": {
          "base_uri": "https://localhost:8080/"
        },
        "id": "qPK1ydj2D7cM",
        "outputId": "cd73daaf-5a0e-4c72-a0c8-1f4f3f71618f"
      },
      "execution_count": null,
      "outputs": [
        {
          "output_type": "execute_result",
          "data": {
            "text/plain": [
              "Index(['Horsepower', 'Wheelbase', 'Width', 'Rear.seat.room', 'Type_Midsize',\n",
              "       'Type_Sporty', 'Type_Van', 'AirBags_Driver only', 'AirBags_None',\n",
              "       'DriveTrain_Rear', 'Cylinders_8', 'Passengers_5'],\n",
              "      dtype='object')"
            ]
          },
          "metadata": {},
          "execution_count": 32
        }
      ]
    },
    {
      "cell_type": "code",
      "source": [
        "sfs_bk_X=X_final[X_final.columns[sfs_backward.get_support()]]"
      ],
      "metadata": {
        "id": "Ig7npBveKMPW"
      },
      "execution_count": null,
      "outputs": []
    },
    {
      "cell_type": "code",
      "source": [
        "sfs_bk_xc=sm.add_constant(sfs_bk_X)"
      ],
      "metadata": {
        "colab": {
          "base_uri": "https://localhost:8080/"
        },
        "id": "Uf_nm1nhKTHR",
        "outputId": "24b34e82-01b4-4d26-8898-b64f3e9c4ead"
      },
      "execution_count": null,
      "outputs": [
        {
          "output_type": "stream",
          "name": "stderr",
          "text": [
            "/usr/local/lib/python3.7/dist-packages/statsmodels/tsa/tsatools.py:142: FutureWarning: In a future version of pandas all arguments of concat except for the argument 'objs' will be keyword-only\n",
            "  x = pd.concat(x[::order], 1)\n"
          ]
        }
      ]
    },
    {
      "cell_type": "code",
      "source": [
        "import warnings\n",
        "warnings.filterwarnings(\"ignore\")"
      ],
      "metadata": {
        "id": "B3xbA6kHFFuD"
      },
      "execution_count": null,
      "outputs": []
    },
    {
      "cell_type": "code",
      "source": [
        "model2=sm.OLS(Y,sfs_bk_xc).fit()\n",
        "model2.summary()"
      ],
      "metadata": {
        "colab": {
          "base_uri": "https://localhost:8080/",
          "height": 709
        },
        "id": "UWQys-x-KdTf",
        "outputId": "5dd506f7-a83d-47a2-a914-3d8ebf6b22bd"
      },
      "execution_count": null,
      "outputs": [
        {
          "output_type": "execute_result",
          "data": {
            "text/plain": [
              "<class 'statsmodels.iolib.summary.Summary'>\n",
              "\"\"\"\n",
              "                            OLS Regression Results                            \n",
              "==============================================================================\n",
              "Dep. Variable:                  Price   R-squared:                       0.803\n",
              "Model:                            OLS   Adj. R-squared:                  0.773\n",
              "Method:                 Least Squares   F-statistic:                     27.12\n",
              "Date:                Sat, 29 Oct 2022   Prob (F-statistic):           2.69e-23\n",
              "Time:                        11:22:27   Log-Likelihood:                -266.91\n",
              "No. Observations:                  93   AIC:                             559.8\n",
              "Df Residuals:                      80   BIC:                             592.7\n",
              "Df Model:                          12                                         \n",
              "Covariance Type:            nonrobust                                         \n",
              "=======================================================================================\n",
              "                          coef    std err          t      P>|t|      [0.025      0.975]\n",
              "---------------------------------------------------------------------------------------\n",
              "const                  43.3227     14.737      2.940      0.004      13.995      72.650\n",
              "Horsepower              0.1184      0.015      8.070      0.000       0.089       0.148\n",
              "Wheelbase               0.4140      0.172      2.405      0.018       0.071       0.757\n",
              "Width                  -1.3917      0.278     -5.007      0.000      -1.945      -0.839\n",
              "Rear.seat.room          0.4848      0.255      1.902      0.061      -0.022       0.992\n",
              "Type_Midsize            4.4421      1.368      3.248      0.002       1.720       7.164\n",
              "Type_Sporty             2.6643      2.169      1.228      0.223      -1.653       6.982\n",
              "Type_Van                4.3943      2.313      1.899      0.061      -0.210       8.998\n",
              "AirBags_Driver only    -3.5243      1.495     -2.357      0.021      -6.500      -0.549\n",
              "AirBags_None           -6.8580      1.849     -3.709      0.000     -10.538      -3.178\n",
              "DriveTrain_Rear         5.2468      1.541      3.405      0.001       2.180       8.314\n",
              "Cylinders_8             2.9895      2.370      1.261      0.211      -1.727       7.705\n",
              "Passengers_5            0.7218      1.255      0.575      0.567      -1.775       3.219\n",
              "==============================================================================\n",
              "Omnibus:                       32.693   Durbin-Watson:                   1.797\n",
              "Prob(Omnibus):                  0.000   Jarque-Bera (JB):               83.041\n",
              "Skew:                           1.221   Prob(JB):                     9.29e-19\n",
              "Kurtosis:                       6.933   Cond. No.                     6.13e+03\n",
              "==============================================================================\n",
              "\n",
              "Notes:\n",
              "[1] Standard Errors assume that the covariance matrix of the errors is correctly specified.\n",
              "[2] The condition number is large, 6.13e+03. This might indicate that there are\n",
              "strong multicollinearity or other numerical problems.\n",
              "\"\"\""
            ],
            "text/html": [
              "<table class=\"simpletable\">\n",
              "<caption>OLS Regression Results</caption>\n",
              "<tr>\n",
              "  <th>Dep. Variable:</th>          <td>Price</td>      <th>  R-squared:         </th> <td>   0.803</td>\n",
              "</tr>\n",
              "<tr>\n",
              "  <th>Model:</th>                   <td>OLS</td>       <th>  Adj. R-squared:    </th> <td>   0.773</td>\n",
              "</tr>\n",
              "<tr>\n",
              "  <th>Method:</th>             <td>Least Squares</td>  <th>  F-statistic:       </th> <td>   27.12</td>\n",
              "</tr>\n",
              "<tr>\n",
              "  <th>Date:</th>             <td>Sat, 29 Oct 2022</td> <th>  Prob (F-statistic):</th> <td>2.69e-23</td>\n",
              "</tr>\n",
              "<tr>\n",
              "  <th>Time:</th>                 <td>11:22:27</td>     <th>  Log-Likelihood:    </th> <td> -266.91</td>\n",
              "</tr>\n",
              "<tr>\n",
              "  <th>No. Observations:</th>      <td>    93</td>      <th>  AIC:               </th> <td>   559.8</td>\n",
              "</tr>\n",
              "<tr>\n",
              "  <th>Df Residuals:</th>          <td>    80</td>      <th>  BIC:               </th> <td>   592.7</td>\n",
              "</tr>\n",
              "<tr>\n",
              "  <th>Df Model:</th>              <td>    12</td>      <th>                     </th>     <td> </td>   \n",
              "</tr>\n",
              "<tr>\n",
              "  <th>Covariance Type:</th>      <td>nonrobust</td>    <th>                     </th>     <td> </td>   \n",
              "</tr>\n",
              "</table>\n",
              "<table class=\"simpletable\">\n",
              "<tr>\n",
              "           <td></td>              <th>coef</th>     <th>std err</th>      <th>t</th>      <th>P>|t|</th>  <th>[0.025</th>    <th>0.975]</th>  \n",
              "</tr>\n",
              "<tr>\n",
              "  <th>const</th>               <td>   43.3227</td> <td>   14.737</td> <td>    2.940</td> <td> 0.004</td> <td>   13.995</td> <td>   72.650</td>\n",
              "</tr>\n",
              "<tr>\n",
              "  <th>Horsepower</th>          <td>    0.1184</td> <td>    0.015</td> <td>    8.070</td> <td> 0.000</td> <td>    0.089</td> <td>    0.148</td>\n",
              "</tr>\n",
              "<tr>\n",
              "  <th>Wheelbase</th>           <td>    0.4140</td> <td>    0.172</td> <td>    2.405</td> <td> 0.018</td> <td>    0.071</td> <td>    0.757</td>\n",
              "</tr>\n",
              "<tr>\n",
              "  <th>Width</th>               <td>   -1.3917</td> <td>    0.278</td> <td>   -5.007</td> <td> 0.000</td> <td>   -1.945</td> <td>   -0.839</td>\n",
              "</tr>\n",
              "<tr>\n",
              "  <th>Rear.seat.room</th>      <td>    0.4848</td> <td>    0.255</td> <td>    1.902</td> <td> 0.061</td> <td>   -0.022</td> <td>    0.992</td>\n",
              "</tr>\n",
              "<tr>\n",
              "  <th>Type_Midsize</th>        <td>    4.4421</td> <td>    1.368</td> <td>    3.248</td> <td> 0.002</td> <td>    1.720</td> <td>    7.164</td>\n",
              "</tr>\n",
              "<tr>\n",
              "  <th>Type_Sporty</th>         <td>    2.6643</td> <td>    2.169</td> <td>    1.228</td> <td> 0.223</td> <td>   -1.653</td> <td>    6.982</td>\n",
              "</tr>\n",
              "<tr>\n",
              "  <th>Type_Van</th>            <td>    4.3943</td> <td>    2.313</td> <td>    1.899</td> <td> 0.061</td> <td>   -0.210</td> <td>    8.998</td>\n",
              "</tr>\n",
              "<tr>\n",
              "  <th>AirBags_Driver only</th> <td>   -3.5243</td> <td>    1.495</td> <td>   -2.357</td> <td> 0.021</td> <td>   -6.500</td> <td>   -0.549</td>\n",
              "</tr>\n",
              "<tr>\n",
              "  <th>AirBags_None</th>        <td>   -6.8580</td> <td>    1.849</td> <td>   -3.709</td> <td> 0.000</td> <td>  -10.538</td> <td>   -3.178</td>\n",
              "</tr>\n",
              "<tr>\n",
              "  <th>DriveTrain_Rear</th>     <td>    5.2468</td> <td>    1.541</td> <td>    3.405</td> <td> 0.001</td> <td>    2.180</td> <td>    8.314</td>\n",
              "</tr>\n",
              "<tr>\n",
              "  <th>Cylinders_8</th>         <td>    2.9895</td> <td>    2.370</td> <td>    1.261</td> <td> 0.211</td> <td>   -1.727</td> <td>    7.705</td>\n",
              "</tr>\n",
              "<tr>\n",
              "  <th>Passengers_5</th>        <td>    0.7218</td> <td>    1.255</td> <td>    0.575</td> <td> 0.567</td> <td>   -1.775</td> <td>    3.219</td>\n",
              "</tr>\n",
              "</table>\n",
              "<table class=\"simpletable\">\n",
              "<tr>\n",
              "  <th>Omnibus:</th>       <td>32.693</td> <th>  Durbin-Watson:     </th> <td>   1.797</td>\n",
              "</tr>\n",
              "<tr>\n",
              "  <th>Prob(Omnibus):</th> <td> 0.000</td> <th>  Jarque-Bera (JB):  </th> <td>  83.041</td>\n",
              "</tr>\n",
              "<tr>\n",
              "  <th>Skew:</th>          <td> 1.221</td> <th>  Prob(JB):          </th> <td>9.29e-19</td>\n",
              "</tr>\n",
              "<tr>\n",
              "  <th>Kurtosis:</th>      <td> 6.933</td> <th>  Cond. No.          </th> <td>6.13e+03</td>\n",
              "</tr>\n",
              "</table><br/><br/>Notes:<br/>[1] Standard Errors assume that the covariance matrix of the errors is correctly specified.<br/>[2] The condition number is large, 6.13e+03. This might indicate that there are<br/>strong multicollinearity or other numerical problems."
            ]
          },
          "metadata": {},
          "execution_count": 36
        }
      ]
    },
    {
      "cell_type": "code",
      "source": [
        "model2.pvalues.values"
      ],
      "metadata": {
        "colab": {
          "base_uri": "https://localhost:8080/"
        },
        "id": "3cATYNqWN0Yu",
        "outputId": "c27d1f5a-3161-4714-8cdf-387f8c698154"
      },
      "execution_count": null,
      "outputs": [
        {
          "output_type": "execute_result",
          "data": {
            "text/plain": [
              "array([4.29270612e-03, 5.89169688e-12, 1.84722898e-02, 3.22378565e-06,\n",
              "       6.07618238e-02, 1.69978214e-03, 2.22984412e-01, 6.11147858e-02,\n",
              "       2.08710333e-02, 3.83067885e-04, 1.03797799e-03, 2.10795798e-01,\n",
              "       5.66716187e-01])"
            ]
          },
          "metadata": {},
          "execution_count": 38
        }
      ]
    },
    {
      "cell_type": "code",
      "source": [
        "rfe_model = RFE(estimator=linreg, n_features_to_select = 12)\n",
        "rfe_model.fit(X_final, Y)\n",
        "feat_index = pd.Series(data = rfe_model.ranking_, index = X_final.columns)\n",
        "signi_feat_rfe = feat_index[feat_index==1].index\n",
        "print(signi_feat_rfe)"
      ],
      "metadata": {
        "id": "XzXB6NJeRd6K"
      },
      "execution_count": null,
      "outputs": []
    },
    {
      "cell_type": "code",
      "metadata": {
        "id": "_zJ0kPdfm8Rl"
      },
      "source": [
        "#Feature Selection by Recursive Backward Elimination\n",
        "cols=list(X_final.columns)\n",
        "pmax = 1\n",
        "while (len(cols)>0):\n",
        "    p= []\n",
        "    X_final = X_final[cols]\n",
        "    Xc = sm.add_constant(X_final)\n",
        "    model_full = sm.OLS(Y,Xc).fit()\n",
        "    p = pd.Series(model_full.pvalues.values[1:],index = cols)      \n",
        "    pmax = max(p)\n",
        "    feature_with_p_max = p.idxmax()\n",
        "    if(pmax>0.05):\n",
        "        cols.remove(feature_with_p_max)\n",
        "    else:\n",
        "        break\n",
        "selected_features = cols\n"
      ],
      "execution_count": null,
      "outputs": []
    },
    {
      "cell_type": "code",
      "source": [
        "print(selected_features)"
      ],
      "metadata": {
        "colab": {
          "base_uri": "https://localhost:8080/"
        },
        "id": "Xd8Q2fh7Ksb_",
        "outputId": "962ac74f-5925-4d5d-d7be-b1385e1412a0"
      },
      "execution_count": null,
      "outputs": [
        {
          "output_type": "stream",
          "name": "stdout",
          "text": [
            "['Horsepower', 'Fuel.tank.capacity', 'Wheelbase', 'Width', 'Type_Midsize', 'AirBags_Driver only', 'AirBags_None', 'DriveTrain_Rear']\n"
          ]
        }
      ]
    },
    {
      "cell_type": "code",
      "source": [
        "X_new=X_final[selected_features]\n",
        "X_new.shape"
      ],
      "metadata": {
        "colab": {
          "base_uri": "https://localhost:8080/"
        },
        "id": "bqreEw53RgUT",
        "outputId": "7d53cef9-7305-44d8-b7be-d35a64c5fbdc"
      },
      "execution_count": null,
      "outputs": [
        {
          "output_type": "execute_result",
          "data": {
            "text/plain": [
              "(93, 8)"
            ]
          },
          "metadata": {},
          "execution_count": 46
        }
      ]
    },
    {
      "cell_type": "code",
      "source": [
        "# create an empty dataframe to store the VIF for each variable\n",
        "vif = pd.DataFrame()\n",
        "\n",
        "\n",
        "# create a column of variable names\n",
        "vif[\"Features\"] = X_new.columns\n",
        "\n",
        "# calculate VIF using list comprehension \n",
        "# use for loop to access each variable \n",
        "# calculate VIF for each variable and create a column 'VIF' to store the values \n",
        "from statsmodels.stats.outliers_influence import variance_inflation_factor\n",
        "vif[\"VIF\"] = [variance_inflation_factor(X_new.values, i) for i in range(X_new.shape[1])]\n",
        "\n",
        "# print the VIF\n",
        "print(vif)"
      ],
      "metadata": {
        "colab": {
          "base_uri": "https://localhost:8080/"
        },
        "id": "Xi2-Zb9ZRTYS",
        "outputId": "9b168ecc-8ce7-442b-f43a-cf22bba1f86c"
      },
      "execution_count": null,
      "outputs": [
        {
          "output_type": "stream",
          "name": "stdout",
          "text": [
            "              Features         VIF\n",
            "0           Horsepower   23.799576\n",
            "1   Fuel.tank.capacity   81.415495\n",
            "2            Wheelbase  832.603696\n",
            "3                Width  810.750811\n",
            "4         Type_Midsize    1.588516\n",
            "5  AirBags_Driver only    3.832198\n",
            "6         AirBags_None    3.877403\n",
            "7      DriveTrain_Rear    1.501066\n"
          ]
        }
      ]
    },
    {
      "cell_type": "code",
      "source": [
        "X_new.columns"
      ],
      "metadata": {
        "colab": {
          "base_uri": "https://localhost:8080/"
        },
        "id": "qnvYO6WXTlPq",
        "outputId": "892fd6c8-54c0-49d2-ac8a-cb7c95ae6d8f"
      },
      "execution_count": null,
      "outputs": [
        {
          "output_type": "execute_result",
          "data": {
            "text/plain": [
              "Index(['Horsepower', 'Fuel.tank.capacity', 'Wheelbase', 'Width',\n",
              "       'Type_Midsize', 'AirBags_Driver only', 'AirBags_None',\n",
              "       'DriveTrain_Rear'],\n",
              "      dtype='object')"
            ]
          },
          "metadata": {},
          "execution_count": 48
        }
      ]
    },
    {
      "cell_type": "code",
      "source": [
        "X_final_prod=X_new.drop(['Fuel.tank.capacity','Wheelbase','Width'],axis=1)\n",
        "X_final_prod.head()"
      ],
      "metadata": {
        "colab": {
          "base_uri": "https://localhost:8080/",
          "height": 206
        },
        "id": "DTucz02ETdrp",
        "outputId": "bc720f4b-1126-411d-897d-e3b7589ce20b"
      },
      "execution_count": null,
      "outputs": [
        {
          "output_type": "execute_result",
          "data": {
            "text/plain": [
              "   Horsepower  Type_Midsize  AirBags_Driver only  AirBags_None  \\\n",
              "1         140             0                    0             1   \n",
              "2         200             1                    0             0   \n",
              "3         172             0                    1             0   \n",
              "4         172             1                    0             0   \n",
              "5         208             1                    1             0   \n",
              "\n",
              "   DriveTrain_Rear  \n",
              "1                0  \n",
              "2                0  \n",
              "3                0  \n",
              "4                0  \n",
              "5                1  "
            ],
            "text/html": [
              "\n",
              "  <div id=\"df-31c3625c-4a95-4064-9ff5-d07c2a80821f\">\n",
              "    <div class=\"colab-df-container\">\n",
              "      <div>\n",
              "<style scoped>\n",
              "    .dataframe tbody tr th:only-of-type {\n",
              "        vertical-align: middle;\n",
              "    }\n",
              "\n",
              "    .dataframe tbody tr th {\n",
              "        vertical-align: top;\n",
              "    }\n",
              "\n",
              "    .dataframe thead th {\n",
              "        text-align: right;\n",
              "    }\n",
              "</style>\n",
              "<table border=\"1\" class=\"dataframe\">\n",
              "  <thead>\n",
              "    <tr style=\"text-align: right;\">\n",
              "      <th></th>\n",
              "      <th>Horsepower</th>\n",
              "      <th>Type_Midsize</th>\n",
              "      <th>AirBags_Driver only</th>\n",
              "      <th>AirBags_None</th>\n",
              "      <th>DriveTrain_Rear</th>\n",
              "    </tr>\n",
              "  </thead>\n",
              "  <tbody>\n",
              "    <tr>\n",
              "      <th>1</th>\n",
              "      <td>140</td>\n",
              "      <td>0</td>\n",
              "      <td>0</td>\n",
              "      <td>1</td>\n",
              "      <td>0</td>\n",
              "    </tr>\n",
              "    <tr>\n",
              "      <th>2</th>\n",
              "      <td>200</td>\n",
              "      <td>1</td>\n",
              "      <td>0</td>\n",
              "      <td>0</td>\n",
              "      <td>0</td>\n",
              "    </tr>\n",
              "    <tr>\n",
              "      <th>3</th>\n",
              "      <td>172</td>\n",
              "      <td>0</td>\n",
              "      <td>1</td>\n",
              "      <td>0</td>\n",
              "      <td>0</td>\n",
              "    </tr>\n",
              "    <tr>\n",
              "      <th>4</th>\n",
              "      <td>172</td>\n",
              "      <td>1</td>\n",
              "      <td>0</td>\n",
              "      <td>0</td>\n",
              "      <td>0</td>\n",
              "    </tr>\n",
              "    <tr>\n",
              "      <th>5</th>\n",
              "      <td>208</td>\n",
              "      <td>1</td>\n",
              "      <td>1</td>\n",
              "      <td>0</td>\n",
              "      <td>1</td>\n",
              "    </tr>\n",
              "  </tbody>\n",
              "</table>\n",
              "</div>\n",
              "      <button class=\"colab-df-convert\" onclick=\"convertToInteractive('df-31c3625c-4a95-4064-9ff5-d07c2a80821f')\"\n",
              "              title=\"Convert this dataframe to an interactive table.\"\n",
              "              style=\"display:none;\">\n",
              "        \n",
              "  <svg xmlns=\"http://www.w3.org/2000/svg\" height=\"24px\"viewBox=\"0 0 24 24\"\n",
              "       width=\"24px\">\n",
              "    <path d=\"M0 0h24v24H0V0z\" fill=\"none\"/>\n",
              "    <path d=\"M18.56 5.44l.94 2.06.94-2.06 2.06-.94-2.06-.94-.94-2.06-.94 2.06-2.06.94zm-11 1L8.5 8.5l.94-2.06 2.06-.94-2.06-.94L8.5 2.5l-.94 2.06-2.06.94zm10 10l.94 2.06.94-2.06 2.06-.94-2.06-.94-.94-2.06-.94 2.06-2.06.94z\"/><path d=\"M17.41 7.96l-1.37-1.37c-.4-.4-.92-.59-1.43-.59-.52 0-1.04.2-1.43.59L10.3 9.45l-7.72 7.72c-.78.78-.78 2.05 0 2.83L4 21.41c.39.39.9.59 1.41.59.51 0 1.02-.2 1.41-.59l7.78-7.78 2.81-2.81c.8-.78.8-2.07 0-2.86zM5.41 20L4 18.59l7.72-7.72 1.47 1.35L5.41 20z\"/>\n",
              "  </svg>\n",
              "      </button>\n",
              "      \n",
              "  <style>\n",
              "    .colab-df-container {\n",
              "      display:flex;\n",
              "      flex-wrap:wrap;\n",
              "      gap: 12px;\n",
              "    }\n",
              "\n",
              "    .colab-df-convert {\n",
              "      background-color: #E8F0FE;\n",
              "      border: none;\n",
              "      border-radius: 50%;\n",
              "      cursor: pointer;\n",
              "      display: none;\n",
              "      fill: #1967D2;\n",
              "      height: 32px;\n",
              "      padding: 0 0 0 0;\n",
              "      width: 32px;\n",
              "    }\n",
              "\n",
              "    .colab-df-convert:hover {\n",
              "      background-color: #E2EBFA;\n",
              "      box-shadow: 0px 1px 2px rgba(60, 64, 67, 0.3), 0px 1px 3px 1px rgba(60, 64, 67, 0.15);\n",
              "      fill: #174EA6;\n",
              "    }\n",
              "\n",
              "    [theme=dark] .colab-df-convert {\n",
              "      background-color: #3B4455;\n",
              "      fill: #D2E3FC;\n",
              "    }\n",
              "\n",
              "    [theme=dark] .colab-df-convert:hover {\n",
              "      background-color: #434B5C;\n",
              "      box-shadow: 0px 1px 3px 1px rgba(0, 0, 0, 0.15);\n",
              "      filter: drop-shadow(0px 1px 2px rgba(0, 0, 0, 0.3));\n",
              "      fill: #FFFFFF;\n",
              "    }\n",
              "  </style>\n",
              "\n",
              "      <script>\n",
              "        const buttonEl =\n",
              "          document.querySelector('#df-31c3625c-4a95-4064-9ff5-d07c2a80821f button.colab-df-convert');\n",
              "        buttonEl.style.display =\n",
              "          google.colab.kernel.accessAllowed ? 'block' : 'none';\n",
              "\n",
              "        async function convertToInteractive(key) {\n",
              "          const element = document.querySelector('#df-31c3625c-4a95-4064-9ff5-d07c2a80821f');\n",
              "          const dataTable =\n",
              "            await google.colab.kernel.invokeFunction('convertToInteractive',\n",
              "                                                     [key], {});\n",
              "          if (!dataTable) return;\n",
              "\n",
              "          const docLinkHtml = 'Like what you see? Visit the ' +\n",
              "            '<a target=\"_blank\" href=https://colab.research.google.com/notebooks/data_table.ipynb>data table notebook</a>'\n",
              "            + ' to learn more about interactive tables.';\n",
              "          element.innerHTML = '';\n",
              "          dataTable['output_type'] = 'display_data';\n",
              "          await google.colab.output.renderOutput(dataTable, element);\n",
              "          const docLink = document.createElement('div');\n",
              "          docLink.innerHTML = docLinkHtml;\n",
              "          element.appendChild(docLink);\n",
              "        }\n",
              "      </script>\n",
              "    </div>\n",
              "  </div>\n",
              "  "
            ]
          },
          "metadata": {},
          "execution_count": 49
        }
      ]
    },
    {
      "cell_type": "code",
      "source": [
        "from sklearn.model_selection import cross_val_score,KFold"
      ],
      "metadata": {
        "id": "BUOsgq62Ui1_"
      },
      "execution_count": null,
      "outputs": []
    },
    {
      "cell_type": "code",
      "source": [
        "model_final=LinearRegression()"
      ],
      "metadata": {
        "id": "uxJjMXIUUon4"
      },
      "execution_count": null,
      "outputs": []
    },
    {
      "cell_type": "code",
      "source": [
        "kf=KFold(n_splits=3,shuffle=True,random_state=0)\n",
        "scores=cross_val_score(model_final,X_final_prod,Y,cv=kf,scoring='neg_root_mean_squared_error')\n",
        "print('Bias Error',np.mean(np.abs(scores)))\n",
        "print('Var Error',np.std(np.abs(scores),ddof=1))"
      ],
      "metadata": {
        "colab": {
          "base_uri": "https://localhost:8080/"
        },
        "id": "u6FcY8A9UsWg",
        "outputId": "b3205c65-a170-4876-9d22-b7625c46943d"
      },
      "execution_count": null,
      "outputs": [
        {
          "output_type": "stream",
          "name": "stdout",
          "text": [
            "Bias Error 5.912328701186055\n",
            "Var Error 1.1524039201464258\n"
          ]
        }
      ]
    },
    {
      "cell_type": "code",
      "source": [],
      "metadata": {
        "colab": {
          "base_uri": "https://localhost:8080/"
        },
        "id": "JBlvEyCpFZYO",
        "outputId": "fb982e6b-acfc-4a91-e2dd-53820741c45e"
      },
      "execution_count": null,
      "outputs": [
        {
          "output_type": "stream",
          "name": "stdout",
          "text": [
            "Index(['Horsepower', 'Passengers', 'Wheelbase', 'Width', 'Turn.circle',\n",
            "       'Rear.seat.room', 'Type_Midsize', 'Type_Sporty', 'AirBags_None',\n",
            "       'DriveTrain_Rear', 'Cylinders_6', 'Cylinders_8'],\n",
            "      dtype='object')\n"
          ]
        }
      ]
    },
    {
      "cell_type": "code",
      "metadata": {
        "id": "bx94NkvZcuPN",
        "colab": {
          "base_uri": "https://localhost:8080/"
        },
        "outputId": "5776e299-d4f1-452e-ec13-3575d92ca2db"
      },
      "source": [],
      "execution_count": null,
      "outputs": [
        {
          "output_type": "execute_result",
          "data": {
            "text/plain": [
              "(93, 8)"
            ]
          },
          "metadata": {},
          "execution_count": 41
        }
      ]
    },
    {
      "cell_type": "code",
      "source": [
        "X_new.columns"
      ],
      "metadata": {
        "colab": {
          "base_uri": "https://localhost:8080/"
        },
        "id": "nbzrjPQ_cdiL",
        "outputId": "812f1111-fd24-43fd-8687-bfae0067336d"
      },
      "execution_count": null,
      "outputs": [
        {
          "output_type": "execute_result",
          "data": {
            "text/plain": [
              "Index(['Horsepower', 'Passengers', 'Wheelbase', 'Width', 'Turn.circle',\n",
              "       'Rear.seat.room', 'Type_Midsize', 'Type_Sporty', 'AirBags_None',\n",
              "       'DriveTrain_Rear', 'Cylinders_6', 'Cylinders_8'],\n",
              "      dtype='object')"
            ]
          },
          "metadata": {},
          "execution_count": 37
        }
      ]
    },
    {
      "cell_type": "code",
      "metadata": {
        "id": "Su8Ta6XRn2M-"
      },
      "source": [
        "X_new_c=sm.add_constant(X_new)"
      ],
      "execution_count": null,
      "outputs": []
    },
    {
      "cell_type": "code",
      "metadata": {
        "id": "Oce_pmf_n_kX"
      },
      "source": [
        "model3=sm.OLS(Y,X_new_c).fit()"
      ],
      "execution_count": null,
      "outputs": []
    },
    {
      "cell_type": "code",
      "metadata": {
        "id": "0n0LjPdJoDNn",
        "colab": {
          "base_uri": "https://localhost:8080/",
          "height": 625
        },
        "outputId": "10dd1ce6-653e-4869-b49a-57a2251b6c5d"
      },
      "source": [
        "model3.summary()"
      ],
      "execution_count": null,
      "outputs": [
        {
          "output_type": "execute_result",
          "data": {
            "text/plain": [
              "<class 'statsmodels.iolib.summary.Summary'>\n",
              "\"\"\"\n",
              "                            OLS Regression Results                            \n",
              "==============================================================================\n",
              "Dep. Variable:                  Price   R-squared:                       0.792\n",
              "Model:                            OLS   Adj. R-squared:                  0.773\n",
              "Method:                 Least Squares   F-statistic:                     40.08\n",
              "Date:                Sat, 29 Oct 2022   Prob (F-statistic):           1.51e-25\n",
              "Time:                        11:45:16   Log-Likelihood:                -269.27\n",
              "No. Observations:                  93   AIC:                             556.5\n",
              "Df Residuals:                      84   BIC:                             579.3\n",
              "Df Model:                           8                                         \n",
              "Covariance Type:            nonrobust                                         \n",
              "=======================================================================================\n",
              "                          coef    std err          t      P>|t|      [0.025      0.975]\n",
              "---------------------------------------------------------------------------------------\n",
              "const                  45.2793     13.385      3.383      0.001      18.662      71.897\n",
              "Horsepower              0.1137      0.015      7.468      0.000       0.083       0.144\n",
              "Fuel.tank.capacity      0.6133      0.305      2.011      0.047       0.007       1.220\n",
              "Wheelbase               0.4644      0.135      3.430      0.001       0.195       0.734\n",
              "Width                  -1.4171      0.268     -5.283      0.000      -1.951      -0.884\n",
              "Type_Midsize            2.8692      1.244      2.307      0.024       0.396       5.342\n",
              "AirBags_Driver only    -3.3025      1.435     -2.301      0.024      -6.157      -0.448\n",
              "AirBags_None           -6.1950      1.680     -3.687      0.000      -9.536      -2.854\n",
              "DriveTrain_Rear         4.6664      1.420      3.286      0.001       1.842       7.491\n",
              "==============================================================================\n",
              "Omnibus:                       25.799   Durbin-Watson:                   1.931\n",
              "Prob(Omnibus):                  0.000   Jarque-Bera (JB):               60.756\n",
              "Skew:                           0.968   Prob(JB):                     6.41e-14\n",
              "Kurtosis:                       6.454   Cond. No.                     5.50e+03\n",
              "==============================================================================\n",
              "\n",
              "Notes:\n",
              "[1] Standard Errors assume that the covariance matrix of the errors is correctly specified.\n",
              "[2] The condition number is large, 5.5e+03. This might indicate that there are\n",
              "strong multicollinearity or other numerical problems.\n",
              "\"\"\""
            ],
            "text/html": [
              "<table class=\"simpletable\">\n",
              "<caption>OLS Regression Results</caption>\n",
              "<tr>\n",
              "  <th>Dep. Variable:</th>          <td>Price</td>      <th>  R-squared:         </th> <td>   0.792</td>\n",
              "</tr>\n",
              "<tr>\n",
              "  <th>Model:</th>                   <td>OLS</td>       <th>  Adj. R-squared:    </th> <td>   0.773</td>\n",
              "</tr>\n",
              "<tr>\n",
              "  <th>Method:</th>             <td>Least Squares</td>  <th>  F-statistic:       </th> <td>   40.08</td>\n",
              "</tr>\n",
              "<tr>\n",
              "  <th>Date:</th>             <td>Sat, 29 Oct 2022</td> <th>  Prob (F-statistic):</th> <td>1.51e-25</td>\n",
              "</tr>\n",
              "<tr>\n",
              "  <th>Time:</th>                 <td>11:45:16</td>     <th>  Log-Likelihood:    </th> <td> -269.27</td>\n",
              "</tr>\n",
              "<tr>\n",
              "  <th>No. Observations:</th>      <td>    93</td>      <th>  AIC:               </th> <td>   556.5</td>\n",
              "</tr>\n",
              "<tr>\n",
              "  <th>Df Residuals:</th>          <td>    84</td>      <th>  BIC:               </th> <td>   579.3</td>\n",
              "</tr>\n",
              "<tr>\n",
              "  <th>Df Model:</th>              <td>     8</td>      <th>                     </th>     <td> </td>   \n",
              "</tr>\n",
              "<tr>\n",
              "  <th>Covariance Type:</th>      <td>nonrobust</td>    <th>                     </th>     <td> </td>   \n",
              "</tr>\n",
              "</table>\n",
              "<table class=\"simpletable\">\n",
              "<tr>\n",
              "           <td></td>              <th>coef</th>     <th>std err</th>      <th>t</th>      <th>P>|t|</th>  <th>[0.025</th>    <th>0.975]</th>  \n",
              "</tr>\n",
              "<tr>\n",
              "  <th>const</th>               <td>   45.2793</td> <td>   13.385</td> <td>    3.383</td> <td> 0.001</td> <td>   18.662</td> <td>   71.897</td>\n",
              "</tr>\n",
              "<tr>\n",
              "  <th>Horsepower</th>          <td>    0.1137</td> <td>    0.015</td> <td>    7.468</td> <td> 0.000</td> <td>    0.083</td> <td>    0.144</td>\n",
              "</tr>\n",
              "<tr>\n",
              "  <th>Fuel.tank.capacity</th>  <td>    0.6133</td> <td>    0.305</td> <td>    2.011</td> <td> 0.047</td> <td>    0.007</td> <td>    1.220</td>\n",
              "</tr>\n",
              "<tr>\n",
              "  <th>Wheelbase</th>           <td>    0.4644</td> <td>    0.135</td> <td>    3.430</td> <td> 0.001</td> <td>    0.195</td> <td>    0.734</td>\n",
              "</tr>\n",
              "<tr>\n",
              "  <th>Width</th>               <td>   -1.4171</td> <td>    0.268</td> <td>   -5.283</td> <td> 0.000</td> <td>   -1.951</td> <td>   -0.884</td>\n",
              "</tr>\n",
              "<tr>\n",
              "  <th>Type_Midsize</th>        <td>    2.8692</td> <td>    1.244</td> <td>    2.307</td> <td> 0.024</td> <td>    0.396</td> <td>    5.342</td>\n",
              "</tr>\n",
              "<tr>\n",
              "  <th>AirBags_Driver only</th> <td>   -3.3025</td> <td>    1.435</td> <td>   -2.301</td> <td> 0.024</td> <td>   -6.157</td> <td>   -0.448</td>\n",
              "</tr>\n",
              "<tr>\n",
              "  <th>AirBags_None</th>        <td>   -6.1950</td> <td>    1.680</td> <td>   -3.687</td> <td> 0.000</td> <td>   -9.536</td> <td>   -2.854</td>\n",
              "</tr>\n",
              "<tr>\n",
              "  <th>DriveTrain_Rear</th>     <td>    4.6664</td> <td>    1.420</td> <td>    3.286</td> <td> 0.001</td> <td>    1.842</td> <td>    7.491</td>\n",
              "</tr>\n",
              "</table>\n",
              "<table class=\"simpletable\">\n",
              "<tr>\n",
              "  <th>Omnibus:</th>       <td>25.799</td> <th>  Durbin-Watson:     </th> <td>   1.931</td>\n",
              "</tr>\n",
              "<tr>\n",
              "  <th>Prob(Omnibus):</th> <td> 0.000</td> <th>  Jarque-Bera (JB):  </th> <td>  60.756</td>\n",
              "</tr>\n",
              "<tr>\n",
              "  <th>Skew:</th>          <td> 0.968</td> <th>  Prob(JB):          </th> <td>6.41e-14</td>\n",
              "</tr>\n",
              "<tr>\n",
              "  <th>Kurtosis:</th>      <td> 6.454</td> <th>  Cond. No.          </th> <td>5.50e+03</td>\n",
              "</tr>\n",
              "</table><br/><br/>Notes:<br/>[1] Standard Errors assume that the covariance matrix of the errors is correctly specified.<br/>[2] The condition number is large, 5.5e+03. This might indicate that there are<br/>strong multicollinearity or other numerical problems."
            ]
          },
          "metadata": {},
          "execution_count": 44
        }
      ]
    },
    {
      "cell_type": "code",
      "source": [
        "X_new.corr()"
      ],
      "metadata": {
        "colab": {
          "base_uri": "https://localhost:8080/",
          "height": 399
        },
        "id": "miAlvzubQOJy",
        "outputId": "7cc3cf2a-521e-4722-b84d-a03582fb879b"
      },
      "execution_count": null,
      "outputs": [
        {
          "output_type": "execute_result",
          "data": {
            "text/plain": [
              "                     Horsepower  Fuel.tank.capacity  Wheelbase     Width  \\\n",
              "Horsepower             1.000000            0.711790   0.486854  0.644413   \n",
              "Fuel.tank.capacity     0.711790            1.000000   0.757674  0.798719   \n",
              "Wheelbase              0.486854            0.757674   1.000000  0.807213   \n",
              "Width                  0.644413            0.798719   0.807213  1.000000   \n",
              "Type_Midsize           0.312701            0.304716   0.284184  0.186609   \n",
              "AirBags_Driver only    0.141756            0.132412   0.112275  0.119447   \n",
              "AirBags_None          -0.422675           -0.295672  -0.333027 -0.361143   \n",
              "DriveTrain_Rear        0.405132            0.321158   0.230428  0.363675   \n",
              "\n",
              "                     Type_Midsize  AirBags_Driver only  AirBags_None  \\\n",
              "Horsepower               0.312701             0.141756     -0.422675   \n",
              "Fuel.tank.capacity       0.304716             0.132412     -0.295672   \n",
              "Wheelbase                0.284184             0.112275     -0.333027   \n",
              "Width                    0.186609             0.119447     -0.361143   \n",
              "Type_Midsize             1.000000             0.042018     -0.212413   \n",
              "AirBags_Driver only      0.042018             1.000000     -0.703984   \n",
              "AirBags_None            -0.212413            -0.703984      1.000000   \n",
              "DriveTrain_Rear          0.081458             0.148693     -0.286884   \n",
              "\n",
              "                     DriveTrain_Rear  \n",
              "Horsepower                  0.405132  \n",
              "Fuel.tank.capacity          0.321158  \n",
              "Wheelbase                   0.230428  \n",
              "Width                       0.363675  \n",
              "Type_Midsize                0.081458  \n",
              "AirBags_Driver only         0.148693  \n",
              "AirBags_None               -0.286884  \n",
              "DriveTrain_Rear             1.000000  "
            ],
            "text/html": [
              "\n",
              "  <div id=\"df-ea2037d0-5842-4407-91db-c84803e47acc\">\n",
              "    <div class=\"colab-df-container\">\n",
              "      <div>\n",
              "<style scoped>\n",
              "    .dataframe tbody tr th:only-of-type {\n",
              "        vertical-align: middle;\n",
              "    }\n",
              "\n",
              "    .dataframe tbody tr th {\n",
              "        vertical-align: top;\n",
              "    }\n",
              "\n",
              "    .dataframe thead th {\n",
              "        text-align: right;\n",
              "    }\n",
              "</style>\n",
              "<table border=\"1\" class=\"dataframe\">\n",
              "  <thead>\n",
              "    <tr style=\"text-align: right;\">\n",
              "      <th></th>\n",
              "      <th>Horsepower</th>\n",
              "      <th>Fuel.tank.capacity</th>\n",
              "      <th>Wheelbase</th>\n",
              "      <th>Width</th>\n",
              "      <th>Type_Midsize</th>\n",
              "      <th>AirBags_Driver only</th>\n",
              "      <th>AirBags_None</th>\n",
              "      <th>DriveTrain_Rear</th>\n",
              "    </tr>\n",
              "  </thead>\n",
              "  <tbody>\n",
              "    <tr>\n",
              "      <th>Horsepower</th>\n",
              "      <td>1.000000</td>\n",
              "      <td>0.711790</td>\n",
              "      <td>0.486854</td>\n",
              "      <td>0.644413</td>\n",
              "      <td>0.312701</td>\n",
              "      <td>0.141756</td>\n",
              "      <td>-0.422675</td>\n",
              "      <td>0.405132</td>\n",
              "    </tr>\n",
              "    <tr>\n",
              "      <th>Fuel.tank.capacity</th>\n",
              "      <td>0.711790</td>\n",
              "      <td>1.000000</td>\n",
              "      <td>0.757674</td>\n",
              "      <td>0.798719</td>\n",
              "      <td>0.304716</td>\n",
              "      <td>0.132412</td>\n",
              "      <td>-0.295672</td>\n",
              "      <td>0.321158</td>\n",
              "    </tr>\n",
              "    <tr>\n",
              "      <th>Wheelbase</th>\n",
              "      <td>0.486854</td>\n",
              "      <td>0.757674</td>\n",
              "      <td>1.000000</td>\n",
              "      <td>0.807213</td>\n",
              "      <td>0.284184</td>\n",
              "      <td>0.112275</td>\n",
              "      <td>-0.333027</td>\n",
              "      <td>0.230428</td>\n",
              "    </tr>\n",
              "    <tr>\n",
              "      <th>Width</th>\n",
              "      <td>0.644413</td>\n",
              "      <td>0.798719</td>\n",
              "      <td>0.807213</td>\n",
              "      <td>1.000000</td>\n",
              "      <td>0.186609</td>\n",
              "      <td>0.119447</td>\n",
              "      <td>-0.361143</td>\n",
              "      <td>0.363675</td>\n",
              "    </tr>\n",
              "    <tr>\n",
              "      <th>Type_Midsize</th>\n",
              "      <td>0.312701</td>\n",
              "      <td>0.304716</td>\n",
              "      <td>0.284184</td>\n",
              "      <td>0.186609</td>\n",
              "      <td>1.000000</td>\n",
              "      <td>0.042018</td>\n",
              "      <td>-0.212413</td>\n",
              "      <td>0.081458</td>\n",
              "    </tr>\n",
              "    <tr>\n",
              "      <th>AirBags_Driver only</th>\n",
              "      <td>0.141756</td>\n",
              "      <td>0.132412</td>\n",
              "      <td>0.112275</td>\n",
              "      <td>0.119447</td>\n",
              "      <td>0.042018</td>\n",
              "      <td>1.000000</td>\n",
              "      <td>-0.703984</td>\n",
              "      <td>0.148693</td>\n",
              "    </tr>\n",
              "    <tr>\n",
              "      <th>AirBags_None</th>\n",
              "      <td>-0.422675</td>\n",
              "      <td>-0.295672</td>\n",
              "      <td>-0.333027</td>\n",
              "      <td>-0.361143</td>\n",
              "      <td>-0.212413</td>\n",
              "      <td>-0.703984</td>\n",
              "      <td>1.000000</td>\n",
              "      <td>-0.286884</td>\n",
              "    </tr>\n",
              "    <tr>\n",
              "      <th>DriveTrain_Rear</th>\n",
              "      <td>0.405132</td>\n",
              "      <td>0.321158</td>\n",
              "      <td>0.230428</td>\n",
              "      <td>0.363675</td>\n",
              "      <td>0.081458</td>\n",
              "      <td>0.148693</td>\n",
              "      <td>-0.286884</td>\n",
              "      <td>1.000000</td>\n",
              "    </tr>\n",
              "  </tbody>\n",
              "</table>\n",
              "</div>\n",
              "      <button class=\"colab-df-convert\" onclick=\"convertToInteractive('df-ea2037d0-5842-4407-91db-c84803e47acc')\"\n",
              "              title=\"Convert this dataframe to an interactive table.\"\n",
              "              style=\"display:none;\">\n",
              "        \n",
              "  <svg xmlns=\"http://www.w3.org/2000/svg\" height=\"24px\"viewBox=\"0 0 24 24\"\n",
              "       width=\"24px\">\n",
              "    <path d=\"M0 0h24v24H0V0z\" fill=\"none\"/>\n",
              "    <path d=\"M18.56 5.44l.94 2.06.94-2.06 2.06-.94-2.06-.94-.94-2.06-.94 2.06-2.06.94zm-11 1L8.5 8.5l.94-2.06 2.06-.94-2.06-.94L8.5 2.5l-.94 2.06-2.06.94zm10 10l.94 2.06.94-2.06 2.06-.94-2.06-.94-.94-2.06-.94 2.06-2.06.94z\"/><path d=\"M17.41 7.96l-1.37-1.37c-.4-.4-.92-.59-1.43-.59-.52 0-1.04.2-1.43.59L10.3 9.45l-7.72 7.72c-.78.78-.78 2.05 0 2.83L4 21.41c.39.39.9.59 1.41.59.51 0 1.02-.2 1.41-.59l7.78-7.78 2.81-2.81c.8-.78.8-2.07 0-2.86zM5.41 20L4 18.59l7.72-7.72 1.47 1.35L5.41 20z\"/>\n",
              "  </svg>\n",
              "      </button>\n",
              "      \n",
              "  <style>\n",
              "    .colab-df-container {\n",
              "      display:flex;\n",
              "      flex-wrap:wrap;\n",
              "      gap: 12px;\n",
              "    }\n",
              "\n",
              "    .colab-df-convert {\n",
              "      background-color: #E8F0FE;\n",
              "      border: none;\n",
              "      border-radius: 50%;\n",
              "      cursor: pointer;\n",
              "      display: none;\n",
              "      fill: #1967D2;\n",
              "      height: 32px;\n",
              "      padding: 0 0 0 0;\n",
              "      width: 32px;\n",
              "    }\n",
              "\n",
              "    .colab-df-convert:hover {\n",
              "      background-color: #E2EBFA;\n",
              "      box-shadow: 0px 1px 2px rgba(60, 64, 67, 0.3), 0px 1px 3px 1px rgba(60, 64, 67, 0.15);\n",
              "      fill: #174EA6;\n",
              "    }\n",
              "\n",
              "    [theme=dark] .colab-df-convert {\n",
              "      background-color: #3B4455;\n",
              "      fill: #D2E3FC;\n",
              "    }\n",
              "\n",
              "    [theme=dark] .colab-df-convert:hover {\n",
              "      background-color: #434B5C;\n",
              "      box-shadow: 0px 1px 3px 1px rgba(0, 0, 0, 0.15);\n",
              "      filter: drop-shadow(0px 1px 2px rgba(0, 0, 0, 0.3));\n",
              "      fill: #FFFFFF;\n",
              "    }\n",
              "  </style>\n",
              "\n",
              "      <script>\n",
              "        const buttonEl =\n",
              "          document.querySelector('#df-ea2037d0-5842-4407-91db-c84803e47acc button.colab-df-convert');\n",
              "        buttonEl.style.display =\n",
              "          google.colab.kernel.accessAllowed ? 'block' : 'none';\n",
              "\n",
              "        async function convertToInteractive(key) {\n",
              "          const element = document.querySelector('#df-ea2037d0-5842-4407-91db-c84803e47acc');\n",
              "          const dataTable =\n",
              "            await google.colab.kernel.invokeFunction('convertToInteractive',\n",
              "                                                     [key], {});\n",
              "          if (!dataTable) return;\n",
              "\n",
              "          const docLinkHtml = 'Like what you see? Visit the ' +\n",
              "            '<a target=\"_blank\" href=https://colab.research.google.com/notebooks/data_table.ipynb>data table notebook</a>'\n",
              "            + ' to learn more about interactive tables.';\n",
              "          element.innerHTML = '';\n",
              "          dataTable['output_type'] = 'display_data';\n",
              "          await google.colab.output.renderOutput(dataTable, element);\n",
              "          const docLink = document.createElement('div');\n",
              "          docLink.innerHTML = docLinkHtml;\n",
              "          element.appendChild(docLink);\n",
              "        }\n",
              "      </script>\n",
              "    </div>\n",
              "  </div>\n",
              "  "
            ]
          },
          "metadata": {},
          "execution_count": 45
        }
      ]
    },
    {
      "cell_type": "code",
      "metadata": {
        "id": "U8Wr1_kpPvDX"
      },
      "source": [
        "from sklearn.model_selection import train_test_split,cross_val_score,KFold\n",
        "from sklearn import metrics"
      ],
      "execution_count": null,
      "outputs": []
    },
    {
      "cell_type": "code",
      "source": [
        "LR=LinearRegression()"
      ],
      "metadata": {
        "id": "yTK8YttLnJml"
      },
      "execution_count": null,
      "outputs": []
    },
    {
      "cell_type": "code",
      "source": [
        "xtrain,xtest,ytrain,ytest=train_test_split(X_new,Y,test_size=.3,random_state=0)"
      ],
      "metadata": {
        "id": "yXrCAs6ZQ0X1"
      },
      "execution_count": null,
      "outputs": []
    },
    {
      "cell_type": "code",
      "source": [
        "LR.fit(xtrain,ytrain)\n",
        "y_pred_test=LR.predict(xtest)\n",
        "mse=metrics.mean_squared_error(ytest,y_pred_test)\n",
        "rmse_test=np.sqrt(mse)\n",
        "print(rmse_test)"
      ],
      "metadata": {
        "colab": {
          "base_uri": "https://localhost:8080/"
        },
        "id": "hUOp9d-fQ1Hf",
        "outputId": "3d4ce816-bf8c-4c49-a252-c47177aadcce"
      },
      "execution_count": null,
      "outputs": [
        {
          "output_type": "stream",
          "name": "stdout",
          "text": [
            "5.087799939802419\n"
          ]
        }
      ]
    },
    {
      "cell_type": "code",
      "source": [
        "y_pred_train=LR.predict(xtrain)\n",
        "mse=metrics.mean_squared_error(ytrain,y_pred_train)\n",
        "rmse_train=np.sqrt(mse)\n",
        "print(rmse_train)"
      ],
      "metadata": {
        "colab": {
          "base_uri": "https://localhost:8080/"
        },
        "id": "cQsgduEoUcLq",
        "outputId": "6971ffe1-8c0f-4198-9b2f-61067a7773cb"
      },
      "execution_count": null,
      "outputs": [
        {
          "output_type": "stream",
          "name": "stdout",
          "text": [
            "3.8792365049307524\n"
          ]
        }
      ]
    },
    {
      "cell_type": "code",
      "source": [
        "#since testrmse>trainrmse, slightly model overfits"
      ],
      "metadata": {
        "id": "57GbkMiIQ1Ub"
      },
      "execution_count": null,
      "outputs": []
    },
    {
      "cell_type": "code",
      "source": [
        "#k-fold cross validation"
      ],
      "metadata": {
        "id": "EXrNfgG6VKll"
      },
      "execution_count": null,
      "outputs": []
    },
    {
      "cell_type": "code",
      "source": [
        "kf=KFold(n_splits=3,shuffle=True,random_state=0)\n",
        "scores=cross_val_score(LR,X_new,Y,cv=kf,scoring='neg_root_mean_squared_error')\n",
        "print(scores)"
      ],
      "metadata": {
        "colab": {
          "base_uri": "https://localhost:8080/"
        },
        "id": "XK_rWYEBVOSj",
        "outputId": "53a1b02e-d7e0-4ace-d868-d9aaf2b50cb4"
      },
      "execution_count": null,
      "outputs": [
        {
          "output_type": "stream",
          "name": "stdout",
          "text": [
            "[-5.10016546 -4.15401561 -5.56771874]\n"
          ]
        }
      ]
    },
    {
      "cell_type": "code",
      "source": [
        "print('Bias_Error',np.mean(np.abs(scores)))\n",
        "print('Variance_Error',np.std(np.abs(scores),ddof=1))"
      ],
      "metadata": {
        "colab": {
          "base_uri": "https://localhost:8080/"
        },
        "id": "jgabdM4IVOlx",
        "outputId": "c846d924-2b6f-4716-ef05-0c4dbb9789ca"
      },
      "execution_count": null,
      "outputs": [
        {
          "output_type": "stream",
          "name": "stdout",
          "text": [
            "Bias_Error 4.9406332700900455\n",
            "Variance_Error 0.7202270652266595\n"
          ]
        }
      ]
    },
    {
      "cell_type": "code",
      "source": [
        "X_new['Horsepower'].std()"
      ],
      "metadata": {
        "colab": {
          "base_uri": "https://localhost:8080/"
        },
        "id": "2ZJUnlYBVOvR",
        "outputId": "d01a144d-03f4-43e7-dafd-ce4f6e2afad6"
      },
      "execution_count": null,
      "outputs": [
        {
          "output_type": "execute_result",
          "data": {
            "text/plain": [
              "52.37440954443844"
            ]
          },
          "metadata": {},
          "execution_count": 54
        }
      ]
    },
    {
      "cell_type": "code",
      "source": [
        "np.std(X_new['Horsepower'],ddof=1)"
      ],
      "metadata": {
        "colab": {
          "base_uri": "https://localhost:8080/"
        },
        "id": "_pCGlsIBQ1fM",
        "outputId": "a8cbba31-9fbf-47ae-8c4e-2fc7bf117f97"
      },
      "execution_count": null,
      "outputs": [
        {
          "output_type": "execute_result",
          "data": {
            "text/plain": [
              "52.37440954443844"
            ]
          },
          "metadata": {},
          "execution_count": 56
        }
      ]
    },
    {
      "cell_type": "code",
      "source": [],
      "metadata": {
        "id": "EIaEJ3RKQ1p2"
      },
      "execution_count": null,
      "outputs": []
    },
    {
      "cell_type": "code",
      "source": [],
      "metadata": {
        "id": "-wr2AysqQ1zY"
      },
      "execution_count": null,
      "outputs": []
    },
    {
      "cell_type": "code",
      "source": [],
      "metadata": {
        "id": "V9uZlhTPQ18l"
      },
      "execution_count": null,
      "outputs": []
    },
    {
      "cell_type": "code",
      "source": [],
      "metadata": {
        "id": "Sg4uSJWNQ2Ft"
      },
      "execution_count": null,
      "outputs": []
    },
    {
      "cell_type": "code",
      "source": [],
      "metadata": {
        "id": "vbQ4nrMTQ2QJ"
      },
      "execution_count": null,
      "outputs": []
    },
    {
      "cell_type": "code",
      "metadata": {
        "colab": {
          "base_uri": "https://localhost:8080/"
        },
        "id": "2tQLhTT3-g2y",
        "outputId": "85eca6ee-4a5e-4a57-d3ec-e365d5bb4e70"
      },
      "source": [
        "kf=KFold(n_splits=3,shuffle=True,random_state=0)\n",
        "rmse=cross_val_score(LR,X_new,Y,cv=kf,scoring='neg_root_mean_squared_error')\n",
        "LR_be=np.mean(np.abs(rmse))\n",
        "LR_ve=np.std(np.abs(rmse),ddof=1)\n",
        "print('Bias_Error',LR_be)\n",
        "print('VAR_Error',LR_ve)"
      ],
      "execution_count": null,
      "outputs": [
        {
          "output_type": "stream",
          "name": "stdout",
          "text": [
            "Bias_Error 4.9406332700900455\n",
            "VAR_Error 0.7202270652266595\n"
          ]
        }
      ]
    },
    {
      "cell_type": "code",
      "source": [
        "rmse"
      ],
      "metadata": {
        "colab": {
          "base_uri": "https://localhost:8080/"
        },
        "id": "i4usgv2zf3EE",
        "outputId": "0f8101c8-090e-4c04-d817-77d441b80df8"
      },
      "execution_count": null,
      "outputs": [
        {
          "output_type": "execute_result",
          "data": {
            "text/plain": [
              "array([-5.10016546, -4.15401561, -5.56771874])"
            ]
          },
          "metadata": {},
          "execution_count": 37
        }
      ]
    },
    {
      "cell_type": "code",
      "source": [
        "X_new['Horsepower'].std()"
      ],
      "metadata": {
        "colab": {
          "base_uri": "https://localhost:8080/"
        },
        "id": "KZ884BYggFuu",
        "outputId": "2478f9f1-9226-4e45-a894-44a6279bfdee"
      },
      "execution_count": null,
      "outputs": [
        {
          "output_type": "execute_result",
          "data": {
            "text/plain": [
              "52.37440954443844"
            ]
          },
          "metadata": {},
          "execution_count": 38
        }
      ]
    },
    {
      "cell_type": "code",
      "metadata": {
        "id": "OyafHm24-kQY",
        "colab": {
          "base_uri": "https://localhost:8080/"
        },
        "outputId": "df5af3f3-2126-4450-8eb0-2a51995a1deb"
      },
      "source": [
        "np.std(X_new['Horsepower'],ddof=1)"
      ],
      "execution_count": null,
      "outputs": [
        {
          "output_type": "execute_result",
          "data": {
            "text/plain": [
              "52.37440954443844"
            ]
          },
          "metadata": {},
          "execution_count": 40
        }
      ]
    },
    {
      "cell_type": "code",
      "metadata": {
        "id": "B0P9Ngmb-kVF"
      },
      "source": [],
      "execution_count": null,
      "outputs": []
    },
    {
      "cell_type": "code",
      "metadata": {
        "id": "sDh8zPrG-kZF"
      },
      "source": [],
      "execution_count": null,
      "outputs": []
    },
    {
      "cell_type": "code",
      "metadata": {
        "colab": {
          "base_uri": "https://localhost:8080/"
        },
        "id": "7PiZK41ZPqHH",
        "outputId": "3bf4936c-1d32-42d3-b80c-de2aaad72b0d"
      },
      "source": [
        "xtrain,xtest,ytrain,ytest=train_test_split(X_new,Y,test_size=0.3,random_state=0)\n",
        "xtrain.shape,xtest.shape,ytrain.shape,ytest.shape"
      ],
      "execution_count": null,
      "outputs": [
        {
          "output_type": "execute_result",
          "data": {
            "text/plain": [
              "((65, 7), (28, 7), (65,), (28,))"
            ]
          },
          "metadata": {
            "tags": []
          },
          "execution_count": 29
        }
      ]
    },
    {
      "cell_type": "code",
      "metadata": {
        "id": "o5zpAq_7Pqm4"
      },
      "source": [
        "from sklearn.linear_model import LinearRegression,LogisticRegression\n",
        "from sklearn import metrics"
      ],
      "execution_count": null,
      "outputs": []
    },
    {
      "cell_type": "code",
      "metadata": {
        "colab": {
          "base_uri": "https://localhost:8080/"
        },
        "id": "ZTRXYitfPqp-",
        "outputId": "6e0a4f6c-f0a9-469a-f08e-d18e6b871558"
      },
      "source": [
        "LR=LinearRegression()\n",
        "LR.fit(xtrain,ytrain)\n",
        "y_pred_test=LR.predict(xtest)\n",
        "y_pred_test"
      ],
      "execution_count": null,
      "outputs": [
        {
          "output_type": "execute_result",
          "data": {
            "text/plain": [
              "array([22.95454693,  5.74671113, 16.90558687, 10.37405413, 22.05428052,\n",
              "       34.05018862,  8.73566671, 10.33931377, 19.91112279, 17.26004655,\n",
              "       11.32517388, 24.46271949, 32.9551327 , 24.07111088, 10.43679271,\n",
              "       12.76492285, 22.25231249, 10.12754192, 17.43861086, 29.67791224,\n",
              "       17.65376219, 26.42643131, 14.376249  , 18.76302745, 15.36047435,\n",
              "        8.09267207, 14.17462885, 26.57949928])"
            ]
          },
          "metadata": {
            "tags": []
          },
          "execution_count": 37
        }
      ]
    },
    {
      "cell_type": "code",
      "metadata": {
        "colab": {
          "base_uri": "https://localhost:8080/"
        },
        "id": "ujXhzPzTPqth",
        "outputId": "6ce082d9-f469-4692-9900-481ccab369ef"
      },
      "source": [
        "#RMSE for test record\n",
        "mse_test=metrics.mean_squared_error(ytest,y_pred_test)\n",
        "rmse_test=np.sqrt(mse_test)\n",
        "print(rmse_test)"
      ],
      "execution_count": null,
      "outputs": [
        {
          "output_type": "stream",
          "text": [
            "4.683666032383939\n"
          ],
          "name": "stdout"
        }
      ]
    },
    {
      "cell_type": "code",
      "metadata": {
        "colab": {
          "base_uri": "https://localhost:8080/"
        },
        "id": "Xw5Uh-qzQ8Kt",
        "outputId": "ed1aeb65-0561-4384-c0ae-3bbc04312130"
      },
      "source": [
        "y_pred_train=LR.predict(xtrain)\n",
        "#RMSE for train record\n",
        "mse_train=metrics.mean_squared_error(ytrain,y_pred_train)\n",
        "rmse_train=np.sqrt(mse_train)\n",
        "print(rmse_train)"
      ],
      "execution_count": null,
      "outputs": [
        {
          "output_type": "stream",
          "text": [
            "4.551594659097972\n"
          ],
          "name": "stdout"
        }
      ]
    },
    {
      "cell_type": "code",
      "metadata": {
        "colab": {
          "base_uri": "https://localhost:8080/"
        },
        "id": "DcR7S6ISR2se",
        "outputId": "b4c0f65a-9b11-49d2-cfe6-18231786f3f9"
      },
      "source": [
        "LR=LinearRegression()\n",
        "from sklearn.model_selection import cross_val_score,KFold\n",
        "kf=KFold(n_splits=3,shuffle=True,random_state=0) #explicit definition\n",
        "mse=cross_val_score(LR,X_new,Y,cv=kf,scoring='neg_mean_squared_error')\n",
        "rmse=np.sqrt(np.abs(mse))\n",
        "rmse_avg=np.mean(rmse)\n",
        "rmse_sd=np.std(rmse,ddof=1)\n",
        "print('Bias_Error',rmse_avg)\n",
        "print('Var_Error',rmse_sd)"
      ],
      "execution_count": null,
      "outputs": [
        {
          "output_type": "stream",
          "text": [
            "Bias_Error 5.218925437412404\n",
            "Var_Error 0.8735244870523378\n"
          ],
          "name": "stdout"
        }
      ]
    },
    {
      "cell_type": "code",
      "metadata": {
        "colab": {
          "base_uri": "https://localhost:8080/"
        },
        "id": "13qTA3mSUQJw",
        "outputId": "4c17e9d7-88c7-4c18-da6f-e9c044534520"
      },
      "source": [
        "rmse"
      ],
      "execution_count": null,
      "outputs": [
        {
          "output_type": "execute_result",
          "data": {
            "text/plain": [
              "array([4.46042654, 5.02236711, 6.17398266])"
            ]
          },
          "metadata": {
            "tags": []
          },
          "execution_count": 41
        }
      ]
    }
  ]
}