{
  "cells": [
    {
      "cell_type": "markdown",
      "metadata": {
        "id": "view-in-github",
        "colab_type": "text"
      },
      "source": [
        "<a href=\"https://colab.research.google.com/github/SuryARavichan/PYTHON-FOR-DATA-SCIENCE-BDA-/blob/main/PDS_notebook6.ipynb\" target=\"_parent\"><img src=\"https://colab.research.google.com/assets/colab-badge.svg\" alt=\"Open In Colab\"/></a>"
      ]
    },
    {
      "cell_type": "markdown",
      "metadata": {
        "id": "BI6eC6ncqA6D"
      },
      "source": [
        "### About the data set  (Life Expectancy data)\n",
        "\n",
        "The dataset contains information about several health and economic factors that contribute to average life expectancy for different countries. <br> Attribute information: \n",
        "\n",
        "**Country:** Name of the country\n",
        "\n",
        "**Year:** Year the observations were recorded\n",
        "\n",
        "**Status:** Whether the country is Developed or Developing\n",
        "\n",
        "**Adult_Mortality:** Mortality rate for age group 15-60 out of every 1000 individuals of the population\n",
        "\n",
        "**Infant_Deaths:** Number of infant deaths per 1000 population\n",
        "\n",
        "**Alcohol:** Alcohol, recorded per capita (15+) consumption (in litres of pure alcohol)\n",
        "\n",
        "**Hepatitis B:** Hepatitis B (HepB) immunization coverage for 1 year olds (Percentage)\n",
        "\n",
        "**Measles:** Number of reported cases for measles per 1000 from population\n",
        "\n",
        "**BMI:** Average Body Mass Index for entire population\n",
        "\n",
        "**Underfive_Deaths:** Number of deaths under 5 years of age per 1000 population\n",
        "\n",
        "**Polio:** Polio (Pol3) immunization coverage for 1 year olds (Percentage)\n",
        "\n",
        "**Diphtheria:** Diphtheria tetanus toxoid and pertussis (DTP3) immunization coverage for 1 year olds (Percentage)\n",
        "\n",
        "**HIV:** Deaths per 1000 live births due to HIV/AIDS (0-4 years)\n",
        "\n",
        "**GDP:** Gross Domestic Product per capita (in USD)\n",
        "\n",
        "**Population:** Population of the country\n",
        "\n",
        "**Malnourished10_19:** Prevalence of malnutrition among children and adolescents for Age 10 to 19 (Percentage)\n",
        "\n",
        "**Malnourished5_9:** Prevalence of malnutrition among children for Age 5 to 9 (Percentage)\n",
        "\n",
        "**Income_Index:** Human Development Index (HDI) in terms of national income per capita (index ranging from 0 to 1)\n",
        "\n",
        "**Schooling:** Number of years of Schooling\n",
        "\n",
        "**Life_Expectancy:** Life Expectancy in age for the country\n"
      ]
    },
    {
      "cell_type": "markdown",
      "metadata": {
        "id": "VNARCVvQqA6E"
      },
      "source": [
        "Data Cleaning and Exploratory Analysis"
      ]
    },
    {
      "cell_type": "code",
      "source": [
        "from warnings import filterwarnings\n",
        "filterwarnings('ignore')"
      ],
      "metadata": {
        "id": "gfHXrLZMdX7r"
      },
      "execution_count": null,
      "outputs": []
    },
    {
      "cell_type": "code",
      "execution_count": null,
      "metadata": {
        "id": "350vw_-HqA6F"
      },
      "outputs": [],
      "source": [
        "import pandas as pd \n",
        "import numpy as np\n",
        "import matplotlib.pyplot as plt\n",
        "import seaborn as sns\n",
        "# import function to perform linear regression using OLS\n",
        "import statsmodels.api as sm\n",
        "from sklearn.linear_model import LinearRegression\n",
        "# import StandardScaler to perform scaling\n",
        "from sklearn.preprocessing import StandardScaler "
      ]
    },
    {
      "cell_type": "code",
      "source": [
        "from google.colab import drive\n",
        "drive.mount('/content/drive')"
      ],
      "metadata": {
        "colab": {
          "base_uri": "https://localhost:8080/"
        },
        "id": "gQHP1oiUqSSX",
        "outputId": "b984e2b9-d14f-4cd7-ceb2-752aafaa9cc0"
      },
      "execution_count": null,
      "outputs": [
        {
          "output_type": "stream",
          "name": "stdout",
          "text": [
            "Mounted at /content/drive\n"
          ]
        }
      ]
    },
    {
      "cell_type": "markdown",
      "metadata": {
        "id": "l4TGkbA8qA6G"
      },
      "source": [
        "#### Load the Life expectancy dataset and display the first five records "
      ]
    },
    {
      "cell_type": "code",
      "execution_count": null,
      "metadata": {
        "colab": {
          "base_uri": "https://localhost:8080/",
          "height": 287
        },
        "id": "sa2mXXV0qA6G",
        "outputId": "0f44122f-a820-4d9f-d91b-6cda8139d32b"
      },
      "outputs": [
        {
          "output_type": "execute_result",
          "data": {
            "text/plain": [
              "       Country  Year      Status  Adult_Mortality  Infant_Deaths  Alcohol  \\\n",
              "0  Afghanistan  2015  Developing            263.0             62     0.01   \n",
              "1      Albania  2015  Developing             74.0              0     4.60   \n",
              "2      Algeria  2015  Developing             19.0             21      NaN   \n",
              "3       Angola  2015  Developing            335.0             66      NaN   \n",
              "4      Antigua  2015  Developing             13.0              0      NaN   \n",
              "\n",
              "   Hepatitis B  Measles    BMI  Underfive_Deaths   Polio  Diphtheria   HIV  \\\n",
              "0         65.0      1154  19.1                 83      6           65  0.1   \n",
              "1         99.0         0  58.0                  0     99           99  0.1   \n",
              "2         95.0        63  59.5                 24     95           95  0.1   \n",
              "3         64.0       118  23.3                 98      7           64  1.9   \n",
              "4         99.0         0  47.7                  0     86           99  0.2   \n",
              "\n",
              "            GDP  Population  Malnourished10_19  Malnourished5_9  Income_Index  \\\n",
              "0    584.259210  33736494.0               17.2             17.3         0.479   \n",
              "1   3954.227830     28873.0                1.2              1.3         0.762   \n",
              "2   4132.762920  39871528.0                6.0              5.8         0.743   \n",
              "3   3695.793748   2785935.0                8.3              8.2         0.531   \n",
              "4  13566.954100         NaN                3.3              3.3         0.784   \n",
              "\n",
              "   Schooling  Life_Expectancy  \n",
              "0       10.1             65.0  \n",
              "1       14.2             77.8  \n",
              "2       14.4             75.6  \n",
              "3       11.4             52.4  \n",
              "4       13.9             76.4  "
            ],
            "text/html": [
              "\n",
              "  <div id=\"df-21720857-3503-45e3-8d75-d24c80c67dfb\">\n",
              "    <div class=\"colab-df-container\">\n",
              "      <div>\n",
              "<style scoped>\n",
              "    .dataframe tbody tr th:only-of-type {\n",
              "        vertical-align: middle;\n",
              "    }\n",
              "\n",
              "    .dataframe tbody tr th {\n",
              "        vertical-align: top;\n",
              "    }\n",
              "\n",
              "    .dataframe thead th {\n",
              "        text-align: right;\n",
              "    }\n",
              "</style>\n",
              "<table border=\"1\" class=\"dataframe\">\n",
              "  <thead>\n",
              "    <tr style=\"text-align: right;\">\n",
              "      <th></th>\n",
              "      <th>Country</th>\n",
              "      <th>Year</th>\n",
              "      <th>Status</th>\n",
              "      <th>Adult_Mortality</th>\n",
              "      <th>Infant_Deaths</th>\n",
              "      <th>Alcohol</th>\n",
              "      <th>Hepatitis B</th>\n",
              "      <th>Measles</th>\n",
              "      <th>BMI</th>\n",
              "      <th>Underfive_Deaths</th>\n",
              "      <th>Polio</th>\n",
              "      <th>Diphtheria</th>\n",
              "      <th>HIV</th>\n",
              "      <th>GDP</th>\n",
              "      <th>Population</th>\n",
              "      <th>Malnourished10_19</th>\n",
              "      <th>Malnourished5_9</th>\n",
              "      <th>Income_Index</th>\n",
              "      <th>Schooling</th>\n",
              "      <th>Life_Expectancy</th>\n",
              "    </tr>\n",
              "  </thead>\n",
              "  <tbody>\n",
              "    <tr>\n",
              "      <th>0</th>\n",
              "      <td>Afghanistan</td>\n",
              "      <td>2015</td>\n",
              "      <td>Developing</td>\n",
              "      <td>263.0</td>\n",
              "      <td>62</td>\n",
              "      <td>0.01</td>\n",
              "      <td>65.0</td>\n",
              "      <td>1154</td>\n",
              "      <td>19.1</td>\n",
              "      <td>83</td>\n",
              "      <td>6</td>\n",
              "      <td>65</td>\n",
              "      <td>0.1</td>\n",
              "      <td>584.259210</td>\n",
              "      <td>33736494.0</td>\n",
              "      <td>17.2</td>\n",
              "      <td>17.3</td>\n",
              "      <td>0.479</td>\n",
              "      <td>10.1</td>\n",
              "      <td>65.0</td>\n",
              "    </tr>\n",
              "    <tr>\n",
              "      <th>1</th>\n",
              "      <td>Albania</td>\n",
              "      <td>2015</td>\n",
              "      <td>Developing</td>\n",
              "      <td>74.0</td>\n",
              "      <td>0</td>\n",
              "      <td>4.60</td>\n",
              "      <td>99.0</td>\n",
              "      <td>0</td>\n",
              "      <td>58.0</td>\n",
              "      <td>0</td>\n",
              "      <td>99</td>\n",
              "      <td>99</td>\n",
              "      <td>0.1</td>\n",
              "      <td>3954.227830</td>\n",
              "      <td>28873.0</td>\n",
              "      <td>1.2</td>\n",
              "      <td>1.3</td>\n",
              "      <td>0.762</td>\n",
              "      <td>14.2</td>\n",
              "      <td>77.8</td>\n",
              "    </tr>\n",
              "    <tr>\n",
              "      <th>2</th>\n",
              "      <td>Algeria</td>\n",
              "      <td>2015</td>\n",
              "      <td>Developing</td>\n",
              "      <td>19.0</td>\n",
              "      <td>21</td>\n",
              "      <td>NaN</td>\n",
              "      <td>95.0</td>\n",
              "      <td>63</td>\n",
              "      <td>59.5</td>\n",
              "      <td>24</td>\n",
              "      <td>95</td>\n",
              "      <td>95</td>\n",
              "      <td>0.1</td>\n",
              "      <td>4132.762920</td>\n",
              "      <td>39871528.0</td>\n",
              "      <td>6.0</td>\n",
              "      <td>5.8</td>\n",
              "      <td>0.743</td>\n",
              "      <td>14.4</td>\n",
              "      <td>75.6</td>\n",
              "    </tr>\n",
              "    <tr>\n",
              "      <th>3</th>\n",
              "      <td>Angola</td>\n",
              "      <td>2015</td>\n",
              "      <td>Developing</td>\n",
              "      <td>335.0</td>\n",
              "      <td>66</td>\n",
              "      <td>NaN</td>\n",
              "      <td>64.0</td>\n",
              "      <td>118</td>\n",
              "      <td>23.3</td>\n",
              "      <td>98</td>\n",
              "      <td>7</td>\n",
              "      <td>64</td>\n",
              "      <td>1.9</td>\n",
              "      <td>3695.793748</td>\n",
              "      <td>2785935.0</td>\n",
              "      <td>8.3</td>\n",
              "      <td>8.2</td>\n",
              "      <td>0.531</td>\n",
              "      <td>11.4</td>\n",
              "      <td>52.4</td>\n",
              "    </tr>\n",
              "    <tr>\n",
              "      <th>4</th>\n",
              "      <td>Antigua</td>\n",
              "      <td>2015</td>\n",
              "      <td>Developing</td>\n",
              "      <td>13.0</td>\n",
              "      <td>0</td>\n",
              "      <td>NaN</td>\n",
              "      <td>99.0</td>\n",
              "      <td>0</td>\n",
              "      <td>47.7</td>\n",
              "      <td>0</td>\n",
              "      <td>86</td>\n",
              "      <td>99</td>\n",
              "      <td>0.2</td>\n",
              "      <td>13566.954100</td>\n",
              "      <td>NaN</td>\n",
              "      <td>3.3</td>\n",
              "      <td>3.3</td>\n",
              "      <td>0.784</td>\n",
              "      <td>13.9</td>\n",
              "      <td>76.4</td>\n",
              "    </tr>\n",
              "  </tbody>\n",
              "</table>\n",
              "</div>\n",
              "      <button class=\"colab-df-convert\" onclick=\"convertToInteractive('df-21720857-3503-45e3-8d75-d24c80c67dfb')\"\n",
              "              title=\"Convert this dataframe to an interactive table.\"\n",
              "              style=\"display:none;\">\n",
              "        \n",
              "  <svg xmlns=\"http://www.w3.org/2000/svg\" height=\"24px\"viewBox=\"0 0 24 24\"\n",
              "       width=\"24px\">\n",
              "    <path d=\"M0 0h24v24H0V0z\" fill=\"none\"/>\n",
              "    <path d=\"M18.56 5.44l.94 2.06.94-2.06 2.06-.94-2.06-.94-.94-2.06-.94 2.06-2.06.94zm-11 1L8.5 8.5l.94-2.06 2.06-.94-2.06-.94L8.5 2.5l-.94 2.06-2.06.94zm10 10l.94 2.06.94-2.06 2.06-.94-2.06-.94-.94-2.06-.94 2.06-2.06.94z\"/><path d=\"M17.41 7.96l-1.37-1.37c-.4-.4-.92-.59-1.43-.59-.52 0-1.04.2-1.43.59L10.3 9.45l-7.72 7.72c-.78.78-.78 2.05 0 2.83L4 21.41c.39.39.9.59 1.41.59.51 0 1.02-.2 1.41-.59l7.78-7.78 2.81-2.81c.8-.78.8-2.07 0-2.86zM5.41 20L4 18.59l7.72-7.72 1.47 1.35L5.41 20z\"/>\n",
              "  </svg>\n",
              "      </button>\n",
              "      \n",
              "  <style>\n",
              "    .colab-df-container {\n",
              "      display:flex;\n",
              "      flex-wrap:wrap;\n",
              "      gap: 12px;\n",
              "    }\n",
              "\n",
              "    .colab-df-convert {\n",
              "      background-color: #E8F0FE;\n",
              "      border: none;\n",
              "      border-radius: 50%;\n",
              "      cursor: pointer;\n",
              "      display: none;\n",
              "      fill: #1967D2;\n",
              "      height: 32px;\n",
              "      padding: 0 0 0 0;\n",
              "      width: 32px;\n",
              "    }\n",
              "\n",
              "    .colab-df-convert:hover {\n",
              "      background-color: #E2EBFA;\n",
              "      box-shadow: 0px 1px 2px rgba(60, 64, 67, 0.3), 0px 1px 3px 1px rgba(60, 64, 67, 0.15);\n",
              "      fill: #174EA6;\n",
              "    }\n",
              "\n",
              "    [theme=dark] .colab-df-convert {\n",
              "      background-color: #3B4455;\n",
              "      fill: #D2E3FC;\n",
              "    }\n",
              "\n",
              "    [theme=dark] .colab-df-convert:hover {\n",
              "      background-color: #434B5C;\n",
              "      box-shadow: 0px 1px 3px 1px rgba(0, 0, 0, 0.15);\n",
              "      filter: drop-shadow(0px 1px 2px rgba(0, 0, 0, 0.3));\n",
              "      fill: #FFFFFF;\n",
              "    }\n",
              "  </style>\n",
              "\n",
              "      <script>\n",
              "        const buttonEl =\n",
              "          document.querySelector('#df-21720857-3503-45e3-8d75-d24c80c67dfb button.colab-df-convert');\n",
              "        buttonEl.style.display =\n",
              "          google.colab.kernel.accessAllowed ? 'block' : 'none';\n",
              "\n",
              "        async function convertToInteractive(key) {\n",
              "          const element = document.querySelector('#df-21720857-3503-45e3-8d75-d24c80c67dfb');\n",
              "          const dataTable =\n",
              "            await google.colab.kernel.invokeFunction('convertToInteractive',\n",
              "                                                     [key], {});\n",
              "          if (!dataTable) return;\n",
              "\n",
              "          const docLinkHtml = 'Like what you see? Visit the ' +\n",
              "            '<a target=\"_blank\" href=https://colab.research.google.com/notebooks/data_table.ipynb>data table notebook</a>'\n",
              "            + ' to learn more about interactive tables.';\n",
              "          element.innerHTML = '';\n",
              "          dataTable['output_type'] = 'display_data';\n",
              "          await google.colab.output.renderOutput(dataTable, element);\n",
              "          const docLink = document.createElement('div');\n",
              "          docLink.innerHTML = docLinkHtml;\n",
              "          element.appendChild(docLink);\n",
              "        }\n",
              "      </script>\n",
              "    </div>\n",
              "  </div>\n",
              "  "
            ]
          },
          "metadata": {},
          "execution_count": 52
        }
      ],
      "source": [
        "# load the csv file\n",
        "df_lifeExp = pd.read_csv('/content/drive/My Drive/Python Basics/Life_Expectancy.csv')\n",
        "\n",
        "# display the first five observations\n",
        "df_lifeExp.head()"
      ]
    },
    {
      "cell_type": "markdown",
      "metadata": {
        "id": "Qai4y-FnqA6H"
      },
      "source": [
        "#### Check the shape of the data and display its information"
      ]
    },
    {
      "cell_type": "code",
      "execution_count": null,
      "metadata": {
        "colab": {
          "base_uri": "https://localhost:8080/"
        },
        "id": "-1p3E95XqA6I",
        "outputId": "def580ce-3fec-45ee-ade3-a23a507bdc4f"
      },
      "outputs": [
        {
          "output_type": "execute_result",
          "data": {
            "text/plain": [
              "(182, 20)"
            ]
          },
          "metadata": {},
          "execution_count": 53
        }
      ],
      "source": [
        "# check the size of the dataframe\n",
        "df_lifeExp.shape"
      ]
    },
    {
      "cell_type": "code",
      "execution_count": null,
      "metadata": {
        "colab": {
          "base_uri": "https://localhost:8080/"
        },
        "id": "1Zh_P1tBqA6J",
        "outputId": "b8d952b1-882e-4e32-ea66-fe21d88702d2"
      },
      "outputs": [
        {
          "output_type": "stream",
          "name": "stdout",
          "text": [
            "<class 'pandas.core.frame.DataFrame'>\n",
            "RangeIndex: 182 entries, 0 to 181\n",
            "Data columns (total 20 columns):\n",
            " #   Column             Non-Null Count  Dtype  \n",
            "---  ------             --------------  -----  \n",
            " 0   Country            182 non-null    object \n",
            " 1   Year               182 non-null    int64  \n",
            " 2   Status             182 non-null    object \n",
            " 3   Adult_Mortality    173 non-null    float64\n",
            " 4   Infant_Deaths      182 non-null    int64  \n",
            " 5   Alcohol            15 non-null     float64\n",
            " 6   Hepatitis B        173 non-null    float64\n",
            " 7   Measles            182 non-null    int64  \n",
            " 8   BMI                178 non-null    float64\n",
            " 9   Underfive_Deaths   182 non-null    int64  \n",
            " 10  Polio              182 non-null    int64  \n",
            " 11  Diphtheria         182 non-null    int64  \n",
            " 12  HIV                182 non-null    float64\n",
            " 13  GDP                157 non-null    float64\n",
            " 14  Population         141 non-null    float64\n",
            " 15  Malnourished10_19  178 non-null    float64\n",
            " 16  Malnourished5_9    178 non-null    float64\n",
            " 17  Income_Index       169 non-null    float64\n",
            " 18  Schooling          173 non-null    float64\n",
            " 19  Life_Expectancy    173 non-null    float64\n",
            "dtypes: float64(12), int64(6), object(2)\n",
            "memory usage: 28.6+ KB\n"
          ]
        }
      ],
      "source": [
        "# use 'info()' to understand the dataset\n",
        "df_lifeExp.info()"
      ]
    },
    {
      "cell_type": "markdown",
      "metadata": {
        "id": "cUsPsRM_qA6J"
      },
      "source": [
        "**Interpretation:** The variables 'Country' and 'Status' are categorical. All the remaining variables are numerical."
      ]
    },
    {
      "cell_type": "markdown",
      "metadata": {
        "id": "c6laLo6qqA6K"
      },
      "source": [
        "<a id=\"eda\"> </a>\n",
        "## Data Preparation"
      ]
    },
    {
      "cell_type": "markdown",
      "metadata": {
        "collapsed": true,
        "id": "TFEoY2rYqA6K"
      },
      "source": [
        "<table align=\"left\">\n",
        "    <tr>\n",
        "        <td width=\"6%\">\n",
        "            <img src=\"question_icon.png\">\n",
        "        </td>\n",
        "        <td>\n",
        "            <div align=\"left\", style=\"font-size:120%\">\n",
        "                <font color=\"#21618C\">\n",
        "                    <b>1. The dataset gives the life expectancy for different countries. Check if any information about life expectancy is missing from the given records. How do we fix the problem if present?</b>\n",
        "                </font>\n",
        "            </div>\n",
        "        </td>\n",
        "    </tr>\n",
        "</table>"
      ]
    },
    {
      "cell_type": "code",
      "execution_count": null,
      "metadata": {
        "colab": {
          "base_uri": "https://localhost:8080/"
        },
        "id": "AoKiShK6qA6K",
        "outputId": "9e8c9404-f756-4865-d8fb-247647da059c"
      },
      "outputs": [
        {
          "output_type": "execute_result",
          "data": {
            "text/plain": [
              "9"
            ]
          },
          "metadata": {},
          "execution_count": 54
        }
      ],
      "source": [
        "# find total number of missing values in column 'Life_Expectancy'\n",
        "df_lifeExp.Life_Expectancy.isnull().sum()"
      ]
    },
    {
      "cell_type": "markdown",
      "metadata": {
        "id": "hcAP0XZ6qA6L"
      },
      "source": [
        "We can see that the target variable contains 9 missing value records, hence we find the index values of such records."
      ]
    },
    {
      "cell_type": "code",
      "execution_count": null,
      "metadata": {
        "colab": {
          "base_uri": "https://localhost:8080/"
        },
        "id": "RXB95UkGqA6L",
        "outputId": "43022435-11d8-411d-f8ec-b225803cb38b"
      },
      "outputs": [
        {
          "output_type": "execute_result",
          "data": {
            "text/plain": [
              "[46, 100, 104, 111, 118, 122, 135, 138, 168]"
            ]
          },
          "metadata": {},
          "execution_count": 55
        }
      ],
      "source": [
        "# isnull() returns the boolean output, returns True for record where null value is present\n",
        "na_data = df_lifeExp.Life_Expectancy.isnull() \n",
        "\n",
        "# obtain a list of all records where indicating value is true \n",
        "na_data.index[na_data == True].tolist()"
      ]
    },
    {
      "cell_type": "code",
      "source": [],
      "metadata": {
        "id": "A79BZJKltZQB"
      },
      "execution_count": null,
      "outputs": []
    },
    {
      "cell_type": "code",
      "execution_count": null,
      "metadata": {
        "colab": {
          "base_uri": "https://localhost:8080/"
        },
        "id": "pJmrsKX0qA6L",
        "outputId": "9561e9f7-275f-4875-d26d-90b166ea0103"
      },
      "outputs": [
        {
          "output_type": "execute_result",
          "data": {
            "text/plain": [
              "0"
            ]
          },
          "metadata": {},
          "execution_count": 56
        }
      ],
      "source": [
        "# drop all the records for which target variable information is missing by index\n",
        "df_lifeExp = df_lifeExp.drop(df_lifeExp.index[[46, 100, 104, 111, 118, 122, 135, 138, 168]])\n",
        "\n",
        "# find total number of missing values in column 'Life_Expectancy'\n",
        "df_lifeExp.Life_Expectancy.isnull().sum()"
      ]
    },
    {
      "cell_type": "code",
      "source": [
        "df_lifeExp.shape"
      ],
      "metadata": {
        "colab": {
          "base_uri": "https://localhost:8080/"
        },
        "id": "soctegwEJoCK",
        "outputId": "207dba2f-07e2-4682-8d43-f8053eb96002"
      },
      "execution_count": null,
      "outputs": [
        {
          "output_type": "execute_result",
          "data": {
            "text/plain": [
              "(173, 20)"
            ]
          },
          "metadata": {},
          "execution_count": 57
        }
      ]
    },
    {
      "cell_type": "markdown",
      "metadata": {
        "id": "-fb3YkrGqA6M"
      },
      "source": [
        "After finding the records where information about life expectancy was missing we have altogether dropped them. This is because these records can niether be used for training nor evaluation. "
      ]
    },
    {
      "cell_type": "markdown",
      "metadata": {
        "collapsed": true,
        "id": "0OFKkknXqA6M"
      },
      "source": [
        "<table align=\"left\">\n",
        "    <tr>\n",
        "        <td width=\"6%\">\n",
        "            <img src=\"question_icon.png\">\n",
        "        </td>\n",
        "        <td>\n",
        "            <div align=\"left\", style=\"font-size:120%\">\n",
        "                <font color=\"#21618C\">\n",
        "                    <b>2. How do we handle the missing values from the entire dataset?</b>\n",
        "                </font>\n",
        "            </div>\n",
        "        </td>\n",
        "    </tr>\n",
        "</table>"
      ]
    },
    {
      "cell_type": "code",
      "execution_count": null,
      "metadata": {
        "colab": {
          "base_uri": "https://localhost:8080/"
        },
        "id": "il03bKtiqA6M",
        "outputId": "7e1a4351-a3a0-40b1-aa3f-75899233f722"
      },
      "outputs": [
        {
          "output_type": "execute_result",
          "data": {
            "text/plain": [
              "(173, 20)"
            ]
          },
          "metadata": {},
          "execution_count": 24
        }
      ],
      "source": [
        "# check the size of the dataframe\n",
        "df_lifeExp.shape"
      ]
    },
    {
      "cell_type": "code",
      "source": [
        "Total = df_lifeExp.isnull().sum().sort_values(ascending=False)  \n",
        "Total"
      ],
      "metadata": {
        "colab": {
          "base_uri": "https://localhost:8080/"
        },
        "id": "tXqqadjo0ABs",
        "outputId": "c85b282e-1d2f-4c3c-8a41-1eb3f2842c17"
      },
      "execution_count": null,
      "outputs": [
        {
          "output_type": "execute_result",
          "data": {
            "text/plain": [
              "Alcohol              166\n",
              "Population            34\n",
              "GDP                   21\n",
              "Hepatitis B            9\n",
              "Schooling              7\n",
              "Income_Index           7\n",
              "Malnourished5_9        2\n",
              "Malnourished10_19      2\n",
              "BMI                    2\n",
              "Country                0\n",
              "HIV                    0\n",
              "Polio                  0\n",
              "Diphtheria             0\n",
              "Year                   0\n",
              "Underfive_Deaths       0\n",
              "Measles                0\n",
              "Infant_Deaths          0\n",
              "Adult_Mortality        0\n",
              "Status                 0\n",
              "Life_Expectancy        0\n",
              "dtype: int64"
            ]
          },
          "metadata": {},
          "execution_count": 25
        }
      ]
    },
    {
      "cell_type": "code",
      "source": [],
      "metadata": {
        "id": "TaWfvcl50AJh"
      },
      "execution_count": null,
      "outputs": []
    },
    {
      "cell_type": "code",
      "execution_count": null,
      "metadata": {
        "colab": {
          "base_uri": "https://localhost:8080/",
          "height": 677
        },
        "id": "i1Xl8gdwqA6M",
        "outputId": "6d69cd00-4499-49e7-9adf-09169ebc33f4"
      },
      "outputs": [
        {
          "output_type": "execute_result",
          "data": {
            "text/plain": [
              "                   Total    Percent\n",
              "Alcohol              166  95.953757\n",
              "Population            34  19.653179\n",
              "GDP                   21  12.138728\n",
              "Hepatitis B            9   5.202312\n",
              "Schooling              7   4.046243\n",
              "Income_Index           7   4.046243\n",
              "Malnourished5_9        2   1.156069\n",
              "Malnourished10_19      2   1.156069\n",
              "BMI                    2   1.156069\n",
              "Country                0   0.000000\n",
              "HIV                    0   0.000000\n",
              "Polio                  0   0.000000\n",
              "Diphtheria             0   0.000000\n",
              "Year                   0   0.000000\n",
              "Underfive_Deaths       0   0.000000\n",
              "Measles                0   0.000000\n",
              "Infant_Deaths          0   0.000000\n",
              "Adult_Mortality        0   0.000000\n",
              "Status                 0   0.000000\n",
              "Life_Expectancy        0   0.000000"
            ],
            "text/html": [
              "\n",
              "  <div id=\"df-bb31576a-6ad7-49d7-9a22-d8f436569d9d\">\n",
              "    <div class=\"colab-df-container\">\n",
              "      <div>\n",
              "<style scoped>\n",
              "    .dataframe tbody tr th:only-of-type {\n",
              "        vertical-align: middle;\n",
              "    }\n",
              "\n",
              "    .dataframe tbody tr th {\n",
              "        vertical-align: top;\n",
              "    }\n",
              "\n",
              "    .dataframe thead th {\n",
              "        text-align: right;\n",
              "    }\n",
              "</style>\n",
              "<table border=\"1\" class=\"dataframe\">\n",
              "  <thead>\n",
              "    <tr style=\"text-align: right;\">\n",
              "      <th></th>\n",
              "      <th>Total</th>\n",
              "      <th>Percent</th>\n",
              "    </tr>\n",
              "  </thead>\n",
              "  <tbody>\n",
              "    <tr>\n",
              "      <th>Alcohol</th>\n",
              "      <td>166</td>\n",
              "      <td>95.953757</td>\n",
              "    </tr>\n",
              "    <tr>\n",
              "      <th>Population</th>\n",
              "      <td>34</td>\n",
              "      <td>19.653179</td>\n",
              "    </tr>\n",
              "    <tr>\n",
              "      <th>GDP</th>\n",
              "      <td>21</td>\n",
              "      <td>12.138728</td>\n",
              "    </tr>\n",
              "    <tr>\n",
              "      <th>Hepatitis B</th>\n",
              "      <td>9</td>\n",
              "      <td>5.202312</td>\n",
              "    </tr>\n",
              "    <tr>\n",
              "      <th>Schooling</th>\n",
              "      <td>7</td>\n",
              "      <td>4.046243</td>\n",
              "    </tr>\n",
              "    <tr>\n",
              "      <th>Income_Index</th>\n",
              "      <td>7</td>\n",
              "      <td>4.046243</td>\n",
              "    </tr>\n",
              "    <tr>\n",
              "      <th>Malnourished5_9</th>\n",
              "      <td>2</td>\n",
              "      <td>1.156069</td>\n",
              "    </tr>\n",
              "    <tr>\n",
              "      <th>Malnourished10_19</th>\n",
              "      <td>2</td>\n",
              "      <td>1.156069</td>\n",
              "    </tr>\n",
              "    <tr>\n",
              "      <th>BMI</th>\n",
              "      <td>2</td>\n",
              "      <td>1.156069</td>\n",
              "    </tr>\n",
              "    <tr>\n",
              "      <th>Country</th>\n",
              "      <td>0</td>\n",
              "      <td>0.000000</td>\n",
              "    </tr>\n",
              "    <tr>\n",
              "      <th>HIV</th>\n",
              "      <td>0</td>\n",
              "      <td>0.000000</td>\n",
              "    </tr>\n",
              "    <tr>\n",
              "      <th>Polio</th>\n",
              "      <td>0</td>\n",
              "      <td>0.000000</td>\n",
              "    </tr>\n",
              "    <tr>\n",
              "      <th>Diphtheria</th>\n",
              "      <td>0</td>\n",
              "      <td>0.000000</td>\n",
              "    </tr>\n",
              "    <tr>\n",
              "      <th>Year</th>\n",
              "      <td>0</td>\n",
              "      <td>0.000000</td>\n",
              "    </tr>\n",
              "    <tr>\n",
              "      <th>Underfive_Deaths</th>\n",
              "      <td>0</td>\n",
              "      <td>0.000000</td>\n",
              "    </tr>\n",
              "    <tr>\n",
              "      <th>Measles</th>\n",
              "      <td>0</td>\n",
              "      <td>0.000000</td>\n",
              "    </tr>\n",
              "    <tr>\n",
              "      <th>Infant_Deaths</th>\n",
              "      <td>0</td>\n",
              "      <td>0.000000</td>\n",
              "    </tr>\n",
              "    <tr>\n",
              "      <th>Adult_Mortality</th>\n",
              "      <td>0</td>\n",
              "      <td>0.000000</td>\n",
              "    </tr>\n",
              "    <tr>\n",
              "      <th>Status</th>\n",
              "      <td>0</td>\n",
              "      <td>0.000000</td>\n",
              "    </tr>\n",
              "    <tr>\n",
              "      <th>Life_Expectancy</th>\n",
              "      <td>0</td>\n",
              "      <td>0.000000</td>\n",
              "    </tr>\n",
              "  </tbody>\n",
              "</table>\n",
              "</div>\n",
              "      <button class=\"colab-df-convert\" onclick=\"convertToInteractive('df-bb31576a-6ad7-49d7-9a22-d8f436569d9d')\"\n",
              "              title=\"Convert this dataframe to an interactive table.\"\n",
              "              style=\"display:none;\">\n",
              "        \n",
              "  <svg xmlns=\"http://www.w3.org/2000/svg\" height=\"24px\"viewBox=\"0 0 24 24\"\n",
              "       width=\"24px\">\n",
              "    <path d=\"M0 0h24v24H0V0z\" fill=\"none\"/>\n",
              "    <path d=\"M18.56 5.44l.94 2.06.94-2.06 2.06-.94-2.06-.94-.94-2.06-.94 2.06-2.06.94zm-11 1L8.5 8.5l.94-2.06 2.06-.94-2.06-.94L8.5 2.5l-.94 2.06-2.06.94zm10 10l.94 2.06.94-2.06 2.06-.94-2.06-.94-.94-2.06-.94 2.06-2.06.94z\"/><path d=\"M17.41 7.96l-1.37-1.37c-.4-.4-.92-.59-1.43-.59-.52 0-1.04.2-1.43.59L10.3 9.45l-7.72 7.72c-.78.78-.78 2.05 0 2.83L4 21.41c.39.39.9.59 1.41.59.51 0 1.02-.2 1.41-.59l7.78-7.78 2.81-2.81c.8-.78.8-2.07 0-2.86zM5.41 20L4 18.59l7.72-7.72 1.47 1.35L5.41 20z\"/>\n",
              "  </svg>\n",
              "      </button>\n",
              "      \n",
              "  <style>\n",
              "    .colab-df-container {\n",
              "      display:flex;\n",
              "      flex-wrap:wrap;\n",
              "      gap: 12px;\n",
              "    }\n",
              "\n",
              "    .colab-df-convert {\n",
              "      background-color: #E8F0FE;\n",
              "      border: none;\n",
              "      border-radius: 50%;\n",
              "      cursor: pointer;\n",
              "      display: none;\n",
              "      fill: #1967D2;\n",
              "      height: 32px;\n",
              "      padding: 0 0 0 0;\n",
              "      width: 32px;\n",
              "    }\n",
              "\n",
              "    .colab-df-convert:hover {\n",
              "      background-color: #E2EBFA;\n",
              "      box-shadow: 0px 1px 2px rgba(60, 64, 67, 0.3), 0px 1px 3px 1px rgba(60, 64, 67, 0.15);\n",
              "      fill: #174EA6;\n",
              "    }\n",
              "\n",
              "    [theme=dark] .colab-df-convert {\n",
              "      background-color: #3B4455;\n",
              "      fill: #D2E3FC;\n",
              "    }\n",
              "\n",
              "    [theme=dark] .colab-df-convert:hover {\n",
              "      background-color: #434B5C;\n",
              "      box-shadow: 0px 1px 3px 1px rgba(0, 0, 0, 0.15);\n",
              "      filter: drop-shadow(0px 1px 2px rgba(0, 0, 0, 0.3));\n",
              "      fill: #FFFFFF;\n",
              "    }\n",
              "  </style>\n",
              "\n",
              "      <script>\n",
              "        const buttonEl =\n",
              "          document.querySelector('#df-bb31576a-6ad7-49d7-9a22-d8f436569d9d button.colab-df-convert');\n",
              "        buttonEl.style.display =\n",
              "          google.colab.kernel.accessAllowed ? 'block' : 'none';\n",
              "\n",
              "        async function convertToInteractive(key) {\n",
              "          const element = document.querySelector('#df-bb31576a-6ad7-49d7-9a22-d8f436569d9d');\n",
              "          const dataTable =\n",
              "            await google.colab.kernel.invokeFunction('convertToInteractive',\n",
              "                                                     [key], {});\n",
              "          if (!dataTable) return;\n",
              "\n",
              "          const docLinkHtml = 'Like what you see? Visit the ' +\n",
              "            '<a target=\"_blank\" href=https://colab.research.google.com/notebooks/data_table.ipynb>data table notebook</a>'\n",
              "            + ' to learn more about interactive tables.';\n",
              "          element.innerHTML = '';\n",
              "          dataTable['output_type'] = 'display_data';\n",
              "          await google.colab.output.renderOutput(dataTable, element);\n",
              "          const docLink = document.createElement('div');\n",
              "          docLink.innerHTML = docLinkHtml;\n",
              "          element.appendChild(docLink);\n",
              "        }\n",
              "      </script>\n",
              "    </div>\n",
              "  </div>\n",
              "  "
            ]
          },
          "metadata": {},
          "execution_count": 13
        }
      ],
      "source": [
        "# display the total number of null values in each column of dataframe\n",
        "\n",
        "# 'ascending = False' sorts values in the descending order\n",
        "Total = df_lifeExp.isnull().sum().sort_values(ascending=False)          \n",
        "\n",
        "# percentage of missing values\n",
        "Percent = (df_lifeExp.isnull().sum()*100/df_lifeExp.isnull().count()).sort_values(ascending=False)  \n",
        "\n",
        "# concat the 'Total' and 'Percent' columns using 'concat' function\n",
        "# 'keys' is the list of column names\n",
        "# 'axis = 1' concats along the columns\n",
        "missing_data = pd.concat([Total, Percent], axis=1, keys=['Total', 'Percent'])    \n",
        "missing_data"
      ]
    },
    {
      "cell_type": "markdown",
      "metadata": {
        "id": "QphYlOAuqA6N"
      },
      "source": [
        "We can see that out of 173 entries the variable 'Alcohol' has missing values for 166 records, i.e 95% of the data is missing, hence we can drop this variable from the dataframe."
      ]
    },
    {
      "cell_type": "code",
      "execution_count": null,
      "metadata": {
        "id": "pnwqrNvzqA6N"
      },
      "outputs": [],
      "source": [
        "# drop the variable 'Alcohol' from the dataframe\n",
        "df_lifeExp = df_lifeExp.drop(\"Alcohol\",axis=1)"
      ]
    },
    {
      "cell_type": "markdown",
      "metadata": {
        "id": "C_J9_CuwqA6N"
      },
      "source": [
        "We impute the other missing values in the data."
      ]
    },
    {
      "cell_type": "code",
      "execution_count": null,
      "metadata": {
        "colab": {
          "base_uri": "https://localhost:8080/",
          "height": 379
        },
        "id": "6VkJOiqnqA6N",
        "outputId": "a288b297-a189-47ab-a751-75b1e3cd7a3b"
      },
      "outputs": [
        {
          "output_type": "display_data",
          "data": {
            "text/plain": [
              "<Figure size 1080x576 with 9 Axes>"
            ],
            "image/png": "[encoded data removed]"
          },
          "metadata": {
            "needs_background": "light"
          }
        }
      ],
      "source": [
        "# extract all the variables with missing values in a new dataframe 'df_missing_values'\n",
        "df_missing_values = df_lifeExp[['Hepatitis B','BMI','GDP','Population','Malnourished10_19',\n",
        "                                'Malnourished5_9','Income_Index','Schooling']]\n",
        "\n",
        "# plot histogram of all variables which have missing values\n",
        "# set the number of bins to 20\n",
        "# set the figure size using 'figsize'\n",
        "df_missing_values.hist(bins = 20, figsize = (15,8))\n",
        "\n",
        "# adjust the subplots\n",
        "plt.tight_layout()\n",
        "\n",
        "# display the plot\n",
        "plt.show()"
      ]
    },
    {
      "cell_type": "code",
      "source": [
        "df_missing_values.skew()"
      ],
      "metadata": {
        "colab": {
          "base_uri": "https://localhost:8080/"
        },
        "id": "h5V-VgAn2OW6",
        "outputId": "1cb4e5cf-5253-4bfe-e6d6-00e5db0cfd1f"
      },
      "execution_count": null,
      "outputs": [
        {
          "output_type": "execute_result",
          "data": {
            "text/plain": [
              "Hepatitis B         -2.010876\n",
              "BMI                 -0.390623\n",
              "GDP                  2.845593\n",
              "Population           6.053277\n",
              "Malnourished10_19    2.003794\n",
              "Malnourished5_9      2.009007\n",
              "Income_Index        -0.380657\n",
              "Schooling           -0.277173\n",
              "dtype: float64"
            ]
          },
          "metadata": {},
          "execution_count": 28
        }
      ]
    },
    {
      "cell_type": "markdown",
      "metadata": {
        "id": "Gd9wbMW5qA6O"
      },
      "source": [
        "Depending on the distribution of each variable, we will do the imputation of missing values with mean and median. For skewed variables we use median for imputation and for remaining variables we impute with mean."
      ]
    },
    {
      "cell_type": "code",
      "execution_count": null,
      "metadata": {
        "id": "WNodEex8qA6O"
      },
      "outputs": [],
      "source": [
        "# impute skewed variables with median\n",
        "\n",
        "# impute for variable 'GDP'\n",
        "df_lifeExp['GDP'] = df_lifeExp['GDP'].fillna(df_lifeExp['GDP'].median())\n",
        "\n",
        "# impute for variable 'Hepatitis B'\n",
        "df_lifeExp['Hepatitis B'] = df_lifeExp['Hepatitis B'].fillna(df_lifeExp['Hepatitis B'].median())\n",
        "\n",
        "\n",
        "# impute for variable 'Malnourished10_19'\n",
        "df_lifeExp['Malnourished10_19'] = df_lifeExp['Malnourished10_19'].fillna(df_lifeExp['Malnourished10_19'].median())\n",
        "\n",
        "\n",
        "# impute for variable 'Malnourished5_9'\n",
        "df_lifeExp['Malnourished5_9'] = df_lifeExp['Malnourished5_9'].fillna(df_lifeExp['Malnourished5_9'].median())\n",
        "\n",
        "\n",
        "# impute for variable 'Population'\n",
        "df_lifeExp['Population'] = df_lifeExp['Population'].fillna(df_lifeExp['Population'].median())"
      ]
    },
    {
      "cell_type": "code",
      "execution_count": null,
      "metadata": {
        "id": "QknL3CNGqA6O"
      },
      "outputs": [],
      "source": [
        "# impute remaining variables with mean \n",
        "\n",
        "# impute for variable 'BMI'\n",
        "df_lifeExp['BMI'] = df_lifeExp['BMI'].fillna(df_lifeExp['BMI'].mean())\n",
        "\n",
        "# impute for variable 'Income_Index'\n",
        "df_lifeExp['Income_Index'] = df_lifeExp['Income_Index'].fillna(df_lifeExp['Income_Index'].mean())\n",
        "\n",
        "# impute for variable 'Schooling' \n",
        "df_lifeExp['Schooling'] = df_lifeExp['Schooling'].fillna(df_lifeExp['Schooling'].mean())"
      ]
    },
    {
      "cell_type": "code",
      "execution_count": null,
      "metadata": {
        "colab": {
          "base_uri": "https://localhost:8080/"
        },
        "id": "9Zc4PuzLqA6O",
        "outputId": "69879398-b6c8-4bd0-adeb-138f55b91776"
      },
      "outputs": [
        {
          "output_type": "execute_result",
          "data": {
            "text/plain": [
              "Country              0\n",
              "Year                 0\n",
              "Status               0\n",
              "Adult_Mortality      0\n",
              "Infant_Deaths        0\n",
              "Hepatitis B          0\n",
              "Measles              0\n",
              "BMI                  0\n",
              "Underfive_Deaths     0\n",
              "Polio                0\n",
              "Diphtheria           0\n",
              "HIV                  0\n",
              "GDP                  0\n",
              "Population           0\n",
              "Malnourished10_19    0\n",
              "Malnourished5_9      0\n",
              "Income_Index         0\n",
              "Schooling            0\n",
              "Life_Expectancy      0\n",
              "dtype: int64"
            ]
          },
          "metadata": {},
          "execution_count": 61
        }
      ],
      "source": [
        "# display the total number of null values in each variable of the dataframe\n",
        "df_lifeExp.isnull().sum()"
      ]
    },
    {
      "cell_type": "code",
      "source": [
        "df_lifeExp.info()"
      ],
      "metadata": {
        "colab": {
          "base_uri": "https://localhost:8080/"
        },
        "id": "scbCwTKO3ruE",
        "outputId": "506c7c37-ea2f-49f5-c597-58707847322b"
      },
      "execution_count": null,
      "outputs": [
        {
          "output_type": "stream",
          "name": "stdout",
          "text": [
            "<class 'pandas.core.frame.DataFrame'>\n",
            "Int64Index: 173 entries, 0 to 181\n",
            "Data columns (total 19 columns):\n",
            " #   Column             Non-Null Count  Dtype  \n",
            "---  ------             --------------  -----  \n",
            " 0   Country            173 non-null    object \n",
            " 1   Year               173 non-null    int64  \n",
            " 2   Status             173 non-null    object \n",
            " 3   Adult_Mortality    173 non-null    float64\n",
            " 4   Infant_Deaths      173 non-null    int64  \n",
            " 5   Hepatitis B        173 non-null    float64\n",
            " 6   Measles            173 non-null    int64  \n",
            " 7   BMI                173 non-null    float64\n",
            " 8   Underfive_Deaths   173 non-null    int64  \n",
            " 9   Polio              173 non-null    int64  \n",
            " 10  Diphtheria         173 non-null    int64  \n",
            " 11  HIV                173 non-null    float64\n",
            " 12  GDP                173 non-null    float64\n",
            " 13  Population         173 non-null    float64\n",
            " 14  Malnourished10_19  173 non-null    float64\n",
            " 15  Malnourished5_9    173 non-null    float64\n",
            " 16  Income_Index       173 non-null    float64\n",
            " 17  Schooling          173 non-null    float64\n",
            " 18  Life_Expectancy    173 non-null    float64\n",
            "dtypes: float64(11), int64(6), object(2)\n",
            "memory usage: 27.0+ KB\n"
          ]
        }
      ]
    },
    {
      "cell_type": "markdown",
      "metadata": {
        "id": "eKRfxeT7qA6O"
      },
      "source": [
        "Thus, there are no missing values in the data."
      ]
    },
    {
      "cell_type": "markdown",
      "metadata": {
        "collapsed": true,
        "id": "Sh4mNx_GqA6P"
      },
      "source": [
        "<table align=\"left\">\n",
        "    <tr>\n",
        "        <td width=\"6%\">\n",
        "            <img src=\"question_icon.png\">\n",
        "        </td>\n",
        "        <td>\n",
        "            <div align=\"left\", style=\"font-size:120%\">\n",
        "                <font color=\"#21618C\">\n",
        "                    <b>3. Are there any redundant features in the data?</b>\n",
        "                </font>\n",
        "            </div>\n",
        "        </td>\n",
        "    </tr>\n",
        "</table>"
      ]
    },
    {
      "cell_type": "code",
      "execution_count": null,
      "metadata": {
        "colab": {
          "base_uri": "https://localhost:8080/"
        },
        "id": "R8s5kh9VqA6P",
        "outputId": "87834444-e019-43b0-b052-6565e116b518"
      },
      "outputs": [
        {
          "output_type": "execute_result",
          "data": {
            "text/plain": [
              "(173, 19)"
            ]
          },
          "metadata": {},
          "execution_count": 62
        }
      ],
      "source": [
        "# check the size of the dataframe\n",
        "df_lifeExp.shape"
      ]
    },
    {
      "cell_type": "markdown",
      "metadata": {
        "id": "Ch2Cb3LEqA6P"
      },
      "source": [
        "Since the variable `Country` has all unique values we can drop this variable from the dataframe."
      ]
    },
    {
      "cell_type": "code",
      "execution_count": null,
      "metadata": {
        "id": "SypQSAR1qA6P"
      },
      "outputs": [],
      "source": [
        "# drop the variable 'Country' from the dataframe\n",
        "df_lifeExp = df_lifeExp.drop(\"Country\",axis = 1)"
      ]
    },
    {
      "cell_type": "code",
      "execution_count": null,
      "metadata": {
        "id": "HMys2s-mqA6Q",
        "outputId": "b1db13c2-9163-42f1-f75a-1c80b161ee65",
        "colab": {
          "base_uri": "https://localhost:8080/"
        }
      },
      "outputs": [
        {
          "output_type": "execute_result",
          "data": {
            "text/plain": [
              "2015    172\n",
              "2013      1\n",
              "Name: Year, dtype: int64"
            ]
          },
          "metadata": {},
          "execution_count": 46
        }
      ],
      "source": [
        "# display count of unique values in the column\n",
        "df_lifeExp.Year.value_counts()"
      ]
    },
    {
      "cell_type": "markdown",
      "metadata": {
        "id": "QEAn59BXqA6Q"
      },
      "source": [
        "We can see that majority of the records take the same value for 'Year' i.e 2015, hence we can drop the variable 'Year'."
      ]
    },
    {
      "cell_type": "code",
      "execution_count": null,
      "metadata": {
        "id": "71d3jEt0qA6Q"
      },
      "outputs": [],
      "source": [
        "# drop the variable 'Year' from the dataframe\n",
        "df_lifeExp = df_lifeExp.drop(\"Year\",axis=1) "
      ]
    },
    {
      "cell_type": "markdown",
      "metadata": {
        "id": "snIO4GgWqA6Q"
      },
      "source": [
        "The variable `Underfive_Deaths` gives the number of deaths for age group 0-5 which includes the age group 0-1, hence we can eliminate the variable `Infant_Deaths` as it provides no new information."
      ]
    },
    {
      "cell_type": "code",
      "execution_count": null,
      "metadata": {
        "id": "34wWjcMlqA6R"
      },
      "outputs": [],
      "source": [
        "# drop the variable 'Infant_Deaths' from the dataframe\n",
        "df_lifeExp = df_lifeExp.drop(\"Infant_Deaths\",axis=1)"
      ]
    },
    {
      "cell_type": "markdown",
      "metadata": {
        "id": "jY1uAmBiqA6R"
      },
      "source": [
        "We use the shape function to see the size of final dataset after removing redundant features."
      ]
    },
    {
      "cell_type": "code",
      "execution_count": null,
      "metadata": {
        "colab": {
          "base_uri": "https://localhost:8080/"
        },
        "id": "6q3hu5bVqA6R",
        "outputId": "7e7b05b9-3783-46f6-dde0-c68c9cf48a98"
      },
      "outputs": [
        {
          "output_type": "execute_result",
          "data": {
            "text/plain": [
              "(173, 16)"
            ]
          },
          "metadata": {},
          "execution_count": 66
        }
      ],
      "source": [
        "# check the size of the dataframe\n",
        "df_lifeExp.shape"
      ]
    },
    {
      "cell_type": "code",
      "source": [
        "df_lifeExp['Status'].value_counts()"
      ],
      "metadata": {
        "colab": {
          "base_uri": "https://localhost:8080/"
        },
        "id": "tnYAV0ea9j9-",
        "outputId": "03a1816a-71e7-45db-f0e9-cd9f63f17740"
      },
      "execution_count": null,
      "outputs": [
        {
          "output_type": "execute_result",
          "data": {
            "text/plain": [
              "Developing    141\n",
              "Developed      32\n",
              "Name: Status, dtype: int64"
            ]
          },
          "metadata": {},
          "execution_count": 67
        }
      ]
    },
    {
      "cell_type": "code",
      "source": [
        "df_lifeExp.boxplot(column='Life_Expectancy',by='Status')"
      ],
      "metadata": {
        "colab": {
          "base_uri": "https://localhost:8080/",
          "height": 318
        },
        "id": "ByjMQ83995yF",
        "outputId": "41bd2258-6f39-4139-ee3d-8920f4ee0cc6"
      },
      "execution_count": null,
      "outputs": [
        {
          "output_type": "execute_result",
          "data": {
            "text/plain": [
              "<matplotlib.axes._subplots.AxesSubplot at 0x7fd64228c6d0>"
            ]
          },
          "metadata": {},
          "execution_count": 68
        },
        {
          "output_type": "display_data",
          "data": {
            "text/plain": [
              "<Figure size 432x288 with 1 Axes>"
            ],
            "image/png": "[encoded data removed]"
          },
          "metadata": {
            "needs_background": "light"
          }
        }
      ]
    },
    {
      "cell_type": "markdown",
      "source": [
        "4. Perform dummy encoding for appropriate variables of the dataset if required"
      ],
      "metadata": {
        "id": "lsG-Cg_MfEkj"
      }
    },
    {
      "cell_type": "markdown",
      "metadata": {
        "id": "0-dLTIb1qA6R"
      },
      "source": [
        "There is only one categroical variable `Status`, here we use (n-1) dummy encoding."
      ]
    },
    {
      "cell_type": "code",
      "execution_count": null,
      "metadata": {
        "id": "Ca37gFcWqA6R"
      },
      "outputs": [],
      "source": [
        "# use 'drop_first' to create (n-1) dummy variables\n",
        "df_lifeExp['Status'] = pd.get_dummies(data = df_lifeExp['Status'], drop_first=True)"
      ]
    },
    {
      "cell_type": "markdown",
      "metadata": {
        "id": "I8d6rdpkqA6S"
      },
      "source": [
        "According to the encoding: `Developing = 1` and `Developed = 0`"
      ]
    },
    {
      "cell_type": "code",
      "execution_count": null,
      "metadata": {
        "colab": {
          "base_uri": "https://localhost:8080/",
          "height": 287
        },
        "id": "TxywZokQqA6S",
        "outputId": "34cedbbd-65c6-49f5-9e4b-1f343c721269"
      },
      "outputs": [
        {
          "output_type": "execute_result",
          "data": {
            "text/plain": [
              "   Status  Adult_Mortality  Hepatitis B  Measles    BMI  Underfive_Deaths   \\\n",
              "0       1            263.0         65.0      1154  19.1                 83   \n",
              "1       1             74.0         99.0         0  58.0                  0   \n",
              "2       1             19.0         95.0        63  59.5                 24   \n",
              "3       1            335.0         64.0       118  23.3                 98   \n",
              "4       1             13.0         99.0         0  47.7                  0   \n",
              "\n",
              "   Polio  Diphtheria   HIV           GDP  Population  Malnourished10_19  \\\n",
              "0      6           65  0.1    584.259210  33736494.0               17.2   \n",
              "1     99           99  0.1   3954.227830     28873.0                1.2   \n",
              "2     95           95  0.1   4132.762920  39871528.0                6.0   \n",
              "3      7           64  1.9   3695.793748   2785935.0                8.3   \n",
              "4     86           99  0.2  13566.954100   2174645.0                3.3   \n",
              "\n",
              "   Malnourished5_9  Income_Index  Schooling  Life_Expectancy  \n",
              "0             17.3         0.479       10.1             65.0  \n",
              "1              1.3         0.762       14.2             77.8  \n",
              "2              5.8         0.743       14.4             75.6  \n",
              "3              8.2         0.531       11.4             52.4  \n",
              "4              3.3         0.784       13.9             76.4  "
            ],
            "text/html": [
              "\n",
              "  <div id=\"df-a844a9cc-dc44-4cf8-90d6-9eb254f91430\">\n",
              "    <div class=\"colab-df-container\">\n",
              "      <div>\n",
              "<style scoped>\n",
              "    .dataframe tbody tr th:only-of-type {\n",
              "        vertical-align: middle;\n",
              "    }\n",
              "\n",
              "    .dataframe tbody tr th {\n",
              "        vertical-align: top;\n",
              "    }\n",
              "\n",
              "    .dataframe thead th {\n",
              "        text-align: right;\n",
              "    }\n",
              "</style>\n",
              "<table border=\"1\" class=\"dataframe\">\n",
              "  <thead>\n",
              "    <tr style=\"text-align: right;\">\n",
              "      <th></th>\n",
              "      <th>Status</th>\n",
              "      <th>Adult_Mortality</th>\n",
              "      <th>Hepatitis B</th>\n",
              "      <th>Measles</th>\n",
              "      <th>BMI</th>\n",
              "      <th>Underfive_Deaths</th>\n",
              "      <th>Polio</th>\n",
              "      <th>Diphtheria</th>\n",
              "      <th>HIV</th>\n",
              "      <th>GDP</th>\n",
              "      <th>Population</th>\n",
              "      <th>Malnourished10_19</th>\n",
              "      <th>Malnourished5_9</th>\n",
              "      <th>Income_Index</th>\n",
              "      <th>Schooling</th>\n",
              "      <th>Life_Expectancy</th>\n",
              "    </tr>\n",
              "  </thead>\n",
              "  <tbody>\n",
              "    <tr>\n",
              "      <th>0</th>\n",
              "      <td>1</td>\n",
              "      <td>263.0</td>\n",
              "      <td>65.0</td>\n",
              "      <td>1154</td>\n",
              "      <td>19.1</td>\n",
              "      <td>83</td>\n",
              "      <td>6</td>\n",
              "      <td>65</td>\n",
              "      <td>0.1</td>\n",
              "      <td>584.259210</td>\n",
              "      <td>33736494.0</td>\n",
              "      <td>17.2</td>\n",
              "      <td>17.3</td>\n",
              "      <td>0.479</td>\n",
              "      <td>10.1</td>\n",
              "      <td>65.0</td>\n",
              "    </tr>\n",
              "    <tr>\n",
              "      <th>1</th>\n",
              "      <td>1</td>\n",
              "      <td>74.0</td>\n",
              "      <td>99.0</td>\n",
              "      <td>0</td>\n",
              "      <td>58.0</td>\n",
              "      <td>0</td>\n",
              "      <td>99</td>\n",
              "      <td>99</td>\n",
              "      <td>0.1</td>\n",
              "      <td>3954.227830</td>\n",
              "      <td>28873.0</td>\n",
              "      <td>1.2</td>\n",
              "      <td>1.3</td>\n",
              "      <td>0.762</td>\n",
              "      <td>14.2</td>\n",
              "      <td>77.8</td>\n",
              "    </tr>\n",
              "    <tr>\n",
              "      <th>2</th>\n",
              "      <td>1</td>\n",
              "      <td>19.0</td>\n",
              "      <td>95.0</td>\n",
              "      <td>63</td>\n",
              "      <td>59.5</td>\n",
              "      <td>24</td>\n",
              "      <td>95</td>\n",
              "      <td>95</td>\n",
              "      <td>0.1</td>\n",
              "      <td>4132.762920</td>\n",
              "      <td>39871528.0</td>\n",
              "      <td>6.0</td>\n",
              "      <td>5.8</td>\n",
              "      <td>0.743</td>\n",
              "      <td>14.4</td>\n",
              "      <td>75.6</td>\n",
              "    </tr>\n",
              "    <tr>\n",
              "      <th>3</th>\n",
              "      <td>1</td>\n",
              "      <td>335.0</td>\n",
              "      <td>64.0</td>\n",
              "      <td>118</td>\n",
              "      <td>23.3</td>\n",
              "      <td>98</td>\n",
              "      <td>7</td>\n",
              "      <td>64</td>\n",
              "      <td>1.9</td>\n",
              "      <td>3695.793748</td>\n",
              "      <td>2785935.0</td>\n",
              "      <td>8.3</td>\n",
              "      <td>8.2</td>\n",
              "      <td>0.531</td>\n",
              "      <td>11.4</td>\n",
              "      <td>52.4</td>\n",
              "    </tr>\n",
              "    <tr>\n",
              "      <th>4</th>\n",
              "      <td>1</td>\n",
              "      <td>13.0</td>\n",
              "      <td>99.0</td>\n",
              "      <td>0</td>\n",
              "      <td>47.7</td>\n",
              "      <td>0</td>\n",
              "      <td>86</td>\n",
              "      <td>99</td>\n",
              "      <td>0.2</td>\n",
              "      <td>13566.954100</td>\n",
              "      <td>2174645.0</td>\n",
              "      <td>3.3</td>\n",
              "      <td>3.3</td>\n",
              "      <td>0.784</td>\n",
              "      <td>13.9</td>\n",
              "      <td>76.4</td>\n",
              "    </tr>\n",
              "  </tbody>\n",
              "</table>\n",
              "</div>\n",
              "      <button class=\"colab-df-convert\" onclick=\"convertToInteractive('df-a844a9cc-dc44-4cf8-90d6-9eb254f91430')\"\n",
              "              title=\"Convert this dataframe to an interactive table.\"\n",
              "              style=\"display:none;\">\n",
              "        \n",
              "  <svg xmlns=\"http://www.w3.org/2000/svg\" height=\"24px\"viewBox=\"0 0 24 24\"\n",
              "       width=\"24px\">\n",
              "    <path d=\"M0 0h24v24H0V0z\" fill=\"none\"/>\n",
              "    <path d=\"M18.56 5.44l.94 2.06.94-2.06 2.06-.94-2.06-.94-.94-2.06-.94 2.06-2.06.94zm-11 1L8.5 8.5l.94-2.06 2.06-.94-2.06-.94L8.5 2.5l-.94 2.06-2.06.94zm10 10l.94 2.06.94-2.06 2.06-.94-2.06-.94-.94-2.06-.94 2.06-2.06.94z\"/><path d=\"M17.41 7.96l-1.37-1.37c-.4-.4-.92-.59-1.43-.59-.52 0-1.04.2-1.43.59L10.3 9.45l-7.72 7.72c-.78.78-.78 2.05 0 2.83L4 21.41c.39.39.9.59 1.41.59.51 0 1.02-.2 1.41-.59l7.78-7.78 2.81-2.81c.8-.78.8-2.07 0-2.86zM5.41 20L4 18.59l7.72-7.72 1.47 1.35L5.41 20z\"/>\n",
              "  </svg>\n",
              "      </button>\n",
              "      \n",
              "  <style>\n",
              "    .colab-df-container {\n",
              "      display:flex;\n",
              "      flex-wrap:wrap;\n",
              "      gap: 12px;\n",
              "    }\n",
              "\n",
              "    .colab-df-convert {\n",
              "      background-color: #E8F0FE;\n",
              "      border: none;\n",
              "      border-radius: 50%;\n",
              "      cursor: pointer;\n",
              "      display: none;\n",
              "      fill: #1967D2;\n",
              "      height: 32px;\n",
              "      padding: 0 0 0 0;\n",
              "      width: 32px;\n",
              "    }\n",
              "\n",
              "    .colab-df-convert:hover {\n",
              "      background-color: #E2EBFA;\n",
              "      box-shadow: 0px 1px 2px rgba(60, 64, 67, 0.3), 0px 1px 3px 1px rgba(60, 64, 67, 0.15);\n",
              "      fill: #174EA6;\n",
              "    }\n",
              "\n",
              "    [theme=dark] .colab-df-convert {\n",
              "      background-color: #3B4455;\n",
              "      fill: #D2E3FC;\n",
              "    }\n",
              "\n",
              "    [theme=dark] .colab-df-convert:hover {\n",
              "      background-color: #434B5C;\n",
              "      box-shadow: 0px 1px 3px 1px rgba(0, 0, 0, 0.15);\n",
              "      filter: drop-shadow(0px 1px 2px rgba(0, 0, 0, 0.3));\n",
              "      fill: #FFFFFF;\n",
              "    }\n",
              "  </style>\n",
              "\n",
              "      <script>\n",
              "        const buttonEl =\n",
              "          document.querySelector('#df-a844a9cc-dc44-4cf8-90d6-9eb254f91430 button.colab-df-convert');\n",
              "        buttonEl.style.display =\n",
              "          google.colab.kernel.accessAllowed ? 'block' : 'none';\n",
              "\n",
              "        async function convertToInteractive(key) {\n",
              "          const element = document.querySelector('#df-a844a9cc-dc44-4cf8-90d6-9eb254f91430');\n",
              "          const dataTable =\n",
              "            await google.colab.kernel.invokeFunction('convertToInteractive',\n",
              "                                                     [key], {});\n",
              "          if (!dataTable) return;\n",
              "\n",
              "          const docLinkHtml = 'Like what you see? Visit the ' +\n",
              "            '<a target=\"_blank\" href=https://colab.research.google.com/notebooks/data_table.ipynb>data table notebook</a>'\n",
              "            + ' to learn more about interactive tables.';\n",
              "          element.innerHTML = '';\n",
              "          dataTable['output_type'] = 'display_data';\n",
              "          await google.colab.output.renderOutput(dataTable, element);\n",
              "          const docLink = document.createElement('div');\n",
              "          docLink.innerHTML = docLinkHtml;\n",
              "          element.appendChild(docLink);\n",
              "        }\n",
              "      </script>\n",
              "    </div>\n",
              "  </div>\n",
              "  "
            ]
          },
          "metadata": {},
          "execution_count": 70
        }
      ],
      "source": [
        "# display head of the data\n",
        "df_lifeExp.head(5)"
      ]
    },
    {
      "cell_type": "code",
      "source": [
        "df_lifeExp['Status'].value_counts()"
      ],
      "metadata": {
        "colab": {
          "base_uri": "https://localhost:8080/"
        },
        "id": "HzkeEB5J_g3W",
        "outputId": "1db417f1-b8cd-4687-97d5-97d6494aac86"
      },
      "execution_count": null,
      "outputs": [
        {
          "output_type": "execute_result",
          "data": {
            "text/plain": [
              "1    141\n",
              "0     32\n",
              "Name: Status, dtype: int64"
            ]
          },
          "metadata": {},
          "execution_count": 71
        }
      ]
    },
    {
      "cell_type": "markdown",
      "source": [
        "5. How status of the country affects GDP?"
      ],
      "metadata": {
        "id": "tKv_6aK2fIKx"
      }
    },
    {
      "cell_type": "code",
      "source": [
        "df_lifeExp.boxplot(column='GDP',by='Status')"
      ],
      "metadata": {
        "colab": {
          "base_uri": "https://localhost:8080/",
          "height": 318
        },
        "id": "go3bT8p_fYz7",
        "outputId": "4df1e132-65de-4b78-c829-a55ec24d5b61"
      },
      "execution_count": null,
      "outputs": [
        {
          "output_type": "execute_result",
          "data": {
            "text/plain": [
              "<matplotlib.axes._subplots.AxesSubplot at 0x7fd6422106d0>"
            ]
          },
          "metadata": {},
          "execution_count": 72
        },
        {
          "output_type": "display_data",
          "data": {
            "text/plain": [
              "<Figure size 432x288 with 1 Axes>"
            ],
            "image/png": "[encoded data removed]"
          },
          "metadata": {
            "needs_background": "light"
          }
        }
      ]
    },
    {
      "cell_type": "markdown",
      "source": [
        "6. How status of the country affects Adult Mortality?"
      ],
      "metadata": {
        "id": "ud1U6quWfu63"
      }
    },
    {
      "cell_type": "code",
      "source": [
        "df_lifeExp.boxplot(column='Adult_Mortality',by='Status')"
      ],
      "metadata": {
        "colab": {
          "base_uri": "https://localhost:8080/",
          "height": 318
        },
        "id": "0ixpKr5Efya2",
        "outputId": "44593094-1c50-486c-cfe4-040c0df25627"
      },
      "execution_count": null,
      "outputs": [
        {
          "output_type": "execute_result",
          "data": {
            "text/plain": [
              "<matplotlib.axes._subplots.AxesSubplot at 0x7fd64218f790>"
            ]
          },
          "metadata": {},
          "execution_count": 73
        },
        {
          "output_type": "display_data",
          "data": {
            "text/plain": [
              "<Figure size 432x288 with 1 Axes>"
            ],
            "image/png": "[encoded data removed]"
          },
          "metadata": {
            "needs_background": "light"
          }
        }
      ]
    },
    {
      "cell_type": "markdown",
      "source": [
        "7.How status of the country affects Life Expectancy?"
      ],
      "metadata": {
        "id": "hv6L0hPKgDR9"
      }
    },
    {
      "cell_type": "code",
      "source": [
        "df_lifeExp.boxplot(column='Life_Expectancy',by='Status')"
      ],
      "metadata": {
        "colab": {
          "base_uri": "https://localhost:8080/",
          "height": 318
        },
        "id": "d72VsruMfuTx",
        "outputId": "dc83b2c5-4a45-4491-871f-864c13b9768b"
      },
      "execution_count": null,
      "outputs": [
        {
          "output_type": "execute_result",
          "data": {
            "text/plain": [
              "<matplotlib.axes._subplots.AxesSubplot at 0x7f52e9883390>"
            ]
          },
          "metadata": {},
          "execution_count": 29
        },
        {
          "output_type": "display_data",
          "data": {
            "text/plain": [
              "<Figure size 432x288 with 1 Axes>"
            ],
            "image/png": "[encoded data removed]"
          },
          "metadata": {
            "needs_background": "light"
          }
        }
      ]
    },
    {
      "cell_type": "markdown",
      "source": [
        "8.How Adult Mortality rate of the country affects Life Expectancy?"
      ],
      "metadata": {
        "id": "UGQFKpvXgcoi"
      }
    },
    {
      "cell_type": "code",
      "source": [
        "df_lifeExp.columns"
      ],
      "metadata": {
        "colab": {
          "base_uri": "https://localhost:8080/"
        },
        "id": "-ycHVAIPhgX7",
        "outputId": "979821d5-8e73-4f5c-a03e-f6b25a5d4a1c"
      },
      "execution_count": null,
      "outputs": [
        {
          "output_type": "execute_result",
          "data": {
            "text/plain": [
              "Index(['Status', 'Adult_Mortality', 'Hepatitis B', 'Measles ', 'BMI',\n",
              "       'Underfive_Deaths ', 'Polio', 'Diphtheria ', 'HIV', 'GDP', 'Population',\n",
              "       'Malnourished10_19', 'Malnourished5_9', 'Income_Index', 'Schooling',\n",
              "       'Life_Expectancy'],\n",
              "      dtype='object')"
            ]
          },
          "metadata": {},
          "execution_count": 33
        }
      ]
    },
    {
      "cell_type": "code",
      "source": [
        "plt.scatter(df_lifeExp['Adult_Mortality'],df_lifeExp['Life_Expectancy'])"
      ],
      "metadata": {
        "colab": {
          "base_uri": "https://localhost:8080/",
          "height": 282
        },
        "id": "LXvOnTTrfnD7",
        "outputId": "a178bf4c-4c05-4729-8f51-5044e0f06e94"
      },
      "execution_count": null,
      "outputs": [
        {
          "output_type": "execute_result",
          "data": {
            "text/plain": [
              "<matplotlib.collections.PathCollection at 0x7fd642088d10>"
            ]
          },
          "metadata": {},
          "execution_count": 74
        },
        {
          "output_type": "display_data",
          "data": {
            "text/plain": [
              "<Figure size 432x288 with 1 Axes>"
            ],
            "image/png": "[encoded data removed]"
          },
          "metadata": {
            "needs_background": "light"
          }
        }
      ]
    },
    {
      "cell_type": "code",
      "source": [
        "np.corrcoef(df_lifeExp['Adult_Mortality'],df_lifeExp['Life_Expectancy'])"
      ],
      "metadata": {
        "colab": {
          "base_uri": "https://localhost:8080/"
        },
        "id": "JVbDLVffCU2g",
        "outputId": "07c93490-5252-451a-c41d-46d663ad3f2c"
      },
      "execution_count": null,
      "outputs": [
        {
          "output_type": "execute_result",
          "data": {
            "text/plain": [
              "array([[ 1.        , -0.77388926],\n",
              "       [-0.77388926,  1.        ]])"
            ]
          },
          "metadata": {},
          "execution_count": 76
        }
      ]
    },
    {
      "cell_type": "markdown",
      "source": [
        "9.How Income Index of the country affects Life Expectancy?"
      ],
      "metadata": {
        "id": "MqfOSB1BicSy"
      }
    },
    {
      "cell_type": "code",
      "source": [
        "plt.scatter(df_lifeExp['Income_Index'],df_lifeExp['Life_Expectancy'])"
      ],
      "metadata": {
        "colab": {
          "base_uri": "https://localhost:8080/",
          "height": 282
        },
        "id": "v0GypzNPiLK-",
        "outputId": "19037805-a043-46df-baaf-fe979035c2b6"
      },
      "execution_count": null,
      "outputs": [
        {
          "output_type": "execute_result",
          "data": {
            "text/plain": [
              "<matplotlib.collections.PathCollection at 0x7fd642002810>"
            ]
          },
          "metadata": {},
          "execution_count": 75
        },
        {
          "output_type": "display_data",
          "data": {
            "text/plain": [
              "<Figure size 432x288 with 1 Axes>"
            ],
            "image/png": "[encoded data removed]"
          },
          "metadata": {
            "needs_background": "light"
          }
        }
      ]
    },
    {
      "cell_type": "code",
      "source": [
        "np.corrcoef(df_lifeExp['Income_Index'],df_lifeExp['Life_Expectancy'])"
      ],
      "metadata": {
        "colab": {
          "base_uri": "https://localhost:8080/"
        },
        "id": "gF7zqSHnCfiZ",
        "outputId": "a2d00d00-7cff-44de-8080-609b23e9f0a0"
      },
      "execution_count": null,
      "outputs": [
        {
          "output_type": "execute_result",
          "data": {
            "text/plain": [
              "array([[1.        , 0.87991463],\n",
              "       [0.87991463, 1.        ]])"
            ]
          },
          "metadata": {},
          "execution_count": 78
        }
      ]
    },
    {
      "cell_type": "markdown",
      "source": [
        "10. Pick the top 5 features affecting Life Expectancy"
      ],
      "metadata": {
        "id": "mOiY_uoXimi5"
      }
    },
    {
      "cell_type": "code",
      "source": [
        "df_lifeExp.corr()"
      ],
      "metadata": {
        "id": "5Vf6AXNWe7R5",
        "colab": {
          "base_uri": "https://localhost:8080/",
          "height": 632
        },
        "outputId": "962adcf0-d886-4e42-b6f9-a97f29cc6129"
      },
      "execution_count": null,
      "outputs": [
        {
          "output_type": "execute_result",
          "data": {
            "text/plain": [
              "                     Status  Adult_Mortality  Hepatitis B  Measles        BMI  \\\n",
              "Status             1.000000         0.374991    -0.155753  0.085285 -0.289015   \n",
              "Adult_Mortality    0.374991         1.000000    -0.251797  0.055309 -0.397514   \n",
              "Hepatitis B       -0.155753        -0.251797     1.000000  0.013586  0.204364   \n",
              "Measles            0.085285         0.055309     0.013586  1.000000 -0.135996   \n",
              "BMI               -0.289015        -0.397514     0.204364 -0.135996  1.000000   \n",
              "Underfive_Deaths   0.127273         0.197020    -0.113164  0.776279 -0.232182   \n",
              "Polio             -0.231290        -0.385149     0.595776 -0.026423  0.234427   \n",
              "Diphtheria        -0.226203        -0.333268     0.915534  0.000041  0.217485   \n",
              "HIV                0.192051         0.623027    -0.398175 -0.026579 -0.291988   \n",
              "GDP               -0.344789        -0.323731     0.130232 -0.075307  0.312089   \n",
              "Population         0.004847         0.058818    -0.068826  0.126440 -0.025825   \n",
              "Malnourished10_19  0.373913         0.290229    -0.078853  0.345490 -0.471367   \n",
              "Malnourished5_9    0.378262         0.295880    -0.119817  0.340024 -0.490811   \n",
              "Income_Index      -0.535305        -0.649344     0.341093 -0.080532  0.584576   \n",
              "Schooling         -0.532561        -0.538742     0.344370 -0.072780  0.546887   \n",
              "Life_Expectancy   -0.517596        -0.773889     0.448255 -0.081494  0.515281   \n",
              "\n",
              "                   Underfive_Deaths      Polio  Diphtheria        HIV  \\\n",
              "Status                      0.127273 -0.231290    -0.226203  0.192051   \n",
              "Adult_Mortality             0.197020 -0.385149    -0.333268  0.623027   \n",
              "Hepatitis B                -0.113164  0.595776     0.915534 -0.398175   \n",
              "Measles                     0.776279 -0.026423     0.000041 -0.026579   \n",
              "BMI                        -0.232182  0.234427     0.217485 -0.291988   \n",
              "Underfive_Deaths            1.000000 -0.148889    -0.140690  0.117037   \n",
              "Polio                      -0.148889  1.000000     0.658652 -0.411450   \n",
              "Diphtheria                 -0.140690  0.658652     1.000000 -0.450933   \n",
              "HIV                         0.117037 -0.411450    -0.450933  1.000000   \n",
              "GDP                        -0.120764  0.220676     0.209019 -0.178792   \n",
              "Population                  0.315900 -0.234659    -0.073178  0.043814   \n",
              "Malnourished10_19           0.518027 -0.199656    -0.117639  0.170551   \n",
              "Malnourished5_9             0.517630 -0.201107    -0.160069  0.154998   \n",
              "Income_Index               -0.239023  0.469671     0.433467 -0.475278   \n",
              "Schooling                  -0.235087  0.410457     0.409864 -0.392018   \n",
              "Life_Expectancy            -0.259592  0.538673     0.522617 -0.608127   \n",
              "\n",
              "                        GDP  Population  Malnourished10_19  Malnourished5_9  \\\n",
              "Status            -0.344789    0.004847           0.373913         0.378262   \n",
              "Adult_Mortality   -0.323731    0.058818           0.290229         0.295880   \n",
              "Hepatitis B        0.130232   -0.068826          -0.078853        -0.119817   \n",
              "Measles           -0.075307    0.126440           0.345490         0.340024   \n",
              "BMI                0.312089   -0.025825          -0.471367        -0.490811   \n",
              "Underfive_Deaths  -0.120764    0.315900           0.518027         0.517630   \n",
              "Polio              0.220676   -0.234659          -0.199656        -0.201107   \n",
              "Diphtheria         0.209019   -0.073178          -0.117639        -0.160069   \n",
              "HIV               -0.178792    0.043814           0.170551         0.154998   \n",
              "GDP                1.000000    0.033395          -0.226348        -0.233492   \n",
              "Population         0.033395    1.000000           0.009090         0.003416   \n",
              "Malnourished10_19 -0.226348    0.009090           1.000000         0.972463   \n",
              "Malnourished5_9   -0.233492    0.003416           0.972463         1.000000   \n",
              "Income_Index       0.506962   -0.019949          -0.498896        -0.497138   \n",
              "Schooling          0.432542    0.000303          -0.484805        -0.481400   \n",
              "Life_Expectancy    0.423902   -0.071642          -0.467684        -0.469078   \n",
              "\n",
              "                   Income_Index  Schooling  Life_Expectancy  \n",
              "Status                -0.535305  -0.532561        -0.517596  \n",
              "Adult_Mortality       -0.649344  -0.538742        -0.773889  \n",
              "Hepatitis B            0.341093   0.344370         0.448255  \n",
              "Measles               -0.080532  -0.072780        -0.081494  \n",
              "BMI                    0.584576   0.546887         0.515281  \n",
              "Underfive_Deaths      -0.239023  -0.235087        -0.259592  \n",
              "Polio                  0.469671   0.410457         0.538673  \n",
              "Diphtheria             0.433467   0.409864         0.522617  \n",
              "HIV                   -0.475278  -0.392018        -0.608127  \n",
              "GDP                    0.506962   0.432542         0.423902  \n",
              "Population            -0.019949   0.000303        -0.071642  \n",
              "Malnourished10_19     -0.498896  -0.484805        -0.467684  \n",
              "Malnourished5_9       -0.497138  -0.481400        -0.469078  \n",
              "Income_Index           1.000000   0.916440         0.879915  \n",
              "Schooling              0.916440   1.000000         0.792450  \n",
              "Life_Expectancy        0.879915   0.792450         1.000000  "
            ],
            "text/html": [
              "\n",
              "  <div id=\"df-22d27990-2775-4baf-a5b6-08fd1ce5df6e\">\n",
              "    <div class=\"colab-df-container\">\n",
              "      <div>\n",
              "<style scoped>\n",
              "    .dataframe tbody tr th:only-of-type {\n",
              "        vertical-align: middle;\n",
              "    }\n",
              "\n",
              "    .dataframe tbody tr th {\n",
              "        vertical-align: top;\n",
              "    }\n",
              "\n",
              "    .dataframe thead th {\n",
              "        text-align: right;\n",
              "    }\n",
              "</style>\n",
              "<table border=\"1\" class=\"dataframe\">\n",
              "  <thead>\n",
              "    <tr style=\"text-align: right;\">\n",
              "      <th></th>\n",
              "      <th>Status</th>\n",
              "      <th>Adult_Mortality</th>\n",
              "      <th>Hepatitis B</th>\n",
              "      <th>Measles</th>\n",
              "      <th>BMI</th>\n",
              "      <th>Underfive_Deaths</th>\n",
              "      <th>Polio</th>\n",
              "      <th>Diphtheria</th>\n",
              "      <th>HIV</th>\n",
              "      <th>GDP</th>\n",
              "      <th>Population</th>\n",
              "      <th>Malnourished10_19</th>\n",
              "      <th>Malnourished5_9</th>\n",
              "      <th>Income_Index</th>\n",
              "      <th>Schooling</th>\n",
              "      <th>Life_Expectancy</th>\n",
              "    </tr>\n",
              "  </thead>\n",
              "  <tbody>\n",
              "    <tr>\n",
              "      <th>Status</th>\n",
              "      <td>1.000000</td>\n",
              "      <td>0.374991</td>\n",
              "      <td>-0.155753</td>\n",
              "      <td>0.085285</td>\n",
              "      <td>-0.289015</td>\n",
              "      <td>0.127273</td>\n",
              "      <td>-0.231290</td>\n",
              "      <td>-0.226203</td>\n",
              "      <td>0.192051</td>\n",
              "      <td>-0.344789</td>\n",
              "      <td>0.004847</td>\n",
              "      <td>0.373913</td>\n",
              "      <td>0.378262</td>\n",
              "      <td>-0.535305</td>\n",
              "      <td>-0.532561</td>\n",
              "      <td>-0.517596</td>\n",
              "    </tr>\n",
              "    <tr>\n",
              "      <th>Adult_Mortality</th>\n",
              "      <td>0.374991</td>\n",
              "      <td>1.000000</td>\n",
              "      <td>-0.251797</td>\n",
              "      <td>0.055309</td>\n",
              "      <td>-0.397514</td>\n",
              "      <td>0.197020</td>\n",
              "      <td>-0.385149</td>\n",
              "      <td>-0.333268</td>\n",
              "      <td>0.623027</td>\n",
              "      <td>-0.323731</td>\n",
              "      <td>0.058818</td>\n",
              "      <td>0.290229</td>\n",
              "      <td>0.295880</td>\n",
              "      <td>-0.649344</td>\n",
              "      <td>-0.538742</td>\n",
              "      <td>-0.773889</td>\n",
              "    </tr>\n",
              "    <tr>\n",
              "      <th>Hepatitis B</th>\n",
              "      <td>-0.155753</td>\n",
              "      <td>-0.251797</td>\n",
              "      <td>1.000000</td>\n",
              "      <td>0.013586</td>\n",
              "      <td>0.204364</td>\n",
              "      <td>-0.113164</td>\n",
              "      <td>0.595776</td>\n",
              "      <td>0.915534</td>\n",
              "      <td>-0.398175</td>\n",
              "      <td>0.130232</td>\n",
              "      <td>-0.068826</td>\n",
              "      <td>-0.078853</td>\n",
              "      <td>-0.119817</td>\n",
              "      <td>0.341093</td>\n",
              "      <td>0.344370</td>\n",
              "      <td>0.448255</td>\n",
              "    </tr>\n",
              "    <tr>\n",
              "      <th>Measles</th>\n",
              "      <td>0.085285</td>\n",
              "      <td>0.055309</td>\n",
              "      <td>0.013586</td>\n",
              "      <td>1.000000</td>\n",
              "      <td>-0.135996</td>\n",
              "      <td>0.776279</td>\n",
              "      <td>-0.026423</td>\n",
              "      <td>0.000041</td>\n",
              "      <td>-0.026579</td>\n",
              "      <td>-0.075307</td>\n",
              "      <td>0.126440</td>\n",
              "      <td>0.345490</td>\n",
              "      <td>0.340024</td>\n",
              "      <td>-0.080532</td>\n",
              "      <td>-0.072780</td>\n",
              "      <td>-0.081494</td>\n",
              "    </tr>\n",
              "    <tr>\n",
              "      <th>BMI</th>\n",
              "      <td>-0.289015</td>\n",
              "      <td>-0.397514</td>\n",
              "      <td>0.204364</td>\n",
              "      <td>-0.135996</td>\n",
              "      <td>1.000000</td>\n",
              "      <td>-0.232182</td>\n",
              "      <td>0.234427</td>\n",
              "      <td>0.217485</td>\n",
              "      <td>-0.291988</td>\n",
              "      <td>0.312089</td>\n",
              "      <td>-0.025825</td>\n",
              "      <td>-0.471367</td>\n",
              "      <td>-0.490811</td>\n",
              "      <td>0.584576</td>\n",
              "      <td>0.546887</td>\n",
              "      <td>0.515281</td>\n",
              "    </tr>\n",
              "    <tr>\n",
              "      <th>Underfive_Deaths</th>\n",
              "      <td>0.127273</td>\n",
              "      <td>0.197020</td>\n",
              "      <td>-0.113164</td>\n",
              "      <td>0.776279</td>\n",
              "      <td>-0.232182</td>\n",
              "      <td>1.000000</td>\n",
              "      <td>-0.148889</td>\n",
              "      <td>-0.140690</td>\n",
              "      <td>0.117037</td>\n",
              "      <td>-0.120764</td>\n",
              "      <td>0.315900</td>\n",
              "      <td>0.518027</td>\n",
              "      <td>0.517630</td>\n",
              "      <td>-0.239023</td>\n",
              "      <td>-0.235087</td>\n",
              "      <td>-0.259592</td>\n",
              "    </tr>\n",
              "    <tr>\n",
              "      <th>Polio</th>\n",
              "      <td>-0.231290</td>\n",
              "      <td>-0.385149</td>\n",
              "      <td>0.595776</td>\n",
              "      <td>-0.026423</td>\n",
              "      <td>0.234427</td>\n",
              "      <td>-0.148889</td>\n",
              "      <td>1.000000</td>\n",
              "      <td>0.658652</td>\n",
              "      <td>-0.411450</td>\n",
              "      <td>0.220676</td>\n",
              "      <td>-0.234659</td>\n",
              "      <td>-0.199656</td>\n",
              "      <td>-0.201107</td>\n",
              "      <td>0.469671</td>\n",
              "      <td>0.410457</td>\n",
              "      <td>0.538673</td>\n",
              "    </tr>\n",
              "    <tr>\n",
              "      <th>Diphtheria</th>\n",
              "      <td>-0.226203</td>\n",
              "      <td>-0.333268</td>\n",
              "      <td>0.915534</td>\n",
              "      <td>0.000041</td>\n",
              "      <td>0.217485</td>\n",
              "      <td>-0.140690</td>\n",
              "      <td>0.658652</td>\n",
              "      <td>1.000000</td>\n",
              "      <td>-0.450933</td>\n",
              "      <td>0.209019</td>\n",
              "      <td>-0.073178</td>\n",
              "      <td>-0.117639</td>\n",
              "      <td>-0.160069</td>\n",
              "      <td>0.433467</td>\n",
              "      <td>0.409864</td>\n",
              "      <td>0.522617</td>\n",
              "    </tr>\n",
              "    <tr>\n",
              "      <th>HIV</th>\n",
              "      <td>0.192051</td>\n",
              "      <td>0.623027</td>\n",
              "      <td>-0.398175</td>\n",
              "      <td>-0.026579</td>\n",
              "      <td>-0.291988</td>\n",
              "      <td>0.117037</td>\n",
              "      <td>-0.411450</td>\n",
              "      <td>-0.450933</td>\n",
              "      <td>1.000000</td>\n",
              "      <td>-0.178792</td>\n",
              "      <td>0.043814</td>\n",
              "      <td>0.170551</td>\n",
              "      <td>0.154998</td>\n",
              "      <td>-0.475278</td>\n",
              "      <td>-0.392018</td>\n",
              "      <td>-0.608127</td>\n",
              "    </tr>\n",
              "    <tr>\n",
              "      <th>GDP</th>\n",
              "      <td>-0.344789</td>\n",
              "      <td>-0.323731</td>\n",
              "      <td>0.130232</td>\n",
              "      <td>-0.075307</td>\n",
              "      <td>0.312089</td>\n",
              "      <td>-0.120764</td>\n",
              "      <td>0.220676</td>\n",
              "      <td>0.209019</td>\n",
              "      <td>-0.178792</td>\n",
              "      <td>1.000000</td>\n",
              "      <td>0.033395</td>\n",
              "      <td>-0.226348</td>\n",
              "      <td>-0.233492</td>\n",
              "      <td>0.506962</td>\n",
              "      <td>0.432542</td>\n",
              "      <td>0.423902</td>\n",
              "    </tr>\n",
              "    <tr>\n",
              "      <th>Population</th>\n",
              "      <td>0.004847</td>\n",
              "      <td>0.058818</td>\n",
              "      <td>-0.068826</td>\n",
              "      <td>0.126440</td>\n",
              "      <td>-0.025825</td>\n",
              "      <td>0.315900</td>\n",
              "      <td>-0.234659</td>\n",
              "      <td>-0.073178</td>\n",
              "      <td>0.043814</td>\n",
              "      <td>0.033395</td>\n",
              "      <td>1.000000</td>\n",
              "      <td>0.009090</td>\n",
              "      <td>0.003416</td>\n",
              "      <td>-0.019949</td>\n",
              "      <td>0.000303</td>\n",
              "      <td>-0.071642</td>\n",
              "    </tr>\n",
              "    <tr>\n",
              "      <th>Malnourished10_19</th>\n",
              "      <td>0.373913</td>\n",
              "      <td>0.290229</td>\n",
              "      <td>-0.078853</td>\n",
              "      <td>0.345490</td>\n",
              "      <td>-0.471367</td>\n",
              "      <td>0.518027</td>\n",
              "      <td>-0.199656</td>\n",
              "      <td>-0.117639</td>\n",
              "      <td>0.170551</td>\n",
              "      <td>-0.226348</td>\n",
              "      <td>0.009090</td>\n",
              "      <td>1.000000</td>\n",
              "      <td>0.972463</td>\n",
              "      <td>-0.498896</td>\n",
              "      <td>-0.484805</td>\n",
              "      <td>-0.467684</td>\n",
              "    </tr>\n",
              "    <tr>\n",
              "      <th>Malnourished5_9</th>\n",
              "      <td>0.378262</td>\n",
              "      <td>0.295880</td>\n",
              "      <td>-0.119817</td>\n",
              "      <td>0.340024</td>\n",
              "      <td>-0.490811</td>\n",
              "      <td>0.517630</td>\n",
              "      <td>-0.201107</td>\n",
              "      <td>-0.160069</td>\n",
              "      <td>0.154998</td>\n",
              "      <td>-0.233492</td>\n",
              "      <td>0.003416</td>\n",
              "      <td>0.972463</td>\n",
              "      <td>1.000000</td>\n",
              "      <td>-0.497138</td>\n",
              "      <td>-0.481400</td>\n",
              "      <td>-0.469078</td>\n",
              "    </tr>\n",
              "    <tr>\n",
              "      <th>Income_Index</th>\n",
              "      <td>-0.535305</td>\n",
              "      <td>-0.649344</td>\n",
              "      <td>0.341093</td>\n",
              "      <td>-0.080532</td>\n",
              "      <td>0.584576</td>\n",
              "      <td>-0.239023</td>\n",
              "      <td>0.469671</td>\n",
              "      <td>0.433467</td>\n",
              "      <td>-0.475278</td>\n",
              "      <td>0.506962</td>\n",
              "      <td>-0.019949</td>\n",
              "      <td>-0.498896</td>\n",
              "      <td>-0.497138</td>\n",
              "      <td>1.000000</td>\n",
              "      <td>0.916440</td>\n",
              "      <td>0.879915</td>\n",
              "    </tr>\n",
              "    <tr>\n",
              "      <th>Schooling</th>\n",
              "      <td>-0.532561</td>\n",
              "      <td>-0.538742</td>\n",
              "      <td>0.344370</td>\n",
              "      <td>-0.072780</td>\n",
              "      <td>0.546887</td>\n",
              "      <td>-0.235087</td>\n",
              "      <td>0.410457</td>\n",
              "      <td>0.409864</td>\n",
              "      <td>-0.392018</td>\n",
              "      <td>0.432542</td>\n",
              "      <td>0.000303</td>\n",
              "      <td>-0.484805</td>\n",
              "      <td>-0.481400</td>\n",
              "      <td>0.916440</td>\n",
              "      <td>1.000000</td>\n",
              "      <td>0.792450</td>\n",
              "    </tr>\n",
              "    <tr>\n",
              "      <th>Life_Expectancy</th>\n",
              "      <td>-0.517596</td>\n",
              "      <td>-0.773889</td>\n",
              "      <td>0.448255</td>\n",
              "      <td>-0.081494</td>\n",
              "      <td>0.515281</td>\n",
              "      <td>-0.259592</td>\n",
              "      <td>0.538673</td>\n",
              "      <td>0.522617</td>\n",
              "      <td>-0.608127</td>\n",
              "      <td>0.423902</td>\n",
              "      <td>-0.071642</td>\n",
              "      <td>-0.467684</td>\n",
              "      <td>-0.469078</td>\n",
              "      <td>0.879915</td>\n",
              "      <td>0.792450</td>\n",
              "      <td>1.000000</td>\n",
              "    </tr>\n",
              "  </tbody>\n",
              "</table>\n",
              "</div>\n",
              "      <button class=\"colab-df-convert\" onclick=\"convertToInteractive('df-22d27990-2775-4baf-a5b6-08fd1ce5df6e')\"\n",
              "              title=\"Convert this dataframe to an interactive table.\"\n",
              "              style=\"display:none;\">\n",
              "        \n",
              "  <svg xmlns=\"http://www.w3.org/2000/svg\" height=\"24px\"viewBox=\"0 0 24 24\"\n",
              "       width=\"24px\">\n",
              "    <path d=\"M0 0h24v24H0V0z\" fill=\"none\"/>\n",
              "    <path d=\"M18.56 5.44l.94 2.06.94-2.06 2.06-.94-2.06-.94-.94-2.06-.94 2.06-2.06.94zm-11 1L8.5 8.5l.94-2.06 2.06-.94-2.06-.94L8.5 2.5l-.94 2.06-2.06.94zm10 10l.94 2.06.94-2.06 2.06-.94-2.06-.94-.94-2.06-.94 2.06-2.06.94z\"/><path d=\"M17.41 7.96l-1.37-1.37c-.4-.4-.92-.59-1.43-.59-.52 0-1.04.2-1.43.59L10.3 9.45l-7.72 7.72c-.78.78-.78 2.05 0 2.83L4 21.41c.39.39.9.59 1.41.59.51 0 1.02-.2 1.41-.59l7.78-7.78 2.81-2.81c.8-.78.8-2.07 0-2.86zM5.41 20L4 18.59l7.72-7.72 1.47 1.35L5.41 20z\"/>\n",
              "  </svg>\n",
              "      </button>\n",
              "      \n",
              "  <style>\n",
              "    .colab-df-container {\n",
              "      display:flex;\n",
              "      flex-wrap:wrap;\n",
              "      gap: 12px;\n",
              "    }\n",
              "\n",
              "    .colab-df-convert {\n",
              "      background-color: #E8F0FE;\n",
              "      border: none;\n",
              "      border-radius: 50%;\n",
              "      cursor: pointer;\n",
              "      display: none;\n",
              "      fill: #1967D2;\n",
              "      height: 32px;\n",
              "      padding: 0 0 0 0;\n",
              "      width: 32px;\n",
              "    }\n",
              "\n",
              "    .colab-df-convert:hover {\n",
              "      background-color: #E2EBFA;\n",
              "      box-shadow: 0px 1px 2px rgba(60, 64, 67, 0.3), 0px 1px 3px 1px rgba(60, 64, 67, 0.15);\n",
              "      fill: #174EA6;\n",
              "    }\n",
              "\n",
              "    [theme=dark] .colab-df-convert {\n",
              "      background-color: #3B4455;\n",
              "      fill: #D2E3FC;\n",
              "    }\n",
              "\n",
              "    [theme=dark] .colab-df-convert:hover {\n",
              "      background-color: #434B5C;\n",
              "      box-shadow: 0px 1px 3px 1px rgba(0, 0, 0, 0.15);\n",
              "      filter: drop-shadow(0px 1px 2px rgba(0, 0, 0, 0.3));\n",
              "      fill: #FFFFFF;\n",
              "    }\n",
              "  </style>\n",
              "\n",
              "      <script>\n",
              "        const buttonEl =\n",
              "          document.querySelector('#df-22d27990-2775-4baf-a5b6-08fd1ce5df6e button.colab-df-convert');\n",
              "        buttonEl.style.display =\n",
              "          google.colab.kernel.accessAllowed ? 'block' : 'none';\n",
              "\n",
              "        async function convertToInteractive(key) {\n",
              "          const element = document.querySelector('#df-22d27990-2775-4baf-a5b6-08fd1ce5df6e');\n",
              "          const dataTable =\n",
              "            await google.colab.kernel.invokeFunction('convertToInteractive',\n",
              "                                                     [key], {});\n",
              "          if (!dataTable) return;\n",
              "\n",
              "          const docLinkHtml = 'Like what you see? Visit the ' +\n",
              "            '<a target=\"_blank\" href=https://colab.research.google.com/notebooks/data_table.ipynb>data table notebook</a>'\n",
              "            + ' to learn more about interactive tables.';\n",
              "          element.innerHTML = '';\n",
              "          dataTable['output_type'] = 'display_data';\n",
              "          await google.colab.output.renderOutput(dataTable, element);\n",
              "          const docLink = document.createElement('div');\n",
              "          docLink.innerHTML = docLinkHtml;\n",
              "          element.appendChild(docLink);\n",
              "        }\n",
              "      </script>\n",
              "    </div>\n",
              "  </div>\n",
              "  "
            ]
          },
          "metadata": {},
          "execution_count": 80
        }
      ]
    },
    {
      "cell_type": "markdown",
      "source": [
        "# Top 5 features affecting Life Expectancy"
      ],
      "metadata": {
        "id": "3HlZBdpIEE4I"
      }
    },
    {
      "cell_type": "markdown",
      "source": [
        "* Income Index\n",
        "* Scooling\n",
        "* Adult Mortality\n",
        "* HIV\n",
        "* Polio"
      ],
      "metadata": {
        "id": "AgRYN47aDfgx"
      }
    }
  ],
  "metadata": {
    "kernelspec": {
      "display_name": "Python 3",
      "language": "python",
      "name": "python3"
    },
    "language_info": {
      "codemirror_mode": {
        "name": "ipython",
        "version": 3
      },
      "file_extension": ".py",
      "mimetype": "text/x-python",
      "name": "python",
      "nbconvert_exporter": "python",
      "pygments_lexer": "ipython3",
      "version": "3.7.4"
    },
    "colab": {
      "provenance": [],
      "collapsed_sections": [],
      "include_colab_link": true
    }
  },
  "nbformat": 4,
  "nbformat_minor": 0
}