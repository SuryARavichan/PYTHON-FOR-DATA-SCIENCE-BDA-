{
  "nbformat": 4,
  "nbformat_minor": 0,
  "metadata": {
    "kernelspec": {
      "display_name": "Python 3",
      "language": "python",
      "name": "python3"
    },
    "language_info": {
      "codemirror_mode": {
        "name": "ipython",
        "version": 3
      },
      "file_extension": ".py",
      "mimetype": "text/x-python",
      "name": "python",
      "nbconvert_exporter": "python",
      "pygments_lexer": "ipython3",
      "version": "3.6.3"
    },
    "colab": {
      "provenance": [],
      "collapsed_sections": [],
      "include_colab_link": true
    }
  },
  "cells": [
    {
      "cell_type": "markdown",
      "metadata": {
        "id": "view-in-github",
        "colab_type": "text"
      },
      "source": [
        "<a href=\"https://colab.research.google.com/github/SuryARavichan/PYTHON-FOR-DATA-SCIENCE-BDA-/blob/main/SamplingDistribution_and_Standard_Error.ipynb\" target=\"_parent\"><img src=\"https://colab.research.google.com/assets/colab-badge.svg\" alt=\"Open In Colab\"/></a>"
      ]
    },
    {
      "cell_type": "code",
      "metadata": {
        "id": "J188JcwHod2w"
      },
      "source": [
        "import numpy as np\n",
        "import pandas as pd\n",
        "import random\n",
        "from scipy.stats import ttest_1samp\n",
        "import matplotlib.pyplot as plt\n",
        "import seaborn as sns\n",
        "%matplotlib inline\n",
        "import scipy.stats as stats"
      ],
      "execution_count": null,
      "outputs": []
    },
    {
      "cell_type": "code",
      "source": [
        "np.sqrt((180*(0-.64)**2+320*(1-.64)**2)/499)"
      ],
      "metadata": {
        "colab": {
          "base_uri": "https://localhost:8080/"
        },
        "id": "LmD5pIpkvLQ_",
        "outputId": "8ad44ec9-cdd4-42d9-ee76-e522d2e4574d"
      },
      "execution_count": null,
      "outputs": [
        {
          "output_type": "execute_result",
          "data": {
            "text/plain": [
              "0.4804807212021038"
            ]
          },
          "metadata": {},
          "execution_count": 43
        }
      ]
    },
    {
      "cell_type": "code",
      "source": [
        "SEP=0.4804807212021038/np.sqrt(500)\n",
        "SEP"
      ],
      "metadata": {
        "colab": {
          "base_uri": "https://localhost:8080/"
        },
        "id": "tI1pScWWvYg2",
        "outputId": "b23331a5-a22b-4721-f582-104f6fa2b346"
      },
      "execution_count": null,
      "outputs": [
        {
          "output_type": "execute_result",
          "data": {
            "text/plain": [
              "0.02148775108972057"
            ]
          },
          "metadata": {},
          "execution_count": 45
        }
      ]
    },
    {
      "cell_type": "code",
      "source": [
        "#95% CI range of proportion for Joe\n",
        "[.64-1.96*SEP,.64+1.96*SEP]"
      ],
      "metadata": {
        "colab": {
          "base_uri": "https://localhost:8080/"
        },
        "id": "aLJ2TFnZvrLF",
        "outputId": "25525c48-9c68-4df2-df32-6115a79be828"
      },
      "execution_count": null,
      "outputs": [
        {
          "output_type": "execute_result",
          "data": {
            "text/plain": [
              "[0.5978840078641476, 0.6821159921358524]"
            ]
          },
          "metadata": {},
          "execution_count": 46
        }
      ]
    },
    {
      "cell_type": "code",
      "source": [
        "#95% CI range of proportion for Trump\n",
        "[.36-1.96*SEP,.36+1.96*SEP]"
      ],
      "metadata": {
        "id": "0X88z0dJwzrv",
        "outputId": "cc574243-b579-40b7-86ee-839d8e5cc7a7",
        "colab": {
          "base_uri": "https://localhost:8080/"
        }
      },
      "execution_count": null,
      "outputs": [
        {
          "output_type": "execute_result",
          "data": {
            "text/plain": [
              "[0.31788400786414767, 0.4021159921358523]"
            ]
          },
          "metadata": {},
          "execution_count": 47
        }
      ]
    },
    {
      "cell_type": "code",
      "metadata": {
        "colab": {
          "base_uri": "https://localhost:8080/",
          "height": 386
        },
        "id": "k43_zwfVZAd2",
        "outputId": "9dc98639-60af-4407-a340-382e7d580944"
      },
      "source": [
        "sal=np.random.randn(85000)\n",
        "sns.displot(sal,kde=True)"
      ],
      "execution_count": null,
      "outputs": [
        {
          "output_type": "execute_result",
          "data": {
            "text/plain": [
              "<seaborn.axisgrid.FacetGrid at 0x7f7448148a50>"
            ]
          },
          "metadata": {},
          "execution_count": 2
        },
        {
          "output_type": "display_data",
          "data": {
            "text/plain": [
              "<Figure size 360x360 with 1 Axes>"
            ],
            "image/png": "[encoded data removed]"
          },
          "metadata": {
            "needs_background": "light"
          }
        }
      ]
    },
    {
      "cell_type": "code",
      "source": [
        "np.random.seed(10)\n",
        "age_std=np.random.randn(25)\n",
        "sns.displot(age_std,kind='kde')"
      ],
      "metadata": {
        "colab": {
          "base_uri": "https://localhost:8080/",
          "height": 386
        },
        "id": "sHpiElgJ68c2",
        "outputId": "774eac44-051e-4d89-e369-84a0035b1342"
      },
      "execution_count": null,
      "outputs": [
        {
          "output_type": "execute_result",
          "data": {
            "text/plain": [
              "<seaborn.axisgrid.FacetGrid at 0x7ff23a90aa90>"
            ]
          },
          "metadata": {},
          "execution_count": 12
        },
        {
          "output_type": "display_data",
          "data": {
            "text/plain": [
              "<Figure size 360x360 with 1 Axes>"
            ],
            "image/png": "[encoded data removed]"
          },
          "metadata": {
            "needs_background": "light"
          }
        }
      ]
    },
    {
      "cell_type": "code",
      "source": [
        "age=age_std*2.2+28\n",
        "age"
      ],
      "metadata": {
        "colab": {
          "base_uri": "https://localhost:8080/"
        },
        "id": "z-7zj-GK68fk",
        "outputId": "8d04e364-cbbb-4623-98e5-8fcba6537aed"
      },
      "execution_count": null,
      "outputs": [
        {
          "output_type": "execute_result",
          "data": {
            "text/plain": [
              "array([30.92949031, 29.57361374, 24.60011936, 27.98155553, 29.36693914,\n",
              "       26.41581177, 28.58412549, 28.23880676, 28.00944115, 27.61587954,\n",
              "       28.95265762, 30.64668222, 25.87685552, 30.26220297, 28.50298629,\n",
              "       28.97930275, 25.49947513, 28.29730113, 31.2659814 , 25.62442925,\n",
              "       23.64899778, 24.16458095, 28.58535436, 33.24692813, 30.47212076])"
            ]
          },
          "metadata": {},
          "execution_count": 14
        }
      ]
    },
    {
      "cell_type": "code",
      "source": [
        "(age-28)/2.2"
      ],
      "metadata": {
        "colab": {
          "base_uri": "https://localhost:8080/"
        },
        "id": "RR_ldOx28cpx",
        "outputId": "6e34f9d7-4043-4cda-bf6c-388c0a1589aa"
      },
      "execution_count": null,
      "outputs": [
        {
          "output_type": "execute_result",
          "data": {
            "text/plain": [
              "array([ 1.3315865 ,  0.71527897, -1.54540029, -0.00838385,  0.62133597,\n",
              "       -0.72008556,  0.26551159,  0.10854853,  0.00429143, -0.17460021,\n",
              "        0.43302619,  1.20303737, -0.96506567,  1.02827408,  0.22863013,\n",
              "        0.44513761, -1.13660221,  0.13513688,  1.484537  , -1.07980489,\n",
              "       -1.97772828, -1.7433723 ,  0.26607016,  2.38496733,  1.12369125])"
            ]
          },
          "metadata": {},
          "execution_count": 15
        }
      ]
    },
    {
      "cell_type": "code",
      "source": [
        "-1.97777*2.2+28"
      ],
      "metadata": {
        "colab": {
          "base_uri": "https://localhost:8080/"
        },
        "id": "0z6rA-1l8tSV",
        "outputId": "f83e5d39-e8f7-4705-b7eb-a56a67e436ec"
      },
      "execution_count": null,
      "outputs": [
        {
          "output_type": "execute_result",
          "data": {
            "text/plain": [
              "23.648906"
            ]
          },
          "metadata": {},
          "execution_count": 16
        }
      ]
    },
    {
      "cell_type": "code",
      "source": [],
      "metadata": {
        "id": "aky3wy3x68ik"
      },
      "execution_count": null,
      "outputs": []
    },
    {
      "cell_type": "code",
      "metadata": {
        "colab": {
          "base_uri": "https://localhost:8080/"
        },
        "id": "goOL5_rzqjff",
        "outputId": "d9fbecd5-d36d-495b-c939-22fa7db541e8"
      },
      "source": [
        "#True Mean 5 year exp data scientist working in India is 12.5LPA, sigma=40000\n",
        "#Let us simulate population data which is normally distributed\n",
        "np.random.seed(10)\n",
        "sal=np.random.randn(50000)\n",
        "len(sal)"
      ],
      "execution_count": null,
      "outputs": [
        {
          "output_type": "execute_result",
          "data": {
            "text/plain": [
              "50000"
            ]
          },
          "metadata": {},
          "execution_count": 18
        }
      ]
    },
    {
      "cell_type": "code",
      "source": [
        "sns.displot(sal,kde=True)"
      ],
      "metadata": {
        "colab": {
          "base_uri": "https://localhost:8080/",
          "height": 386
        },
        "id": "oXdi1cdVsjrr",
        "outputId": "2b8f39d9-c3a9-4ed2-8bec-e9b6b79627b0"
      },
      "execution_count": null,
      "outputs": [
        {
          "output_type": "execute_result",
          "data": {
            "text/plain": [
              "<seaborn.axisgrid.FacetGrid at 0x7ff23aa74510>"
            ]
          },
          "metadata": {},
          "execution_count": 19
        },
        {
          "output_type": "display_data",
          "data": {
            "text/plain": [
              "<Figure size 360x360 with 1 Axes>"
            ],
            "image/png": "[encoded data removed]"
          },
          "metadata": {
            "needs_background": "light"
          }
        }
      ]
    },
    {
      "cell_type": "code",
      "metadata": {
        "colab": {
          "base_uri": "https://localhost:8080/"
        },
        "id": "GHQBEQy7RhcG",
        "outputId": "bb4e6154-c6d9-46a8-9cf0-b41392697f7f"
      },
      "source": [
        "sal[:10]"
      ],
      "execution_count": null,
      "outputs": [
        {
          "output_type": "execute_result",
          "data": {
            "text/plain": [
              "array([ 1.3315865 ,  0.71527897, -1.54540029, -0.00838385,  0.62133597,\n",
              "       -0.72008556,  0.26551159,  0.10854853,  0.00429143, -0.17460021])"
            ]
          },
          "metadata": {},
          "execution_count": 6
        }
      ]
    },
    {
      "cell_type": "code",
      "metadata": {
        "colab": {
          "base_uri": "https://localhost:8080/",
          "height": 386
        },
        "id": "OnGGHulpRU4o",
        "outputId": "7f4a6dcc-0e0a-49fd-81ee-14f638ddd3ce"
      },
      "source": [
        "sns.displot(sal,kde=True)"
      ],
      "execution_count": null,
      "outputs": [
        {
          "output_type": "execute_result",
          "data": {
            "text/plain": [
              "<seaborn.axisgrid.FacetGrid at 0x7f033e262610>"
            ]
          },
          "metadata": {},
          "execution_count": 3
        },
        {
          "output_type": "display_data",
          "data": {
            "image/png": "[encoded data removed]",
            "text/plain": [
              "<Figure size 360x360 with 1 Axes>"
            ]
          },
          "metadata": {
            "needs_background": "light"
          }
        }
      ]
    },
    {
      "cell_type": "code",
      "metadata": {
        "colab": {
          "base_uri": "https://localhost:8080/"
        },
        "id": "XC4hzKGERLJX",
        "outputId": "05622cc1-fae6-4ddd-96f0-218eb0d0d682"
      },
      "source": [
        "sal_pop=sal*40000+1250000\n",
        "np.min(sal_pop),np.max(sal_pop),np.mean(sal_pop),np.std(sal_pop)"
      ],
      "execution_count": null,
      "outputs": [
        {
          "output_type": "execute_result",
          "data": {
            "text/plain": [
              "(1078734.9068880684, 1412119.1466131588, 1250110.957051844, 40003.208496082654)"
            ]
          },
          "metadata": {},
          "execution_count": 20
        }
      ]
    },
    {
      "cell_type": "code",
      "metadata": {
        "colab": {
          "base_uri": "https://localhost:8080/",
          "height": 386
        },
        "id": "Khm3VKJhqjse",
        "outputId": "ff07a305-f27d-4926-d3cc-8a15dd4fec8d"
      },
      "source": [
        "sns.displot(sal_pop,kde=True)"
      ],
      "execution_count": null,
      "outputs": [
        {
          "output_type": "execute_result",
          "data": {
            "text/plain": [
              "<seaborn.axisgrid.FacetGrid at 0x7f0332885510>"
            ]
          },
          "metadata": {},
          "execution_count": 6
        },
        {
          "output_type": "display_data",
          "data": {
            "image/png": "[encoded data removed]",
            "text/plain": [
              "<Figure size 360x360 with 1 Axes>"
            ]
          },
          "metadata": {
            "needs_background": "light"
          }
        }
      ]
    },
    {
      "cell_type": "code",
      "metadata": {
        "colab": {
          "base_uri": "https://localhost:8080/"
        },
        "id": "BHtRR-lcbKVp",
        "outputId": "e79ea71b-6021-4256-8595-9899d8789b74"
      },
      "source": [
        "pd.DataFrame(sal_pop).skew()"
      ],
      "execution_count": null,
      "outputs": [
        {
          "output_type": "execute_result",
          "data": {
            "text/plain": [
              "0   -0.003557\n",
              "dtype: float64"
            ]
          },
          "metadata": {},
          "execution_count": 7
        }
      ]
    },
    {
      "cell_type": "code",
      "metadata": {
        "id": "agVQRS5ScMb7",
        "colab": {
          "base_uri": "https://localhost:8080/"
        },
        "outputId": "f71ec4df-da4d-440c-c7ad-162042862937"
      },
      "source": [
        "test=pd.Series([5,9,12,8,4,0,50,20])\n",
        "test.std()"
      ],
      "execution_count": null,
      "outputs": [
        {
          "output_type": "execute_result",
          "data": {
            "text/plain": [
              "15.910463762658118"
            ]
          },
          "metadata": {},
          "execution_count": 22
        }
      ]
    },
    {
      "cell_type": "code",
      "metadata": {
        "colab": {
          "base_uri": "https://localhost:8080/"
        },
        "id": "gGAVHwTYXALz",
        "outputId": "6a2a2158-8a00-40da-ca32-aef9b8d83e67"
      },
      "source": [
        "np.std(test,ddof=1)"
      ],
      "execution_count": null,
      "outputs": [
        {
          "output_type": "execute_result",
          "data": {
            "text/plain": [
              "15.910463762658118"
            ]
          },
          "metadata": {},
          "execution_count": 24
        }
      ]
    },
    {
      "cell_type": "code",
      "metadata": {
        "id": "16hIj6mrcxgz"
      },
      "source": [
        "store=[]\n",
        "for val in np.arange(15):\n",
        "  store.append(np.random.choice(test))"
      ],
      "execution_count": null,
      "outputs": []
    },
    {
      "cell_type": "code",
      "metadata": {
        "colab": {
          "base_uri": "https://localhost:8080/"
        },
        "id": "rUaaukoDU3cA",
        "outputId": "e03e0413-2d8d-401c-a6ad-cdd64bf8bf10"
      },
      "source": [
        "np.mean(store)"
      ],
      "execution_count": null,
      "outputs": [
        {
          "output_type": "execute_result",
          "data": {
            "text/plain": [
              "8.6"
            ]
          },
          "metadata": {},
          "execution_count": 12
        }
      ]
    },
    {
      "cell_type": "code",
      "metadata": {
        "id": "r4_7Nx8uqjvN"
      },
      "source": [
        "#Method-1 (Theoretical)\n",
        "trial=[]\n",
        "#here 200 trials\n",
        "for itr in np.arange(200):\n",
        "  samp=[]\n",
        "  for val in np.arange(500):\n",
        "    samp.append(np.random.choice(sal_pop))\n",
        "  trial.append(np.mean(samp))"
      ],
      "execution_count": null,
      "outputs": []
    },
    {
      "cell_type": "code",
      "source": [
        "sns.displot(trial,kind='kde')"
      ],
      "metadata": {
        "colab": {
          "base_uri": "https://localhost:8080/",
          "height": 386
        },
        "id": "SmNo2R7KAg5v",
        "outputId": "546a2472-f223-4b5e-8aba-85c06bf7cfef"
      },
      "execution_count": null,
      "outputs": [
        {
          "output_type": "execute_result",
          "data": {
            "text/plain": [
              "<seaborn.axisgrid.FacetGrid at 0x7ff23a498550>"
            ]
          },
          "metadata": {},
          "execution_count": 22
        },
        {
          "output_type": "display_data",
          "data": {
            "text/plain": [
              "<Figure size 360x360 with 1 Axes>"
            ],
            "image/png": "[encoded data removed]"
          },
          "metadata": {
            "needs_background": "light"
          }
        }
      ]
    },
    {
      "cell_type": "code",
      "source": [
        "pd.Series(trial).skew()"
      ],
      "metadata": {
        "colab": {
          "base_uri": "https://localhost:8080/"
        },
        "id": "1zWLuCJrAn0W",
        "outputId": "d68cd347-faf8-46dc-e64e-75c468e7a8e9"
      },
      "execution_count": null,
      "outputs": [
        {
          "output_type": "execute_result",
          "data": {
            "text/plain": [
              "0.005937415199741915"
            ]
          },
          "metadata": {},
          "execution_count": 24
        }
      ]
    },
    {
      "cell_type": "code",
      "source": [
        "pd.Series(trial).std()"
      ],
      "metadata": {
        "colab": {
          "base_uri": "https://localhost:8080/"
        },
        "id": "IiP0dmHSDep_",
        "outputId": "90ea0615-fee1-4dee-a0c3-f47fd32272a2"
      },
      "execution_count": null,
      "outputs": [
        {
          "output_type": "execute_result",
          "data": {
            "text/plain": [
              "1718.5276817994877"
            ]
          },
          "metadata": {},
          "execution_count": 27
        }
      ]
    },
    {
      "cell_type": "code",
      "source": [
        "np.mean(trial),np.std(trial,ddof=1)"
      ],
      "metadata": {
        "colab": {
          "base_uri": "https://localhost:8080/"
        },
        "id": "xFcCnXiABwlJ",
        "outputId": "26501788-ba0f-4066-a04d-486a99c142c6"
      },
      "execution_count": null,
      "outputs": [
        {
          "output_type": "execute_result",
          "data": {
            "text/plain": [
              "(1249887.0263387416, 1718.5276817994877)"
            ]
          },
          "metadata": {},
          "execution_count": 29
        }
      ]
    },
    {
      "cell_type": "code",
      "source": [
        "1249887.0263387416-1.96*1718.5276817994877"
      ],
      "metadata": {
        "colab": {
          "base_uri": "https://localhost:8080/"
        },
        "id": "2m8pnuDzFGqP",
        "outputId": "466038bb-c942-46a0-c25d-aadfd999990d"
      },
      "execution_count": null,
      "outputs": [
        {
          "output_type": "execute_result",
          "data": {
            "text/plain": [
              "1246518.7120824147"
            ]
          },
          "metadata": {},
          "execution_count": 30
        }
      ]
    },
    {
      "cell_type": "code",
      "source": [
        "1249887.0263387416+1.96*1718.5276817994877"
      ],
      "metadata": {
        "colab": {
          "base_uri": "https://localhost:8080/"
        },
        "id": "fIAIaXYcFN04",
        "outputId": "da2361ac-9caf-4993-b066-bc037f44dd18"
      },
      "execution_count": null,
      "outputs": [
        {
          "output_type": "execute_result",
          "data": {
            "text/plain": [
              "1253255.3405950686"
            ]
          },
          "metadata": {},
          "execution_count": 31
        }
      ]
    },
    {
      "cell_type": "code",
      "metadata": {
        "colab": {
          "base_uri": "https://localhost:8080/"
        },
        "id": "cJOkARuydHmG",
        "outputId": "7cc36241-9eee-4aad-c42f-a4ece5653726"
      },
      "source": [
        "len(trial)"
      ],
      "execution_count": null,
      "outputs": [
        {
          "output_type": "execute_result",
          "data": {
            "text/plain": [
              "200"
            ]
          },
          "metadata": {},
          "execution_count": 9
        }
      ]
    },
    {
      "cell_type": "code",
      "source": [
        "np.std(trial,ddof=1)"
      ],
      "metadata": {
        "colab": {
          "base_uri": "https://localhost:8080/"
        },
        "id": "cN8ohiURxfVL",
        "outputId": "67064cbb-7a70-421b-bb78-fcf84e16b79c"
      },
      "execution_count": null,
      "outputs": [
        {
          "output_type": "execute_result",
          "data": {
            "text/plain": [
              "1718.5276817994877"
            ]
          },
          "metadata": {},
          "execution_count": 16
        }
      ]
    },
    {
      "cell_type": "code",
      "source": [
        "np.mean(trial)-1.96*np.std(trial,ddof=1)"
      ],
      "metadata": {
        "colab": {
          "base_uri": "https://localhost:8080/"
        },
        "id": "qqu2_p3AvPZt",
        "outputId": "9502076d-9583-49b6-bb9a-329bf18fed4d"
      },
      "execution_count": null,
      "outputs": [
        {
          "output_type": "execute_result",
          "data": {
            "text/plain": [
              "1246518.7120824147"
            ]
          },
          "metadata": {},
          "execution_count": 12
        }
      ]
    },
    {
      "cell_type": "code",
      "source": [
        "np.mean(trial)+1.96*np.std(trial,ddof=1)"
      ],
      "metadata": {
        "colab": {
          "base_uri": "https://localhost:8080/"
        },
        "id": "sObZTE_Nvioy",
        "outputId": "45494353-eb19-4f26-e31f-65e269306571"
      },
      "execution_count": null,
      "outputs": [
        {
          "output_type": "execute_result",
          "data": {
            "text/plain": [
              "1253255.3405950686"
            ]
          },
          "metadata": {},
          "execution_count": 13
        }
      ]
    },
    {
      "cell_type": "code",
      "source": [],
      "metadata": {
        "id": "xfJ2BnpdGD75"
      },
      "execution_count": null,
      "outputs": []
    },
    {
      "cell_type": "code",
      "source": [
        "#practical approach\n",
        "samp=[]\n",
        "for val in np.arange(500):\n",
        "  samp.append(np.random.choice(sal_pop))\n",
        "  "
      ],
      "metadata": {
        "id": "sgMMgkT-wqw6"
      },
      "execution_count": null,
      "outputs": []
    },
    {
      "cell_type": "code",
      "source": [
        "np.mean(samp),np.std(samp,ddof=1)/np.sqrt(500)"
      ],
      "metadata": {
        "colab": {
          "base_uri": "https://localhost:8080/"
        },
        "id": "oLAUD75jGE7Z",
        "outputId": "0705a008-15fd-4a72-f279-7807b3bca010"
      },
      "execution_count": null,
      "outputs": [
        {
          "output_type": "execute_result",
          "data": {
            "text/plain": [
              "(1250901.050984991, 1774.4618678472987)"
            ]
          },
          "metadata": {},
          "execution_count": 37
        }
      ]
    },
    {
      "cell_type": "code",
      "source": [
        "#95% CI range of pop_mean\n",
        "1250901.050984991-1.96*1774.4618678472987"
      ],
      "metadata": {
        "colab": {
          "base_uri": "https://localhost:8080/"
        },
        "id": "NvcT3ykqHghg",
        "outputId": "1c4188f8-fdfb-472b-d4eb-85f9becbec20"
      },
      "execution_count": null,
      "outputs": [
        {
          "output_type": "execute_result",
          "data": {
            "text/plain": [
              "1247423.1057240104"
            ]
          },
          "metadata": {},
          "execution_count": 38
        }
      ]
    },
    {
      "cell_type": "code",
      "source": [
        "1250901.050984991+1.96*1774.4618678472987"
      ],
      "metadata": {
        "colab": {
          "base_uri": "https://localhost:8080/"
        },
        "id": "IbYoM7LGGFDw",
        "outputId": "f183443d-8c84-45f1-e191-a68d2f34c7f6"
      },
      "execution_count": null,
      "outputs": [
        {
          "output_type": "execute_result",
          "data": {
            "text/plain": [
              "1254378.9962459716"
            ]
          },
          "metadata": {},
          "execution_count": 39
        }
      ]
    },
    {
      "cell_type": "code",
      "source": [
        "np.mean(samp)-1.96*(np.std(samp,ddof=1)/np.sqrt(500))"
      ],
      "metadata": {
        "colab": {
          "base_uri": "https://localhost:8080/"
        },
        "id": "bYRpkcXgxW_Z",
        "outputId": "7c2c830a-fc91-41c2-a070-f374d930dbed"
      },
      "execution_count": null,
      "outputs": [
        {
          "output_type": "execute_result",
          "data": {
            "text/plain": [
              "1246729.219295218"
            ]
          },
          "metadata": {},
          "execution_count": 19
        }
      ]
    },
    {
      "cell_type": "code",
      "source": [
        "np.mean(samp)+1.96*(np.std(samp,ddof=1)/np.sqrt(500))"
      ],
      "metadata": {
        "colab": {
          "base_uri": "https://localhost:8080/"
        },
        "id": "7q0Bvno4x839",
        "outputId": "60ee43f9-f7c6-4d25-890e-44ef91e0e9a5"
      },
      "execution_count": null,
      "outputs": [
        {
          "output_type": "execute_result",
          "data": {
            "text/plain": [
              "1253929.4795482184"
            ]
          },
          "metadata": {},
          "execution_count": 20
        }
      ]
    },
    {
      "cell_type": "code",
      "metadata": {
        "colab": {
          "base_uri": "https://localhost:8080/"
        },
        "id": "XGj481KdVm7k",
        "outputId": "91e24c02-b05c-4c36-fdb0-49a32c454507"
      },
      "source": [
        "trial[:10]"
      ],
      "execution_count": null,
      "outputs": [
        {
          "output_type": "execute_result",
          "data": {
            "text/plain": [
              "[1249788.495044616,\n",
              " 1247129.2018282423,\n",
              " 1249794.2187834054,\n",
              " 1247258.4912511925,\n",
              " 1250787.9578571017,\n",
              " 1249869.9539473676,\n",
              " 1247947.8863122992,\n",
              " 1248039.3400525164,\n",
              " 1250220.7779333214,\n",
              " 1248656.4972578469]"
            ]
          },
          "metadata": {},
          "execution_count": 10
        }
      ]
    },
    {
      "cell_type": "code",
      "metadata": {
        "colab": {
          "base_uri": "https://localhost:8080/",
          "height": 386
        },
        "id": "5c12lI0Cr9pt",
        "outputId": "83bb56b8-606d-4973-f0ba-52839cd5a1fe"
      },
      "source": [
        "sns.displot(trial,kde=True)"
      ],
      "execution_count": null,
      "outputs": [
        {
          "output_type": "execute_result",
          "data": {
            "text/plain": [
              "<seaborn.axisgrid.FacetGrid at 0x7f0332885110>"
            ]
          },
          "metadata": {},
          "execution_count": 15
        },
        {
          "output_type": "display_data",
          "data": {
            "image/png": "[encoded data removed]",
            "text/plain": [
              "<Figure size 360x360 with 1 Axes>"
            ]
          },
          "metadata": {
            "needs_background": "light"
          }
        }
      ]
    },
    {
      "cell_type": "code",
      "metadata": {
        "colab": {
          "base_uri": "https://localhost:8080/"
        },
        "id": "jdJxQnk1sGDv",
        "outputId": "adfe2529-b836-4b87-9479-0b29d743d43e"
      },
      "source": [
        "pd.DataFrame(trial).skew()"
      ],
      "execution_count": null,
      "outputs": [
        {
          "output_type": "execute_result",
          "data": {
            "text/plain": [
              "0   -0.017378\n",
              "dtype: float64"
            ]
          },
          "metadata": {},
          "execution_count": 17
        }
      ]
    },
    {
      "cell_type": "code",
      "metadata": {
        "colab": {
          "base_uri": "https://localhost:8080/"
        },
        "id": "4ahYSM-5sWqG",
        "outputId": "2eb9da82-bb69-487c-ca7a-2fa38875224f"
      },
      "source": [
        "x_bar_bar=np.mean(trial)\n",
        "x_bar_bar"
      ],
      "execution_count": null,
      "outputs": [
        {
          "output_type": "execute_result",
          "data": {
            "text/plain": [
              "1244968.0013944134"
            ]
          },
          "metadata": {},
          "execution_count": 18
        }
      ]
    },
    {
      "cell_type": "code",
      "metadata": {
        "colab": {
          "base_uri": "https://localhost:8080/"
        },
        "id": "HZa5clRBW5LJ",
        "outputId": "802c6465-d2ef-4a4d-a55a-254f50f0ab1a"
      },
      "source": [
        "np.std(trial,ddof=1)"
      ],
      "execution_count": null,
      "outputs": [
        {
          "output_type": "execute_result",
          "data": {
            "text/plain": [
              "1802.5254589191102"
            ]
          },
          "metadata": {},
          "execution_count": 19
        }
      ]
    },
    {
      "cell_type": "code",
      "metadata": {
        "colab": {
          "base_uri": "https://localhost:8080/"
        },
        "id": "7se9FZCDW5Oz",
        "outputId": "ee14484c-8d52-4127-f158-4bf188a0f351"
      },
      "source": [
        "stats.norm.isf(0.025)"
      ],
      "execution_count": null,
      "outputs": [
        {
          "output_type": "execute_result",
          "data": {
            "text/plain": [
              "1.9599639845400545"
            ]
          },
          "metadata": {},
          "execution_count": 25
        }
      ]
    },
    {
      "cell_type": "code",
      "metadata": {
        "colab": {
          "base_uri": "https://localhost:8080/"
        },
        "id": "XowNJFeAW5bS",
        "outputId": "ba37a39c-6462-4039-aa40-9437125686ec"
      },
      "source": [
        "stats.norm.isf(0.005)"
      ],
      "execution_count": null,
      "outputs": [
        {
          "output_type": "execute_result",
          "data": {
            "text/plain": [
              "2.575829303548901"
            ]
          },
          "metadata": {},
          "execution_count": 26
        }
      ]
    },
    {
      "cell_type": "code",
      "metadata": {
        "colab": {
          "base_uri": "https://localhost:8080/"
        },
        "id": "S57ON4Q-cj4b",
        "outputId": "ac50b17f-24c2-42da-ec4e-d9ccdd0d349c"
      },
      "source": [
        "stats.norm.isf(0.05)"
      ],
      "execution_count": null,
      "outputs": [
        {
          "output_type": "execute_result",
          "data": {
            "text/plain": [
              "1.6448536269514729"
            ]
          },
          "metadata": {},
          "execution_count": 27
        }
      ]
    },
    {
      "cell_type": "code",
      "metadata": {
        "colab": {
          "base_uri": "https://localhost:8080/"
        },
        "id": "lqGPYSaZscDI",
        "outputId": "5a3456db-100a-4fec-dfd6-3924fe6232bb"
      },
      "source": [
        "#Standard Error of the Mean\n",
        "sem=np.std(trial,ddof=1)\n",
        "sem"
      ],
      "execution_count": null,
      "outputs": [
        {
          "output_type": "execute_result",
          "data": {
            "text/plain": [
              "1802.5254589191102"
            ]
          },
          "metadata": {},
          "execution_count": 28
        }
      ]
    },
    {
      "cell_type": "code",
      "metadata": {
        "colab": {
          "base_uri": "https://localhost:8080/"
        },
        "id": "JoWxiRO4dc99",
        "outputId": "6a0c418f-2ebb-48dd-e65c-c702d1868004"
      },
      "source": [
        "np.mean(sal_pop)"
      ],
      "execution_count": null,
      "outputs": [
        {
          "output_type": "execute_result",
          "data": {
            "text/plain": [
              "1244899.0144249545"
            ]
          },
          "metadata": {},
          "execution_count": 30
        }
      ]
    },
    {
      "cell_type": "code",
      "metadata": {
        "colab": {
          "base_uri": "https://localhost:8080/"
        },
        "id": "BkuehNOcsiRn",
        "outputId": "ce475ddf-3807-449d-fb2c-98395679e6d4"
      },
      "source": [
        "#95% Confidence Interval (CI) range \n",
        "[x_bar_bar-1.96*sem,x_bar_bar+1.96*sem]"
      ],
      "execution_count": null,
      "outputs": [
        {
          "output_type": "execute_result",
          "data": {
            "text/plain": [
              "[1241435.051494932, 1248500.9512938948]"
            ]
          },
          "metadata": {},
          "execution_count": 29
        }
      ]
    },
    {
      "cell_type": "code",
      "metadata": {
        "id": "mrMMu34AsvRp"
      },
      "source": [
        "#Method-2 (Practical)\n",
        "samp=[]\n",
        "for val in np.arange(500):\n",
        "  samp.append(np.random.choice(sal_pop))"
      ],
      "execution_count": null,
      "outputs": []
    },
    {
      "cell_type": "code",
      "metadata": {
        "colab": {
          "base_uri": "https://localhost:8080/"
        },
        "id": "K1P3tppAiKnQ",
        "outputId": "0c66f944-f6d7-4b15-bc05-017e948058ee"
      },
      "source": [
        "len(samp)"
      ],
      "execution_count": null,
      "outputs": [
        {
          "output_type": "execute_result",
          "data": {
            "text/plain": [
              "500"
            ]
          },
          "metadata": {},
          "execution_count": 32
        }
      ]
    },
    {
      "cell_type": "code",
      "metadata": {
        "colab": {
          "base_uri": "https://localhost:8080/"
        },
        "id": "7xeTkofXs_-H",
        "outputId": "cb350df8-102c-4ca2-8f96-0e64941509c3"
      },
      "source": [
        "x_bar=np.mean(samp)\n",
        "x_bar"
      ],
      "execution_count": null,
      "outputs": [
        {
          "output_type": "execute_result",
          "data": {
            "text/plain": [
              "1245677.0144048114"
            ]
          },
          "metadata": {},
          "execution_count": 33
        }
      ]
    },
    {
      "cell_type": "code",
      "metadata": {
        "colab": {
          "base_uri": "https://localhost:8080/"
        },
        "id": "qIrIm_JztPyB",
        "outputId": "799c34a4-65b8-40bf-a1b7-ae00988a29e5"
      },
      "source": [
        "np.std(samp,ddof=1)"
      ],
      "execution_count": null,
      "outputs": [
        {
          "output_type": "execute_result",
          "data": {
            "text/plain": [
              "38560.89866466918"
            ]
          },
          "metadata": {},
          "execution_count": 34
        }
      ]
    },
    {
      "cell_type": "code",
      "metadata": {
        "colab": {
          "base_uri": "https://localhost:8080/"
        },
        "id": "kjhbmz2FfPo0",
        "outputId": "1a1effa4-f66a-4349-eb72-b3e479812c64"
      },
      "source": [
        "38560.89/np.sqrt(500)"
      ],
      "execution_count": null,
      "outputs": [
        {
          "output_type": "execute_result",
          "data": {
            "text/plain": [
              "1724.4954262578372"
            ]
          },
          "metadata": {},
          "execution_count": 35
        }
      ]
    },
    {
      "cell_type": "code",
      "metadata": {
        "colab": {
          "base_uri": "https://localhost:8080/"
        },
        "id": "-u5dCwFrtGxI",
        "outputId": "7fbe6eba-0646-4854-cd60-00a63067dbd3"
      },
      "source": [
        "#SEM\n",
        "sem=np.std(samp,ddof=1)/np.sqrt(500)\n",
        "sem"
      ],
      "execution_count": null,
      "outputs": [
        {
          "output_type": "execute_result",
          "data": {
            "text/plain": [
              "1724.495813753623"
            ]
          },
          "metadata": {},
          "execution_count": 36
        }
      ]
    },
    {
      "cell_type": "code",
      "metadata": {
        "colab": {
          "base_uri": "https://localhost:8080/"
        },
        "id": "LBF93aA8tUb6",
        "outputId": "3c355409-fb8d-4ebd-955c-5c212a008fcc"
      },
      "source": [
        "#95% CI range \n",
        "[x_bar-1.96*sem,x_bar+1.96*sem]"
      ],
      "execution_count": null,
      "outputs": [
        {
          "output_type": "execute_result",
          "data": {
            "text/plain": [
              "[1242297.0026098543, 1249057.0261997685]"
            ]
          },
          "metadata": {},
          "execution_count": 37
        }
      ]
    },
    {
      "cell_type": "code",
      "metadata": {
        "id": "hC0uT96-Z6FD"
      },
      "source": [
        "#Let us simulate a skewed distribution\n",
        "from scipy.stats import skewnorm"
      ],
      "execution_count": null,
      "outputs": []
    },
    {
      "cell_type": "code",
      "metadata": {
        "colab": {
          "base_uri": "https://localhost:8080/",
          "height": 386
        },
        "id": "4B1qmT0DaBIr",
        "outputId": "52ffb4e7-776c-4b3d-b611-4b7d43e97811"
      },
      "source": [
        "np.random.seed(10)\n",
        "pop_skewed=skewnorm.rvs(8,size=50000)\n",
        "sns.displot(pop_skewed,kde=True)"
      ],
      "execution_count": null,
      "outputs": [
        {
          "output_type": "execute_result",
          "data": {
            "text/plain": [
              "<seaborn.axisgrid.FacetGrid at 0x7ff23a498890>"
            ]
          },
          "metadata": {},
          "execution_count": 41
        },
        {
          "output_type": "display_data",
          "data": {
            "text/plain": [
              "<Figure size 360x360 with 1 Axes>"
            ],
            "image/png": "[encoded data removed]"
          },
          "metadata": {
            "needs_background": "light"
          }
        }
      ]
    },
    {
      "cell_type": "code",
      "metadata": {
        "colab": {
          "base_uri": "https://localhost:8080/"
        },
        "id": "ezOdzUc35uLP",
        "outputId": "35d8f943-9391-4095-9de8-cfd03276fa6f"
      },
      "source": [
        "pd.Series(pop_skewed).skew()"
      ],
      "execution_count": null,
      "outputs": [
        {
          "output_type": "execute_result",
          "data": {
            "text/plain": [
              "0.9430294831299075"
            ]
          },
          "metadata": {},
          "execution_count": 42
        }
      ]
    },
    {
      "cell_type": "code",
      "metadata": {
        "id": "uUTIYhw7aTk0"
      },
      "source": [
        "#convert all 50,000 samples in LPA units \n",
        "pop=pop_skewed*40000+1250000"
      ],
      "execution_count": null,
      "outputs": []
    },
    {
      "cell_type": "code",
      "metadata": {
        "colab": {
          "base_uri": "https://localhost:8080/"
        },
        "id": "pKKb89Akag8w",
        "outputId": "8bf6a8ee-1bed-4b83-efd5-1bb014e84cf9"
      },
      "source": [
        "#True Mean of skewed distribution\n",
        "np.mean(pop)"
      ],
      "execution_count": null,
      "outputs": [
        {
          "output_type": "execute_result",
          "data": {
            "text/plain": [
              "1281692.5885102993"
            ]
          },
          "metadata": {},
          "execution_count": 44
        }
      ]
    },
    {
      "cell_type": "markdown",
      "metadata": {
        "id": "omQoOPaalgJv"
      },
      "source": [
        "* The population true mean is 12.81692 LPA "
      ]
    },
    {
      "cell_type": "code",
      "metadata": {
        "id": "MCBSc9i2atY3"
      },
      "source": [
        "#Method-1\n",
        "#practical approach (200 trials with 500 samples each)\n",
        "trial=[]\n",
        "for itr in np.arange(200):\n",
        "  samp=[]\n",
        "  for val in np.arange(500):\n",
        "    samp.append(np.random.choice(pop))\n",
        "  trial.append(np.mean(samp))"
      ],
      "execution_count": null,
      "outputs": []
    },
    {
      "cell_type": "code",
      "metadata": {
        "colab": {
          "base_uri": "https://localhost:8080/"
        },
        "id": "Rmh4_s5Vl3Mc",
        "outputId": "eb7ee6be-d17a-4ae6-8db6-a065bd437444"
      },
      "source": [
        "len(trial)"
      ],
      "execution_count": null,
      "outputs": [
        {
          "output_type": "execute_result",
          "data": {
            "text/plain": [
              "200"
            ]
          },
          "metadata": {},
          "execution_count": 61
        }
      ]
    },
    {
      "cell_type": "code",
      "metadata": {
        "colab": {
          "base_uri": "https://localhost:8080/",
          "height": 386
        },
        "id": "HFONo2GtbCXP",
        "outputId": "4764f5e0-90b5-4547-c6d8-0d374fd32623"
      },
      "source": [
        "sns.displot(trial,kde=True)"
      ],
      "execution_count": null,
      "outputs": [
        {
          "output_type": "execute_result",
          "data": {
            "text/plain": [
              "<seaborn.axisgrid.FacetGrid at 0x7ff23a22d250>"
            ]
          },
          "metadata": {},
          "execution_count": 46
        },
        {
          "output_type": "display_data",
          "data": {
            "text/plain": [
              "<Figure size 360x360 with 1 Axes>"
            ],
            "image/png": "[encoded data removed]"
          },
          "metadata": {
            "needs_background": "light"
          }
        }
      ]
    },
    {
      "cell_type": "code",
      "metadata": {
        "colab": {
          "base_uri": "https://localhost:8080/"
        },
        "id": "7FDB_4Ap6YO5",
        "outputId": "a67d9bee-35cd-4411-cff2-d22b2ebc5f86"
      },
      "source": [
        "pd.DataFrame(trial).skew() #near normal distribution"
      ],
      "execution_count": null,
      "outputs": [
        {
          "output_type": "execute_result",
          "data": {
            "text/plain": [
              "0    0.106441\n",
              "dtype: float64"
            ]
          },
          "metadata": {},
          "execution_count": 47
        }
      ]
    },
    {
      "cell_type": "code",
      "metadata": {
        "colab": {
          "base_uri": "https://localhost:8080/"
        },
        "id": "Rk8qZrV2a2xs",
        "outputId": "c4008fad-7b81-4c66-fcbe-57a52b73eb4a"
      },
      "source": [
        "np.mean(trial),np.std(trial,ddof=1)"
      ],
      "execution_count": null,
      "outputs": [
        {
          "output_type": "execute_result",
          "data": {
            "text/plain": [
              "(1281740.8260208804, 1152.0540636244398)"
            ]
          },
          "metadata": {},
          "execution_count": 48
        }
      ]
    },
    {
      "cell_type": "code",
      "metadata": {
        "colab": {
          "base_uri": "https://localhost:8080/"
        },
        "id": "E8LG4gARbLyB",
        "outputId": "82c8a30f-768b-4de4-e34a-825a2f217438"
      },
      "source": [
        "#95% CI range\n",
        "[np.mean(trial)-1.96*np.std(trial,ddof=1),np.mean(trial)+1.96*np.std(trial,ddof=1)]"
      ],
      "execution_count": null,
      "outputs": [
        {
          "output_type": "execute_result",
          "data": {
            "text/plain": [
              "[1279482.8000561765, 1283998.8519855842]"
            ]
          },
          "metadata": {},
          "execution_count": 49
        }
      ]
    },
    {
      "cell_type": "code",
      "metadata": {
        "id": "yPZFCK4tbbPZ"
      },
      "source": [
        "#Method-2 (practical approach)\n",
        "samp=[]\n",
        "for val in np.arange(500):\n",
        "  samp.append(np.random.choice(pop))"
      ],
      "execution_count": null,
      "outputs": []
    },
    {
      "cell_type": "code",
      "source": [
        "SEM=np.std(samp,ddof=1)/np.sqrt(500)\n",
        "SEM"
      ],
      "metadata": {
        "colab": {
          "base_uri": "https://localhost:8080/"
        },
        "id": "_zE778oJKVS8",
        "outputId": "16eb71ea-8402-4ede-ee42-d40e5e82d6cc"
      },
      "execution_count": null,
      "outputs": [
        {
          "output_type": "execute_result",
          "data": {
            "text/plain": [
              "1117.8944835150633"
            ]
          },
          "metadata": {},
          "execution_count": 53
        }
      ]
    },
    {
      "cell_type": "code",
      "source": [
        "[np.mean(samp)-1.96*SEM,np.mean(samp)+1.96*SEM]"
      ],
      "metadata": {
        "colab": {
          "base_uri": "https://localhost:8080/"
        },
        "id": "TOdIU5BgKhP7",
        "outputId": "b4607628-fcc1-4dd1-be70-b26f9d7d2c76"
      },
      "execution_count": null,
      "outputs": [
        {
          "output_type": "execute_result",
          "data": {
            "text/plain": [
              "[1279213.282487302, 1283595.4288626811]"
            ]
          },
          "metadata": {},
          "execution_count": 63
        }
      ]
    },
    {
      "cell_type": "code",
      "metadata": {
        "colab": {
          "base_uri": "https://localhost:8080/"
        },
        "id": "UXj1JO9Fxsnn",
        "outputId": "dbd2db26-632e-4104-f843-08fa8ed364fe"
      },
      "source": [
        "x_bar=np.mean(samp)\n",
        "print(x_bar)"
      ],
      "execution_count": null,
      "outputs": [
        {
          "output_type": "stream",
          "name": "stdout",
          "text": [
            "1277270.777534769\n"
          ]
        }
      ]
    },
    {
      "cell_type": "code",
      "metadata": {
        "colab": {
          "base_uri": "https://localhost:8080/"
        },
        "id": "Jotyoh3lbg7i",
        "outputId": "0a93c1c2-39d0-489b-d04f-bcf49b327ede"
      },
      "source": [
        "SEM=np.std(samp,ddof=1)/np.sqrt(1000)\n",
        "print(SEM)"
      ],
      "execution_count": null,
      "outputs": [
        {
          "output_type": "stream",
          "name": "stdout",
          "text": [
            "792.93053761998\n"
          ]
        }
      ]
    },
    {
      "cell_type": "code",
      "metadata": {
        "colab": {
          "base_uri": "https://localhost:8080/"
        },
        "id": "dfYuXFFEiSni",
        "outputId": "f4e05e42-1d6f-4ec0-b17b-05f8faeded55"
      },
      "source": [
        "#95% CI range\n",
        "[x_bar-1.96*SEM,x_bar+1.96*SEM]"
      ],
      "execution_count": null,
      "outputs": [
        {
          "output_type": "execute_result",
          "data": {
            "text/plain": [
              "[1275716.6336810337, 1278824.921388504]"
            ]
          },
          "metadata": {},
          "execution_count": 13
        }
      ]
    },
    {
      "cell_type": "code",
      "metadata": {
        "colab": {
          "base_uri": "https://localhost:8080/"
        },
        "id": "2e2kvxoGiSqW",
        "outputId": "c3632034-79fa-4014-bdb6-c909e318ded2"
      },
      "source": [
        "#90% CI range\n",
        "[x_bar-1.64*SEM,x_bar+1.64*SEM]"
      ],
      "execution_count": null,
      "outputs": [
        {
          "output_type": "execute_result",
          "data": {
            "text/plain": [
              "[1275970.3714530722, 1278571.1836164657]"
            ]
          },
          "metadata": {},
          "execution_count": 14
        }
      ]
    },
    {
      "cell_type": "code",
      "metadata": {
        "id": "GgJjV7YykrfN",
        "colab": {
          "base_uri": "https://localhost:8080/"
        },
        "outputId": "d41f79d8-790b-4575-d3b1-68018862f426"
      },
      "source": [
        "#68% CI range\n",
        "[x_bar-SEM,x_bar+SEM]"
      ],
      "execution_count": null,
      "outputs": [
        {
          "output_type": "execute_result",
          "data": {
            "text/plain": [
              "[1276477.8469971488, 1278063.708072389]"
            ]
          },
          "metadata": {},
          "execution_count": 15
        }
      ]
    },
    {
      "cell_type": "code",
      "metadata": {
        "id": "A6cRUFWcmAI8",
        "colab": {
          "base_uri": "https://localhost:8080/"
        },
        "outputId": "d1fbd0fc-8cde-4270-a3f9-4c7501328008"
      },
      "source": [
        "stats.norm.isf(0.25)"
      ],
      "execution_count": null,
      "outputs": [
        {
          "output_type": "execute_result",
          "data": {
            "text/plain": [
              "0.6744897501960817"
            ]
          },
          "metadata": {},
          "execution_count": 18
        }
      ]
    },
    {
      "cell_type": "code",
      "metadata": {
        "id": "btKfxqzWmAL7",
        "colab": {
          "base_uri": "https://localhost:8080/"
        },
        "outputId": "01ccb4d7-f2f3-4c8f-8fa4-4e541135079c"
      },
      "source": [
        "#60% CI range\n",
        "[x_bar-.84*SEM,x_bar+.84*SEM]"
      ],
      "execution_count": null,
      "outputs": [
        {
          "output_type": "execute_result",
          "data": {
            "text/plain": [
              "[1276604.7158831682, 1277936.8391863697]"
            ]
          },
          "metadata": {},
          "execution_count": 19
        }
      ]
    },
    {
      "cell_type": "code",
      "metadata": {
        "id": "WykcbRpvkro0",
        "colab": {
          "base_uri": "https://localhost:8080/"
        },
        "outputId": "bb6da7a3-0d11-4390-fd3f-8744f628fbbc"
      },
      "source": [
        "#50% CI range\n",
        "[x_bar-.67*SEM,x_bar+.67*SEM]"
      ],
      "execution_count": null,
      "outputs": [
        {
          "output_type": "execute_result",
          "data": {
            "text/plain": [
              "[1276739.5140745635, 1277802.0409949743]"
            ]
          },
          "metadata": {},
          "execution_count": 20
        }
      ]
    },
    {
      "cell_type": "markdown",
      "metadata": {
        "id": "CJwA7qIix97M"
      },
      "source": [
        "* Avg sal of 5 years exp DS working in India = 13Lacs\n",
        "* Null Hyp: Ho = mu = 12.75Lacs\n",
        "* Alt Hyp: Ha mu != 12.75L"
      ]
    },
    {
      "cell_type": "code",
      "metadata": {
        "colab": {
          "base_uri": "https://localhost:8080/"
        },
        "id": "hezYdiXqx8Zj",
        "outputId": "019d8f03-ee43-49b3-d6b6-a32b64d8c8fe"
      },
      "source": [
        "ttest_1samp(samp,1275000)"
      ],
      "execution_count": null,
      "outputs": [
        {
          "output_type": "execute_result",
          "data": {
            "text/plain": [
              "Ttest_1sampResult(statistic=1.9344074595360619, pvalue=0.053628008514271276)"
            ]
          },
          "metadata": {},
          "execution_count": 16
        }
      ]
    },
    {
      "cell_type": "code",
      "metadata": {
        "colab": {
          "base_uri": "https://localhost:8080/"
        },
        "id": "Ac5HCAELbj08",
        "outputId": "31c90380-0ac1-4e5b-ad73-4a7180200445"
      },
      "source": [
        "SEM=np.std(samp,ddof=1)/np.sqrt(500)\n",
        "SEM"
      ],
      "execution_count": null,
      "outputs": [
        {
          "output_type": "execute_result",
          "data": {
            "text/plain": [
              "1129.8842100428114"
            ]
          },
          "metadata": {},
          "execution_count": 17
        }
      ]
    },
    {
      "cell_type": "code",
      "metadata": {
        "colab": {
          "base_uri": "https://localhost:8080/"
        },
        "id": "Gt5fmYJTbxVb",
        "outputId": "5120d3c3-9507-4930-94a1-cd576c243f85"
      },
      "source": [
        "np.mean(samp)"
      ],
      "execution_count": null,
      "outputs": [
        {
          "output_type": "execute_result",
          "data": {
            "text/plain": [
              "1277577.7348086706"
            ]
          },
          "metadata": {},
          "execution_count": 21
        }
      ]
    },
    {
      "cell_type": "code",
      "metadata": {
        "colab": {
          "base_uri": "https://localhost:8080/"
        },
        "id": "de2M9rnDbtb6",
        "outputId": "4e5b491f-6096-4241-95d8-1eb18e375d2c"
      },
      "source": [
        "#95% CI range\n",
        "[np.mean(samp)-1.96*SEM,np.mean(samp)+1.96*SEM]"
      ],
      "execution_count": null,
      "outputs": [
        {
          "output_type": "execute_result",
          "data": {
            "text/plain": [
              "[1274971.083392635, 1279400.2294960027]"
            ]
          },
          "metadata": {},
          "execution_count": 18
        }
      ]
    },
    {
      "cell_type": "code",
      "metadata": {
        "id": "7l6OKIjhmlrS"
      },
      "source": [
        "#5.1 stat book courier company example\n",
        "#n=50,x_bar=2.8hours,s=0.6hrs"
      ],
      "execution_count": null,
      "outputs": []
    },
    {
      "cell_type": "code",
      "metadata": {
        "colab": {
          "base_uri": "https://localhost:8080/"
        },
        "id": "I3lCwTWvmluN",
        "outputId": "aad417c2-a4ab-41fd-b5ef-023dc638353d"
      },
      "source": [
        "#95% CI range of mu \n",
        "[2.8-1.96*(0.6/np.sqrt(50)),2.8+1.96*(0.6/np.sqrt(50))]"
      ],
      "execution_count": null,
      "outputs": [
        {
          "output_type": "execute_result",
          "data": {
            "text/plain": [
              "[2.633688485064924, 2.9663115149350756]"
            ]
          },
          "metadata": {},
          "execution_count": 63
        }
      ]
    },
    {
      "cell_type": "code",
      "metadata": {
        "colab": {
          "base_uri": "https://localhost:8080/"
        },
        "id": "g14RGAw_mlxS",
        "outputId": "d88908e6-1787-400e-b224-40bdefe8d3e6"
      },
      "source": [
        "#coke 150ml example\n",
        "#sample x_bar=149.88ml, sd=2.5ml, n=500\n",
        "#how many SD in z-scale our sample mean away from 150ml\n",
        "(149.88-150)/(2.5/np.sqrt(500))"
      ],
      "execution_count": null,
      "outputs": [
        {
          "output_type": "execute_result",
          "data": {
            "text/plain": [
              "-1.0733126291999397"
            ]
          },
          "metadata": {},
          "execution_count": 74
        }
      ]
    },
    {
      "cell_type": "code",
      "metadata": {
        "colab": {
          "base_uri": "https://localhost:8080/"
        },
        "id": "eTWDjOFVj7Zc",
        "outputId": "b1dd85fa-2b4d-4ef8-aa13-500d4b648d22"
      },
      "source": [
        "ttest_1samp(samp,1275000)"
      ],
      "execution_count": null,
      "outputs": [
        {
          "output_type": "execute_result",
          "data": {
            "text/plain": [
              "Ttest_1sampResult(statistic=1.4514959953361548, pvalue=0.14727018221804344)"
            ]
          },
          "metadata": {},
          "execution_count": 43
        }
      ]
    },
    {
      "cell_type": "markdown",
      "metadata": {
        "id": "uz365irQI--3"
      },
      "source": [
        "* Inference: 95% confident that the pop mean lies in the interval [1274466 - 1278577]"
      ]
    },
    {
      "cell_type": "code",
      "source": [
        "np.random.seed(0)\n",
        "pop_skewed=skewnorm.rvs(-8,size=150)\n",
        "sns.displot(pop_skewed,kde=True)"
      ],
      "metadata": {
        "colab": {
          "base_uri": "https://localhost:8080/",
          "height": 386
        },
        "id": "8XirTOdBZDjt",
        "outputId": "a45613be-7860-4b72-9d5f-3f5e72fac8fc"
      },
      "execution_count": null,
      "outputs": [
        {
          "output_type": "execute_result",
          "data": {
            "text/plain": [
              "<seaborn.axisgrid.FacetGrid at 0x7fb12ca6bcd0>"
            ]
          },
          "metadata": {},
          "execution_count": 21
        },
        {
          "output_type": "display_data",
          "data": {
            "text/plain": [
              "<Figure size 360x360 with 1 Axes>"
            ],
            "image/png": "[encoded data removed]"
          },
          "metadata": {
            "needs_background": "light"
          }
        }
      ]
    },
    {
      "cell_type": "code",
      "source": [
        "np.mean(pop_skewed)"
      ],
      "metadata": {
        "colab": {
          "base_uri": "https://localhost:8080/"
        },
        "id": "j-o3x1lKZJ3i",
        "outputId": "19240830-3e5e-40af-8f55-795eebb09ff5"
      },
      "execution_count": null,
      "outputs": [
        {
          "output_type": "execute_result",
          "data": {
            "text/plain": [
              "-0.8345186773121507"
            ]
          },
          "metadata": {},
          "execution_count": 22
        }
      ]
    },
    {
      "cell_type": "code",
      "source": [
        "pd.Series(pop_skewed).skew()"
      ],
      "metadata": {
        "colab": {
          "base_uri": "https://localhost:8080/"
        },
        "id": "wjczmOdoZbc0",
        "outputId": "41432444-287f-4363-b93d-c9ed5e0ca44e"
      },
      "execution_count": null,
      "outputs": [
        {
          "output_type": "execute_result",
          "data": {
            "text/plain": [
              "-0.670180129304226"
            ]
          },
          "metadata": {},
          "execution_count": 25
        }
      ]
    },
    {
      "cell_type": "code",
      "source": [
        "trial=[]\n",
        "for itr in np.arange(100):\n",
        "  samp=[]\n",
        "  for val in np.arange(75):\n",
        "    samp.append(np.random.choice(pop_skewed))\n",
        "  trial.append(np.mean(samp))"
      ],
      "metadata": {
        "id": "yI6CmdecZDmS"
      },
      "execution_count": null,
      "outputs": []
    },
    {
      "cell_type": "code",
      "source": [
        "sns.distplot(trial)"
      ],
      "metadata": {
        "colab": {
          "base_uri": "https://localhost:8080/",
          "height": 337
        },
        "id": "Loz757-gZDpG",
        "outputId": "502b5367-f237-4fef-f798-f2acf7c87dcf"
      },
      "execution_count": null,
      "outputs": [
        {
          "output_type": "stream",
          "name": "stderr",
          "text": [
            "/usr/local/lib/python3.7/dist-packages/seaborn/distributions.py:2619: FutureWarning: `distplot` is a deprecated function and will be removed in a future version. Please adapt your code to use either `displot` (a figure-level function with similar flexibility) or `histplot` (an axes-level function for histograms).\n",
            "  warnings.warn(msg, FutureWarning)\n"
          ]
        },
        {
          "output_type": "execute_result",
          "data": {
            "text/plain": [
              "<matplotlib.axes._subplots.AxesSubplot at 0x7fb12c90cd10>"
            ]
          },
          "metadata": {},
          "execution_count": 28
        },
        {
          "output_type": "display_data",
          "data": {
            "text/plain": [
              "<Figure size 432x288 with 1 Axes>"
            ],
            "image/png": "[encoded data removed]"
          },
          "metadata": {
            "needs_background": "light"
          }
        }
      ]
    },
    {
      "cell_type": "code",
      "source": [
        "pd.Series(trial).skew()"
      ],
      "metadata": {
        "colab": {
          "base_uri": "https://localhost:8080/"
        },
        "id": "anISASNbZkAy",
        "outputId": "606f70cc-2611-44a1-cc7a-4d6b66aa9b23"
      },
      "execution_count": null,
      "outputs": [
        {
          "output_type": "execute_result",
          "data": {
            "text/plain": [
              "-0.20350977934303477"
            ]
          },
          "metadata": {},
          "execution_count": 29
        }
      ]
    },
    {
      "cell_type": "code",
      "source": [
        "SEM=np.std(trial,ddof=1)\n",
        "print(SEM)"
      ],
      "metadata": {
        "colab": {
          "base_uri": "https://localhost:8080/"
        },
        "id": "V0Z1TQ6ybIEa",
        "outputId": "ca4c1bf4-83eb-41b7-d9fe-50833575a903"
      },
      "execution_count": null,
      "outputs": [
        {
          "output_type": "stream",
          "name": "stdout",
          "text": [
            "0.0667356025732284\n"
          ]
        }
      ]
    },
    {
      "cell_type": "code",
      "source": [
        "x_bar=np.mean(trial)\n",
        "print(x_bar)"
      ],
      "metadata": {
        "colab": {
          "base_uri": "https://localhost:8080/"
        },
        "id": "pQd7iyJhbOOL",
        "outputId": "046cb84d-fc69-4d6b-e3cf-341b4cea0c0f"
      },
      "execution_count": null,
      "outputs": [
        {
          "output_type": "stream",
          "name": "stdout",
          "text": [
            "-0.8301261504496226\n"
          ]
        }
      ]
    },
    {
      "cell_type": "code",
      "source": [
        "[x_bar-1.96*SEM,x_bar+1.96*SEM]"
      ],
      "metadata": {
        "colab": {
          "base_uri": "https://localhost:8080/"
        },
        "id": "u0khbRHhbSJr",
        "outputId": "ae7ebd93-01f7-4c3e-e127-9a8b101cfff3"
      },
      "execution_count": null,
      "outputs": [
        {
          "output_type": "execute_result",
          "data": {
            "text/plain": [
              "[-0.9609279314931503, -0.6993243694060949]"
            ]
          },
          "metadata": {},
          "execution_count": 32
        }
      ]
    },
    {
      "cell_type": "code",
      "source": [
        "samp=[]\n",
        "for val in np.arange(75):\n",
        "  samp.append(np.random.choice(pop_skewed))"
      ],
      "metadata": {
        "id": "2Xf1JtxncW9y"
      },
      "execution_count": null,
      "outputs": []
    },
    {
      "cell_type": "code",
      "source": [
        "xbar=np.mean(samp)"
      ],
      "metadata": {
        "id": "l9cmzseEcZqi"
      },
      "execution_count": null,
      "outputs": []
    },
    {
      "cell_type": "code",
      "source": [
        "sem=np.std(samp,ddof=1)/np.sqrt(75)\n",
        "print(sem)"
      ],
      "metadata": {
        "colab": {
          "base_uri": "https://localhost:8080/"
        },
        "id": "DjtjP6m9ceoS",
        "outputId": "e917265d-da07-4e8c-9d08-cdabd699efa1"
      },
      "execution_count": null,
      "outputs": [
        {
          "output_type": "stream",
          "name": "stdout",
          "text": [
            "0.0744615585656714\n"
          ]
        }
      ]
    },
    {
      "cell_type": "code",
      "source": [
        "[xbar-1.96*sem,xbar+1.96*sem]"
      ],
      "metadata": {
        "colab": {
          "base_uri": "https://localhost:8080/"
        },
        "id": "9FdbgTsycs3T",
        "outputId": "42bf155e-20ff-435a-c406-a77172d353ef"
      },
      "execution_count": null,
      "outputs": [
        {
          "output_type": "execute_result",
          "data": {
            "text/plain": [
              "[-0.9340064035853235, -0.6421170940078917]"
            ]
          },
          "metadata": {},
          "execution_count": 40
        }
      ]
    }
  ]
}