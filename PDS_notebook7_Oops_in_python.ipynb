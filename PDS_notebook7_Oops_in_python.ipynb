{
  "nbformat": 4,
  "nbformat_minor": 0,
  "metadata": {
    "colab": {
      "provenance": [],
      "collapsed_sections": [],
      "include_colab_link": true
    },
    "kernelspec": {
      "name": "python3",
      "display_name": "Python 3"
    },
    "language_info": {
      "name": "python"
    }
  },
  "cells": [
    {
      "cell_type": "markdown",
      "metadata": {
        "id": "view-in-github",
        "colab_type": "text"
      },
      "source": [
        "<a href=\"https://colab.research.google.com/github/SuryARavichan/PYTHON-FOR-DATA-SCIENCE-BDA-/blob/main/PDS_notebook7_Oops_in_python.ipynb\" target=\"_parent\"><img src=\"https://colab.research.google.com/assets/colab-badge.svg\" alt=\"Open In Colab\"/></a>"
      ]
    },
    {
      "cell_type": "markdown",
      "source": [
        "Even though Python is an object oriented programming like Java, it doesn't force the programmers to write programs in complete object oriented way."
      ],
      "metadata": {
        "id": "7DNfZ5rWaFVF"
      }
    },
    {
      "cell_type": "markdown",
      "source": [
        "Unlike Java, Python has a blend of both the procedure oriented approach (like C) or object oriented approach (like Java) depending on their requirements"
      ],
      "metadata": {
        "id": "Njuj5g59aXmJ"
      }
    },
    {
      "cell_type": "markdown",
      "source": [
        "Creating Classes and Objects in Python"
      ],
      "metadata": {
        "id": "2O57Bnkxa6_U"
      }
    },
    {
      "cell_type": "markdown",
      "source": [
        "Let's create a class with the name person for which Dinesh is an object."
      ],
      "metadata": {
        "id": "3iXjNpCXbBcM"
      }
    },
    {
      "cell_type": "code",
      "source": [
        "class person:\n",
        "  name='Dinesh'\n",
        "  age=38\n",
        "  def display(cls):\n",
        "    print(cls.name)\n",
        "    print(cls.age)\n"
      ],
      "metadata": {
        "id": "aehiXaXKbK_z"
      },
      "execution_count": null,
      "outputs": []
    },
    {
      "cell_type": "code",
      "source": [
        "p1=person()"
      ],
      "metadata": {
        "id": "kQF6Cnib76Gr"
      },
      "execution_count": null,
      "outputs": []
    },
    {
      "cell_type": "code",
      "source": [
        "p1.name,p1.age"
      ],
      "metadata": {
        "colab": {
          "base_uri": "https://localhost:8080/"
        },
        "id": "hiDAIliJ76Jg",
        "outputId": "166b4254-3192-4c45-dac6-4fa020911d47"
      },
      "execution_count": null,
      "outputs": [
        {
          "output_type": "execute_result",
          "data": {
            "text/plain": [
              "('Dinesh', 38)"
            ]
          },
          "metadata": {},
          "execution_count": 44
        }
      ]
    },
    {
      "cell_type": "markdown",
      "source": [
        "The above person class has two variables and one function"
      ],
      "metadata": {
        "id": "VvJKayYtb2Nv"
      }
    },
    {
      "cell_type": "code",
      "source": [
        "p1.display()"
      ],
      "metadata": {
        "colab": {
          "base_uri": "https://localhost:8080/"
        },
        "id": "6MnzapqZb8e3",
        "outputId": "8197fcb1-8dea-4045-9b39-30f19e6e298d"
      },
      "execution_count": null,
      "outputs": [
        {
          "output_type": "stream",
          "name": "stdout",
          "text": [
            "Dinesh\n",
            "38\n"
          ]
        }
      ]
    },
    {
      "cell_type": "markdown",
      "source": [
        "p1 is the object of person class. Object represents memory to store the actual data. Here 'cls' represents a default parameter that indicates the class."
      ],
      "metadata": {
        "id": "_6wcvQ7BcX-s"
      }
    },
    {
      "cell_type": "markdown",
      "source": [
        "So, cls.name refers to the class variable Dinesh.\n",
        "We can call display() method to display Dinesh's details."
      ],
      "metadata": {
        "id": "anKcfypmcxuZ"
      }
    },
    {
      "cell_type": "markdown",
      "source": [
        "Encapsulation in Python - writing attributes (variables) and methods inside a class. The methods process the data available in the variables. Hence, data and code are bundled up together in the class."
      ],
      "metadata": {
        "id": "pADNT-1fnu5-"
      }
    },
    {
      "cell_type": "code",
      "source": [
        "class student:\n",
        "  def __init__(self):\n",
        "    self.id=5\n",
        "    self.name='Rajesh'\n",
        "\n",
        "    #display student details\n",
        "  def display(self):\n",
        "      print(self.id)\n",
        "      print(self.name)"
      ],
      "metadata": {
        "id": "romU9zBYoPoM"
      },
      "execution_count": null,
      "outputs": []
    },
    {
      "cell_type": "code",
      "source": [
        "s1=student()\n",
        "s1.display()"
      ],
      "metadata": {
        "colab": {
          "base_uri": "https://localhost:8080/"
        },
        "id": "pdBmObArKPWe",
        "outputId": "43b1cdfd-5eab-4237-bced-2bcb4421637e"
      },
      "execution_count": null,
      "outputs": [
        {
          "output_type": "stream",
          "name": "stdout",
          "text": [
            "5\n",
            "Rajesh\n"
          ]
        }
      ]
    },
    {
      "cell_type": "code",
      "source": [
        "s1.name"
      ],
      "metadata": {
        "colab": {
          "base_uri": "https://localhost:8080/",
          "height": 35
        },
        "id": "PRDr1hdPKbvW",
        "outputId": "b93e7841-b58f-44de-de26-f28c5b336c07"
      },
      "execution_count": null,
      "outputs": [
        {
          "output_type": "execute_result",
          "data": {
            "text/plain": [
              "'Rajesh'"
            ],
            "application/vnd.google.colaboratory.intrinsic+json": {
              "type": "string"
            }
          },
          "metadata": {},
          "execution_count": 4
        }
      ]
    },
    {
      "cell_type": "markdown",
      "source": [
        "If a variable or method name starts and ends with two underscores, they are built in variables or methods which are defined for a specific purpose"
      ],
      "metadata": {
        "id": "w1zQnhr2opaZ"
      }
    },
    {
      "cell_type": "markdown",
      "source": [
        "The purpose of the special method def __init__(self) is to declare and initialize the instance variables of a class."
      ],
      "metadata": {
        "id": "pGixuqVLpODl"
      }
    },
    {
      "cell_type": "markdown",
      "source": [
        "Abstraction-Language like Java, we have keywords like private,public and protected. We don't have those keywords in Python. In Python, everything written in the class will come under public."
      ],
      "metadata": {
        "id": "1aB3XoDpphcu"
      }
    },
    {
      "cell_type": "markdown",
      "source": [
        "Everything written in the class is available outside the class to the other people.Suppose, we do not want to make a variable public, we can write that variable with two underscores before it"
      ],
      "metadata": {
        "id": "lJm49DZWqBra"
      }
    },
    {
      "cell_type": "code",
      "source": [
        "class MyClass:\n",
        "  def __init__(self):\n",
        "    self.__y=5 #this is a private variable"
      ],
      "metadata": {
        "id": "-vNeoXj1qlrQ"
      },
      "execution_count": null,
      "outputs": []
    },
    {
      "cell_type": "code",
      "source": [
        "m=MyClass()\n",
        "print(m.__y)"
      ],
      "metadata": {
        "colab": {
          "base_uri": "https://localhost:8080/",
          "height": 182
        },
        "id": "5bm05br6qzJj",
        "outputId": "e244fcf8-d744-4b4e-c79a-59282f179c25"
      },
      "execution_count": null,
      "outputs": [
        {
          "output_type": "error",
          "ename": "AttributeError",
          "evalue": "ignored",
          "traceback": [
            "\u001b[0;31m---------------------------------------------------------------------------\u001b[0m",
            "\u001b[0;31mAttributeError\u001b[0m                            Traceback (most recent call last)",
            "\u001b[0;32m<ipython-input-53-a47c23fe1e8a>\u001b[0m in \u001b[0;36m<module>\u001b[0;34m\u001b[0m\n\u001b[1;32m      1\u001b[0m \u001b[0mm\u001b[0m\u001b[0;34m=\u001b[0m\u001b[0mMyClass\u001b[0m\u001b[0;34m(\u001b[0m\u001b[0;34m)\u001b[0m\u001b[0;34m\u001b[0m\u001b[0;34m\u001b[0m\u001b[0m\n\u001b[0;32m----> 2\u001b[0;31m \u001b[0mprint\u001b[0m\u001b[0;34m(\u001b[0m\u001b[0mm\u001b[0m\u001b[0;34m.\u001b[0m\u001b[0m__y\u001b[0m\u001b[0;34m)\u001b[0m\u001b[0;34m\u001b[0m\u001b[0;34m\u001b[0m\u001b[0m\n\u001b[0m",
            "\u001b[0;31mAttributeError\u001b[0m: 'MyClass' object has no attribute '__y'"
          ]
        }
      ]
    },
    {
      "cell_type": "code",
      "source": [
        "print(m._MyClass__y)"
      ],
      "metadata": {
        "colab": {
          "base_uri": "https://localhost:8080/"
        },
        "id": "KCrmvOLJq8Z0",
        "outputId": "ef0eb35e-0010-4634-c770-3a9bfb1c3e34"
      },
      "execution_count": null,
      "outputs": [
        {
          "output_type": "stream",
          "name": "stdout",
          "text": [
            "5\n"
          ]
        }
      ]
    },
    {
      "cell_type": "markdown",
      "source": [
        "we have accessed the class name differently to access the private variable, this is called name mangling"
      ],
      "metadata": {
        "id": "U6bBElHxrKa1"
      }
    },
    {
      "cell_type": "code",
      "source": [
        "class MyClass:\n",
        "  def __init__(self):\n",
        "    self.x=1 #public var\n",
        "    self.__y=2 #private var\n",
        "    #instance method to access the variable\n",
        "  def display(self):\n",
        "    print(self.x)\n",
        "    print(self._MyClass__y) #name mangling"
      ],
      "metadata": {
        "id": "zVnMxP_GrWbz"
      },
      "execution_count": null,
      "outputs": []
    },
    {
      "cell_type": "code",
      "source": [
        "#Accessing variable through method\n",
        "m=MyClass()\n",
        "m.display()"
      ],
      "metadata": {
        "colab": {
          "base_uri": "https://localhost:8080/"
        },
        "id": "BZhzYf_nr7GB",
        "outputId": "a8458282-4375-4470-a2ac-e54a69493abf"
      },
      "execution_count": null,
      "outputs": [
        {
          "output_type": "stream",
          "name": "stdout",
          "text": [
            "1\n",
            "2\n"
          ]
        }
      ]
    },
    {
      "cell_type": "code",
      "source": [
        "#Accessing variable through instance\n",
        "print(m.x)\n",
        "print(m._MyClass__y)"
      ],
      "metadata": {
        "colab": {
          "base_uri": "https://localhost:8080/"
        },
        "id": "ZxYoh2EKpJ0x",
        "outputId": "b3168952-2b1d-4b01-f2c4-b67ff3f787ce"
      },
      "execution_count": null,
      "outputs": [
        {
          "output_type": "stream",
          "name": "stdout",
          "text": [
            "1\n",
            "2\n"
          ]
        }
      ]
    },
    {
      "cell_type": "markdown",
      "source": [
        "The variable y is abstracted from the user of the class"
      ],
      "metadata": {
        "id": "1f77fQKWtCNe"
      }
    },
    {
      "cell_type": "code",
      "source": [
        "#Another Example\n",
        "class Bank:\n",
        "  def __init__(self):\n",
        "    self.acc_no=10845\n",
        "    self.name='sudha'\n",
        "    self.loan=2500000.00\n",
        "    self.__sal=43500.00\n",
        "  def data_to_clerk(self):\n",
        "    print(self.acc_no)\n",
        "    print(self.name)\n",
        "    print(self.loan)\n",
        "\n"
      ],
      "metadata": {
        "id": "wG4Q0FYyc99f"
      },
      "execution_count": null,
      "outputs": []
    },
    {
      "cell_type": "code",
      "source": [
        "B=Bank()\n",
        "B.data_to_clerk()"
      ],
      "metadata": {
        "colab": {
          "base_uri": "https://localhost:8080/"
        },
        "id": "EgjydM0FLH8G",
        "outputId": "096b15b6-49d9-4059-bf7e-dabe13176c83"
      },
      "execution_count": null,
      "outputs": [
        {
          "output_type": "stream",
          "name": "stdout",
          "text": [
            "10845\n",
            "sudha\n",
            "2500000.0\n"
          ]
        }
      ]
    },
    {
      "cell_type": "markdown",
      "source": [
        "Salary is hidden from the view of the bank clerk."
      ],
      "metadata": {
        "id": "N78IwCKQt2mW"
      }
    },
    {
      "cell_type": "markdown",
      "source": [
        "Inheritance- Creating new classes from existing classes so that the new classes will acquire all the features of existing classes. "
      ],
      "metadata": {
        "id": "CrM5qR_Nt_Ny"
      }
    },
    {
      "cell_type": "code",
      "source": [
        "#creating class B from class A\n",
        "class A:\n",
        "  a=1\n",
        "  b=2\n",
        "  def method1(cls):\n",
        "    print(cls.a)\n",
        "    print(cls.b)\n",
        "class B(A):\n",
        "  c=3\n",
        "  def method2(cls):\n",
        "    print(cls.c)"
      ],
      "metadata": {
        "id": "3u07U7mxbtJv"
      },
      "execution_count": null,
      "outputs": []
    },
    {
      "cell_type": "code",
      "source": [
        "class_b=B()\n",
        "class_b.a"
      ],
      "metadata": {
        "colab": {
          "base_uri": "https://localhost:8080/"
        },
        "id": "I7UqlVqWLd8k",
        "outputId": "a5862a03-f030-4f9c-a075-e6df3a92a3fa"
      },
      "execution_count": null,
      "outputs": [
        {
          "output_type": "execute_result",
          "data": {
            "text/plain": [
              "1"
            ]
          },
          "metadata": {},
          "execution_count": 71
        }
      ]
    },
    {
      "cell_type": "code",
      "source": [
        "class_b.method1()"
      ],
      "metadata": {
        "colab": {
          "base_uri": "https://localhost:8080/"
        },
        "id": "x3qSyurELnFl",
        "outputId": "6ace86b6-b795-4470-d369-b6c4ac4b423c"
      },
      "execution_count": null,
      "outputs": [
        {
          "output_type": "stream",
          "name": "stdout",
          "text": [
            "1\n",
            "2\n"
          ]
        }
      ]
    },
    {
      "cell_type": "code",
      "source": [
        "class_b.method2()"
      ],
      "metadata": {
        "colab": {
          "base_uri": "https://localhost:8080/"
        },
        "id": "FZQ2ETjGLq-S",
        "outputId": "7b8f38f6-81d3-4240-d524-053e88ada667"
      },
      "execution_count": null,
      "outputs": [
        {
          "output_type": "stream",
          "name": "stdout",
          "text": [
            "3\n"
          ]
        }
      ]
    },
    {
      "cell_type": "markdown",
      "source": [
        "variables a,b,c and also method1() and method2() are available to class B. All members of A are inherited by B."
      ],
      "metadata": {
        "id": "v_0jGQGU566P"
      }
    },
    {
      "cell_type": "markdown",
      "source": [
        "Polymorphism-If an object or method is exhibiting different behavior in different context."
      ],
      "metadata": {
        "id": "7cmR4xGX6bOO"
      }
    },
    {
      "cell_type": "code",
      "source": [
        "def add (a,b):\n",
        "  print(a+b)"
      ],
      "metadata": {
        "id": "H6mJCPyd7bb9"
      },
      "execution_count": null,
      "outputs": []
    },
    {
      "cell_type": "code",
      "source": [
        "#call add() and pass two integers\n",
        "add(5,3)"
      ],
      "metadata": {
        "colab": {
          "base_uri": "https://localhost:8080/"
        },
        "id": "BHT5PEtU7onG",
        "outputId": "cab4ec8b-c9d6-4947-e26d-a5d1d31fd2eb"
      },
      "execution_count": null,
      "outputs": [
        {
          "output_type": "stream",
          "name": "stdout",
          "text": [
            "8\n"
          ]
        }
      ]
    },
    {
      "cell_type": "code",
      "source": [
        "#call add() and pass two strings\n",
        "add(\"Great\",\"Learning\")"
      ],
      "metadata": {
        "id": "WatSwHPiawPI",
        "colab": {
          "base_uri": "https://localhost:8080/"
        },
        "outputId": "f384b27e-eb60-4349-986e-a2743a8fb146"
      },
      "execution_count": null,
      "outputs": [
        {
          "output_type": "stream",
          "name": "stdout",
          "text": [
            "GreatLearning\n"
          ]
        }
      ]
    },
    {
      "cell_type": "markdown",
      "source": [
        "The programming languages which follow all the five features of OOPS are called Object Oriented Programming Languages.  "
      ],
      "metadata": {
        "id": "DdiPZVAk8XUA"
      }
    },
    {
      "cell_type": "markdown",
      "source": [
        "'self' is a default variable that contains the memory address of the instance of the current class.So, we can use 'self' to refer to all the instance variables and instance methods"
      ],
      "metadata": {
        "id": "7p2NKXzG_Nk9"
      }
    },
    {
      "cell_type": "markdown",
      "source": [
        "Constructor is a special method that is used to initialize the instance variables of a class. The first "
      ],
      "metadata": {
        "id": "01XLb4k8APEd"
      }
    },
    {
      "cell_type": "code",
      "source": [
        "#Exercise1\n",
        "class student:\n",
        "  def __init__(self):\n",
        "    self.name='Nethra'\n",
        "    self.age='17'\n",
        "    self.marks=980\n",
        "  def talk(self):\n",
        "    print('Hi, I am',self.name)\n",
        "    print('My age is',self.age)\n",
        "    print('My marks are',self.marks)\n"
      ],
      "metadata": {
        "id": "aR2pZX2i9qA2"
      },
      "execution_count": null,
      "outputs": []
    },
    {
      "cell_type": "code",
      "source": [
        "#create an instance to student class\n",
        "s1=student()\n",
        "#call the method using instance\n",
        "s1.talk()"
      ],
      "metadata": {
        "colab": {
          "base_uri": "https://localhost:8080/"
        },
        "id": "ibGPxT8J-lOW",
        "outputId": "510abc35-e18c-46f3-9781-8300d880f796"
      },
      "execution_count": null,
      "outputs": [
        {
          "output_type": "stream",
          "name": "stdout",
          "text": [
            "Hi, I am Nethra\n",
            "My age is 17\n",
            "My marks are 980\n"
          ]
        }
      ]
    },
    {
      "cell_type": "code",
      "source": [
        "s1.name"
      ],
      "metadata": {
        "colab": {
          "base_uri": "https://localhost:8080/",
          "height": 35
        },
        "id": "ZEcGJxu0MfFP",
        "outputId": "d97970fb-53dd-4ed0-dea1-08f0d986f0c0"
      },
      "execution_count": null,
      "outputs": [
        {
          "output_type": "execute_result",
          "data": {
            "text/plain": [
              "'Nethra'"
            ],
            "application/vnd.google.colaboratory.intrinsic+json": {
              "type": "string"
            }
          },
          "metadata": {},
          "execution_count": 27
        }
      ]
    },
    {
      "cell_type": "markdown",
      "source": [
        "Constructor with some parameters in addition to 'self'"
      ],
      "metadata": {
        "id": "shEcji9eFYSs"
      }
    },
    {
      "cell_type": "code",
      "source": [
        "def __init__(self,n='',m=0):\n",
        "  self.name=n\n",
        "  self.marks=m"
      ],
      "metadata": {
        "id": "LDerH3Tn-wrh"
      },
      "execution_count": null,
      "outputs": []
    },
    {
      "cell_type": "markdown",
      "source": [
        "Here 'n' and 'm' default values are given as None and zero respectively. If we do not pass any value to the instance, None and zero are stored into name and marks."
      ],
      "metadata": {
        "id": "5VcPZWAMG9vS"
      }
    },
    {
      "cell_type": "code",
      "source": [
        "class Student:\n",
        "  def __init__(self,n='',m=0):\n",
        "    self.name=n\n",
        "    self.marks=m\n",
        "  def display(self):\n",
        "    print('Hi',self.name)\n",
        "    print('Your Marks',self.marks)\n"
      ],
      "metadata": {
        "id": "Kcm-jESdNVhB"
      },
      "execution_count": null,
      "outputs": []
    },
    {
      "cell_type": "code",
      "source": [
        "#constructor is called without any arguments\n",
        "s=Student()\n",
        "s.display()"
      ],
      "metadata": {
        "colab": {
          "base_uri": "https://localhost:8080/"
        },
        "id": "Pc_Dt-shIKXP",
        "outputId": "34f7aeaa-7cae-4166-cf82-68ddde735a3a"
      },
      "execution_count": null,
      "outputs": [
        {
          "output_type": "stream",
          "name": "stdout",
          "text": [
            "Hi \n",
            "Your Marks 0\n"
          ]
        }
      ]
    },
    {
      "cell_type": "code",
      "source": [
        "#constructor is called with two arguments\n",
        "s1=Student('Anand',950)\n",
        "s1.display()"
      ],
      "metadata": {
        "colab": {
          "base_uri": "https://localhost:8080/"
        },
        "id": "ACeH4TBCIdo-",
        "outputId": "131b9570-d3e0-48d7-81d1-3882f276e9cc"
      },
      "execution_count": null,
      "outputs": [
        {
          "output_type": "stream",
          "name": "stdout",
          "text": [
            "Hi Anand\n",
            "Your Marks 950\n"
          ]
        }
      ]
    },
    {
      "cell_type": "code",
      "source": [
        "#Exercise-3 : Characteristics of Instance Variable\n",
        "class sample:\n",
        "  def __init__(self):\n",
        "    self.x=10\n",
        "  def modify(self):\n",
        "    self.x+=1\n"
      ],
      "metadata": {
        "id": "e2O3h_tzI8tG"
      },
      "execution_count": null,
      "outputs": []
    },
    {
      "cell_type": "code",
      "source": [
        "#create two instances\n",
        "s1=sample()\n",
        "s2=sample()\n",
        "print('x in s1=',s1.x)\n",
        "print('x in s2=',s2.x)"
      ],
      "metadata": {
        "colab": {
          "base_uri": "https://localhost:8080/"
        },
        "id": "t77qgQhfJM08",
        "outputId": "48b3ffbf-ad57-421e-9c35-2a64dec42374"
      },
      "execution_count": null,
      "outputs": [
        {
          "output_type": "stream",
          "name": "stdout",
          "text": [
            "x in s1= 10\n",
            "x in s2= 10\n"
          ]
        }
      ]
    },
    {
      "cell_type": "code",
      "source": [
        "s1.modify()\n",
        "print('x in s1=',s1.x)\n",
        "print('x in s2=',s2.x)"
      ],
      "metadata": {
        "colab": {
          "base_uri": "https://localhost:8080/"
        },
        "id": "7XSEmBA0JhNu",
        "outputId": "afb12820-e36b-476c-df60-31f4570cbaae"
      },
      "execution_count": null,
      "outputs": [
        {
          "output_type": "stream",
          "name": "stdout",
          "text": [
            "x in s1= 11\n",
            "x in s2= 10\n"
          ]
        }
      ]
    },
    {
      "cell_type": "code",
      "source": [
        "#Exercise-4\n",
        "class Student:\n",
        "  def __init__(self,n='',m=0):\n",
        "    self.name=n\n",
        "    self.marks=m\n",
        "  def display(self):\n",
        "    print('Hi, I am',self.name)\n",
        "    print('My marks are',self.marks)\n",
        "  def calculate(self):\n",
        "    if (self.marks>=600):\n",
        "      print('You got first grade')\n",
        "    elif(self.marks>=500):\n",
        "      print('You got second grade')\n",
        "    elif(self.marks>=350):\n",
        "      print('You got third grade')\n",
        "    else:\n",
        "      print('You are failed')"
      ],
      "metadata": {
        "id": "1AfOwkr-PXDa"
      },
      "execution_count": null,
      "outputs": []
    },
    {
      "cell_type": "code",
      "source": [
        "n=int(input('How many students?'))\n",
        "i=0\n",
        "while(i<n):\n",
        "  name=input('Enter name: ')\n",
        "  marks=int(input('Enter marks: '))\n",
        "  #create student class instance and store data\n",
        "  s=Student(name,marks)\n",
        "  s.display()\n",
        "  s.calculate()\n",
        "  i+=1\n",
        "  print('-----------------------')"
      ],
      "metadata": {
        "id": "tJ4dyPiZPcHS",
        "colab": {
          "base_uri": "https://localhost:8080/"
        },
        "outputId": "cf625c17-202a-4b04-acc9-59596a6213c6"
      },
      "execution_count": null,
      "outputs": [
        {
          "output_type": "stream",
          "name": "stdout",
          "text": [
            "How many students?2\n",
            "Enter name: Sanjay\n",
            "Enter marks: 680\n",
            "Hi, I am Sanjay\n",
            "My marks are 680\n",
            "You got first grade\n",
            "-----------------------\n",
            "Enter name: Nithya\n",
            "Enter marks: 467\n",
            "Hi, I am Nithya\n",
            "My marks are 467\n",
            "You got third grade\n",
            "-----------------------\n"
          ]
        }
      ]
    },
    {
      "cell_type": "code",
      "source": [
        "#Exercise-5 (Store the data into instances using mutator method and retrieve the data from the instances\n",
        "#using accessor method )\n",
        "class Student:\n",
        "  #mutator method\n",
        "  def setName(self,name):\n",
        "    self.name=name\n",
        "  #accessor method\n",
        "  def getName(self):\n",
        "    return self.name\n",
        "  #mutator method\n",
        "  def setMarks(self,marks):\n",
        "    self.marks=marks\n",
        "  #accessor method\n",
        "  def getMarks(self):\n",
        "    return self.marks\n",
        "  \n",
        "  "
      ],
      "metadata": {
        "id": "MVyQe0kUxbHn"
      },
      "execution_count": null,
      "outputs": []
    },
    {
      "cell_type": "code",
      "source": [
        "n=int(input('How many students? '))\n",
        "i=0\n",
        "while(i<n):\n",
        "  s=Student()\n",
        "  name=input('Enter name: ')\n",
        "  s.setName(name)\n",
        "  marks=int(input('Enter marks: '))\n",
        "  s.setMarks(marks)\n",
        "  #retrieve data from student class instance\n",
        "  print('Hi',s.getName())\n",
        "  print('Your marks',s.getMarks())\n",
        "  i+=1\n",
        "  print('----------------------------')"
      ],
      "metadata": {
        "colab": {
          "base_uri": "https://localhost:8080/"
        },
        "id": "WWj5TyGsybPM",
        "outputId": "f6a0d812-fe5b-4248-b002-9b7933b9f3a9"
      },
      "execution_count": null,
      "outputs": [
        {
          "output_type": "stream",
          "name": "stdout",
          "text": [
            "How many students? 2\n",
            "Enter name: Vidhya\n",
            "Enter marks: 400\n",
            "Hi Vidhya\n",
            "Your marks 400\n",
            "----------------------------\n",
            "Enter name: Ram\n",
            "Enter marks: 200\n",
            "Hi Ram\n",
            "Your marks 200\n",
            "----------------------------\n"
          ]
        }
      ]
    },
    {
      "cell_type": "markdown",
      "source": [
        "Above exercise, we haven't write the constructor in the class to initialize the variables. Since mutator methods define the instance variables and store data."
      ],
      "metadata": {
        "id": "BErEUtYZzZGo"
      }
    },
    {
      "cell_type": "markdown",
      "source": [
        "Class Methods - These methods act on class level. Class methods are methods which act on the class variables or static variables. These methods are written using @classmethod decorator. By default the first parameter for class method is 'cls', which refers to class itself"
      ],
      "metadata": {
        "id": "83zX1ByrzwmL"
      }
    },
    {
      "cell_type": "code",
      "source": [
        "#Exercise-6\n",
        "class Bird:\n",
        "  #this is class variable\n",
        "  wings=2\n",
        "  #this is a class method\n",
        "  @classmethod\n",
        "  def fly(cls,name):\n",
        "    print('{} flies with {} wings'.format(name,cls.wings))\n",
        "    \n"
      ],
      "metadata": {
        "id": "4McRZkAf0vx8"
      },
      "execution_count": null,
      "outputs": []
    },
    {
      "cell_type": "code",
      "source": [
        "#display information for 2 birds\n",
        "Bird.fly('sparrow')\n",
        "Bird.fly('Pigeon')"
      ],
      "metadata": {
        "colab": {
          "base_uri": "https://localhost:8080/"
        },
        "id": "SO8lFPWu1LXq",
        "outputId": "41d26b56-2461-4077-dd36-3901fed70586"
      },
      "execution_count": null,
      "outputs": [
        {
          "output_type": "stream",
          "name": "stdout",
          "text": [
            "sparrow flies with 2 wings\n",
            "Pigeon flies with 2 wings\n"
          ]
        }
      ]
    },
    {
      "cell_type": "markdown",
      "source": [
        "Usage of Static Method-when the processing is at class level but we need not involve the class or instances. Static methods are used when some processing is related to the class but doesn't need the class or instances to perform any work."
      ],
      "metadata": {
        "id": "itml5H6j1b2S"
      }
    },
    {
      "cell_type": "code",
      "source": [
        "#Exercise-7 : Program to create a static method that counts the number of instances created for a class\n",
        "class MyClass:\n",
        "  #this is the class var or static var\n",
        "  n=0\n",
        "  #constructor that increments n when an instance is created\n",
        "  def __init__(self):\n",
        "    MyClass.n=MyClass.n+1\n",
        "  #this is a static method to display the no of instances\n",
        "  @staticmethod\n",
        "  def no_of_inst():\n",
        "    print('No of instances created :',MyClass.n)\n",
        "\n"
      ],
      "metadata": {
        "id": "rENIbbJ-1zQb"
      },
      "execution_count": null,
      "outputs": []
    },
    {
      "cell_type": "code",
      "source": [
        "#create 3 instances\n",
        "o1=MyClass()\n",
        "o2=MyClass()\n",
        "o3=MyClass()\n",
        "o4=MyClass()\n",
        "MyClass.no_of_inst()"
      ],
      "metadata": {
        "colab": {
          "base_uri": "https://localhost:8080/"
        },
        "id": "qbvFTcxr2xAQ",
        "outputId": "f5b2ef69-39a4-4c1b-9acc-5248adaf0ae9"
      },
      "execution_count": null,
      "outputs": [
        {
          "output_type": "stream",
          "name": "stdout",
          "text": [
            "No of instances created : 4\n"
          ]
        }
      ]
    },
    {
      "cell_type": "code",
      "source": [],
      "metadata": {
        "id": "lpY1GX963LQp"
      },
      "execution_count": null,
      "outputs": []
    }
  ]
}