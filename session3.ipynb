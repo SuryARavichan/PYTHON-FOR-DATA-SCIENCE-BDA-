{
  "nbformat": 4,
  "nbformat_minor": 0,
  "metadata": {
    "colab": {
      "provenance": [],
      "collapsed_sections": [],
      "authorship_tag": "ABX9TyOJR7pz/aqG5QyKX+FpQMDp",
      "include_colab_link": true
    },
    "kernelspec": {
      "name": "python3",
      "display_name": "Python 3"
    },
    "language_info": {
      "name": "python"
    },
    "gpuClass": "standard"
  },
  "cells": [
    {
      "cell_type": "markdown",
      "metadata": {
        "id": "view-in-github",
        "colab_type": "text"
      },
      "source": [
        "<a href=\"https://colab.research.google.com/github/SuryARavichan/PYTHON-FOR-DATA-SCIENCE-BDA-/blob/main/session3.ipynb\" target=\"_parent\"><img src=\"https://colab.research.google.com/assets/colab-badge.svg\" alt=\"Open In Colab\"/></a>"
      ]
    },
    {
      "cell_type": "code",
      "execution_count": null,
      "metadata": {
        "id": "bvlKmrL43lf3"
      },
      "outputs": [],
      "source": [
        "import copy\n",
        "import random\n",
        "import numpy as np\n",
        "import pandas as pd\n",
        "import matplotlib.pyplot as plt\n",
        "import seaborn as sns "
      ]
    },
    {
      "cell_type": "code",
      "source": [
        "a=np.array([12.8,16,24,65,25.7])"
      ],
      "metadata": {
        "id": "sHLy-MaY6lkk"
      },
      "execution_count": null,
      "outputs": []
    },
    {
      "cell_type": "code",
      "source": [
        "type(a),len(a)"
      ],
      "metadata": {
        "colab": {
          "base_uri": "https://localhost:8080/"
        },
        "id": "cCRK8X2-6swz",
        "outputId": "4c592258-2a31-4014-9d7e-62c7fae079a7"
      },
      "execution_count": null,
      "outputs": [
        {
          "output_type": "execute_result",
          "data": {
            "text/plain": [
              "(numpy.ndarray, 5)"
            ]
          },
          "metadata": {},
          "execution_count": 3
        }
      ]
    },
    {
      "cell_type": "code",
      "source": [
        "a"
      ],
      "metadata": {
        "colab": {
          "base_uri": "https://localhost:8080/"
        },
        "id": "4gvpAdC-6wAn",
        "outputId": "01b4d7be-5dd3-4f49-a3f1-9c52c96a610b"
      },
      "execution_count": null,
      "outputs": [
        {
          "output_type": "execute_result",
          "data": {
            "text/plain": [
              "array([12.8, 16. , 24. , 65. , 25.7])"
            ]
          },
          "metadata": {},
          "execution_count": 4
        }
      ]
    },
    {
      "cell_type": "code",
      "source": [
        "val = np.arange(15,50,6.25)\n",
        "print(val)\n",
        "len(val)"
      ],
      "metadata": {
        "colab": {
          "base_uri": "https://localhost:8080/"
        },
        "id": "wQGXOyD57JT6",
        "outputId": "2575ce37-cd86-4c52-b97a-8d8c792cf4f0"
      },
      "execution_count": null,
      "outputs": [
        {
          "output_type": "stream",
          "name": "stdout",
          "text": [
            "[15.   21.25 27.5  33.75 40.   46.25]\n"
          ]
        },
        {
          "output_type": "execute_result",
          "data": {
            "text/plain": [
              "6"
            ]
          },
          "metadata": {},
          "execution_count": 5
        }
      ]
    },
    {
      "cell_type": "code",
      "source": [
        "val.shape"
      ],
      "metadata": {
        "colab": {
          "base_uri": "https://localhost:8080/"
        },
        "id": "Pad8bm0C9ffR",
        "outputId": "7f30b630-c41c-4041-c9fc-c0a3f75d2265"
      },
      "execution_count": null,
      "outputs": [
        {
          "output_type": "execute_result",
          "data": {
            "text/plain": [
              "(6,)"
            ]
          },
          "metadata": {},
          "execution_count": 6
        }
      ]
    },
    {
      "cell_type": "code",
      "source": [
        "val2 = np.arange(100,50,-5.7)\n",
        "print(val2)\n",
        "len(val2)"
      ],
      "metadata": {
        "colab": {
          "base_uri": "https://localhost:8080/"
        },
        "id": "S3Fr3OJT95yp",
        "outputId": "a66b5ac4-96cc-4f8c-da97-ceb82de9df95"
      },
      "execution_count": null,
      "outputs": [
        {
          "output_type": "stream",
          "name": "stdout",
          "text": [
            "[100.   94.3  88.6  82.9  77.2  71.5  65.8  60.1  54.4]\n"
          ]
        },
        {
          "output_type": "execute_result",
          "data": {
            "text/plain": [
              "9"
            ]
          },
          "metadata": {},
          "execution_count": 7
        }
      ]
    },
    {
      "cell_type": "code",
      "source": [
        "val"
      ],
      "metadata": {
        "colab": {
          "base_uri": "https://localhost:8080/"
        },
        "id": "dsw9dHaP-qAv",
        "outputId": "e676fe63-9d50-4b65-f566-37419d305c19"
      },
      "execution_count": null,
      "outputs": [
        {
          "output_type": "execute_result",
          "data": {
            "text/plain": [
              "array([15.  , 21.25, 27.5 , 33.75, 40.  , 46.25])"
            ]
          },
          "metadata": {},
          "execution_count": 8
        }
      ]
    },
    {
      "cell_type": "code",
      "source": [
        "np.sum(val[-5:]),np.mean(val[-5:])"
      ],
      "metadata": {
        "colab": {
          "base_uri": "https://localhost:8080/"
        },
        "id": "xSPIkz37_Hb-",
        "outputId": "d01d1b17-eeb8-4bd7-aae4-b4bc25e12e55"
      },
      "execution_count": null,
      "outputs": [
        {
          "output_type": "execute_result",
          "data": {
            "text/plain": [
              "(168.75, 33.75)"
            ]
          },
          "metadata": {},
          "execution_count": 9
        }
      ]
    },
    {
      "cell_type": "code",
      "source": [
        "val2[2::4]"
      ],
      "metadata": {
        "colab": {
          "base_uri": "https://localhost:8080/"
        },
        "id": "GiDe5mGx_OKo",
        "outputId": "d3b5fa1b-a669-4b4d-e9fc-d0e23c4f1014"
      },
      "execution_count": null,
      "outputs": [
        {
          "output_type": "execute_result",
          "data": {
            "text/plain": [
              "array([88.6, 65.8])"
            ]
          },
          "metadata": {},
          "execution_count": 10
        }
      ]
    },
    {
      "cell_type": "code",
      "source": [
        "np.mean(val2[2::4])"
      ],
      "metadata": {
        "colab": {
          "base_uri": "https://localhost:8080/"
        },
        "id": "hmg1hr6F_cFW",
        "outputId": "82f77e3e-f785-497a-c3fb-8fec28a669d6"
      },
      "execution_count": null,
      "outputs": [
        {
          "output_type": "execute_result",
          "data": {
            "text/plain": [
              "77.19999999999999"
            ]
          },
          "metadata": {},
          "execution_count": 11
        }
      ]
    },
    {
      "cell_type": "code",
      "source": [
        "val[-10::2]"
      ],
      "metadata": {
        "colab": {
          "base_uri": "https://localhost:8080/"
        },
        "id": "A2E2macY_gTj",
        "outputId": "df2ee42d-93c5-4e46-a804-5ed8c4566f1c"
      },
      "execution_count": null,
      "outputs": [
        {
          "output_type": "execute_result",
          "data": {
            "text/plain": [
              "array([15. , 27.5, 40. ])"
            ]
          },
          "metadata": {},
          "execution_count": 12
        }
      ]
    },
    {
      "cell_type": "code",
      "source": [
        "val[-10::-2]"
      ],
      "metadata": {
        "colab": {
          "base_uri": "https://localhost:8080/"
        },
        "id": "KkeHTsB3AQRI",
        "outputId": "ce95be39-eeb9-4681-b908-663805b72f68"
      },
      "execution_count": null,
      "outputs": [
        {
          "output_type": "execute_result",
          "data": {
            "text/plain": [
              "array([], dtype=float64)"
            ]
          },
          "metadata": {},
          "execution_count": 13
        }
      ]
    },
    {
      "cell_type": "code",
      "source": [
        "val[2::-1]"
      ],
      "metadata": {
        "colab": {
          "base_uri": "https://localhost:8080/"
        },
        "id": "nrZWEz_8AlM6",
        "outputId": "2f7e4d75-8d1f-4d94-ea00-e40777b26b3d"
      },
      "execution_count": null,
      "outputs": [
        {
          "output_type": "execute_result",
          "data": {
            "text/plain": [
              "array([27.5 , 21.25, 15.  ])"
            ]
          },
          "metadata": {},
          "execution_count": 14
        }
      ]
    },
    {
      "cell_type": "code",
      "source": [
        "a"
      ],
      "metadata": {
        "colab": {
          "base_uri": "https://localhost:8080/"
        },
        "id": "L4U_CbWaBEoG",
        "outputId": "5ab1999e-6394-43b5-b60d-4ea98273324f"
      },
      "execution_count": null,
      "outputs": [
        {
          "output_type": "execute_result",
          "data": {
            "text/plain": [
              "array([12.8, 16. , 24. , 65. , 25.7])"
            ]
          },
          "metadata": {},
          "execution_count": 15
        }
      ]
    },
    {
      "cell_type": "code",
      "source": [
        "res_summary = np.array([np.min(a),np.argmin(a),np.max(a),np.argmax(a),np.mean(a),np.median(a)])"
      ],
      "metadata": {
        "id": "jhk_9fsZBZBh"
      },
      "execution_count": null,
      "outputs": []
    },
    {
      "cell_type": "code",
      "source": [
        "res_summary"
      ],
      "metadata": {
        "colab": {
          "base_uri": "https://localhost:8080/"
        },
        "id": "UuwYqflgCVEM",
        "outputId": "7e879d94-dc7f-4de1-a79f-a4470de40a18"
      },
      "execution_count": null,
      "outputs": [
        {
          "output_type": "execute_result",
          "data": {
            "text/plain": [
              "array([12.8,  0. , 65. ,  3. , 28.7, 24. ])"
            ]
          },
          "metadata": {},
          "execution_count": 17
        }
      ]
    },
    {
      "cell_type": "code",
      "source": [
        "a.min()"
      ],
      "metadata": {
        "colab": {
          "base_uri": "https://localhost:8080/"
        },
        "id": "TAmGOmk6CXcg",
        "outputId": "40cb42dc-f9f6-4dbf-84b9-9d149eca58bd"
      },
      "execution_count": null,
      "outputs": [
        {
          "output_type": "execute_result",
          "data": {
            "text/plain": [
              "12.8"
            ]
          },
          "metadata": {},
          "execution_count": 18
        }
      ]
    },
    {
      "cell_type": "code",
      "source": [
        "a.max()"
      ],
      "metadata": {
        "colab": {
          "base_uri": "https://localhost:8080/"
        },
        "id": "bpMal_fXCcF_",
        "outputId": "5a6f022a-644e-4fc0-c90d-56ca406d6eb4"
      },
      "execution_count": null,
      "outputs": [
        {
          "output_type": "execute_result",
          "data": {
            "text/plain": [
              "65.0"
            ]
          },
          "metadata": {},
          "execution_count": 19
        }
      ]
    },
    {
      "cell_type": "code",
      "source": [
        "np.var(a)"
      ],
      "metadata": {
        "colab": {
          "base_uri": "https://localhost:8080/"
        },
        "id": "lstNt44eCd0-",
        "outputId": "15459e13-1834-4c5a-d474-371ebd26f7ee"
      },
      "execution_count": null,
      "outputs": [
        {
          "output_type": "execute_result",
          "data": {
            "text/plain": [
              "352.5759999999999"
            ]
          },
          "metadata": {},
          "execution_count": 20
        }
      ]
    },
    {
      "cell_type": "code",
      "source": [
        "a.var()"
      ],
      "metadata": {
        "colab": {
          "base_uri": "https://localhost:8080/"
        },
        "id": "1CAVsP0JCozy",
        "outputId": "9c903f2d-f452-49b7-8e90-2e69294b0336"
      },
      "execution_count": null,
      "outputs": [
        {
          "output_type": "execute_result",
          "data": {
            "text/plain": [
              "352.5759999999999"
            ]
          },
          "metadata": {},
          "execution_count": 21
        }
      ]
    },
    {
      "cell_type": "code",
      "source": [
        "a_var=np.sum((a-np.mean(a))**2)/(4)"
      ],
      "metadata": {
        "id": "M83gso7aC1VB"
      },
      "execution_count": null,
      "outputs": []
    },
    {
      "cell_type": "code",
      "source": [
        "a_std=np.sqrt(a_var)\n",
        "a_std"
      ],
      "metadata": {
        "colab": {
          "base_uri": "https://localhost:8080/"
        },
        "id": "1CYOW5IEDiX4",
        "outputId": "3cba3c91-e712-4bc7-d20d-6bfd005ff92a"
      },
      "execution_count": null,
      "outputs": [
        {
          "output_type": "execute_result",
          "data": {
            "text/plain": [
              "20.993332274796202"
            ]
          },
          "metadata": {},
          "execution_count": 23
        }
      ]
    },
    {
      "cell_type": "code",
      "source": [
        "age=np.array([22,23,24.5,26.3,28.3,30.2,35,38])"
      ],
      "metadata": {
        "id": "xKpuTMTrD2sc"
      },
      "execution_count": null,
      "outputs": []
    },
    {
      "cell_type": "code",
      "source": [
        "np.std(age)"
      ],
      "metadata": {
        "colab": {
          "base_uri": "https://localhost:8080/"
        },
        "id": "Votbxp8YEEYR",
        "outputId": "8315a4b1-163e-4275-954e-ed2fd35228b2"
      },
      "execution_count": null,
      "outputs": [
        {
          "output_type": "execute_result",
          "data": {
            "text/plain": [
              "5.346830252588911"
            ]
          },
          "metadata": {},
          "execution_count": 25
        }
      ]
    },
    {
      "cell_type": "code",
      "source": [
        "np.var(age)"
      ],
      "metadata": {
        "colab": {
          "base_uri": "https://localhost:8080/"
        },
        "id": "D0OAMUj_EIQb",
        "outputId": "5d6f9c79-7cdf-46fd-9a64-fa01ac737202"
      },
      "execution_count": null,
      "outputs": [
        {
          "output_type": "execute_result",
          "data": {
            "text/plain": [
              "28.588593749999998"
            ]
          },
          "metadata": {},
          "execution_count": 26
        }
      ]
    },
    {
      "cell_type": "code",
      "source": [
        "np.mean(age)"
      ],
      "metadata": {
        "colab": {
          "base_uri": "https://localhost:8080/"
        },
        "id": "rHBIUXwxEKZx",
        "outputId": "88436709-9201-4d3b-a075-90d8a198af87"
      },
      "execution_count": null,
      "outputs": [
        {
          "output_type": "execute_result",
          "data": {
            "text/plain": [
              "28.4125"
            ]
          },
          "metadata": {},
          "execution_count": 27
        }
      ]
    },
    {
      "cell_type": "code",
      "source": [
        "a"
      ],
      "metadata": {
        "colab": {
          "base_uri": "https://localhost:8080/"
        },
        "id": "LX9uUTarEi-H",
        "outputId": "1f0ab3e5-bee5-40ed-fc3b-dc43584693e5"
      },
      "execution_count": null,
      "outputs": [
        {
          "output_type": "execute_result",
          "data": {
            "text/plain": [
              "array([12.8, 16. , 24. , 65. , 25.7])"
            ]
          },
          "metadata": {},
          "execution_count": 28
        }
      ]
    },
    {
      "cell_type": "code",
      "source": [
        "2.5*a"
      ],
      "metadata": {
        "colab": {
          "base_uri": "https://localhost:8080/"
        },
        "id": "TjaDDvzRNHQi",
        "outputId": "b2d16a59-1139-4418-8f35-e970e576f9ce"
      },
      "execution_count": null,
      "outputs": [
        {
          "output_type": "execute_result",
          "data": {
            "text/plain": [
              "array([ 32.  ,  40.  ,  60.  , 162.5 ,  64.25])"
            ]
          },
          "metadata": {},
          "execution_count": 29
        }
      ]
    },
    {
      "cell_type": "code",
      "source": [
        "np.log2(a)"
      ],
      "metadata": {
        "colab": {
          "base_uri": "https://localhost:8080/"
        },
        "id": "8fdYDGatNJ2I",
        "outputId": "65c0a3bb-a8e5-44f3-ea43-71a8fff08644"
      },
      "execution_count": null,
      "outputs": [
        {
          "output_type": "execute_result",
          "data": {
            "text/plain": [
              "array([3.67807191, 4.        , 4.5849625 , 6.02236781, 4.68369645])"
            ]
          },
          "metadata": {},
          "execution_count": 30
        }
      ]
    },
    {
      "cell_type": "code",
      "source": [
        "c=np.arange(75,2,-1)\n",
        "c"
      ],
      "metadata": {
        "colab": {
          "base_uri": "https://localhost:8080/"
        },
        "id": "KEY2EOt4NPT8",
        "outputId": "3d6ba7c8-448e-43c3-dfe8-6d631476cb3f"
      },
      "execution_count": null,
      "outputs": [
        {
          "output_type": "execute_result",
          "data": {
            "text/plain": [
              "array([75, 74, 73, 72, 71, 70, 69, 68, 67, 66, 65, 64, 63, 62, 61, 60, 59,\n",
              "       58, 57, 56, 55, 54, 53, 52, 51, 50, 49, 48, 47, 46, 45, 44, 43, 42,\n",
              "       41, 40, 39, 38, 37, 36, 35, 34, 33, 32, 31, 30, 29, 28, 27, 26, 25,\n",
              "       24, 23, 22, 21, 20, 19, 18, 17, 16, 15, 14, 13, 12, 11, 10,  9,  8,\n",
              "        7,  6,  5,  4,  3])"
            ]
          },
          "metadata": {},
          "execution_count": 31
        }
      ]
    },
    {
      "cell_type": "code",
      "source": [
        "d=np.linspace(0.1,.5,20)\n",
        "d"
      ],
      "metadata": {
        "colab": {
          "base_uri": "https://localhost:8080/"
        },
        "id": "fSYy0oCLNZzA",
        "outputId": "dd454bc2-b883-4203-aa3e-15de99ed67e0"
      },
      "execution_count": null,
      "outputs": [
        {
          "output_type": "execute_result",
          "data": {
            "text/plain": [
              "array([0.1       , 0.12105263, 0.14210526, 0.16315789, 0.18421053,\n",
              "       0.20526316, 0.22631579, 0.24736842, 0.26842105, 0.28947368,\n",
              "       0.31052632, 0.33157895, 0.35263158, 0.37368421, 0.39473684,\n",
              "       0.41578947, 0.43684211, 0.45789474, 0.47894737, 0.5       ])"
            ]
          },
          "metadata": {},
          "execution_count": 32
        }
      ]
    },
    {
      "cell_type": "code",
      "source": [
        "len(d)"
      ],
      "metadata": {
        "colab": {
          "base_uri": "https://localhost:8080/"
        },
        "id": "Sc5LOZr7NbnP",
        "outputId": "b5acfa28-d3ab-4235-e7f6-97df962c06f5"
      },
      "execution_count": null,
      "outputs": [
        {
          "output_type": "execute_result",
          "data": {
            "text/plain": [
              "20"
            ]
          },
          "metadata": {},
          "execution_count": 33
        }
      ]
    },
    {
      "cell_type": "code",
      "source": [
        "w=np.arange(0,0.5, 0.12105263)\n",
        "w"
      ],
      "metadata": {
        "colab": {
          "base_uri": "https://localhost:8080/"
        },
        "id": "pLAnsIDDNvxn",
        "outputId": "839564f0-b78f-4381-cf3b-1d2b35b00f9c"
      },
      "execution_count": null,
      "outputs": [
        {
          "output_type": "execute_result",
          "data": {
            "text/plain": [
              "array([0.        , 0.12105263, 0.24210526, 0.36315789, 0.48421052])"
            ]
          },
          "metadata": {},
          "execution_count": 34
        }
      ]
    },
    {
      "cell_type": "code",
      "source": [
        "r=np.array([[7,29,8,-4],[2,3,-1,7],[-6,10,8,15]])"
      ],
      "metadata": {
        "id": "yH9xtgF1OAbF"
      },
      "execution_count": null,
      "outputs": []
    },
    {
      "cell_type": "code",
      "source": [
        "r"
      ],
      "metadata": {
        "colab": {
          "base_uri": "https://localhost:8080/"
        },
        "id": "npxRPAybPOhR",
        "outputId": "c3728494-7c42-4fca-cc26-75f51b601afa"
      },
      "execution_count": null,
      "outputs": [
        {
          "output_type": "execute_result",
          "data": {
            "text/plain": [
              "array([[ 7, 29,  8, -4],\n",
              "       [ 2,  3, -1,  7],\n",
              "       [-6, 10,  8, 15]])"
            ]
          },
          "metadata": {},
          "execution_count": 36
        }
      ]
    },
    {
      "cell_type": "code",
      "source": [
        "len(r)"
      ],
      "metadata": {
        "colab": {
          "base_uri": "https://localhost:8080/"
        },
        "id": "WJ6gY7_WPWC5",
        "outputId": "fa15f95e-2083-40fa-a333-08f8dd364ebd"
      },
      "execution_count": null,
      "outputs": [
        {
          "output_type": "execute_result",
          "data": {
            "text/plain": [
              "3"
            ]
          },
          "metadata": {},
          "execution_count": 37
        }
      ]
    },
    {
      "cell_type": "code",
      "source": [
        "type(r)"
      ],
      "metadata": {
        "colab": {
          "base_uri": "https://localhost:8080/"
        },
        "id": "helple8HPc02",
        "outputId": "82371f8b-e7dc-4a3d-aa82-9884686ae6cd"
      },
      "execution_count": null,
      "outputs": [
        {
          "output_type": "execute_result",
          "data": {
            "text/plain": [
              "numpy.ndarray"
            ]
          },
          "metadata": {},
          "execution_count": 38
        }
      ]
    },
    {
      "cell_type": "code",
      "source": [
        "r.shape"
      ],
      "metadata": {
        "colab": {
          "base_uri": "https://localhost:8080/"
        },
        "id": "_8omf_W0PiU3",
        "outputId": "b0fd0b48-071f-4d33-fe09-187e1f96be5d"
      },
      "execution_count": null,
      "outputs": [
        {
          "output_type": "execute_result",
          "data": {
            "text/plain": [
              "(3, 4)"
            ]
          },
          "metadata": {},
          "execution_count": 39
        }
      ]
    },
    {
      "cell_type": "markdown",
      "source": [
        "accessing the first row"
      ],
      "metadata": {
        "id": "BnVfyMV8QW7q"
      }
    },
    {
      "cell_type": "code",
      "source": [
        "r[0,:]"
      ],
      "metadata": {
        "colab": {
          "base_uri": "https://localhost:8080/"
        },
        "id": "EDroR5_7Pkja",
        "outputId": "5e101a36-56da-4f53-ded1-b08af3b1b351"
      },
      "execution_count": null,
      "outputs": [
        {
          "output_type": "execute_result",
          "data": {
            "text/plain": [
              "array([ 7, 29,  8, -4])"
            ]
          },
          "metadata": {},
          "execution_count": 40
        }
      ]
    },
    {
      "cell_type": "markdown",
      "source": [
        "accessing the first column"
      ],
      "metadata": {
        "id": "dsSRgmEEQhJt"
      }
    },
    {
      "cell_type": "code",
      "source": [
        "r[:,0]"
      ],
      "metadata": {
        "colab": {
          "base_uri": "https://localhost:8080/"
        },
        "id": "GvHlVccMPozP",
        "outputId": "564ea3ee-aea5-43c9-f6f8-ef1572f5295e"
      },
      "execution_count": null,
      "outputs": [
        {
          "output_type": "execute_result",
          "data": {
            "text/plain": [
              "array([ 7,  2, -6])"
            ]
          },
          "metadata": {},
          "execution_count": 41
        }
      ]
    },
    {
      "cell_type": "code",
      "source": [
        "r[:2,:]"
      ],
      "metadata": {
        "colab": {
          "base_uri": "https://localhost:8080/"
        },
        "id": "-C4RV0LcQd6r",
        "outputId": "b7279259-70fe-4626-aa4f-cd8b8e1d1ed6"
      },
      "execution_count": null,
      "outputs": [
        {
          "output_type": "execute_result",
          "data": {
            "text/plain": [
              "array([[ 7, 29,  8, -4],\n",
              "       [ 2,  3, -1,  7]])"
            ]
          },
          "metadata": {},
          "execution_count": 42
        }
      ]
    },
    {
      "cell_type": "code",
      "source": [
        "r[:,:2]"
      ],
      "metadata": {
        "colab": {
          "base_uri": "https://localhost:8080/"
        },
        "id": "DPbENGflRGgy",
        "outputId": "8c7a4265-5ed6-4575-ada7-7dadb8e9d4fd"
      },
      "execution_count": null,
      "outputs": [
        {
          "output_type": "execute_result",
          "data": {
            "text/plain": [
              "array([[ 7, 29],\n",
              "       [ 2,  3],\n",
              "       [-6, 10]])"
            ]
          },
          "metadata": {},
          "execution_count": 43
        }
      ]
    },
    {
      "cell_type": "code",
      "source": [
        "r[-1:]"
      ],
      "metadata": {
        "colab": {
          "base_uri": "https://localhost:8080/"
        },
        "id": "9375z5P6RUKR",
        "outputId": "7fab9c73-d995-4fb6-bea7-649c17240e90"
      },
      "execution_count": null,
      "outputs": [
        {
          "output_type": "execute_result",
          "data": {
            "text/plain": [
              "array([[-6, 10,  8, 15]])"
            ]
          },
          "metadata": {},
          "execution_count": 44
        }
      ]
    },
    {
      "cell_type": "code",
      "source": [
        "r[:,-1]"
      ],
      "metadata": {
        "colab": {
          "base_uri": "https://localhost:8080/"
        },
        "id": "9bp7mPgORlDd",
        "outputId": "134ba7f2-fe36-4cb2-8eb5-2701f42da91e"
      },
      "execution_count": null,
      "outputs": [
        {
          "output_type": "execute_result",
          "data": {
            "text/plain": [
              "array([-4,  7, 15])"
            ]
          },
          "metadata": {},
          "execution_count": 45
        }
      ]
    },
    {
      "cell_type": "code",
      "source": [
        "r[:,-2:]"
      ],
      "metadata": {
        "colab": {
          "base_uri": "https://localhost:8080/"
        },
        "id": "-1qgdcNrRy8H",
        "outputId": "1e06bb5a-71bf-4fbc-c5b5-ce8cc52179d3"
      },
      "execution_count": null,
      "outputs": [
        {
          "output_type": "execute_result",
          "data": {
            "text/plain": [
              "array([[ 8, -4],\n",
              "       [-1,  7],\n",
              "       [ 8, 15]])"
            ]
          },
          "metadata": {},
          "execution_count": 46
        }
      ]
    },
    {
      "cell_type": "code",
      "source": [
        "r"
      ],
      "metadata": {
        "colab": {
          "base_uri": "https://localhost:8080/"
        },
        "id": "dNCWn_5nR4vy",
        "outputId": "6784a061-7d7f-4cc1-88ce-6d89835bb8ec"
      },
      "execution_count": null,
      "outputs": [
        {
          "output_type": "execute_result",
          "data": {
            "text/plain": [
              "array([[ 7, 29,  8, -4],\n",
              "       [ 2,  3, -1,  7],\n",
              "       [-6, 10,  8, 15]])"
            ]
          },
          "metadata": {},
          "execution_count": 47
        }
      ]
    },
    {
      "cell_type": "code",
      "source": [
        "m=r.reshape(-1)"
      ],
      "metadata": {
        "id": "J2MVYz6qSJgc"
      },
      "execution_count": null,
      "outputs": []
    },
    {
      "cell_type": "code",
      "source": [
        "r.reshape(-1,4)"
      ],
      "metadata": {
        "colab": {
          "base_uri": "https://localhost:8080/"
        },
        "id": "bpGaEHheSOhA",
        "outputId": "14d22486-04f5-4866-da75-d33f64d7ccdf"
      },
      "execution_count": null,
      "outputs": [
        {
          "output_type": "execute_result",
          "data": {
            "text/plain": [
              "array([[ 7, 29,  8, -4],\n",
              "       [ 2,  3, -1,  7],\n",
              "       [-6, 10,  8, 15]])"
            ]
          },
          "metadata": {},
          "execution_count": 49
        }
      ]
    },
    {
      "cell_type": "code",
      "source": [
        "m.shape"
      ],
      "metadata": {
        "colab": {
          "base_uri": "https://localhost:8080/"
        },
        "id": "iAbnKTGwSeVG",
        "outputId": "61e1c123-1707-4e5c-e4ba-e1047ab7aedc"
      },
      "execution_count": null,
      "outputs": [
        {
          "output_type": "execute_result",
          "data": {
            "text/plain": [
              "(12,)"
            ]
          },
          "metadata": {},
          "execution_count": 50
        }
      ]
    },
    {
      "cell_type": "code",
      "source": [
        "r.mean()"
      ],
      "metadata": {
        "colab": {
          "base_uri": "https://localhost:8080/"
        },
        "id": "oEDKQ4dATbSC",
        "outputId": "69be5123-4cd5-4b41-9ef3-1f7156e0ba00"
      },
      "execution_count": null,
      "outputs": [
        {
          "output_type": "execute_result",
          "data": {
            "text/plain": [
              "6.5"
            ]
          },
          "metadata": {},
          "execution_count": 51
        }
      ]
    },
    {
      "cell_type": "code",
      "source": [
        "r"
      ],
      "metadata": {
        "colab": {
          "base_uri": "https://localhost:8080/"
        },
        "id": "Ee-lj8oZTuHU",
        "outputId": "1aa01b71-dbb6-4628-8dc9-d093178ca25d"
      },
      "execution_count": null,
      "outputs": [
        {
          "output_type": "execute_result",
          "data": {
            "text/plain": [
              "array([[ 7, 29,  8, -4],\n",
              "       [ 2,  3, -1,  7],\n",
              "       [-6, 10,  8, 15]])"
            ]
          },
          "metadata": {},
          "execution_count": 52
        }
      ]
    },
    {
      "cell_type": "code",
      "source": [
        "g=r.transpose()"
      ],
      "metadata": {
        "id": "1_w1AT5FU08I"
      },
      "execution_count": null,
      "outputs": []
    },
    {
      "cell_type": "code",
      "source": [
        "g"
      ],
      "metadata": {
        "colab": {
          "base_uri": "https://localhost:8080/"
        },
        "id": "cWBCZmJFVDXd",
        "outputId": "e8f85fc5-cf2f-43f8-b785-a6589f78ffc5"
      },
      "execution_count": null,
      "outputs": [
        {
          "output_type": "execute_result",
          "data": {
            "text/plain": [
              "array([[ 7,  2, -6],\n",
              "       [29,  3, 10],\n",
              "       [ 8, -1,  8],\n",
              "       [-4,  7, 15]])"
            ]
          },
          "metadata": {},
          "execution_count": 54
        }
      ]
    },
    {
      "cell_type": "code",
      "source": [
        "g.reshape(-1)"
      ],
      "metadata": {
        "colab": {
          "base_uri": "https://localhost:8080/"
        },
        "id": "A4e5Ot32VEEM",
        "outputId": "0ad20ec3-19a1-4026-df93-3915d8a1c446"
      },
      "execution_count": null,
      "outputs": [
        {
          "output_type": "execute_result",
          "data": {
            "text/plain": [
              "array([ 7,  2, -6, 29,  3, 10,  8, -1,  8, -4,  7, 15])"
            ]
          },
          "metadata": {},
          "execution_count": 55
        }
      ]
    },
    {
      "cell_type": "code",
      "source": [
        "p=np.array([[1,2],[4,5]])\n",
        "q=np.array([[7,8],[10,11]])\n",
        "\n"
      ],
      "metadata": {
        "id": "7K8hU6nuVIOX"
      },
      "execution_count": null,
      "outputs": []
    },
    {
      "cell_type": "code",
      "source": [
        "p"
      ],
      "metadata": {
        "colab": {
          "base_uri": "https://localhost:8080/"
        },
        "id": "rNkcJppTXdE2",
        "outputId": "4cbc917c-9abf-4ff6-f39b-23af7d069cb5"
      },
      "execution_count": null,
      "outputs": [
        {
          "output_type": "execute_result",
          "data": {
            "text/plain": [
              "array([[1, 2],\n",
              "       [4, 5]])"
            ]
          },
          "metadata": {},
          "execution_count": 57
        }
      ]
    },
    {
      "cell_type": "code",
      "source": [
        "q"
      ],
      "metadata": {
        "colab": {
          "base_uri": "https://localhost:8080/"
        },
        "id": "RqQknuBrXofN",
        "outputId": "94e06adc-b7b2-44a1-a532-5df8e8dd803f"
      },
      "execution_count": null,
      "outputs": [
        {
          "output_type": "execute_result",
          "data": {
            "text/plain": [
              "array([[ 7,  8],\n",
              "       [10, 11]])"
            ]
          },
          "metadata": {},
          "execution_count": 58
        }
      ]
    },
    {
      "cell_type": "code",
      "source": [
        "p.dot(q)"
      ],
      "metadata": {
        "colab": {
          "base_uri": "https://localhost:8080/"
        },
        "id": "XuR3IxO_Xo0_",
        "outputId": "b29a04fd-f2c4-4782-fb4d-26292e0d62af"
      },
      "execution_count": null,
      "outputs": [
        {
          "output_type": "execute_result",
          "data": {
            "text/plain": [
              "array([[27, 30],\n",
              "       [78, 87]])"
            ]
          },
          "metadata": {},
          "execution_count": 59
        }
      ]
    },
    {
      "cell_type": "code",
      "source": [
        "g=np.arange(14,74,1)\n",
        "g"
      ],
      "metadata": {
        "colab": {
          "base_uri": "https://localhost:8080/"
        },
        "id": "JwDydhufXshl",
        "outputId": "4c313c99-7324-498d-a2e3-35086ac77375"
      },
      "execution_count": null,
      "outputs": [
        {
          "output_type": "execute_result",
          "data": {
            "text/plain": [
              "array([14, 15, 16, 17, 18, 19, 20, 21, 22, 23, 24, 25, 26, 27, 28, 29, 30,\n",
              "       31, 32, 33, 34, 35, 36, 37, 38, 39, 40, 41, 42, 43, 44, 45, 46, 47,\n",
              "       48, 49, 50, 51, 52, 53, 54, 55, 56, 57, 58, 59, 60, 61, 62, 63, 64,\n",
              "       65, 66, 67, 68, 69, 70, 71, 72, 73])"
            ]
          },
          "metadata": {},
          "execution_count": 60
        }
      ]
    },
    {
      "cell_type": "code",
      "source": [
        "len(g)"
      ],
      "metadata": {
        "colab": {
          "base_uri": "https://localhost:8080/"
        },
        "id": "INL3G6MgaIh4",
        "outputId": "61ed2920-1f4e-41e7-f6e4-2e005bf6fbdc"
      },
      "execution_count": null,
      "outputs": [
        {
          "output_type": "execute_result",
          "data": {
            "text/plain": [
              "60"
            ]
          },
          "metadata": {},
          "execution_count": 61
        }
      ]
    },
    {
      "cell_type": "code",
      "source": [
        "G=g.reshape(3,4,5)\n",
        "G"
      ],
      "metadata": {
        "colab": {
          "base_uri": "https://localhost:8080/"
        },
        "id": "n-goO5igaNUI",
        "outputId": "6cd47d5f-1c5e-4ae4-8dbf-8f6f15bd3f30"
      },
      "execution_count": null,
      "outputs": [
        {
          "output_type": "execute_result",
          "data": {
            "text/plain": [
              "array([[[14, 15, 16, 17, 18],\n",
              "        [19, 20, 21, 22, 23],\n",
              "        [24, 25, 26, 27, 28],\n",
              "        [29, 30, 31, 32, 33]],\n",
              "\n",
              "       [[34, 35, 36, 37, 38],\n",
              "        [39, 40, 41, 42, 43],\n",
              "        [44, 45, 46, 47, 48],\n",
              "        [49, 50, 51, 52, 53]],\n",
              "\n",
              "       [[54, 55, 56, 57, 58],\n",
              "        [59, 60, 61, 62, 63],\n",
              "        [64, 65, 66, 67, 68],\n",
              "        [69, 70, 71, 72, 73]]])"
            ]
          },
          "metadata": {},
          "execution_count": 62
        }
      ]
    },
    {
      "cell_type": "code",
      "source": [],
      "metadata": {
        "id": "nh9Ji5dTaRqW"
      },
      "execution_count": null,
      "outputs": []
    },
    {
      "cell_type": "code",
      "source": [
        "gs1=G[:,:,0]\n",
        "print(gs1)"
      ],
      "metadata": {
        "colab": {
          "base_uri": "https://localhost:8080/"
        },
        "id": "cXfTNaOTbX0r",
        "outputId": "b38b129b-a579-4da4-e1b6-45dabb64fd63"
      },
      "execution_count": null,
      "outputs": [
        {
          "output_type": "stream",
          "name": "stdout",
          "text": [
            "[[14 19 24 29]\n",
            " [34 39 44 49]\n",
            " [54 59 64 69]]\n"
          ]
        }
      ]
    },
    {
      "cell_type": "code",
      "source": [
        "gs1.reshape(-1)"
      ],
      "metadata": {
        "colab": {
          "base_uri": "https://localhost:8080/"
        },
        "id": "NvFsJO3Bbn5s",
        "outputId": "33342be2-ee67-41fd-837e-f82bb10f0388"
      },
      "execution_count": null,
      "outputs": [
        {
          "output_type": "execute_result",
          "data": {
            "text/plain": [
              "array([14, 19, 24, 29, 34, 39, 44, 49, 54, 59, 64, 69])"
            ]
          },
          "metadata": {},
          "execution_count": 64
        }
      ]
    },
    {
      "cell_type": "code",
      "source": [
        "G[0,:,:].mean(axis=1)"
      ],
      "metadata": {
        "colab": {
          "base_uri": "https://localhost:8080/"
        },
        "id": "V9Cg081ac5mQ",
        "outputId": "6a14077a-440a-452b-db71-d8e989d97a4d"
      },
      "execution_count": null,
      "outputs": [
        {
          "output_type": "execute_result",
          "data": {
            "text/plain": [
              "array([16., 21., 26., 31.])"
            ]
          },
          "metadata": {},
          "execution_count": 65
        }
      ]
    },
    {
      "cell_type": "code",
      "source": [
        "G[:,:,1].mean(axis=1)"
      ],
      "metadata": {
        "colab": {
          "base_uri": "https://localhost:8080/"
        },
        "id": "_0aentp0drXy",
        "outputId": "76064792-4024-478d-9fe9-b72375977503"
      },
      "execution_count": null,
      "outputs": [
        {
          "output_type": "execute_result",
          "data": {
            "text/plain": [
              "array([22.5, 42.5, 62.5])"
            ]
          },
          "metadata": {},
          "execution_count": 66
        }
      ]
    },
    {
      "cell_type": "code",
      "source": [
        "np.random.seed(10)\n",
        "r=np.random.randn(100)\n",
        "r[:5]\n"
      ],
      "metadata": {
        "colab": {
          "base_uri": "https://localhost:8080/"
        },
        "id": "2ODMDhMfjsFO",
        "outputId": "688d531d-8403-405a-eae5-c4ef69ddf4be"
      },
      "execution_count": null,
      "outputs": [
        {
          "output_type": "execute_result",
          "data": {
            "text/plain": [
              "array([ 1.3315865 ,  0.71527897, -1.54540029, -0.00838385,  0.62133597])"
            ]
          },
          "metadata": {},
          "execution_count": 67
        }
      ]
    },
    {
      "cell_type": "code",
      "source": [
        "sensor=r.reshape(4,5,5)\n",
        "sensor"
      ],
      "metadata": {
        "colab": {
          "base_uri": "https://localhost:8080/"
        },
        "id": "fbBtqzjWlILE",
        "outputId": "e7fa027d-ff5c-44c0-b625-c2ea863182a6"
      },
      "execution_count": null,
      "outputs": [
        {
          "output_type": "execute_result",
          "data": {
            "text/plain": [
              "array([[[ 1.3315865 ,  0.71527897, -1.54540029, -0.00838385,\n",
              "          0.62133597],\n",
              "        [-0.72008556,  0.26551159,  0.10854853,  0.00429143,\n",
              "         -0.17460021],\n",
              "        [ 0.43302619,  1.20303737, -0.96506567,  1.02827408,\n",
              "          0.22863013],\n",
              "        [ 0.44513761, -1.13660221,  0.13513688,  1.484537  ,\n",
              "         -1.07980489],\n",
              "        [-1.97772828, -1.7433723 ,  0.26607016,  2.38496733,\n",
              "          1.12369125]],\n",
              "\n",
              "       [[ 1.67262221,  0.09914922,  1.39799638, -0.27124799,\n",
              "          0.61320418],\n",
              "        [-0.26731719, -0.54930901,  0.1327083 , -0.47614201,\n",
              "          1.30847308],\n",
              "        [ 0.19501328,  0.40020999, -0.33763234,  1.25647226,\n",
              "         -0.7319695 ],\n",
              "        [ 0.66023155, -0.35087189, -0.93943336, -0.48933722,\n",
              "         -0.80459114],\n",
              "        [-0.21269764, -0.33914025,  0.31216994,  0.56515267,\n",
              "         -0.14742026]],\n",
              "\n",
              "       [[-0.02590534,  0.2890942 , -0.53987907,  0.70816002,\n",
              "          0.84222474],\n",
              "        [ 0.2035808 ,  2.39470366,  0.91745894, -0.11227247,\n",
              "         -0.36218045],\n",
              "        [-0.23218226, -0.5017289 ,  1.12878515, -0.69781003,\n",
              "         -0.08112218],\n",
              "        [-0.52929608,  1.04618286, -1.41855603, -0.36249918,\n",
              "         -0.12190569],\n",
              "        [ 0.31935642,  0.4609029 , -0.21578989,  0.98907246,\n",
              "          0.31475378]],\n",
              "\n",
              "       [[ 2.46765106, -1.50832149,  0.62060066, -1.04513254,\n",
              "         -0.79800882],\n",
              "        [ 1.98508459,  1.74481415, -1.85618548, -0.2227737 ,\n",
              "         -0.06584785],\n",
              "        [-2.13171211, -0.04883051,  0.39334122,  0.21726515,\n",
              "         -1.99439377],\n",
              "        [ 1.10770823,  0.24454398, -0.06191203, -0.75389296,\n",
              "          0.71195902],\n",
              "        [ 0.91826915, -0.48209314,  0.08958761,  0.82699862,\n",
              "         -1.95451212]]])"
            ]
          },
          "metadata": {},
          "execution_count": 68
        }
      ]
    },
    {
      "cell_type": "code",
      "source": [
        "sensor[:,:,2]"
      ],
      "metadata": {
        "colab": {
          "base_uri": "https://localhost:8080/"
        },
        "id": "WuhBqk9rlttd",
        "outputId": "662d64b3-b664-425f-8529-f35fd3c61be9"
      },
      "execution_count": null,
      "outputs": [
        {
          "output_type": "execute_result",
          "data": {
            "text/plain": [
              "array([[-1.54540029,  0.10854853, -0.96506567,  0.13513688,  0.26607016],\n",
              "       [ 1.39799638,  0.1327083 , -0.33763234, -0.93943336,  0.31216994],\n",
              "       [-0.53987907,  0.91745894,  1.12878515, -1.41855603, -0.21578989],\n",
              "       [ 0.62060066, -1.85618548,  0.39334122, -0.06191203,  0.08958761]])"
            ]
          },
          "metadata": {},
          "execution_count": 69
        }
      ]
    },
    {
      "cell_type": "code",
      "source": [
        "sensor[:,:,2].std(axis=1)"
      ],
      "metadata": {
        "colab": {
          "base_uri": "https://localhost:8080/"
        },
        "id": "kpfvswLXmPm0",
        "outputId": "f8c4d08c-83c6-4650-e48b-1e2cf6a02565"
      },
      "execution_count": null,
      "outputs": [
        {
          "output_type": "execute_result",
          "data": {
            "text/plain": [
              "array([0.72386235, 0.77484942, 0.94476949, 0.8791407 ])"
            ]
          },
          "metadata": {},
          "execution_count": 70
        }
      ]
    },
    {
      "cell_type": "code",
      "source": [
        "g=np.arange(2,105,6)"
      ],
      "metadata": {
        "id": "aa2TRwY-nizn"
      },
      "execution_count": null,
      "outputs": []
    },
    {
      "cell_type": "code",
      "source": [
        "g"
      ],
      "metadata": {
        "colab": {
          "base_uri": "https://localhost:8080/"
        },
        "id": "HsCYr0JgoEVO",
        "outputId": "65a32e8b-f8bc-4610-8b7f-da8ce93fc951"
      },
      "execution_count": null,
      "outputs": [
        {
          "output_type": "execute_result",
          "data": {
            "text/plain": [
              "array([  2,   8,  14,  20,  26,  32,  38,  44,  50,  56,  62,  68,  74,\n",
              "        80,  86,  92,  98, 104])"
            ]
          },
          "metadata": {},
          "execution_count": 72
        }
      ]
    },
    {
      "cell_type": "code",
      "source": [
        "g2=g.reshape(3,6)\n",
        "g2"
      ],
      "metadata": {
        "colab": {
          "base_uri": "https://localhost:8080/"
        },
        "id": "-7-v9rNwoFFu",
        "outputId": "d62e7a57-c64e-41cb-a888-929cff9264a4"
      },
      "execution_count": null,
      "outputs": [
        {
          "output_type": "execute_result",
          "data": {
            "text/plain": [
              "array([[  2,   8,  14,  20,  26,  32],\n",
              "       [ 38,  44,  50,  56,  62,  68],\n",
              "       [ 74,  80,  86,  92,  98, 104]])"
            ]
          },
          "metadata": {},
          "execution_count": 73
        }
      ]
    },
    {
      "cell_type": "code",
      "source": [
        "g2.sum()"
      ],
      "metadata": {
        "colab": {
          "base_uri": "https://localhost:8080/"
        },
        "id": "HuleqFH2oMdF",
        "outputId": "5c838516-7e43-4b63-d1c9-bc1d32141efb"
      },
      "execution_count": null,
      "outputs": [
        {
          "output_type": "execute_result",
          "data": {
            "text/plain": [
              "954"
            ]
          },
          "metadata": {},
          "execution_count": 74
        }
      ]
    },
    {
      "cell_type": "code",
      "source": [
        "g2"
      ],
      "metadata": {
        "colab": {
          "base_uri": "https://localhost:8080/"
        },
        "id": "DPIUXro8oP0_",
        "outputId": "1dd63db8-cc41-4c73-c041-1a27467df435"
      },
      "execution_count": null,
      "outputs": [
        {
          "output_type": "execute_result",
          "data": {
            "text/plain": [
              "array([[  2,   8,  14,  20,  26,  32],\n",
              "       [ 38,  44,  50,  56,  62,  68],\n",
              "       [ 74,  80,  86,  92,  98, 104]])"
            ]
          },
          "metadata": {},
          "execution_count": 75
        }
      ]
    },
    {
      "cell_type": "markdown",
      "source": [
        "mapping by value"
      ],
      "metadata": {
        "id": "Jbg_55KDpzgG"
      }
    },
    {
      "cell_type": "code",
      "source": [
        "tot=0\n",
        "for row in g2:\n",
        "  for val in row:\n",
        "    tot=tot+val\n",
        "print(tot)\n",
        "    "
      ],
      "metadata": {
        "colab": {
          "base_uri": "https://localhost:8080/"
        },
        "id": "rXd0ldXfoV_M",
        "outputId": "decaabd6-41d1-4e5b-a535-9aded87655a8"
      },
      "execution_count": null,
      "outputs": [
        {
          "output_type": "stream",
          "name": "stdout",
          "text": [
            "954\n"
          ]
        }
      ]
    },
    {
      "cell_type": "markdown",
      "source": [
        "**mapping by index**"
      ],
      "metadata": {
        "id": "h7kIKnBoqk9X"
      }
    },
    {
      "cell_type": "code",
      "source": [
        "total=0\n",
        "for row in np.arange(g2.shape[0]):\n",
        "  for col in np.arange(g2.shape[1]):\n",
        "    total=total+g2[row,col]\n",
        "print(total)"
      ],
      "metadata": {
        "colab": {
          "base_uri": "https://localhost:8080/"
        },
        "id": "ukVeYn4-od8M",
        "outputId": "113cea0b-a3e0-4f75-8db9-6415e57d5733"
      },
      "execution_count": null,
      "outputs": [
        {
          "output_type": "stream",
          "name": "stdout",
          "text": [
            "954\n"
          ]
        }
      ]
    },
    {
      "cell_type": "code",
      "source": [
        "g2.shape"
      ],
      "metadata": {
        "colab": {
          "base_uri": "https://localhost:8080/"
        },
        "id": "w6TorrNGqeCY",
        "outputId": "d2019253-7bf3-4b02-ffb4-3dc1f1f6c06e"
      },
      "execution_count": null,
      "outputs": [
        {
          "output_type": "execute_result",
          "data": {
            "text/plain": [
              "(3, 6)"
            ]
          },
          "metadata": {},
          "execution_count": 78
        }
      ]
    },
    {
      "cell_type": "code",
      "source": [
        "List1 = ['tcs','ibm','cts','wipro','zoho']"
      ],
      "metadata": {
        "id": "K5Ln3sZLqwTH"
      },
      "execution_count": null,
      "outputs": []
    },
    {
      "cell_type": "code",
      "source": [
        "List1.insert(4,'microsoft')"
      ],
      "metadata": {
        "id": "49FyQCNjrMqY"
      },
      "execution_count": null,
      "outputs": []
    },
    {
      "cell_type": "code",
      "source": [
        "List1"
      ],
      "metadata": {
        "colab": {
          "base_uri": "https://localhost:8080/"
        },
        "id": "j5nl5n2Wrksu",
        "outputId": "40ce5b93-9d42-4d12-f521-8aaf83c8cc4b"
      },
      "execution_count": null,
      "outputs": [
        {
          "output_type": "execute_result",
          "data": {
            "text/plain": [
              "['tcs', 'ibm', 'cts', 'wipro', 'microsoft', 'zoho']"
            ]
          },
          "metadata": {},
          "execution_count": 81
        }
      ]
    },
    {
      "cell_type": "code",
      "source": [
        "nm='great learning'\n",
        "nm.title()"
      ],
      "metadata": {
        "colab": {
          "base_uri": "https://localhost:8080/",
          "height": 35
        },
        "id": "n746Vnqarm2L",
        "outputId": "1ee6b474-9742-47ee-9ed6-6c66381d6a8e"
      },
      "execution_count": null,
      "outputs": [
        {
          "output_type": "execute_result",
          "data": {
            "text/plain": [
              "'Great Learning'"
            ],
            "application/vnd.google.colaboratory.intrinsic+json": {
              "type": "string"
            }
          },
          "metadata": {},
          "execution_count": 82
        }
      ]
    },
    {
      "cell_type": "code",
      "source": [
        "for x in range(1,5):\n",
        "\n",
        "     if(x == 4):\n",
        "\n",
        "          print(\"There is match found\")\n",
        "\n",
        "          continue"
      ],
      "metadata": {
        "colab": {
          "base_uri": "https://localhost:8080/"
        },
        "id": "K8UQ1wHGrtyI",
        "outputId": "3cb17ce5-9bf3-4d19-cb7c-668ff79155a1"
      },
      "execution_count": null,
      "outputs": [
        {
          "output_type": "stream",
          "name": "stdout",
          "text": [
            "There is match found\n"
          ]
        }
      ]
    },
    {
      "cell_type": "code",
      "source": [
        "x = 45\n",
        "\n",
        "if x > 25:\n",
        "\n",
        "     if x > 100:\n",
        "\n",
        "          print('You cannot apply')\n",
        "\n",
        "     else:\n",
        "\n",
        "          print('You are eligible')\n",
        "\n",
        "else:\n",
        "\n",
        "     print('You are not eligible')"
      ],
      "metadata": {
        "colab": {
          "base_uri": "https://localhost:8080/"
        },
        "id": "MkldMoYmrufX",
        "outputId": "f50c1b98-cb64-4a0c-bbe5-650b6eeea6a8"
      },
      "execution_count": null,
      "outputs": [
        {
          "output_type": "stream",
          "name": "stdout",
          "text": [
            "You are eligible\n"
          ]
        }
      ]
    },
    {
      "cell_type": "code",
      "source": [
        "dict = {'A':43, 'B' :56, 'C':67}"
      ],
      "metadata": {
        "id": "h2Xfo7LmsbUu"
      },
      "execution_count": null,
      "outputs": []
    },
    {
      "cell_type": "code",
      "source": [
        "dict"
      ],
      "metadata": {
        "colab": {
          "base_uri": "https://localhost:8080/"
        },
        "id": "kvpidUGlshBI",
        "outputId": "33a009c1-8279-4577-d275-9b75293c8e22"
      },
      "execution_count": null,
      "outputs": [
        {
          "output_type": "execute_result",
          "data": {
            "text/plain": [
              "{'A': 43, 'B': 56, 'C': 67}"
            ]
          },
          "metadata": {},
          "execution_count": 86
        }
      ]
    },
    {
      "cell_type": "code",
      "source": [
        "dict = {'A':43, 'B' :56, 'C':67}"
      ],
      "metadata": {
        "id": "gXMBSKWgsiBE"
      },
      "execution_count": null,
      "outputs": []
    },
    {
      "cell_type": "code",
      "source": [
        "dict"
      ],
      "metadata": {
        "colab": {
          "base_uri": "https://localhost:8080/"
        },
        "id": "7JUqUukEslch",
        "outputId": "0b7d0d11-1536-41b4-c2d3-4bff9f2b501c"
      },
      "execution_count": null,
      "outputs": [
        {
          "output_type": "execute_result",
          "data": {
            "text/plain": [
              "{'A': 43, 'B': 56, 'C': 67}"
            ]
          },
          "metadata": {},
          "execution_count": 88
        }
      ]
    },
    {
      "cell_type": "code",
      "source": [
        "a=False\n",
        "b=True"
      ],
      "metadata": {
        "id": "smtqnyqCsvvr"
      },
      "execution_count": null,
      "outputs": []
    },
    {
      "cell_type": "code",
      "source": [
        "a and b"
      ],
      "metadata": {
        "colab": {
          "base_uri": "https://localhost:8080/"
        },
        "id": "6aqSAlUItbxz",
        "outputId": "d0d47dc3-3029-4721-8432-fc1df9ee4b09"
      },
      "execution_count": null,
      "outputs": [
        {
          "output_type": "execute_result",
          "data": {
            "text/plain": [
              "False"
            ]
          },
          "metadata": {},
          "execution_count": 90
        }
      ]
    },
    {
      "cell_type": "code",
      "source": [],
      "metadata": {
        "id": "N_UEPhuIuZ4S"
      },
      "execution_count": null,
      "outputs": []
    },
    {
      "cell_type": "code",
      "source": [
        "a=np.array([57, 65, 96, 45, 33, 25, 45, 67, 78, 67])"
      ],
      "metadata": {
        "id": "rL6ZaOnFuj8w"
      },
      "execution_count": null,
      "outputs": []
    },
    {
      "cell_type": "code",
      "source": [
        "np.median(a)"
      ],
      "metadata": {
        "colab": {
          "base_uri": "https://localhost:8080/"
        },
        "id": "KJRLAr5NvFjm",
        "outputId": "ac0b4ba2-d3a8-4ca2-8b79-c034d923dee4"
      },
      "execution_count": null,
      "outputs": [
        {
          "output_type": "execute_result",
          "data": {
            "text/plain": [
              "61.0"
            ]
          },
          "metadata": {},
          "execution_count": 92
        }
      ]
    },
    {
      "cell_type": "code",
      "source": [
        "b=np.array([57, 65, 96, 45, 33, 25, 45, 67, 78, 67])\n"
      ],
      "metadata": {
        "id": "KwBQY7pqvIbn"
      },
      "execution_count": null,
      "outputs": []
    },
    {
      "cell_type": "code",
      "source": [
        "np.var(b)"
      ],
      "metadata": {
        "colab": {
          "base_uri": "https://localhost:8080/"
        },
        "id": "55XpXpnhwHNd",
        "outputId": "79fd0a54-43db-40d9-d258-90818ec78e2e"
      },
      "execution_count": null,
      "outputs": [
        {
          "output_type": "execute_result",
          "data": {
            "text/plain": [
              "410.76000000000005"
            ]
          },
          "metadata": {},
          "execution_count": 94
        }
      ]
    },
    {
      "cell_type": "code",
      "source": [
        "z1=np.zeros((4,5))"
      ],
      "metadata": {
        "id": "5aHgni4ewJl1"
      },
      "execution_count": null,
      "outputs": []
    },
    {
      "cell_type": "code",
      "source": [
        "z1"
      ],
      "metadata": {
        "id": "pDviPtxpxLwI",
        "colab": {
          "base_uri": "https://localhost:8080/"
        },
        "outputId": "8eedf680-f164-442c-fb97-42abce0af790"
      },
      "execution_count": null,
      "outputs": [
        {
          "output_type": "execute_result",
          "data": {
            "text/plain": [
              "array([[0., 0., 0., 0., 0.],\n",
              "       [0., 0., 0., 0., 0.],\n",
              "       [0., 0., 0., 0., 0.],\n",
              "       [0., 0., 0., 0., 0.]])"
            ]
          },
          "metadata": {},
          "execution_count": 96
        }
      ]
    },
    {
      "cell_type": "code",
      "source": [
        "z2=np.ones((4,5))\n",
        "z2"
      ],
      "metadata": {
        "colab": {
          "base_uri": "https://localhost:8080/"
        },
        "id": "ZmfWVTTq6DbS",
        "outputId": "c783d412-3173-4847-f2e6-02091ed6569a"
      },
      "execution_count": null,
      "outputs": [
        {
          "output_type": "execute_result",
          "data": {
            "text/plain": [
              "array([[1., 1., 1., 1., 1.],\n",
              "       [1., 1., 1., 1., 1.],\n",
              "       [1., 1., 1., 1., 1.],\n",
              "       [1., 1., 1., 1., 1.]])"
            ]
          },
          "metadata": {},
          "execution_count": 97
        }
      ]
    },
    {
      "cell_type": "code",
      "source": [
        "g2"
      ],
      "metadata": {
        "colab": {
          "base_uri": "https://localhost:8080/"
        },
        "id": "aEZWmw0i6IZ9",
        "outputId": "1a3b9050-8b6e-4057-f969-3a315ec2ec13"
      },
      "execution_count": null,
      "outputs": [
        {
          "output_type": "execute_result",
          "data": {
            "text/plain": [
              "array([[  2,   8,  14,  20,  26,  32],\n",
              "       [ 38,  44,  50,  56,  62,  68],\n",
              "       [ 74,  80,  86,  92,  98, 104]])"
            ]
          },
          "metadata": {},
          "execution_count": 98
        }
      ]
    },
    {
      "cell_type": "code",
      "source": [
        "g2.shape"
      ],
      "metadata": {
        "colab": {
          "base_uri": "https://localhost:8080/"
        },
        "id": "asOQNP_j6Uaa",
        "outputId": "eb647088-a169-42b6-eb69-c19bceea57b3"
      },
      "execution_count": null,
      "outputs": [
        {
          "output_type": "execute_result",
          "data": {
            "text/plain": [
              "(3, 6)"
            ]
          },
          "metadata": {},
          "execution_count": 99
        }
      ]
    },
    {
      "cell_type": "code",
      "source": [
        "g2_out=np.zeros((g2.shape))\n",
        "g2_out"
      ],
      "metadata": {
        "colab": {
          "base_uri": "https://localhost:8080/"
        },
        "id": "Gvl-gTAi6WYK",
        "outputId": "01c03acc-e18f-41fb-ba46-564545151f7d"
      },
      "execution_count": null,
      "outputs": [
        {
          "output_type": "execute_result",
          "data": {
            "text/plain": [
              "array([[0., 0., 0., 0., 0., 0.],\n",
              "       [0., 0., 0., 0., 0., 0.],\n",
              "       [0., 0., 0., 0., 0., 0.]])"
            ]
          },
          "metadata": {},
          "execution_count": 100
        }
      ]
    },
    {
      "cell_type": "code",
      "source": [
        "for i in np.arange(g2.shape[0]):\n",
        "  for j in np.arange(g2.shape[1]):\n",
        "    if g2[i,j]>=50:\n",
        "      g2_out[i,j]=1;\n",
        "print(g2_out)"
      ],
      "metadata": {
        "colab": {
          "base_uri": "https://localhost:8080/"
        },
        "id": "ZMbRhqS88dDi",
        "outputId": "93da2c78-a25c-4369-eb8e-43ffdf1be83a"
      },
      "execution_count": null,
      "outputs": [
        {
          "output_type": "stream",
          "name": "stdout",
          "text": [
            "[[0. 0. 0. 0. 0. 0.]\n",
            " [0. 0. 0. 0. 0. 0.]\n",
            " [0. 0. 0. 0. 0. 0.]]\n"
          ]
        }
      ]
    },
    {
      "cell_type": "code",
      "source": [
        "np.random.rand(10)"
      ],
      "metadata": {
        "colab": {
          "base_uri": "https://localhost:8080/"
        },
        "id": "Bz_XCsGQ82SY",
        "outputId": "f37e2dfa-495f-4c62-902e-d1df271fcb5d"
      },
      "execution_count": null,
      "outputs": [
        {
          "output_type": "execute_result",
          "data": {
            "text/plain": [
              "array([0.08749305, 0.11687944, 0.77107126, 0.73279527, 0.08712836,\n",
              "       0.3574632 , 0.77321162, 0.1314716 , 0.53783243, 0.75472357])"
            ]
          },
          "metadata": {},
          "execution_count": 108
        }
      ]
    },
    {
      "cell_type": "code",
      "source": [
        "np.random.randn(10)"
      ],
      "metadata": {
        "colab": {
          "base_uri": "https://localhost:8080/"
        },
        "id": "REfut3SQ-pKp",
        "outputId": "10a0eafb-943e-49ad-d87e-843d6fa96910"
      },
      "execution_count": null,
      "outputs": [
        {
          "output_type": "execute_result",
          "data": {
            "text/plain": [
              "array([ 0.48500263, -1.65860471,  2.67991031, -1.10352213,  1.81778261,\n",
              "       -0.55604734,  0.95771124,  0.81522068,  0.0643194 , -0.16640537])"
            ]
          },
          "metadata": {},
          "execution_count": 109
        }
      ]
    },
    {
      "cell_type": "code",
      "source": [
        "np.random.seed(2)\n",
        "\n",
        "np.random.randint(25,100,5)"
      ],
      "metadata": {
        "colab": {
          "base_uri": "https://localhost:8080/"
        },
        "id": "kzawSfk0-0G4",
        "outputId": "c9b393cc-1071-43b9-a073-0f776d873d3e"
      },
      "execution_count": null,
      "outputs": [
        {
          "output_type": "execute_result",
          "data": {
            "text/plain": [
              "array([65, 40, 97, 47, 68])"
            ]
          },
          "metadata": {},
          "execution_count": 115
        }
      ]
    },
    {
      "cell_type": "code",
      "source": [
        "1.48*4.7+28"
      ],
      "metadata": {
        "colab": {
          "base_uri": "https://localhost:8080/"
        },
        "id": "fWczQhHq_cWU",
        "outputId": "d6fff91d-241f-4c3c-e294-3450b89b1b21"
      },
      "execution_count": null,
      "outputs": [
        {
          "output_type": "execute_result",
          "data": {
            "text/plain": [
              "34.956"
            ]
          },
          "metadata": {},
          "execution_count": 116
        }
      ]
    },
    {
      "cell_type": "code",
      "source": [
        "(22-28)/4.7"
      ],
      "metadata": {
        "colab": {
          "base_uri": "https://localhost:8080/"
        },
        "id": "l3oEF8_PB6MS",
        "outputId": "13045bb4-ee14-44dc-96fa-86517489c8c4"
      },
      "execution_count": null,
      "outputs": [
        {
          "output_type": "execute_result",
          "data": {
            "text/plain": [
              "-1.276595744680851"
            ]
          },
          "metadata": {},
          "execution_count": 119
        }
      ]
    },
    {
      "cell_type": "code",
      "source": [
        "R=np.random.rand(100)\n",
        "R"
      ],
      "metadata": {
        "colab": {
          "base_uri": "https://localhost:8080/"
        },
        "id": "NprUv2tiDpzH",
        "outputId": "94a03b67-801f-4cbf-ceb1-50f9a5464842"
      },
      "execution_count": null,
      "outputs": [
        {
          "output_type": "execute_result",
          "data": {
            "text/plain": [
              "array([0.74877788, 0.79858565, 0.54334523, 0.22083792, 0.91845865,\n",
              "       0.59208458, 0.34623791, 0.26377853, 0.91391548, 0.41973546,\n",
              "       0.54019152, 0.60844216, 0.82624983, 0.62356318, 0.17671216,\n",
              "       0.59125735, 0.48926617, 0.54790778, 0.69952062, 0.24581116,\n",
              "       0.18662715, 0.11058315, 0.27405925, 0.01025004, 0.62935972,\n",
              "       0.29517231, 0.18728654, 0.09528805, 0.28375581, 0.21492438,\n",
              "       0.28560373, 0.47140986, 0.54949682, 0.84511312, 0.9885097 ,\n",
              "       0.04886809, 0.23211825, 0.64331143, 0.16146656, 0.87014589,\n",
              "       0.21740243, 0.74175504, 0.65302051, 0.79888551, 0.03124756,\n",
              "       0.22957403, 0.7046275 , 0.08756251, 0.03058948, 0.35713493,\n",
              "       0.58978199, 0.05222273, 0.06566367, 0.04350119, 0.39515076,\n",
              "       0.66842705, 0.19802711, 0.87626645, 0.4323891 , 0.61964146,\n",
              "       0.29042674, 0.61525457, 0.95365996, 0.44801472, 0.20704984,\n",
              "       0.42536729, 0.44457426, 0.50761749, 0.52573325, 0.04242919,\n",
              "       0.16441909, 0.45022718, 0.70797117, 0.77758791, 0.777103  ,\n",
              "       0.50277875, 0.95674759, 0.33187371, 0.48145816, 0.748374  ,\n",
              "       0.85783952, 0.41446006, 0.84868451, 0.44457094, 0.71574708,\n",
              "       0.00844836, 0.02520142, 0.94045049, 0.10213795, 0.66196779,\n",
              "       0.28325874, 0.20084234, 0.38833418, 0.9259016 , 0.57027421,\n",
              "       0.91671461, 0.70226424, 0.50121645, 0.50608683, 0.21882079])"
            ]
          },
          "metadata": {},
          "execution_count": 123
        }
      ]
    },
    {
      "cell_type": "code",
      "source": [
        "R.mean(),R.std()"
      ],
      "metadata": {
        "colab": {
          "base_uri": "https://localhost:8080/"
        },
        "id": "kTbM-VXBHAdH",
        "outputId": "8e2b6350-3a29-48a0-d9dc-0272b529a555"
      },
      "execution_count": null,
      "outputs": [
        {
          "output_type": "execute_result",
          "data": {
            "text/plain": [
              "(0.46882790083564524, 0.2780004045048862)"
            ]
          },
          "metadata": {},
          "execution_count": 124
        }
      ]
    },
    {
      "cell_type": "code",
      "source": [
        "marks=R*20+58\n",
        "marks"
      ],
      "metadata": {
        "colab": {
          "base_uri": "https://localhost:8080/"
        },
        "id": "KToiLTHiHLLZ",
        "outputId": "4bb31187-5c91-4476-9ed4-062c19741845"
      },
      "execution_count": null,
      "outputs": [
        {
          "output_type": "execute_result",
          "data": {
            "text/plain": [
              "array([72.97555757, 73.97171308, 68.86690461, 62.4167583 , 76.36917293,\n",
              "       69.84169155, 64.92475819, 63.27557059, 76.27830954, 66.39470923,\n",
              "       68.80383031, 70.16884316, 74.52499657, 70.47126369, 61.53424323,\n",
              "       69.82514705, 67.78532334, 68.9581556 , 71.9904124 , 62.91622328,\n",
              "       61.73254291, 60.21166296, 63.48118505, 58.20500079, 70.58719446,\n",
              "       63.9034461 , 61.74573089, 59.90576105, 63.67511615, 62.29848768,\n",
              "       63.71207468, 67.42819715, 68.98993642, 74.90226231, 77.77019402,\n",
              "       58.97736172, 62.64236503, 70.86622854, 61.22933126, 75.40291787,\n",
              "       62.34804853, 72.83510078, 71.06041026, 73.97771023, 58.62495125,\n",
              "       62.59148057, 72.09254998, 59.75125018, 58.61178966, 65.14269867,\n",
              "       69.79563983, 59.04445455, 59.31327332, 58.87002372, 65.90301517,\n",
              "       71.36854092, 61.96054224, 75.52532903, 66.64778191, 70.39282927,\n",
              "       63.80853486, 70.30509147, 77.07319925, 66.96029433, 62.14099677,\n",
              "       66.50734584, 66.8914853 , 68.15234973, 68.514665  , 58.84858384,\n",
              "       61.28838172, 67.00454359, 72.15942341, 73.55175817, 73.54205999,\n",
              "       68.05557505, 77.13495187, 64.63747425, 67.62916325, 72.96747999,\n",
              "       75.15679037, 66.2892011 , 74.97369029, 66.89141884, 72.31494169,\n",
              "       58.16896727, 58.50402847, 76.80900987, 60.04275896, 71.23935581,\n",
              "       63.66517488, 62.01684688, 65.76668364, 76.51803193, 69.4054842 ,\n",
              "       76.33429224, 72.04528482, 68.02432903, 68.12173667, 62.37641573])"
            ]
          },
          "metadata": {},
          "execution_count": 125
        }
      ]
    },
    {
      "cell_type": "code",
      "source": [
        "marks=R*15+28\n",
        "plt.hist(marks)"
      ],
      "metadata": {
        "colab": {
          "base_uri": "https://localhost:8080/",
          "height": 352
        },
        "id": "zflH923rHUlI",
        "outputId": "509c2a79-6539-4de9-8e19-94446a253d96"
      },
      "execution_count": null,
      "outputs": [
        {
          "output_type": "execute_result",
          "data": {
            "text/plain": [
              "(array([13.,  8., 15.,  5., 11., 13.,  9., 10.,  8.,  8.]),\n",
              " array([28.12672545, 29.59681746, 31.06690947, 32.53700147, 34.00709348,\n",
              "        35.47718548, 36.94727749, 38.41736949, 39.8874615 , 41.35755351,\n",
              "        42.82764551]),\n",
              " <a list of 10 Patch objects>)"
            ]
          },
          "metadata": {},
          "execution_count": 128
        },
        {
          "output_type": "display_data",
          "data": {
            "text/plain": [
              "<Figure size 432x288 with 1 Axes>"
            ],
            "image/png": "[encoded data removed]"
          },
          "metadata": {
            "needs_background": "light"
          }
        }
      ]
    },
    {
      "cell_type": "code",
      "source": [
        "m=pd.Series(marks)\n",
        "m.skew()"
      ],
      "metadata": {
        "colab": {
          "base_uri": "https://localhost:8080/"
        },
        "id": "tBh4tHp5Hqgc",
        "outputId": "12ac931d-0640-4cdb-f570-69b9952bc497"
      },
      "execution_count": null,
      "outputs": [
        {
          "output_type": "execute_result",
          "data": {
            "text/plain": [
              "0.067138097173415"
            ]
          },
          "metadata": {},
          "execution_count": 134
        }
      ]
    },
    {
      "cell_type": "code",
      "source": [
        "np.mean(marks),np.median(marks)"
      ],
      "metadata": {
        "colab": {
          "base_uri": "https://localhost:8080/"
        },
        "id": "hhYTCPbqJz4n",
        "outputId": "e8e76af8-1f87-4e46-ec7e-a04d76680717"
      },
      "execution_count": null,
      "outputs": [
        {
          "output_type": "execute_result",
          "data": {
            "text/plain": [
              "(35.032418512534676, 35.14651014861784)"
            ]
          },
          "metadata": {},
          "execution_count": 135
        }
      ]
    },
    {
      "cell_type": "code",
      "source": [
        "sns.displot(marks)"
      ],
      "metadata": {
        "colab": {
          "base_uri": "https://localhost:8080/",
          "height": 386
        },
        "id": "FiZpteg0KLVy",
        "outputId": "f581be58-30a1-45c4-b76d-f8b5d9732abc"
      },
      "execution_count": null,
      "outputs": [
        {
          "output_type": "execute_result",
          "data": {
            "text/plain": [
              "<seaborn.axisgrid.FacetGrid at 0x7efece44c1d0>"
            ]
          },
          "metadata": {},
          "execution_count": 136
        },
        {
          "output_type": "display_data",
          "data": {
            "text/plain": [
              "<Figure size 360x360 with 1 Axes>"
            ],
            "image/png": "[encoded data removed]"
          },
          "metadata": {
            "needs_background": "light"
          }
        }
      ]
    },
    {
      "cell_type": "code",
      "source": [
        "np.random.seed(0)\n",
        "age_std=np.random.randn(50)\n",
        "age_std\n"
      ],
      "metadata": {
        "colab": {
          "base_uri": "https://localhost:8080/"
        },
        "id": "Utp0vefPKgcb",
        "outputId": "51fedfc9-325b-483d-ad92-f3d5bb390c96"
      },
      "execution_count": null,
      "outputs": [
        {
          "output_type": "execute_result",
          "data": {
            "text/plain": [
              "array([ 1.76405235,  0.40015721,  0.97873798,  2.2408932 ,  1.86755799,\n",
              "       -0.97727788,  0.95008842, -0.15135721, -0.10321885,  0.4105985 ,\n",
              "        0.14404357,  1.45427351,  0.76103773,  0.12167502,  0.44386323,\n",
              "        0.33367433,  1.49407907, -0.20515826,  0.3130677 , -0.85409574,\n",
              "       -2.55298982,  0.6536186 ,  0.8644362 , -0.74216502,  2.26975462,\n",
              "       -1.45436567,  0.04575852, -0.18718385,  1.53277921,  1.46935877,\n",
              "        0.15494743,  0.37816252, -0.88778575, -1.98079647, -0.34791215,\n",
              "        0.15634897,  1.23029068,  1.20237985, -0.38732682, -0.30230275,\n",
              "       -1.04855297, -1.42001794, -1.70627019,  1.9507754 , -0.50965218,\n",
              "       -0.4380743 , -1.25279536,  0.77749036, -1.61389785, -0.21274028])"
            ]
          },
          "metadata": {},
          "execution_count": 138
        }
      ]
    },
    {
      "cell_type": "code",
      "source": [
        "age=age_std*3.2+28.5\n",
        "age\n"
      ],
      "metadata": {
        "colab": {
          "base_uri": "https://localhost:8080/"
        },
        "id": "rvA1fI2ZKvxU",
        "outputId": "93beeae8-f520-4586-e0c6-bcd47287cc64"
      },
      "execution_count": null,
      "outputs": [
        {
          "output_type": "execute_result",
          "data": {
            "text/plain": [
              "array([34.14496751, 29.78050307, 31.63196155, 35.67085824, 34.47618557,\n",
              "       25.37271078, 31.54028294, 28.01565693, 28.16969967, 29.81391521,\n",
              "       28.96093943, 33.15367522, 30.93532072, 28.88936005, 29.92036234,\n",
              "       29.56775785, 33.28105303, 27.84349356, 29.50181665, 25.76689363,\n",
              "       20.33043259, 30.59157951, 31.26619584, 26.12507193, 35.7632148 ,\n",
              "       23.84602984, 28.64642726, 27.90101168, 33.40489349, 33.20194806,\n",
              "       28.99583176, 29.71012006, 25.65908561, 22.1614513 , 27.38668112,\n",
              "       29.0003167 , 32.43693018, 32.34761552, 27.26055418, 27.5326312 ,\n",
              "       25.14463051, 23.9559426 , 23.03993539, 34.74248126, 26.86911302,\n",
              "       27.09816223, 24.49105485, 30.98796914, 23.33552689, 27.8192311 ])"
            ]
          },
          "metadata": {},
          "execution_count": 141
        }
      ]
    },
    {
      "cell_type": "code",
      "source": [
        "sns.distplot(age)"
      ],
      "metadata": {
        "colab": {
          "base_uri": "https://localhost:8080/",
          "height": 337
        },
        "id": "mbGpr1M3LNon",
        "outputId": "9658c869-33ae-4529-bcc3-b4682f75e5fd"
      },
      "execution_count": null,
      "outputs": [
        {
          "output_type": "stream",
          "name": "stderr",
          "text": [
            "/usr/local/lib/python3.7/dist-packages/seaborn/distributions.py:2619: FutureWarning: `distplot` is a deprecated function and will be removed in a future version. Please adapt your code to use either `displot` (a figure-level function with similar flexibility) or `histplot` (an axes-level function for histograms).\n",
            "  warnings.warn(msg, FutureWarning)\n"
          ]
        },
        {
          "output_type": "execute_result",
          "data": {
            "text/plain": [
              "<matplotlib.axes._subplots.AxesSubplot at 0x7efecb902750>"
            ]
          },
          "metadata": {},
          "execution_count": 143
        },
        {
          "output_type": "display_data",
          "data": {
            "text/plain": [
              "<Figure size 432x288 with 1 Axes>"
            ],
            "image/png": "[encoded data removed]"
          },
          "metadata": {
            "needs_background": "light"
          }
        }
      ]
    },
    {
      "cell_type": "code",
      "source": [
        "sns.displot(age)"
      ],
      "metadata": {
        "colab": {
          "base_uri": "https://localhost:8080/",
          "height": 386
        },
        "id": "dpgAqz3XLQrA",
        "outputId": "6a3df002-3790-482f-95c7-c8419d2fcabb"
      },
      "execution_count": null,
      "outputs": [
        {
          "output_type": "execute_result",
          "data": {
            "text/plain": [
              "<seaborn.axisgrid.FacetGrid at 0x7efece6bfc10>"
            ]
          },
          "metadata": {},
          "execution_count": 144
        },
        {
          "output_type": "display_data",
          "data": {
            "text/plain": [
              "<Figure size 360x360 with 1 Axes>"
            ],
            "image/png": "[encoded data removed]"
          },
          "metadata": {
            "needs_background": "light"
          }
        }
      ]
    },
    {
      "cell_type": "code",
      "source": [
        "age.min(),age.max(),age.std()\n"
      ],
      "metadata": {
        "colab": {
          "base_uri": "https://localhost:8080/"
        },
        "id": "wCZw27rxLbz1",
        "outputId": "2c9735e5-823b-4cc8-8834-394c20f086b8"
      },
      "execution_count": null,
      "outputs": [
        {
          "output_type": "execute_result",
          "data": {
            "text/plain": [
              "(20.330432589330947, 35.763214796760344, 3.6016733457755077)"
            ]
          },
          "metadata": {},
          "execution_count": 146
        }
      ]
    },
    {
      "cell_type": "code",
      "source": [
        "age_std.min(),age_std.max(),age_std.std()\n"
      ],
      "metadata": {
        "colab": {
          "base_uri": "https://localhost:8080/"
        },
        "id": "BxLi0W3xLtoD",
        "outputId": "ca190b6a-3757-45ad-cad8-12f7941872f7"
      },
      "execution_count": null,
      "outputs": [
        {
          "output_type": "execute_result",
          "data": {
            "text/plain": [
              "(-2.5529898158340787, 2.2697546239876076, 1.125522920554846)"
            ]
          },
          "metadata": {},
          "execution_count": 147
        }
      ]
    },
    {
      "cell_type": "code",
      "source": [
        "np.random.seed(0)\n",
        "sal_std=np.random.randn(10000)\n",
        "sal_std\n"
      ],
      "metadata": {
        "id": "sNVnqUtzMNla",
        "colab": {
          "base_uri": "https://localhost:8080/"
        },
        "outputId": "d7fe7336-b75c-439a-b593-ddfa262e9ccc"
      },
      "execution_count": null,
      "outputs": [
        {
          "output_type": "execute_result",
          "data": {
            "text/plain": [
              "array([ 1.76405235,  0.40015721,  0.97873798, ...,  0.51687218,\n",
              "       -0.03292069,  1.29811143])"
            ]
          },
          "metadata": {},
          "execution_count": 3
        }
      ]
    },
    {
      "cell_type": "code",
      "source": [
        "sal_inr=sal_std*150000+1350000"
      ],
      "metadata": {
        "id": "NSCocm9HsM_6"
      },
      "execution_count": null,
      "outputs": []
    },
    {
      "cell_type": "code",
      "source": [
        "sal_inr.max()"
      ],
      "metadata": {
        "colab": {
          "base_uri": "https://localhost:8080/"
        },
        "id": "XRucZps4skjW",
        "outputId": "8c524d02-8023-4a6f-f3c8-188358113c23"
      },
      "execution_count": null,
      "outputs": [
        {
          "output_type": "execute_result",
          "data": {
            "text/plain": [
              "1920249.0322450674"
            ]
          },
          "metadata": {},
          "execution_count": 6
        }
      ]
    },
    {
      "cell_type": "code",
      "source": [
        "sal_inr.min()"
      ],
      "metadata": {
        "colab": {
          "base_uri": "https://localhost:8080/"
        },
        "id": "guMxeRNUsmmG",
        "outputId": "ac6709e0-6d24-4bff-cc22-1c8e184a662e"
      },
      "execution_count": null,
      "outputs": [
        {
          "output_type": "execute_result",
          "data": {
            "text/plain": [
              "788984.9043072332"
            ]
          },
          "metadata": {},
          "execution_count": 7
        }
      ]
    },
    {
      "cell_type": "code",
      "source": [
        "sns.displot(sal_inr)"
      ],
      "metadata": {
        "colab": {
          "base_uri": "https://localhost:8080/",
          "height": 386
        },
        "id": "OeR4B1jIssHu",
        "outputId": "af9b680a-f546-4685-97c1-f1b1996240aa"
      },
      "execution_count": null,
      "outputs": [
        {
          "output_type": "execute_result",
          "data": {
            "text/plain": [
              "<seaborn.axisgrid.FacetGrid at 0x7f5cdcc90310>"
            ]
          },
          "metadata": {},
          "execution_count": 8
        },
        {
          "output_type": "display_data",
          "data": {
            "text/plain": [
              "<Figure size 360x360 with 1 Axes>"
            ],
            "image/png": "[encoded data removed]"
          },
          "metadata": {
            "needs_background": "light"
          }
        }
      ]
    },
    {
      "cell_type": "code",
      "source": [
        "sal_diff = sal_inr.mean() - sal_inr.std() + sal_inr.mean() - sal_inr.std()\n",
        "sal_diff"
      ],
      "metadata": {
        "colab": {
          "base_uri": "https://localhost:8080/"
        },
        "id": "GbH7dpxvtRdR",
        "outputId": "a7be2235-09de-483f-d18a-4b9fad152db3"
      },
      "execution_count": null,
      "outputs": [
        {
          "output_type": "execute_result",
          "data": {
            "text/plain": [
              "2398202.913499684"
            ]
          },
          "metadata": {},
          "execution_count": 10
        }
      ]
    },
    {
      "cell_type": "code",
      "source": [
        "sal_inr.mean() - sal_inr.std(), sal_inr.mean() + sal_inr.std()"
      ],
      "metadata": {
        "colab": {
          "base_uri": "https://localhost:8080/"
        },
        "id": "vVpcu1ULuFg1",
        "outputId": "9aa22973-2ee2-4f3b-e8fb-4499a6ebe45b"
      },
      "execution_count": null,
      "outputs": [
        {
          "output_type": "execute_result",
          "data": {
            "text/plain": [
              "(1199101.456749842, 1495368.4272026783)"
            ]
          },
          "metadata": {},
          "execution_count": 11
        }
      ]
    },
    {
      "cell_type": "code",
      "source": [
        "count=0\n",
        "for sal in sal_inr:\n",
        "  if sal>1200000 and sal<1500000:\n",
        "    count=count+1\n",
        "print(count)"
      ],
      "metadata": {
        "colab": {
          "base_uri": "https://localhost:8080/"
        },
        "id": "FOiC7nl5uUq9",
        "outputId": "3d3a8551-ff00-4a38-e2eb-f46e6d8c6140"
      },
      "execution_count": null,
      "outputs": [
        {
          "output_type": "stream",
          "name": "stdout",
          "text": [
            "6899\n"
          ]
        }
      ]
    },
    {
      "cell_type": "code",
      "source": [
        "def my_fun(x1,x2):\n",
        "  r1=25*90+x1\n",
        "  r2=56*x1+890-13434\n",
        "  return(r1,r2)\n"
      ],
      "metadata": {
        "id": "Hy5I-YMtvNz0"
      },
      "execution_count": null,
      "outputs": []
    },
    {
      "cell_type": "code",
      "source": [
        "my_fun(6795666,89556687871)\n"
      ],
      "metadata": {
        "colab": {
          "base_uri": "https://localhost:8080/"
        },
        "id": "MymS3IYcxI5T",
        "outputId": "e1ebe4e4-8bb7-4a3e-c5bb-c9afafe93d8e"
      },
      "execution_count": null,
      "outputs": [
        {
          "output_type": "execute_result",
          "data": {
            "text/plain": [
              "(6797916, 380544752)"
            ]
          },
          "metadata": {},
          "execution_count": 27
        }
      ]
    },
    {
      "cell_type": "code",
      "source": [
        "def my_mean(x):\n",
        "  N=len(x)\n",
        "  s=np.sum(x)\n",
        "  m=s/N\n",
        "  return m"
      ],
      "metadata": {
        "id": "jw_l6zygxOx3"
      },
      "execution_count": null,
      "outputs": []
    },
    {
      "cell_type": "code",
      "source": [
        "my_mean(np.array([78,90,14,67,89,100]))"
      ],
      "metadata": {
        "colab": {
          "base_uri": "https://localhost:8080/"
        },
        "id": "GT3X096PxQJA",
        "outputId": "6864de30-a9f4-4f49-84a4-f5b46192e750"
      },
      "execution_count": null,
      "outputs": [
        {
          "output_type": "execute_result",
          "data": {
            "text/plain": [
              "73.0"
            ]
          },
          "metadata": {},
          "execution_count": 32
        }
      ]
    },
    {
      "cell_type": "code",
      "source": [
        "def times2(var):\n",
        "  return var*2"
      ],
      "metadata": {
        "id": "8bMnMsIpxTd7"
      },
      "execution_count": null,
      "outputs": []
    },
    {
      "cell_type": "code",
      "source": [
        "times2(677)"
      ],
      "metadata": {
        "colab": {
          "base_uri": "https://localhost:8080/"
        },
        "id": "lqg6SD_M25aO",
        "outputId": "ed2bdd26-4eda-414e-e25c-982c937cfc76"
      },
      "execution_count": null,
      "outputs": [
        {
          "output_type": "execute_result",
          "data": {
            "text/plain": [
              "1354"
            ]
          },
          "metadata": {},
          "execution_count": 35
        }
      ]
    },
    {
      "cell_type": "code",
      "source": [
        "lambda var : var * 2"
      ],
      "metadata": {
        "colab": {
          "base_uri": "https://localhost:8080/"
        },
        "id": "BgOvN5vb2-nS",
        "outputId": "aa136d8f-d684-4b1f-e274-97c28c36d46d"
      },
      "execution_count": null,
      "outputs": [
        {
          "output_type": "execute_result",
          "data": {
            "text/plain": [
              "<function __main__.<lambda>(var)>"
            ]
          },
          "metadata": {},
          "execution_count": 36
        }
      ]
    },
    {
      "cell_type": "code",
      "source": [
        "seq = [1,2,3,4,5]"
      ],
      "metadata": {
        "id": "o4ELsuvL3WhX"
      },
      "execution_count": null,
      "outputs": []
    },
    {
      "cell_type": "code",
      "source": [
        "times2(seq)"
      ],
      "metadata": {
        "colab": {
          "base_uri": "https://localhost:8080/"
        },
        "id": "NhYhm-Po3Ypp",
        "outputId": "b71ce1c6-785d-4c37-c68b-56ec07676746"
      },
      "execution_count": null,
      "outputs": [
        {
          "output_type": "execute_result",
          "data": {
            "text/plain": [
              "[1, 2, 3, 4, 5, 1, 2, 3, 4, 5]"
            ]
          },
          "metadata": {},
          "execution_count": 39
        }
      ]
    },
    {
      "cell_type": "code",
      "source": [
        "list(map(lambda var : var * 2,seq))"
      ],
      "metadata": {
        "colab": {
          "base_uri": "https://localhost:8080/"
        },
        "id": "2ZrHIM-S3bEe",
        "outputId": "f6019887-effd-42d5-ab0e-ba186a9b3b33"
      },
      "execution_count": null,
      "outputs": [
        {
          "output_type": "execute_result",
          "data": {
            "text/plain": [
              "[2, 4, 6, 8, 10]"
            ]
          },
          "metadata": {},
          "execution_count": 43
        }
      ]
    },
    {
      "cell_type": "code",
      "source": [
        "list(map(times2,seq))"
      ],
      "metadata": {
        "colab": {
          "base_uri": "https://localhost:8080/"
        },
        "id": "p2iadFLv4Bsd",
        "outputId": "017cfe2c-5a38-4ea5-b37b-8a22bc6ebf7d"
      },
      "execution_count": null,
      "outputs": [
        {
          "output_type": "execute_result",
          "data": {
            "text/plain": [
              "[2, 4, 6, 8, 10]"
            ]
          },
          "metadata": {},
          "execution_count": 44
        }
      ]
    },
    {
      "cell_type": "code",
      "source": [
        "list(filter(lambda item: item %2==0,seq))"
      ],
      "metadata": {
        "colab": {
          "base_uri": "https://localhost:8080/"
        },
        "id": "tGjm_8MI4e1z",
        "outputId": "64a3168c-cfd0-4bb4-f090-11971705c0c1"
      },
      "execution_count": null,
      "outputs": [
        {
          "output_type": "execute_result",
          "data": {
            "text/plain": [
              "[2, 4]"
            ]
          },
          "metadata": {},
          "execution_count": 47
        }
      ]
    },
    {
      "cell_type": "code",
      "source": [],
      "metadata": {
        "id": "HBuHGN_s9smt"
      },
      "execution_count": null,
      "outputs": []
    },
    {
      "cell_type": "code",
      "source": [
        "l=[89,90,167,190,54,104]"
      ],
      "metadata": {
        "id": "oaCVWj114wfW"
      },
      "execution_count": null,
      "outputs": []
    },
    {
      "cell_type": "markdown",
      "source": [
        "**LIST COMPHREHENSION**"
      ],
      "metadata": {
        "id": "ptauvG2i9oSA"
      }
    },
    {
      "cell_type": "code",
      "source": [
        "k2=[val+100 for val in l if val>100]\n",
        "k2"
      ],
      "metadata": {
        "colab": {
          "base_uri": "https://localhost:8080/"
        },
        "id": "zIYKFW1k9cf9",
        "outputId": "cc97a5ed-c2a9-4329-9870-49a9cc609f21"
      },
      "execution_count": null,
      "outputs": [
        {
          "output_type": "execute_result",
          "data": {
            "text/plain": [
              "[267, 290, 204]"
            ]
          },
          "metadata": {},
          "execution_count": 50
        }
      ]
    },
    {
      "cell_type": "code",
      "source": [
        "df=pd.DataFrame({'age':[32,40,35,56],'bmi':[8,9,5,6],})"
      ],
      "metadata": {
        "id": "qzW5mu_T9kU_"
      },
      "execution_count": null,
      "outputs": []
    }
  ]
}