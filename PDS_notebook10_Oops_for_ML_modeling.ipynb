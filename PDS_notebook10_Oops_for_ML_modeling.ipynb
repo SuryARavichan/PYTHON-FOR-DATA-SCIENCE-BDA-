{
  "nbformat": 4,
  "nbformat_minor": 0,
  "metadata": {
    "colab": {
      "provenance": [],
      "collapsed_sections": [],
      "include_colab_link": true
    },
    "kernelspec": {
      "name": "python3",
      "display_name": "Python 3"
    },
    "language_info": {
      "name": "python"
    }
  },
  "cells": [
    {
      "cell_type": "markdown",
      "metadata": {
        "id": "view-in-github",
        "colab_type": "text"
      },
      "source": [
        "<a href=\"https://colab.research.google.com/github/SuryARavichan/PYTHON-FOR-DATA-SCIENCE-BDA-/blob/main/PDS_notebook10_Oops_for_ML_modeling.ipynb\" target=\"_parent\"><img src=\"https://colab.research.google.com/assets/colab-badge.svg\" alt=\"Open In Colab\"/></a>"
      ]
    },
    {
      "cell_type": "code",
      "execution_count": null,
      "metadata": {
        "id": "5FFm4TPw6ozu"
      },
      "outputs": [],
      "source": [
        "import pandas as pd\n",
        "import numpy as np\n",
        "import matplotlib.pyplot as plt\n",
        "%matplotlib inline\n",
        "from sklearn.model_selection import train_test_split\n",
        "from sklearn.linear_model import LinearRegression\n"
      ]
    },
    {
      "cell_type": "code",
      "source": [
        "from google.colab import drive\n",
        "drive.mount('/content/drive')"
      ],
      "metadata": {
        "colab": {
          "base_uri": "https://localhost:8080/"
        },
        "id": "I2kvvjR86zVh",
        "outputId": "648a1beb-4993-4417-8efa-ac452decb6c4"
      },
      "execution_count": null,
      "outputs": [
        {
          "output_type": "stream",
          "name": "stdout",
          "text": [
            "Mounted at /content/drive\n"
          ]
        }
      ]
    },
    {
      "cell_type": "code",
      "source": [
        "class Model:\n",
        "    def __init__(self, datafile = \"/content/drive/My Drive/Python Basics/weatherHistory.csv\"):\n",
        "        self.df = pd.read_csv(datafile)"
      ],
      "metadata": {
        "id": "ufmebfDG7NbB"
      },
      "execution_count": null,
      "outputs": []
    },
    {
      "cell_type": "code",
      "source": [
        "if __name__ == '__main__':\n",
        "    model_instance= Model()\n",
        "    print(model_instance.df.head())"
      ],
      "metadata": {
        "colab": {
          "base_uri": "https://localhost:8080/"
        },
        "id": "G0mAhIp4_DgD",
        "outputId": "a74524ef-f688-4659-8ef7-64d453253522"
      },
      "execution_count": null,
      "outputs": [
        {
          "output_type": "stream",
          "name": "stdout",
          "text": [
            "                  Formatted Date        Summary Precip Type  Temperature (C)  \\\n",
            "0  2006-04-01 00:00:00.000 +0200  Partly Cloudy        rain         9.472222   \n",
            "1  2006-04-01 01:00:00.000 +0200  Partly Cloudy        rain         9.355556   \n",
            "2  2006-04-01 02:00:00.000 +0200  Mostly Cloudy        rain         9.377778   \n",
            "3  2006-04-01 03:00:00.000 +0200  Partly Cloudy        rain         8.288889   \n",
            "4  2006-04-01 04:00:00.000 +0200  Mostly Cloudy        rain         8.755556   \n",
            "\n",
            "   Apparent Temperature (C)  Humidity  Wind Speed (km/h)  \\\n",
            "0                  7.388889      0.89            14.1197   \n",
            "1                  7.227778      0.86            14.2646   \n",
            "2                  9.377778      0.89             3.9284   \n",
            "3                  5.944444      0.83            14.1036   \n",
            "4                  6.977778      0.83            11.0446   \n",
            "\n",
            "   Wind Bearing (degrees)  Visibility (km)  Loud Cover  Pressure (millibars)  \\\n",
            "0                   251.0          15.8263         0.0               1015.13   \n",
            "1                   259.0          15.8263         0.0               1015.63   \n",
            "2                   204.0          14.9569         0.0               1015.94   \n",
            "3                   269.0          15.8263         0.0               1016.41   \n",
            "4                   259.0          15.8263         0.0               1016.51   \n",
            "\n",
            "                       Daily Summary  \n",
            "0  Partly cloudy throughout the day.  \n",
            "1  Partly cloudy throughout the day.  \n",
            "2  Partly cloudy throughout the day.  \n",
            "3  Partly cloudy throughout the day.  \n",
            "4  Partly cloudy throughout the day.  \n"
          ]
        }
      ]
    },
    {
      "cell_type": "markdown",
      "source": [
        "The next thing we can do is define a linear regression object in the initialization function. "
      ],
      "metadata": {
        "id": "zB8DfZye-EoW"
      }
    },
    {
      "cell_type": "code",
      "source": [
        "from sklearn.linear_model import LinearRegression"
      ],
      "metadata": {
        "id": "dwncAt7h-czE"
      },
      "execution_count": null,
      "outputs": []
    },
    {
      "cell_type": "code",
      "source": [
        "class Model:\n",
        "    def __init__(self, datafile = \"/content/drive/My Drive/Python Basics/weatherHistory.csv\"):\n",
        "      self.df = pd.read_csv(datafile)\n",
        "      self.linear_reg=LinearRegression()\n",
        "    def split(self, test_size):\n",
        "      X = np.array(self.df[['Humidity', 'Pressure (millibars)']])\n",
        "      y = np.array(self.df['Temperature (C)'])\n",
        "      self.X_train, self.X_test, self.y_train, self.y_test = train_test_split(X, y, test_size = test_size, random_state = 42)\n",
        "    def fit(self):\n",
        "      self.model = self.linear_reg.fit(self.X_train, self.y_train)\n",
        "    def predict_test(self):\n",
        "      result_test = self.linear_reg.predict(self.X_test)\n",
        "      return result_test\n",
        "    def predict_train(self):\n",
        "      result_train = self.linear_reg.predict(self.X_train)\n",
        "      return result_train\n",
        "    def predict_single(self, input_value):\n",
        "      result_single = self.linear_reg.predict(np.array([input_value]))\n",
        "      return result_single\n"
      ],
      "metadata": {
        "id": "1GpcrO5i-GZx"
      },
      "execution_count": null,
      "outputs": []
    },
    {
      "cell_type": "code",
      "source": [
        "def predict(self, input_value):\n",
        "      if input_value == None:\n",
        "        result = self.linear_reg.predict(self.X_test)\n",
        "      else: \n",
        "        result = self.linear_reg.predict(np.array([input_value]))\n",
        "        return result"
      ],
      "metadata": {
        "id": "tYmcOHL4by64"
      },
      "execution_count": null,
      "outputs": []
    },
    {
      "cell_type": "markdown",
      "source": [
        "Now, let’s make sure we can access our linear regression object"
      ],
      "metadata": {
        "id": "kutT_s3m-vJj"
      }
    },
    {
      "cell_type": "code",
      "source": [
        "if __name__ == '__main__':\n",
        "    model_instance = Model()\n",
        "    print(model_instance.linear_reg)"
      ],
      "metadata": {
        "colab": {
          "base_uri": "https://localhost:8080/"
        },
        "id": "1Yo6v1Y2-wwK",
        "outputId": "4ec0914d-e340-4bd3-901c-b94fd177e26b"
      },
      "execution_count": null,
      "outputs": [
        {
          "output_type": "stream",
          "name": "stdout",
          "text": [
            "LinearRegression()\n"
          ]
        }
      ]
    },
    {
      "cell_type": "markdown",
      "source": [
        "The next thing we can do is define a method that lets us split our data for training and testing."
      ],
      "metadata": {
        "id": "tz-YMKRF_8K8"
      }
    },
    {
      "cell_type": "markdown",
      "source": [
        "We will build a linear regression model which we will use to predict temperature. For simplicity, let’s use ‘Humidity’ and ‘Pressure (millibars)’ as our input and ‘Temperature’ as our output. "
      ],
      "metadata": {
        "id": "wI4_Wm2_AJgo"
      }
    },
    {
      "cell_type": "markdown",
      "source": [
        " let’s print ‘X_train’ and ‘y_train’ for inspection:"
      ],
      "metadata": {
        "id": "7RwpNXRWAtMJ"
      }
    },
    {
      "cell_type": "code",
      "source": [
        "if __name__ == '__main__':\n",
        "    model_instance = Model()\n",
        "    model_instance.split(0.2)\n",
        "    print(model_instance.X_train.shape)\n",
        "    print(model_instance.y_train.shape)\n",
        "    print(model_instance.X_test.shape)\n",
        "    print(model_instance.y_test.shape)\n",
        "    print(model_instance.X_test)\n",
        "    "
      ],
      "metadata": {
        "colab": {
          "base_uri": "https://localhost:8080/"
        },
        "id": "CPbU46mRAuep",
        "outputId": "02576049-3f71-4bf1-b5dc-0fdbdca176cd"
      },
      "execution_count": null,
      "outputs": [
        {
          "output_type": "stream",
          "name": "stdout",
          "text": [
            "(77162, 2)\n",
            "(77162,)\n",
            "(19291, 2)\n",
            "(19291,)\n",
            "[[5.30000e-01 1.01403e+03]\n",
            " [8.30000e-01 1.01790e+03]\n",
            " [6.50000e-01 1.02200e+03]\n",
            " ...\n",
            " [5.30000e-01 1.01737e+03]\n",
            " [5.40000e-01 1.00668e+03]\n",
            " [5.90000e-01 1.01612e+03]]\n"
          ]
        }
      ]
    },
    {
      "cell_type": "code",
      "source": [
        "if __name__ == '__main__':    \n",
        "    model_instance = Model()   \n",
        "    model_instance.split(0.2)    \n",
        "    model_instance.fit()\n",
        "    y_pred_test=model_instance.predict_test()\n",
        "    rmse_test=np.sqrt(np.mean((model_instance.y_test-y_pred_test)**2))\n",
        "    print('Test_rmse',rmse_test)\n",
        "    y_pred_train=model_instance.predict_train()\n",
        "    rmse_train=np.sqrt(np.mean((model_instance.y_train-y_pred_train)**2))\n",
        "    print('Train_rmse',rmse_train)\n",
        "    y_pred_single=model_instance.predict_single([.75, 1050])\n",
        "    print('Predicted temperature for the given input features',y_pred_single)\n",
        "    R2_test=model_instance.model.score(model_instance.X_test, model_instance.y_test)\n",
        "    print('R-square of Test',R2_test)\n",
        "    R2_train=model_instance.model.score(model_instance.X_train, model_instance.y_train)\n",
        "    print('R-square of Test',R2_train)"
      ],
      "metadata": {
        "colab": {
          "base_uri": "https://localhost:8080/"
        },
        "id": "PZa-LhSWAKtZ",
        "outputId": "3e70c27d-086e-4f3e-f367-a6d307e29151"
      },
      "execution_count": null,
      "outputs": [
        {
          "output_type": "stream",
          "name": "stdout",
          "text": [
            "Test_rmse 7.462168634135071\n",
            "Train_rmse 7.384504209796537\n",
            "Predicted temperature for the given input features [11.46353053]\n",
            "R-square of Test 0.3957856046568643\n",
            "R-square of Test 0.40074842966308977\n"
          ]
        }
      ]
    },
    {
      "cell_type": "markdown",
      "source": [
        "Let us check the default score (R-square) for the 20% test data"
      ],
      "metadata": {
        "id": "_WgK8LIGCTCv"
      }
    },
    {
      "cell_type": "code",
      "source": [],
      "metadata": {
        "colab": {
          "base_uri": "https://localhost:8080/"
        },
        "id": "cUKpHOsd98G_",
        "outputId": "735d37a8-c2dc-4eb7-f523-ba4766b799ed"
      },
      "execution_count": null,
      "outputs": [
        {
          "output_type": "execute_result",
          "data": {
            "text/plain": [
              "0.3957856046568643"
            ]
          },
          "metadata": {},
          "execution_count": 36
        }
      ]
    },
    {
      "cell_type": "code",
      "source": [
        "if __name__ == '__main__':\n",
        "    model_instance = Model()\n",
        "    model_instance.split(0.2)\n",
        "    model_instance.fit()    \n",
        "    print(model_instance.predict([.9, 1000]))"
      ],
      "metadata": {
        "colab": {
          "base_uri": "https://localhost:8080/"
        },
        "id": "w4nj7uJB9rR4",
        "outputId": "a7d3c406-3d76-442d-c91a-098471cc8b21"
      },
      "execution_count": null,
      "outputs": [
        {
          "output_type": "stream",
          "name": "stdout",
          "text": [
            "[6.83625473]\n"
          ]
        }
      ]
    }
  ]
}